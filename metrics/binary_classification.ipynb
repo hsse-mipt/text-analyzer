{
 "cells": [
  {
   "cell_type": "code",
   "execution_count": 107,
   "metadata": {},
   "outputs": [],
   "source": [
    "import pytest\n",
    "import numpy as np"
   ]
  },
  {
   "cell_type": "markdown",
   "metadata": {},
   "source": [
    "**Таблица сопряжённости** (матрица неточности) содержит сводные показатели качества работы классификатора.\n",
    "* **Строки** соответствуют **фактическим** классам тестового набора;\n",
    "* **Cтолбцы** соответствуют **предсказанным** классом.\n",
    "\n",
    "Таблица содержит четыре сводных показателя, каждый из которых отражает количество объектов в одной и четырех\n",
    "категорий:\n",
    "* **Истинно позитивный** (*True positive*, **TP**) -- объект\n",
    "класса `1` был верно помечен меткой `1`;\n",
    "* **Ложно позитивный** (*False positive*, **FP**) -- объект\n",
    "фактически принадлежит классу `0`, но помечен меткой `1`;\n",
    "* **Истинно отрицательный** (*True negative*, **TN**) -- классификатор\n",
    "верно определил, что объект класса `0` принадлежит классу `0`;\n",
    "* **Ложно отрицательный** (*False negative*, **FN**) -- классификатор\n",
    "пометил объект меткой `0`, однако на самом деле объект принадлежит классу `1`.\n",
    "\n",
    "\n",
    "|                    | Предсказано `0` | Предсказано `1` |\n",
    "|:-------------------|:----------------|:----------------|\n",
    "| **Фактически** `0` | TN              | FP              |\n",
    "| **Фактически** `1` | FN              | TP              |\n"
   ]
  },
  {
   "cell_type": "code",
   "execution_count": 108,
   "outputs": [],
   "source": [
    "class ConfusionMatrix:\n",
    "    def __init__(self, y_true=None, y_pred=None):\n",
    "        self._confusion_matrix = np.array([[0,0], [0,0]])\n",
    "        if not y_true is None and not y_pred is None:\n",
    "            self.upd(y_true, y_pred)\n",
    "\n",
    "    def upd(self, y_true, y_pred):\n",
    "        for value, prediction in zip(y_true, y_pred):\n",
    "            self._confusion_matrix[value][prediction] += 1\n",
    "\n",
    "    def get(self):\n",
    "        return self._confusion_matrix\n",
    "\n",
    "    def get_flatten(self):\n",
    "        return self._confusion_matrix.ravel()"
   ],
   "metadata": {
    "collapsed": false
   }
  },
  {
   "cell_type": "code",
   "execution_count": 109,
   "metadata": {},
   "outputs": [],
   "source": [
    "def f1_score(y_true, y_pred):\n",
    "    confusion_matrix = ConfusionMatrix(y_true, y_pred)\n",
    "    tn, fp, fn, tp = confusion_matrix.get_flatten()\n",
    "    return tp / (tp + (fp + fn) / 2)\n",
    "\n",
    "def accuracy_score(y_true, y_pred):\n",
    "    confusion_matrix = ConfusionMatrix(y_true, y_pred)\n",
    "    tn, fp, fn, tp = confusion_matrix.get_flatten()\n",
    "    return (tn + tp) / (tn + fp + fn + tp)\n",
    "\n",
    "def precision_score(y_true, y_pred):\n",
    "    confusion_matrix = ConfusionMatrix(y_true, y_pred)\n",
    "    tn, fp, fn, tp = confusion_matrix.get_flatten()\n",
    "    return tp / (tp + fp)\n",
    "\n",
    "def recall_score(y_true, y_pred):\n",
    "    confusion_matrix = ConfusionMatrix(y_true, y_pred)\n",
    "    tn, fp, fn, tp = confusion_matrix.get_flatten()\n",
    "    return tp / (fn + tp)"
   ]
  },
  {
   "cell_type": "code",
   "execution_count": 110,
   "outputs": [],
   "source": [
    "#import matplotlib.pyplot as plt"
   ],
   "metadata": {
    "collapsed": false
   }
  },
  {
   "cell_type": "code",
   "execution_count": 111,
   "outputs": [],
   "source": [
    "def roc_curve(y_true, y_proba, threshold):\n",
    "    y_pred = np.where(y_proba >= threshold, 1, 0)\n",
    "    confusion_matrix = ConfusionMatrix(y_true, y_pred)\n",
    "    tn, fp, fn, tp = confusion_matrix.get_flatten()\n",
    "    tpr = tp / (tp + fn)\n",
    "    fpr = fp / (fp + tn)\n",
    "    return fpr, tpr, threshold\n",
    "\n",
    "def roc_auc(y_true, y_proba):\n",
    "    thresholds = np.linspace(0, 1, 100)\n",
    "    auc = 0\n",
    "    for th in thresholds:\n",
    "        fpr, tpr, th = roc_curve(y_true, y_proba, th)\n",
    "        auc = max((1 + tpr - fpr) / 2, auc)\n",
    "    return auc"
   ],
   "metadata": {
    "collapsed": false
   }
  },
  {
   "cell_type": "code",
   "execution_count": 112,
   "outputs": [],
   "source": [
    "import sklearn.metrics as metrics\n",
    "import math"
   ],
   "metadata": {
    "collapsed": false
   }
  },
  {
   "cell_type": "code",
   "execution_count": 113,
   "metadata": {},
   "outputs": [],
   "source": [
    "def test_computations(y_true, y_pred):\n",
    "    assert math.isclose(f1_score(y_true, y_pred), metrics.f1_score(y_true, y_pred))\n",
    "    assert math.isclose(accuracy_score(y_true, y_pred), metrics.accuracy_score(y_true, y_pred))\n",
    "    assert math.isclose(precision_score(y_true, y_pred), metrics.precision_score(y_true, y_pred))\n",
    "    assert math.isclose(recall_score(y_true, y_pred), metrics.recall_score(y_true, y_pred))"
   ]
  },
  {
   "cell_type": "code",
   "execution_count": 114,
   "outputs": [],
   "source": [
    "import random"
   ],
   "metadata": {
    "collapsed": false
   }
  },
  {
   "cell_type": "code",
   "execution_count": 115,
   "metadata": {},
   "outputs": [],
   "source": [
    "y_true = np.array([0,1,1,0,0,1,1,0,0,0])\n",
    "y_pred = np.array([0,1,1,0,0,1,0,1,0,1])\n",
    "y_proba = np.array([(random.randint(0, len(y_true)) / len(y_true)) for i in range(len(y_true))])\n",
    "test_computations(y_true, y_pred)"
   ]
  },
  {
   "cell_type": "code",
   "execution_count": 116,
   "outputs": [
    {
     "name": "stdout",
     "output_type": "stream",
     "text": [
      "0.75\n",
      "0.75\n"
     ]
    }
   ],
   "source": [
    "# print(roc_auc(y_true, y_proba))\n",
    "# print(metrics.roc_auc_score(y_true,y_proba))"
   ],
   "metadata": {
    "collapsed": false
   }
  }
 ],
 "metadata": {
  "kernelspec": {
   "display_name": "Python 3",
   "language": "python",
   "name": "python3"
  },
  "language_info": {
   "codemirror_mode": {
    "name": "ipython",
    "version": 3
   },
   "file_extension": ".py",
   "mimetype": "text/x-python",
   "name": "python",
   "nbconvert_exporter": "python",
   "pygments_lexer": "ipython3",
   "version": "3.7.1"
  }
 },
 "nbformat": 4,
 "nbformat_minor": 1
}
