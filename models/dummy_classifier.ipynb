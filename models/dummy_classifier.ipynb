{
 "cells": [
  {
   "cell_type": "code",
   "execution_count": 24,
   "metadata": {
    "collapsed": true
   },
   "outputs": [],
   "source": [
    "import pytest"
   ]
  },
  {
   "cell_type": "code",
   "execution_count": 25,
   "outputs": [],
   "source": [
    "import random\n",
    "\n",
    "class DummyClassifier:\n",
    "    def __init__(self, classes, weights = None):\n",
    "        self.classes = classes\n",
    "        self.weights = weights\n",
    "\n",
    "    def predict(self):\n",
    "        if self.weights is None:\n",
    "            return random.choice(self.classes)\n",
    "        return random.choices(self.classes, weights=self.weights, k=1)\n"
   ],
   "metadata": {
    "collapsed": false
   }
  },
  {
   "cell_type": "code",
   "execution_count": 26,
   "outputs": [],
   "source": [
    "def test_dummy_classifier():\n",
    "    classes = [\"-1\", \"0\", \"1\"]\n",
    "    weights = [0.25, 0.5, 0.25]\n",
    "\n",
    "    clf = DummyClassifier(classes, weights)\n",
    "    prediction = ''.join(clf.predict())\n",
    "    assert prediction in classes\n",
    "\n",
    "    clf = DummyClassifier(classes)\n",
    "    prediction = ''.join(clf.predict())\n",
    "    assert prediction in classes\n",
    "\n",
    "test_dummy_classifier()"
   ],
   "metadata": {
    "collapsed": false
   }
  },
  {
   "cell_type": "code",
   "execution_count": 26,
   "outputs": [],
   "source": [],
   "metadata": {
    "collapsed": false
   }
  }
 ],
 "metadata": {
  "kernelspec": {
   "display_name": "Python 3",
   "language": "python",
   "name": "python3"
  },
  "language_info": {
   "codemirror_mode": {
    "name": "ipython",
    "version": 2
   },
   "file_extension": ".py",
   "mimetype": "text/x-python",
   "name": "python",
   "nbconvert_exporter": "python",
   "pygments_lexer": "ipython2",
   "version": "2.7.6"
  }
 },
 "nbformat": 4,
 "nbformat_minor": 0
}
