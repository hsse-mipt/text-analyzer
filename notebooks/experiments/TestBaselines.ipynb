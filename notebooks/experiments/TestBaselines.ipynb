{
 "cells": [
  {
   "cell_type": "code",
   "execution_count": 1,
   "id": "fc8f351a",
   "metadata": {
    "ExecuteTime": {
     "start_time": "2023-04-16T12:54:18.200975Z",
     "end_time": "2023-04-16T12:54:18.201148Z"
    }
   },
   "outputs": [],
   "source": [
    "import sys\n",
    "sys.path.append('../..')"
   ]
  },
  {
   "cell_type": "code",
   "execution_count": 2,
   "id": "e019d72b",
   "metadata": {
    "ExecuteTime": {
     "start_time": "2023-04-16T12:54:18.201031Z",
     "end_time": "2023-04-16T12:54:19.434833Z"
    }
   },
   "outputs": [],
   "source": [
    "import pandas as pd\n",
    "import numpy as np\n",
    "import matplotlib.pyplot as plt\n",
    "\n",
    "from src.metrics import binary_classification as bin_metrics\n",
    "from src.metrics import multiclass_classification as multi_metrics\n",
    "from src.models.baselines import MulticlassClassifier"
   ]
  },
  {
   "cell_type": "code",
   "execution_count": 3,
   "id": "1517f6a6",
   "metadata": {
    "collapsed": false,
    "ExecuteTime": {
     "start_time": "2023-04-16T12:54:19.435637Z",
     "end_time": "2023-04-16T12:54:19.437406Z"
    }
   },
   "outputs": [],
   "source": [
    "# %env CLEARML_WEB_HOST=https://app.clear.ml\n",
    "# %env CLEARML_API_HOST=https://api.clear.ml\n",
    "# %env CLEARML_FILES_HOST=https://files.clear.ml\n",
    "# %env CLEARML_API_ACCESS_KEY=VT1X7EH5UU1REKI7T44X\n",
    "# %env CLEARML_API_SECRET_KEY=NHZDqveny2UDyuTvhVADxwUOAgp2mVv3wyipHnKkCc42hiaJog"
   ]
  },
  {
   "cell_type": "code",
   "execution_count": 4,
   "id": "15b6c75e",
   "metadata": {
    "collapsed": false,
    "ExecuteTime": {
     "start_time": "2023-04-16T12:54:19.437881Z",
     "end_time": "2023-04-16T12:54:19.443778Z"
    }
   },
   "outputs": [],
   "source": [
    "# from clearml import Task, Logger"
   ]
  },
  {
   "cell_type": "code",
   "execution_count": 5,
   "id": "1d409dd3",
   "metadata": {
    "collapsed": false,
    "ExecuteTime": {
     "start_time": "2023-04-16T12:54:19.445440Z",
     "end_time": "2023-04-16T12:54:19.487769Z"
    }
   },
   "outputs": [],
   "source": [
    "# task = Task.init(\n",
    "#     project_name='tonality analysis',\n",
    "#     task_name='TestBaselines',\n",
    "#     tags=['NaiveBayesClassifier', 'DummyClassifier', 'LogisticRegression'])\n",
    "# log = Logger.current_logger()"
   ]
  },
  {
   "cell_type": "code",
   "execution_count": 6,
   "id": "60db92af",
   "metadata": {
    "ExecuteTime": {
     "start_time": "2023-04-16T12:54:19.487650Z",
     "end_time": "2023-04-16T12:54:19.487943Z"
    }
   },
   "outputs": [],
   "source": [
    "path = '../../static/datasets/modified/'\n",
    "folders = {'bin' : 'bin_classification/', 'multi' : 'multi_classification/'}"
   ]
  },
  {
   "cell_type": "code",
   "execution_count": 7,
   "id": "",
   "metadata": {
    "ExecuteTime": {
     "start_time": "2023-04-16T12:54:19.487721Z",
     "end_time": "2023-04-16T12:54:19.531653Z"
    }
   },
   "outputs": [
    {
     "name": "stdout",
     "output_type": "stream",
     "text": [
      "0.4594222833562586\n",
      "0.3209252630644937\n"
     ]
    }
   ],
   "source": [
    "#Dummy Classifier\n",
    "from src.models.baselines import DummyClassifier as Dummy_clf\n",
    "\n",
    "dummy = Dummy_clf()\n",
    "\n",
    "train_data = pd.read_csv(path + folders['bin'] + 'train_data.csv')\n",
    "# task.upload_artifact(name='train_data_for_Dummy', artifact_object='../../../static/datasets/modified/bin_classification/train_data.csv')\n",
    "# task.upload_artifact(name='val_data_for_Dummy', artifact_object='../../../static/datasets/modified/bin_classification/validation_data.csv')\n",
    "# task.upload_artifact(name='train_data_for_Dummy', artifact_object='../../../static/datasets/modified/multi_classification/train_data.csv')\n",
    "# task.upload_artifact(name='val_data_for_Dummy', artifact_object='../../../static/datasets/modified/multi_classification/validation_data.csv')\n",
    "X_train, y_train = train_data.iloc[:, :-1], train_data.label\n",
    "\n",
    "dummy.fit(X_train, y_train)\n",
    "\n",
    "val_data = pd.read_csv(path + folders['bin'] + 'validation_data.csv')\n",
    "X_val, y_val = val_data.iloc[:, :-1], val_data.label\n",
    "\n",
    "y_pred = dummy.predict(X_val)\n",
    "\n",
    "#log.report_scalar(\"f1-score\", \"TestBinDummy\", value=bin_metrics.f1_score(y_true=y_val, y_pred=y_pred))\n",
    "\n",
    "print(bin_metrics.f1_score(y_true=y_val, y_pred=y_pred))\n",
    "\n",
    "\n",
    "dummy = Dummy_clf()\n",
    "\n",
    "train_data = pd.read_csv(path + folders['multi'] + 'train_data.csv')\n",
    "X_train, y_train = train_data.iloc[:, :-1], train_data.label\n",
    "\n",
    "dummy.fit(X_train, y_train)\n",
    "\n",
    "val_data = pd.read_csv(path + folders['multi'] + 'validation_data.csv')\n",
    "X_val, y_val = val_data.iloc[:, :-1], val_data.label\n",
    "\n",
    "y_pred = dummy.predict(X_val)\n",
    "\n",
    "#log.report_scalar(\"f1-score\", \"TestMultiDummy\", value=bin_metrics.f1_score(y_true=y_val, y_pred=y_pred))\n",
    "\n",
    "print(multi_metrics.f1_score(y_true=y_val, y_pred=y_pred, average='macro'))"
   ]
  },
  {
   "cell_type": "code",
   "execution_count": 8,
   "id": "1cd4554b",
   "metadata": {
    "ExecuteTime": {
     "start_time": "2023-04-16T12:54:19.531198Z",
     "end_time": "2023-04-16T13:03:29.051772Z"
    }
   },
   "outputs": [
    {
     "name": "stderr",
     "output_type": "stream",
     "text": [
      "800it [00:25, 31.51it/s]\n"
     ]
    },
    {
     "name": "stdout",
     "output_type": "stream",
     "text": [
      "0.67875\n"
     ]
    },
    {
     "name": "stderr",
     "output_type": "stream",
     "text": [
      "6634it [08:32, 12.94it/s]"
     ]
    },
    {
     "name": "stdout",
     "output_type": "stream",
     "text": [
      "0.6192820042908561\n"
     ]
    },
    {
     "name": "stderr",
     "output_type": "stream",
     "text": [
      "\n"
     ]
    }
   ],
   "source": [
    "#Naive Bayes\n",
    "from src.models.baselines import NaiveBayesClassifier as NB\n",
    "\n",
    "# task.upload_artifact(name='train_data_preprocessed_for_NB', artifact_object='../../../static/datasets/modified/bin_classification/bayes_train.csv')\n",
    "# task.upload_artifact(name='val_data_preprocessed_for_NB', artifact_object='../../../static/datasets/modified/bin_classification/bayes_val.csv')\n",
    "# task.upload_artifact(name='train_data_preprocessed_for_NB', artifact_object='../../../static/datasets/modified/multi_classification/bayes_train.csv')\n",
    "# task.upload_artifact(name='val_data_preprocessed_for_NB', artifact_object='../../../static/datasets/modified/multi_classification/bayes_val.csv')\n",
    "\n",
    "nb = NB(mode='cat_features')\n",
    "\n",
    "train_data = pd.read_csv(path + folders['bin'] + 'bayes_train.csv')\n",
    "X_train, y_train = train_data.iloc[:, :-1], train_data.label\n",
    "\n",
    "nb.fit(X_train, y_train)\n",
    "\n",
    "val_data = pd.read_csv(path + folders['bin'] + 'bayes_val.csv')\n",
    "X_val, y_val = val_data.iloc[:, :-1], val_data.label.values.tolist()\n",
    "\n",
    "y_pred = nb.predict(X_val)\n",
    "\n",
    "#log.report_scalar(\"f1-score\", \"TestBinNB\", value=bin_metrics.f1_score(y_true=y_val, y_pred=y_pred))\n",
    "\n",
    "print(bin_metrics.f1_score(y_true=y_val, y_pred=y_pred))\n",
    "\n",
    "nb = NB(mode='cat_features')\n",
    "\n",
    "train_data = pd.read_csv(path + folders['multi'] + 'bayes_train.csv')\n",
    "X_train, y_train = train_data.iloc[:, :-1], train_data.label\n",
    "\n",
    "nb.fit(X_train, y_train)\n",
    "\n",
    "val_data = pd.read_csv(path + folders['multi'] + 'bayes_val.csv')\n",
    "X_val, y_val = val_data.iloc[:, :-1], val_data.label.values.tolist()\n",
    "\n",
    "X_val, y_val = X_train, y_train.values.tolist()\n",
    "\n",
    "y_pred = nb.predict(X_val)\n",
    "\n",
    "#log.report_scalar(\"f1-score\", \"TestMultiNB\", value=bin_metrics.f1_score(y_true=y_val, y_pred=y_pred))\n",
    "\n",
    "print(multi_metrics.f1_score(y_true=y_val, y_pred=y_pred, average='macro'))"
   ]
  },
  {
   "cell_type": "code",
   "execution_count": 9,
   "id": "f7d19805",
   "metadata": {
    "ExecuteTime": {
     "start_time": "2023-04-16T13:03:29.051549Z",
     "end_time": "2023-04-16T13:03:30.495739Z"
    }
   },
   "outputs": [
    {
     "name": "stdout",
     "output_type": "stream",
     "text": [
      "0.7157001414427157\n",
      "0.3875982370392617\n",
      "0.3817871250022544\n"
     ]
    }
   ],
   "source": [
    "from sklearn.linear_model import LogisticRegression\n",
    "\n",
    "# task.upload_artifact(name='train_data_preprocessed_for_LogReg', artifact_object='../../static/embeddings/bin_average_train.csv')\n",
    "# task.upload_artifact(name='val_data_preprocessed_for_LogReg', artifact_object='../../static/embeddings/bin_average_val.csv')\n",
    "# task.upload_artifact(name='train_data_preprocessed_for_LogReg', artifact_object='../../static/embeddings/multi_average_train.csv')\n",
    "# task.upload_artifact(name='val_data_preprocessed_for_LogReg', artifact_object='../../static/embeddings/multi_average_val.csv')\n",
    "\n",
    "#Binary\n",
    "logreg = LogisticRegression(C=2, penalty='l2', solver='saga')\n",
    "\n",
    "train_data = pd.read_csv('../../static/embeddings/bin_average_train.csv')\n",
    "X_train, y_train = train_data.iloc[:, :-1], train_data.label\n",
    "\n",
    "logreg.fit(X_train, y_train)\n",
    "\n",
    "val_data = pd.read_csv('../../static/embeddings/bin_average_val.csv')\n",
    "X_val, y_val = val_data.iloc[:, :-1], val_data.label\n",
    "\n",
    "y_pred = logreg.predict(X_val)\n",
    "\n",
    "#log.report_scalar(\"f1-score\", \"TestBinLogReg\", value=bin_metrics.f1_score(y_true=y_val, y_pred=y_pred))\n",
    "\n",
    "print(bin_metrics.f1_score(y_true=y_val, y_pred=y_pred))\n",
    "\n",
    "#Multiclass\n",
    "train_data = pd.read_csv('../../static/embeddings/multi_average_train.csv')\n",
    "X_train, y_train = train_data.iloc[:, :-1], train_data.label\n",
    "\n",
    "val_data = pd.read_csv('../../static/embeddings/multi_average_val.csv')\n",
    "X_val, y_val = val_data.iloc[:, :-1], val_data.label\n",
    "\n",
    "strategies = [\"one-vs-all\", \"all-vs-all\"]\n",
    "\n",
    "for strategy in strategies:\n",
    "    multi_clf = MulticlassClassifier(LogisticRegression, strategy)\n",
    "    multi_clf.fit(X_train, y_train, target_name='label')\n",
    "    y_pred = multi_clf.predict(X_val)\n",
    "    #log.report_scalar(\"f1-score\", \"TestMultiLogReg strategy:\" + strategy, value=bin_metrics.f1_score(y_true=y_val, y_pred=y_pred, average='macro'))\n",
    "    print(multi_metrics.f1_score(y_true=y_val, y_pred=y_pred, average='macro'))"
   ]
  },
  {
   "cell_type": "code",
   "execution_count": 10,
   "id": "cdfda508",
   "metadata": {
    "ExecuteTime": {
     "start_time": "2023-04-16T13:03:30.496468Z",
     "end_time": "2023-04-16T13:03:30.498557Z"
    }
   },
   "outputs": [],
   "source": [
    "# task.close()"
   ]
  },
  {
   "cell_type": "code",
   "execution_count": 10,
   "outputs": [],
   "source": [],
   "metadata": {
    "collapsed": false,
    "ExecuteTime": {
     "start_time": "2023-04-16T13:03:30.499001Z",
     "end_time": "2023-04-16T13:03:30.500491Z"
    }
   }
  }
 ],
 "metadata": {
  "kernelspec": {
   "display_name": "Python 3 (ipykernel)",
   "language": "python",
   "name": "python3"
  },
  "language_info": {
   "codemirror_mode": {
    "name": "ipython",
    "version": 3
   },
   "file_extension": ".py",
   "mimetype": "text/x-python",
   "name": "python",
   "nbconvert_exporter": "python",
   "pygments_lexer": "ipython3",
   "version": "3.9.13"
  }
 },
 "nbformat": 4,
 "nbformat_minor": 5
}
