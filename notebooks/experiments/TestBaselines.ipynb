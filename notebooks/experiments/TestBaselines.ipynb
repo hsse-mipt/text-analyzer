{
 "cells": [
  {
   "cell_type": "code",
   "execution_count": 5,
   "id": "e019d72b",
   "metadata": {
    "ExecuteTime": {
     "end_time": "2023-04-01T14:52:33.062201Z",
     "start_time": "2023-04-01T14:52:32.192817Z"
    }
   },
   "outputs": [],
   "source": [
    "import pandas as pd\n",
    "import numpy as np\n",
    "import matplotlib.pyplot as plt\n",
    "from sklearn import metrics as sk_metrics\n",
    "import sys"
   ]
  },
  {
   "cell_type": "code",
   "execution_count": 6,
   "id": "0c3041a0",
   "metadata": {},
   "outputs": [],
   "source": [
    "sys.path.append('../..')\n",
    "import src.metrics.binary_classification as bin_metrics"
   ]
  },
  {
   "cell_type": "code",
   "execution_count": 7,
   "id": "60db92af",
   "metadata": {
    "ExecuteTime": {
     "end_time": "2023-04-01T14:52:34.268851Z",
     "start_time": "2023-04-01T14:52:34.262427Z"
    }
   },
   "outputs": [],
   "source": [
    "path = '../../static/datasets/modified/'\n",
    "folders = {'bin' : 'bin_classification/', 'multi' : 'multi_classification/'}\n",
    "\n",
    "train = 'bayes_train.csv'\n",
    "test = 'bayes_test.csv'"
   ]
  },
  {
   "cell_type": "code",
   "execution_count": 8,
   "id": "ad7afa78",
   "metadata": {},
   "outputs": [
    {
     "data": {
      "text/html": [
       "<div>\n",
       "<style scoped>\n",
       "    .dataframe tbody tr th:only-of-type {\n",
       "        vertical-align: middle;\n",
       "    }\n",
       "\n",
       "    .dataframe tbody tr th {\n",
       "        vertical-align: top;\n",
       "    }\n",
       "\n",
       "    .dataframe thead th {\n",
       "        text-align: right;\n",
       "    }\n",
       "</style>\n",
       "<table border=\"1\" class=\"dataframe\">\n",
       "  <thead>\n",
       "    <tr style=\"text-align: right;\">\n",
       "      <th></th>\n",
       "      <th>шевченко</th>\n",
       "      <th>крепкий</th>\n",
       "      <th>создатель</th>\n",
       "      <th>окружающий</th>\n",
       "      <th>алания</th>\n",
       "      <th>нкр</th>\n",
       "      <th>ильвад</th>\n",
       "      <th>мультикультурный</th>\n",
       "      <th>экологически</th>\n",
       "      <th>слух</th>\n",
       "      <th>...</th>\n",
       "      <th>врачреаниматолог</th>\n",
       "      <th>редактирование</th>\n",
       "      <th>франк</th>\n",
       "      <th>алиев</th>\n",
       "      <th>приятель</th>\n",
       "      <th>эксглава</th>\n",
       "      <th>райса</th>\n",
       "      <th>прямой</th>\n",
       "      <th>искусственный</th>\n",
       "      <th>минимальный</th>\n",
       "    </tr>\n",
       "  </thead>\n",
       "  <tbody>\n",
       "    <tr>\n",
       "      <th>0</th>\n",
       "      <td>0</td>\n",
       "      <td>0</td>\n",
       "      <td>0</td>\n",
       "      <td>0</td>\n",
       "      <td>0</td>\n",
       "      <td>0</td>\n",
       "      <td>0</td>\n",
       "      <td>0</td>\n",
       "      <td>0</td>\n",
       "      <td>0</td>\n",
       "      <td>...</td>\n",
       "      <td>0</td>\n",
       "      <td>0</td>\n",
       "      <td>0</td>\n",
       "      <td>0</td>\n",
       "      <td>0</td>\n",
       "      <td>0</td>\n",
       "      <td>0</td>\n",
       "      <td>0</td>\n",
       "      <td>0</td>\n",
       "      <td>0</td>\n",
       "    </tr>\n",
       "    <tr>\n",
       "      <th>1</th>\n",
       "      <td>0</td>\n",
       "      <td>0</td>\n",
       "      <td>0</td>\n",
       "      <td>0</td>\n",
       "      <td>0</td>\n",
       "      <td>0</td>\n",
       "      <td>0</td>\n",
       "      <td>0</td>\n",
       "      <td>0</td>\n",
       "      <td>0</td>\n",
       "      <td>...</td>\n",
       "      <td>0</td>\n",
       "      <td>0</td>\n",
       "      <td>0</td>\n",
       "      <td>0</td>\n",
       "      <td>0</td>\n",
       "      <td>0</td>\n",
       "      <td>0</td>\n",
       "      <td>0</td>\n",
       "      <td>0</td>\n",
       "      <td>0</td>\n",
       "    </tr>\n",
       "    <tr>\n",
       "      <th>2</th>\n",
       "      <td>0</td>\n",
       "      <td>0</td>\n",
       "      <td>0</td>\n",
       "      <td>0</td>\n",
       "      <td>0</td>\n",
       "      <td>0</td>\n",
       "      <td>0</td>\n",
       "      <td>0</td>\n",
       "      <td>0</td>\n",
       "      <td>0</td>\n",
       "      <td>...</td>\n",
       "      <td>0</td>\n",
       "      <td>0</td>\n",
       "      <td>0</td>\n",
       "      <td>0</td>\n",
       "      <td>0</td>\n",
       "      <td>0</td>\n",
       "      <td>0</td>\n",
       "      <td>0</td>\n",
       "      <td>0</td>\n",
       "      <td>0</td>\n",
       "    </tr>\n",
       "    <tr>\n",
       "      <th>3</th>\n",
       "      <td>0</td>\n",
       "      <td>0</td>\n",
       "      <td>0</td>\n",
       "      <td>0</td>\n",
       "      <td>0</td>\n",
       "      <td>0</td>\n",
       "      <td>0</td>\n",
       "      <td>0</td>\n",
       "      <td>0</td>\n",
       "      <td>0</td>\n",
       "      <td>...</td>\n",
       "      <td>0</td>\n",
       "      <td>0</td>\n",
       "      <td>0</td>\n",
       "      <td>0</td>\n",
       "      <td>0</td>\n",
       "      <td>0</td>\n",
       "      <td>0</td>\n",
       "      <td>0</td>\n",
       "      <td>0</td>\n",
       "      <td>0</td>\n",
       "    </tr>\n",
       "    <tr>\n",
       "      <th>4</th>\n",
       "      <td>0</td>\n",
       "      <td>0</td>\n",
       "      <td>0</td>\n",
       "      <td>0</td>\n",
       "      <td>0</td>\n",
       "      <td>0</td>\n",
       "      <td>0</td>\n",
       "      <td>0</td>\n",
       "      <td>0</td>\n",
       "      <td>0</td>\n",
       "      <td>...</td>\n",
       "      <td>0</td>\n",
       "      <td>0</td>\n",
       "      <td>0</td>\n",
       "      <td>0</td>\n",
       "      <td>0</td>\n",
       "      <td>0</td>\n",
       "      <td>0</td>\n",
       "      <td>0</td>\n",
       "      <td>0</td>\n",
       "      <td>0</td>\n",
       "    </tr>\n",
       "    <tr>\n",
       "      <th>...</th>\n",
       "      <td>...</td>\n",
       "      <td>...</td>\n",
       "      <td>...</td>\n",
       "      <td>...</td>\n",
       "      <td>...</td>\n",
       "      <td>...</td>\n",
       "      <td>...</td>\n",
       "      <td>...</td>\n",
       "      <td>...</td>\n",
       "      <td>...</td>\n",
       "      <td>...</td>\n",
       "      <td>...</td>\n",
       "      <td>...</td>\n",
       "      <td>...</td>\n",
       "      <td>...</td>\n",
       "      <td>...</td>\n",
       "      <td>...</td>\n",
       "      <td>...</td>\n",
       "      <td>...</td>\n",
       "      <td>...</td>\n",
       "      <td>...</td>\n",
       "    </tr>\n",
       "    <tr>\n",
       "      <th>1857</th>\n",
       "      <td>0</td>\n",
       "      <td>0</td>\n",
       "      <td>0</td>\n",
       "      <td>0</td>\n",
       "      <td>0</td>\n",
       "      <td>0</td>\n",
       "      <td>0</td>\n",
       "      <td>0</td>\n",
       "      <td>0</td>\n",
       "      <td>0</td>\n",
       "      <td>...</td>\n",
       "      <td>0</td>\n",
       "      <td>0</td>\n",
       "      <td>0</td>\n",
       "      <td>0</td>\n",
       "      <td>0</td>\n",
       "      <td>0</td>\n",
       "      <td>0</td>\n",
       "      <td>0</td>\n",
       "      <td>0</td>\n",
       "      <td>0</td>\n",
       "    </tr>\n",
       "    <tr>\n",
       "      <th>1858</th>\n",
       "      <td>0</td>\n",
       "      <td>0</td>\n",
       "      <td>0</td>\n",
       "      <td>0</td>\n",
       "      <td>0</td>\n",
       "      <td>0</td>\n",
       "      <td>0</td>\n",
       "      <td>0</td>\n",
       "      <td>0</td>\n",
       "      <td>0</td>\n",
       "      <td>...</td>\n",
       "      <td>0</td>\n",
       "      <td>0</td>\n",
       "      <td>0</td>\n",
       "      <td>0</td>\n",
       "      <td>0</td>\n",
       "      <td>0</td>\n",
       "      <td>0</td>\n",
       "      <td>0</td>\n",
       "      <td>0</td>\n",
       "      <td>0</td>\n",
       "    </tr>\n",
       "    <tr>\n",
       "      <th>1859</th>\n",
       "      <td>0</td>\n",
       "      <td>0</td>\n",
       "      <td>0</td>\n",
       "      <td>0</td>\n",
       "      <td>0</td>\n",
       "      <td>0</td>\n",
       "      <td>0</td>\n",
       "      <td>0</td>\n",
       "      <td>0</td>\n",
       "      <td>0</td>\n",
       "      <td>...</td>\n",
       "      <td>0</td>\n",
       "      <td>0</td>\n",
       "      <td>0</td>\n",
       "      <td>0</td>\n",
       "      <td>0</td>\n",
       "      <td>0</td>\n",
       "      <td>0</td>\n",
       "      <td>0</td>\n",
       "      <td>0</td>\n",
       "      <td>0</td>\n",
       "    </tr>\n",
       "    <tr>\n",
       "      <th>1860</th>\n",
       "      <td>0</td>\n",
       "      <td>0</td>\n",
       "      <td>0</td>\n",
       "      <td>0</td>\n",
       "      <td>0</td>\n",
       "      <td>0</td>\n",
       "      <td>0</td>\n",
       "      <td>0</td>\n",
       "      <td>0</td>\n",
       "      <td>0</td>\n",
       "      <td>...</td>\n",
       "      <td>0</td>\n",
       "      <td>0</td>\n",
       "      <td>0</td>\n",
       "      <td>0</td>\n",
       "      <td>0</td>\n",
       "      <td>0</td>\n",
       "      <td>0</td>\n",
       "      <td>0</td>\n",
       "      <td>0</td>\n",
       "      <td>0</td>\n",
       "    </tr>\n",
       "    <tr>\n",
       "      <th>1861</th>\n",
       "      <td>0</td>\n",
       "      <td>0</td>\n",
       "      <td>0</td>\n",
       "      <td>0</td>\n",
       "      <td>0</td>\n",
       "      <td>0</td>\n",
       "      <td>0</td>\n",
       "      <td>0</td>\n",
       "      <td>0</td>\n",
       "      <td>0</td>\n",
       "      <td>...</td>\n",
       "      <td>0</td>\n",
       "      <td>0</td>\n",
       "      <td>0</td>\n",
       "      <td>0</td>\n",
       "      <td>0</td>\n",
       "      <td>0</td>\n",
       "      <td>0</td>\n",
       "      <td>0</td>\n",
       "      <td>0</td>\n",
       "      <td>0</td>\n",
       "    </tr>\n",
       "  </tbody>\n",
       "</table>\n",
       "<p>1862 rows × 5744 columns</p>\n",
       "</div>"
      ],
      "text/plain": [
       "      шевченко  крепкий  создатель  окружающий  алания  нкр  ильвад  \\\n",
       "0            0        0          0           0       0    0       0   \n",
       "1            0        0          0           0       0    0       0   \n",
       "2            0        0          0           0       0    0       0   \n",
       "3            0        0          0           0       0    0       0   \n",
       "4            0        0          0           0       0    0       0   \n",
       "...        ...      ...        ...         ...     ...  ...     ...   \n",
       "1857         0        0          0           0       0    0       0   \n",
       "1858         0        0          0           0       0    0       0   \n",
       "1859         0        0          0           0       0    0       0   \n",
       "1860         0        0          0           0       0    0       0   \n",
       "1861         0        0          0           0       0    0       0   \n",
       "\n",
       "      мультикультурный  экологически  слух  ...  врачреаниматолог  \\\n",
       "0                    0             0     0  ...                 0   \n",
       "1                    0             0     0  ...                 0   \n",
       "2                    0             0     0  ...                 0   \n",
       "3                    0             0     0  ...                 0   \n",
       "4                    0             0     0  ...                 0   \n",
       "...                ...           ...   ...  ...               ...   \n",
       "1857                 0             0     0  ...                 0   \n",
       "1858                 0             0     0  ...                 0   \n",
       "1859                 0             0     0  ...                 0   \n",
       "1860                 0             0     0  ...                 0   \n",
       "1861                 0             0     0  ...                 0   \n",
       "\n",
       "      редактирование  франк  алиев  приятель  эксглава  райса  прямой  \\\n",
       "0                  0      0      0         0         0      0       0   \n",
       "1                  0      0      0         0         0      0       0   \n",
       "2                  0      0      0         0         0      0       0   \n",
       "3                  0      0      0         0         0      0       0   \n",
       "4                  0      0      0         0         0      0       0   \n",
       "...              ...    ...    ...       ...       ...    ...     ...   \n",
       "1857               0      0      0         0         0      0       0   \n",
       "1858               0      0      0         0         0      0       0   \n",
       "1859               0      0      0         0         0      0       0   \n",
       "1860               0      0      0         0         0      0       0   \n",
       "1861               0      0      0         0         0      0       0   \n",
       "\n",
       "      искусственный  минимальный  \n",
       "0                 0            0  \n",
       "1                 0            0  \n",
       "2                 0            0  \n",
       "3                 0            0  \n",
       "4                 0            0  \n",
       "...             ...          ...  \n",
       "1857              0            0  \n",
       "1858              0            0  \n",
       "1859              0            0  \n",
       "1860              0            0  \n",
       "1861              0            0  \n",
       "\n",
       "[1862 rows x 5744 columns]"
      ]
     },
     "execution_count": 8,
     "metadata": {},
     "output_type": "execute_result"
    }
   ],
   "source": [
    "X_train = pd.read_csv(path + folders['bin'] + train)\n",
    "y_train = pd.read_csv(path + folders['bin'] + test)\n",
    "X_train"
   ]
  },
  {
   "cell_type": "code",
   "execution_count": 51,
   "id": "60cd6078",
   "metadata": {
    "ExecuteTime": {
     "end_time": "2023-04-01T14:50:00.932284Z",
     "start_time": "2023-04-01T14:50:00.930666Z"
    }
   },
   "outputs": [],
   "source": [
    "from src.models.baselines import NaiveBayesClassifier as NB_clf\n",
    "from src.models.baselines import DummyClassifier as Dummy_clf"
   ]
  },
  {
   "cell_type": "code",
   "execution_count": 84,
   "id": "7c8e4539",
   "metadata": {},
   "outputs": [],
   "source": [
    "nb_clf = NB_clf(mode='cat_features')\n",
    "#dummy_clf = Dummy_clf()"
   ]
  },
  {
   "cell_type": "code",
   "execution_count": 86,
   "id": "a542d4fc",
   "metadata": {},
   "outputs": [],
   "source": [
    "nb_clf.fit(X_train, y_train)\n",
    "#dummy_clf.fit(X_train, y_train)"
   ]
  },
  {
   "cell_type": "code",
   "execution_count": 87,
   "id": "80f3e5e7",
   "metadata": {},
   "outputs": [],
   "source": [
    "y_pred_nb = nb_clf.predict(X_train)\n",
    "#y_pred_dummy = dummy_clf.predict(X_train)"
   ]
  },
  {
   "cell_type": "code",
   "execution_count": 88,
   "id": "034d357f",
   "metadata": {},
   "outputs": [],
   "source": [
    "y_pred_nb = list(map(int, y_pred_nb))\n",
    "#y_pred_dummy = list(map(int, y_pred_dummy))"
   ]
  },
  {
   "cell_type": "code",
   "execution_count": 90,
   "id": "3565afe8",
   "metadata": {},
   "outputs": [
    {
     "data": {
      "text/plain": [
       "0.20998925886143932"
      ]
     },
     "execution_count": 90,
     "metadata": {},
     "output_type": "execute_result"
    }
   ],
   "source": [
    "sk_metrics.accuracy_score(y_true=y_train, y_pred=y_pred_nb)\n",
    "#bin_metrics.accuracy_score(y_true=y_train, y_pred=y_pred_dummy)"
   ]
  },
  {
   "cell_type": "code",
   "execution_count": null,
   "id": "cdfda508",
   "metadata": {},
   "outputs": [],
   "source": [
    "# %env CLEARML_WEB_HOST=https://app.clear.ml\n",
    "# %env CLEARML_API_HOST=https://api.clear.ml\n",
    "# %env CLEARML_FILES_HOST=https://files.clear.ml\n",
    "# %env CLEARML_API_ACCESS_KEY=VT1X7EH5UU1REKI7T44X\n",
    "# %env CLEARML_API_SECRET_KEY=NHZDqveny2UDyuTvhVADxwUOAgp2mVv3wyipHnKkCc42hiaJog"
   ]
  },
  {
   "cell_type": "code",
   "execution_count": null,
   "id": "fa2207f0",
   "metadata": {},
   "outputs": [],
   "source": [
    "# from clearml import Task, Logger"
   ]
  },
  {
   "cell_type": "code",
   "execution_count": null,
   "id": "e355eea1",
   "metadata": {},
   "outputs": [],
   "source": [
    "# task = Task.init(\n",
    "#     project_name='tonality analysis',\n",
    "#     task_name='TestBaselines',\n",
    "#     tags=['NaiveBayesClassifier', 'DummyClassifier'])"
   ]
  },
  {
   "cell_type": "code",
   "execution_count": null,
   "id": "c9d525cb",
   "metadata": {},
   "outputs": [],
   "source": [
    "# task.upload_artifact(name='train_data_preprocessed_for_NB', artifact_object='../../../static/datasets/modified/bin_classification/bayes_train.csv')\n",
    "# task.upload_artifact(name='test_data_preprocessed_for_NB', artifact_object='../../../static/datasets/modified/bin_classification/bayes_test.csv')"
   ]
  },
  {
   "cell_type": "code",
   "execution_count": null,
   "id": "1baea125",
   "metadata": {},
   "outputs": [],
   "source": [
    "# task.close()"
   ]
  },
  {
   "cell_type": "code",
   "execution_count": 3,
   "id": "12cf7d82",
   "metadata": {
    "ExecuteTime": {
     "end_time": "2023-04-01T14:52:45.752221Z",
     "start_time": "2023-04-01T14:52:45.745430Z"
    }
   },
   "outputs": [],
   "source": [
    "from text_analyzer.src.models.baselines import MulticlassClassifier\n",
    "from text_analyzer.src.metrics import multiclass_classification as multi_metrics"
   ]
  },
  {
   "cell_type": "code",
   "execution_count": 5,
   "id": "23e6af06",
   "metadata": {
    "ExecuteTime": {
     "end_time": "2023-04-01T14:50:08.493740Z",
     "start_time": "2023-04-01T14:50:08.447787Z"
    }
   },
   "outputs": [],
   "source": [
    "data = pd.read_csv(path + folders['multi'] + 'train_data.csv')\n",
    "data.dropna(inplace=True)"
   ]
  },
  {
   "cell_type": "code",
   "execution_count": 4,
   "id": "bb05480e",
   "metadata": {
    "ExecuteTime": {
     "end_time": "2023-04-01T14:53:08.641847Z",
     "start_time": "2023-04-01T14:53:02.638580Z"
    }
   },
   "outputs": [],
   "source": [
    "# X_train = data.iloc[:, :-1]\n",
    "# y_train = data['label'].astype(int)\n",
    "X_train = pd.read_csv(path + folders['multi'] + train)\n",
    "y_train = pd.read_csv(path + folders['multi'] + test)"
   ]
  },
  {
   "cell_type": "code",
   "execution_count": 5,
   "id": "de2b72d9",
   "metadata": {
    "ExecuteTime": {
     "end_time": "2023-04-01T14:53:12.837642Z",
     "start_time": "2023-04-01T14:53:12.831575Z"
    }
   },
   "outputs": [],
   "source": [
    "#from sklearn.naive_bayes import BernoulliNB\n",
    "#from sklearn.dummy import DummyClassifier"
   ]
  },
  {
   "cell_type": "code",
   "execution_count": 6,
   "id": "0cda89b3",
   "metadata": {
    "ExecuteTime": {
     "end_time": "2023-04-01T14:53:26.036421Z",
     "start_time": "2023-04-01T14:53:16.937338Z"
    }
   },
   "outputs": [
    {
     "name": "stdout",
     "output_type": "stream",
     "text": [
      "0.7434428700633102 0.42216983521360846 0.6706397937883785\n",
      "0.7362074163400664 0.38396145025244266 0.7689475778385205\n"
     ]
    }
   ],
   "source": [
    "strategies = [\"one-vs-all\", \"all-vs-all\"]\n",
    "for strategy in strategies:\n",
    "    multi_clf = MulticlassClassifier(BernoulliNB, strategy)\n",
    "    multi_clf.fit(X_train, y_train, target_name='label')\n",
    "    y_pred = multi_clf.predict(X_train)\n",
    "    print(sk_metrics.accuracy_score(y_true=y_train, y_pred=y_pred), sk_metrics.recall_score(y_true=y_train, y_pred=y_pred, average='macro'), sk_metrics.precision_score(y_true=y_train, y_pred=y_pred, average='macro'))"
   ]
  },
  {
   "cell_type": "code",
   "execution_count": null,
   "id": "71d78c38",
   "metadata": {},
   "outputs": [],
   "source": []
  }
 ],
 "metadata": {
  "kernelspec": {
   "display_name": "Python 3 (ipykernel)",
   "language": "python",
   "name": "python3"
  },
  "language_info": {
   "codemirror_mode": {
    "name": "ipython",
    "version": 3
   },
   "file_extension": ".py",
   "mimetype": "text/x-python",
   "name": "python",
   "nbconvert_exporter": "python",
   "pygments_lexer": "ipython3",
   "version": "3.9.13"
  }
 },
 "nbformat": 4,
 "nbformat_minor": 5
}
