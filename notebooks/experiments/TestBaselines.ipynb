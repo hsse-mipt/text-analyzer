{
 "cells": [
  {
   "cell_type": "code",
   "execution_count": 1,
   "id": "e019d72b",
   "metadata": {
    "ExecuteTime": {
     "start_time": "2023-04-01T14:52:32.192817Z",
     "end_time": "2023-04-01T14:52:33.062201Z"
    }
   },
   "outputs": [],
   "source": [
    "import pandas as pd\n",
    "import numpy as np\n",
    "import matplotlib.pyplot as plt\n",
    "import text_analyzer.src.metrics.binary_classification as bin_metrics\n",
    "from sklearn import metrics as sk_metrics\n",
    "import sys"
   ]
  },
  {
   "cell_type": "code",
   "execution_count": 2,
   "outputs": [],
   "source": [
    "path = '../../static/datasets/modified/'\n",
    "folders = {'bin' : 'bin_classification/', 'multi' : 'multi_classification/'}\n",
    "\n",
    "train = 'bayes_train.csv'\n",
    "test = 'bayes_test.csv'"
   ],
   "metadata": {
    "collapsed": false,
    "ExecuteTime": {
     "start_time": "2023-04-01T14:52:34.262427Z",
     "end_time": "2023-04-01T14:52:34.268851Z"
    }
   }
  },
  {
   "cell_type": "code",
   "execution_count": 3,
   "id": "ad7afa78",
   "metadata": {},
   "outputs": [],
   "source": [
    "X_train = pd.read_csv(path + folders['bin'] + train)\n",
    "y_train = pd.read_csv(path + folders['bin'] + test)"
   ]
  },
  {
   "cell_type": "code",
   "execution_count": 3,
   "id": "60cd6078",
   "metadata": {
    "ExecuteTime": {
     "start_time": "2023-04-01T14:50:00.930666Z",
     "end_time": "2023-04-01T14:50:00.932284Z"
    }
   },
   "outputs": [],
   "source": [
    "from text_analyzer.src.models.baselines import NaiveBayesClassifier as NB_clf\n",
    "from text_analyzer.src.models.baselines import DummyClassifier as Dummy_clf"
   ]
  },
  {
   "cell_type": "code",
   "execution_count": 5,
   "outputs": [],
   "source": [
    "nb_clf = NB_clf()\n",
    "dummy_clf = Dummy_clf()"
   ],
   "metadata": {
    "collapsed": false
   }
  },
  {
   "cell_type": "code",
   "execution_count": 6,
   "outputs": [],
   "source": [
    "nb_clf.fit(X_train, y_train)\n",
    "dummy_clf.fit(X_train, y_train)"
   ],
   "metadata": {
    "collapsed": false
   }
  },
  {
   "cell_type": "code",
   "execution_count": null,
   "outputs": [],
   "source": [
    "y_pred_nb = nb_clf.predict(X_train)\n",
    "y_pred_dummy = dummy_clf.predict(X_train)"
   ],
   "metadata": {
    "collapsed": false
   }
  },
  {
   "cell_type": "code",
   "execution_count": null,
   "outputs": [],
   "source": [
    "y_pred_nb = list(map(int, y_pred_nb))\n",
    "y_pred_dummy = list(map(int, y_pred_dummy))"
   ],
   "metadata": {
    "collapsed": false
   }
  },
  {
   "cell_type": "code",
   "execution_count": null,
   "outputs": [],
   "source": [
    "bin_metrics.accuracy_score(y_true=y_train, y_pred=y_pred_nb)\n",
    "bin_metrics.accuracy_score(y_true=y_train, y_pred=y_pred_dummy)"
   ],
   "metadata": {
    "collapsed": false
   }
  },
  {
   "cell_type": "code",
   "execution_count": null,
   "outputs": [],
   "source": [
    "# %env CLEARML_WEB_HOST=https://app.clear.ml\n",
    "# %env CLEARML_API_HOST=https://api.clear.ml\n",
    "# %env CLEARML_FILES_HOST=https://files.clear.ml\n",
    "# %env CLEARML_API_ACCESS_KEY=VT1X7EH5UU1REKI7T44X\n",
    "# %env CLEARML_API_SECRET_KEY=NHZDqveny2UDyuTvhVADxwUOAgp2mVv3wyipHnKkCc42hiaJog"
   ],
   "metadata": {
    "collapsed": false
   }
  },
  {
   "cell_type": "code",
   "execution_count": null,
   "outputs": [],
   "source": [
    "# from clearml import Task, Logger"
   ],
   "metadata": {
    "collapsed": false
   }
  },
  {
   "cell_type": "code",
   "execution_count": null,
   "outputs": [],
   "source": [
    "# task = Task.init(\n",
    "#     project_name='tonality analysis',\n",
    "#     task_name='TestBaselines',\n",
    "#     tags=['NaiveBayesClassifier', 'DummyClassifier'])"
   ],
   "metadata": {
    "collapsed": false
   }
  },
  {
   "cell_type": "code",
   "execution_count": null,
   "outputs": [],
   "source": [
    "# task.upload_artifact(name='train_data_preprocessed_for_NB', artifact_object='../../../static/datasets/modified/bin_classification/bayes_train.csv')\n",
    "# task.upload_artifact(name='test_data_preprocessed_for_NB', artifact_object='../../../static/datasets/modified/bin_classification/bayes_test.csv')"
   ],
   "metadata": {
    "collapsed": false
   }
  },
  {
   "cell_type": "code",
   "execution_count": null,
   "outputs": [],
   "source": [
    "# task.close()"
   ],
   "metadata": {
    "collapsed": false
   }
  },
  {
   "cell_type": "code",
   "execution_count": 3,
   "outputs": [],
   "source": [
    "from text_analyzer.src.models.baselines import MulticlassClassifier\n",
    "from text_analyzer.src.metrics import multiclass_classification as multi_metrics"
   ],
   "metadata": {
    "collapsed": false,
    "ExecuteTime": {
     "start_time": "2023-04-01T14:52:45.745430Z",
     "end_time": "2023-04-01T14:52:45.752221Z"
    }
   }
  },
  {
   "cell_type": "code",
   "execution_count": 5,
   "outputs": [],
   "source": [
    "data = pd.read_csv(path + folders['multi'] + 'train_data.csv')\n",
    "data.dropna(inplace=True)"
   ],
   "metadata": {
    "collapsed": false,
    "ExecuteTime": {
     "start_time": "2023-04-01T14:50:08.447787Z",
     "end_time": "2023-04-01T14:50:08.493740Z"
    }
   }
  },
  {
   "cell_type": "code",
   "execution_count": 4,
   "outputs": [],
   "source": [
    "# X_train = data.iloc[:, :-1]\n",
    "# y_train = data['label'].astype(int)\n",
    "X_train = pd.read_csv(path + folders['multi'] + train)\n",
    "y_train = pd.read_csv(path + folders['multi'] + test)"
   ],
   "metadata": {
    "collapsed": false,
    "ExecuteTime": {
     "start_time": "2023-04-01T14:53:02.638580Z",
     "end_time": "2023-04-01T14:53:08.641847Z"
    }
   }
  },
  {
   "cell_type": "code",
   "execution_count": 5,
   "outputs": [],
   "source": [
    "#from sklearn.naive_bayes import BernoulliNB\n",
    "#from sklearn.dummy import DummyClassifier"
   ],
   "metadata": {
    "collapsed": false,
    "ExecuteTime": {
     "start_time": "2023-04-01T14:53:12.831575Z",
     "end_time": "2023-04-01T14:53:12.837642Z"
    }
   }
  },
  {
   "cell_type": "code",
   "execution_count": 6,
   "outputs": [
    {
     "name": "stdout",
     "output_type": "stream",
     "text": [
      "0.7434428700633102 0.42216983521360846 0.6706397937883785\n",
      "0.7362074163400664 0.38396145025244266 0.7689475778385205\n"
     ]
    }
   ],
   "source": [
    "strategies = [\"one-vs-all\", \"all-vs-all\"]\n",
    "for strategy in strategies:\n",
    "    multi_clf = MulticlassClassifier(BernoulliNB, strategy)\n",
    "    multi_clf.fit(X_train, y_train, target_name='label')\n",
    "    y_pred = multi_clf.predict(X_train)\n",
    "    print(sk_metrics.accuracy_score(y_true=y_train, y_pred=y_pred), sk_metrics.recall_score(y_true=y_train, y_pred=y_pred, average='macro'), sk_metrics.precision_score(y_true=y_train, y_pred=y_pred, average='macro'))"
   ],
   "metadata": {
    "collapsed": false,
    "ExecuteTime": {
     "start_time": "2023-04-01T14:53:16.937338Z",
     "end_time": "2023-04-01T14:53:26.036421Z"
    }
   }
  },
  {
   "cell_type": "code",
   "execution_count": null,
   "outputs": [],
   "source": [],
   "metadata": {
    "collapsed": false
   }
  }
 ],
 "metadata": {
  "kernelspec": {
   "display_name": "Python 3 (ipykernel)",
   "language": "python",
   "name": "python3"
  },
  "language_info": {
   "codemirror_mode": {
    "name": "ipython",
    "version": 3
   },
   "file_extension": ".py",
   "mimetype": "text/x-python",
   "name": "python",
   "nbconvert_exporter": "python",
   "pygments_lexer": "ipython3",
   "version": "3.9.13"
  }
 },
 "nbformat": 4,
 "nbformat_minor": 5
}
