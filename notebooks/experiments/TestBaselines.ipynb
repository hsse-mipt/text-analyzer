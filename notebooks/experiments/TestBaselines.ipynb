{
 "cells": [
  {
   "cell_type": "code",
   "execution_count": 1,
   "id": "fc8f351a",
   "metadata": {
    "ExecuteTime": {
     "start_time": "2023-04-14T09:32:30.980037Z",
     "end_time": "2023-04-14T09:32:30.981337Z"
    }
   },
   "outputs": [],
   "source": [
    "import sys\n",
    "sys.path.append('../..')"
   ]
  },
  {
   "cell_type": "code",
   "execution_count": 2,
   "id": "e019d72b",
   "metadata": {
    "ExecuteTime": {
     "start_time": "2023-04-14T09:32:30.980498Z",
     "end_time": "2023-04-14T09:32:32.959427Z"
    }
   },
   "outputs": [],
   "source": [
    "import pandas as pd\n",
    "import numpy as np\n",
    "import matplotlib.pyplot as plt\n",
    "\n",
    "from src.metrics import binary_classification as bin_metrics\n",
    "from src.metrics import multiclass_classification as multi_metrics\n",
    "from src.models.baselines import MulticlassClassifier"
   ]
  },
  {
   "cell_type": "code",
   "execution_count": 3,
   "id": "1517f6a6",
   "metadata": {
    "collapsed": false,
    "ExecuteTime": {
     "start_time": "2023-04-13T20:46:56.187569Z",
     "end_time": "2023-04-13T20:46:56.190327Z"
    }
   },
   "outputs": [
    {
     "name": "stdout",
     "output_type": "stream",
     "text": [
      "env: CLEARML_WEB_HOST=https://app.clear.ml\n",
      "env: CLEARML_API_HOST=https://api.clear.ml\n",
      "env: CLEARML_FILES_HOST=https://files.clear.ml\n",
      "env: CLEARML_API_ACCESS_KEY=VT1X7EH5UU1REKI7T44X\n",
      "env: CLEARML_API_SECRET_KEY=NHZDqveny2UDyuTvhVADxwUOAgp2mVv3wyipHnKkCc42hiaJog\n"
     ]
    }
   ],
   "source": [
    "# %env CLEARML_WEB_HOST=https://app.clear.ml\n",
    "# %env CLEARML_API_HOST=https://api.clear.ml\n",
    "# %env CLEARML_FILES_HOST=https://files.clear.ml\n",
    "# %env CLEARML_API_ACCESS_KEY=VT1X7EH5UU1REKI7T44X\n",
    "# %env CLEARML_API_SECRET_KEY=NHZDqveny2UDyuTvhVADxwUOAgp2mVv3wyipHnKkCc42hiaJog"
   ]
  },
  {
   "cell_type": "code",
   "execution_count": 4,
   "id": "15b6c75e",
   "metadata": {
    "collapsed": false,
    "ExecuteTime": {
     "start_time": "2023-04-13T20:46:56.192108Z",
     "end_time": "2023-04-13T20:46:56.489154Z"
    }
   },
   "outputs": [],
   "source": [
    "# from clearml import Task, Logger"
   ]
  },
  {
   "cell_type": "code",
   "execution_count": 5,
   "id": "1d409dd3",
   "metadata": {
    "collapsed": false,
    "ExecuteTime": {
     "start_time": "2023-04-13T20:46:56.493740Z",
     "end_time": "2023-04-13T20:47:06.905417Z"
    }
   },
   "outputs": [
    {
     "name": "stdout",
     "output_type": "stream",
     "text": [
      "ClearML Task: created new task id=905d9e06a4204c9ab348a8bd71e7194a\n",
      "2023-04-13 20:47:01,995 - clearml.Task - INFO - Storing jupyter notebook directly as code\n",
      "ClearML results page: https://app.clear.ml/projects/d279cf59a7ed4fcab0d4f486835b6ad6/experiments/905d9e06a4204c9ab348a8bd71e7194a/output/log\n"
     ]
    },
    {
     "name": "stderr",
     "output_type": "stream",
     "text": [
      "/home/vlad/anaconda3/lib/python3.9/site-packages/nbformat/__init__.py:92: MissingIDFieldWarning:\n",
      "\n",
      "Code cell is missing an id field, this will become a hard error in future nbformat versions. You may want to use `normalize()` on your notebooks before validations (available since nbformat 5.1.4). Previous versions of nbformat are fixing this issue transparently, and will stop doing so in the future.\n",
      "\n"
     ]
    }
   ],
   "source": [
    "# task = Task.init(\n",
    "#     project_name='tonality analysis',\n",
    "#     task_name='TestBaselines',\n",
    "#     tags=['NaiveBayesClassifier', 'DummyClassifier', 'LogisticRegression'])\n",
    "# log = Logger.current_logger()"
   ]
  },
  {
   "cell_type": "code",
   "execution_count": 3,
   "id": "60db92af",
   "metadata": {
    "ExecuteTime": {
     "start_time": "2023-04-14T09:32:36.561762Z",
     "end_time": "2023-04-14T09:32:36.571788Z"
    }
   },
   "outputs": [],
   "source": [
    "path = '../../static/datasets/modified/'\n",
    "folders = {'bin' : 'bin_classification/', 'multi' : 'multi_classification/'}"
   ]
  },
  {
   "cell_type": "code",
   "execution_count": 5,
   "id": "",
   "metadata": {
    "ExecuteTime": {
     "start_time": "2023-04-14T09:32:51.420875Z",
     "end_time": "2023-04-14T09:32:51.535150Z"
    }
   },
   "outputs": [
    {
     "name": "stdout",
     "output_type": "stream",
     "text": [
      "0.4697802197802198\n",
      "0.5443949262941378\n"
     ]
    }
   ],
   "source": [
    "#Dummy Classifier\n",
    "from src.models.baselines import DummyClassifier as Dummy_clf\n",
    "\n",
    "dummy = Dummy_clf()\n",
    "\n",
    "train_data = pd.read_csv(path + folders['bin'] + 'train_data.csv')\n",
    "# task.upload_artifact(name='train_data_for_Dummy', artifact_object='../../../static/datasets/modified/bin_classification/train_data.csv')\n",
    "# task.upload_artifact(name='val_data_for_Dummy', artifact_object='../../../static/datasets/modified/bin_classification/validation_data.csv')\n",
    "# task.upload_artifact(name='train_data_for_Dummy', artifact_object='../../../static/datasets/modified/multi_classification/train_data.csv')\n",
    "# task.upload_artifact(name='val_data_for_Dummy', artifact_object='../../../static/datasets/modified/multi_classification/validation_data.csv')\n",
    "X_train, y_train = train_data.iloc[:, :-1], train_data.label\n",
    "\n",
    "dummy.fit(X_train, y_train)\n",
    "\n",
    "val_data = pd.read_csv(path + folders['bin'] + 'validation_data.csv')\n",
    "X_val, y_val = val_data.iloc[:, :-1], val_data.label\n",
    "\n",
    "y_pred = dummy.predict(X_val)\n",
    "\n",
    "#log.report_scalar(\"f1-score\", \"TestBinDummy\", value=bin_metrics.f1_score(y_true=y_val, y_pred=y_pred))\n",
    "\n",
    "print(\n",
    "    bin_metrics.f1_score(y_true=y_val, y_pred=y_pred)\n",
    ")\n",
    "\n",
    "\n",
    "dummy = Dummy_clf()\n",
    "\n",
    "train_data = pd.read_csv(path + folders['multi'] + 'train_data.csv')\n",
    "X_train, y_train = train_data.iloc[:, :-1], train_data.label\n",
    "\n",
    "dummy.fit(X_train, y_train)\n",
    "\n",
    "val_data = pd.read_csv(path + folders['multi'] + 'validation_data.csv')\n",
    "X_val, y_val = val_data.iloc[:, :-1], val_data.label\n",
    "\n",
    "y_pred = dummy.predict(X_val)\n",
    "\n",
    "#log.report_scalar(\"f1-score\", \"TestMultiDummy\", value=bin_metrics.f1_score(y_true=y_val, y_pred=y_pred))\n",
    "\n",
    "print(\n",
    "    multi_metrics.f1_score(y_true=y_val, y_pred=y_pred)\n",
    ")"
   ]
  },
  {
   "cell_type": "code",
   "execution_count": 6,
   "id": "1cd4554b",
   "metadata": {
    "ExecuteTime": {
     "start_time": "2023-04-14T09:32:54.124073Z",
     "end_time": "2023-04-14T09:42:44.140044Z"
    }
   },
   "outputs": [
    {
     "name": "stderr",
     "output_type": "stream",
     "text": [
      "800it [00:28, 27.71it/s]\n"
     ]
    },
    {
     "name": "stdout",
     "output_type": "stream",
     "text": [
      "0.67875\n"
     ]
    },
    {
     "name": "stderr",
     "output_type": "stream",
     "text": [
      "6634it [09:08, 12.10it/s]"
     ]
    },
    {
     "name": "stdout",
     "output_type": "stream",
     "text": [
      "0.6192820042908561\n"
     ]
    },
    {
     "name": "stderr",
     "output_type": "stream",
     "text": [
      "\n"
     ]
    }
   ],
   "source": [
    "#Naive Bayes\n",
    "from src.models.baselines import NaiveBayesClassifier as NB\n",
    "\n",
    "# task.upload_artifact(name='train_data_preprocessed_for_NB', artifact_object='../../../static/datasets/modified/bin_classification/bayes_train.csv')\n",
    "# task.upload_artifact(name='val_data_preprocessed_for_NB', artifact_object='../../../static/datasets/modified/bin_classification/bayes_val.csv')\n",
    "# task.upload_artifact(name='train_data_preprocessed_for_NB', artifact_object='../../../static/datasets/modified/multi_classification/bayes_train.csv')\n",
    "# task.upload_artifact(name='val_data_preprocessed_for_NB', artifact_object='../../../static/datasets/modified/multi_classification/bayes_val.csv')\n",
    "\n",
    "nb = NB(mode='cat_features')\n",
    "\n",
    "train_data = pd.read_csv(path + folders['bin'] + 'bayes_train.csv')\n",
    "X_train, y_train = train_data.iloc[:, :-1], train_data.label\n",
    "\n",
    "nb.fit(X_train, y_train)\n",
    "\n",
    "val_data = pd.read_csv(path + folders['bin'] + 'bayes_val.csv')\n",
    "X_val, y_val = val_data.iloc[:, :-1], val_data.label.values.tolist()\n",
    "\n",
    "y_pred = nb.predict(X_val)\n",
    "\n",
    "#log.report_scalar(\"f1-score\", \"TestBinNB\", value=bin_metrics.f1_score(y_true=y_val, y_pred=y_pred))\n",
    "\n",
    "print(\n",
    "    multi_metrics.f1_score(y_true=y_val, y_pred=y_pred),\n",
    ")\n",
    "\n",
    "nb = NB(mode='cat_features')\n",
    "\n",
    "train_data = pd.read_csv(path + folders['multi'] + 'bayes_train.csv')\n",
    "X_train, y_train = train_data.iloc[:, :-1], train_data.label\n",
    "\n",
    "nb.fit(X_train, y_train)\n",
    "\n",
    "val_data = pd.read_csv(path + folders['multi'] + 'bayes_val.csv')\n",
    "X_val, y_val = val_data.iloc[:, :-1], val_data.label.values.tolist()\n",
    "\n",
    "X_val, y_val = X_train, y_train.values.tolist()\n",
    "\n",
    "y_pred = nb.predict(X_val)\n",
    "\n",
    "#log.report_scalar(\"f1-score\", \"TestMultiNB\", value=bin_metrics.f1_score(y_true=y_val, y_pred=y_pred))\n",
    "\n",
    "print(\n",
    "    multi_metrics.f1_score(y_true=y_val, y_pred=y_pred, average='macro'),\n",
    ")"
   ]
  },
  {
   "cell_type": "code",
   "execution_count": 7,
   "id": "f7d19805",
   "metadata": {
    "ExecuteTime": {
     "start_time": "2023-04-14T09:42:44.139820Z",
     "end_time": "2023-04-14T09:42:45.878335Z"
    }
   },
   "outputs": [
    {
     "name": "stdout",
     "output_type": "stream",
     "text": [
      "0.7157001414427157\n",
      "0.6927877947295423\n",
      "0.7060439560439561\n"
     ]
    }
   ],
   "source": [
    "from sklearn.linear_model import LogisticRegression\n",
    "\n",
    "# task.upload_artifact(name='train_data_preprocessed_for_LogReg', artifact_object='../../static/embeddings/bin_average_train.csv')\n",
    "# task.upload_artifact(name='val_data_preprocessed_for_LogReg', artifact_object='../../static/embeddings/bin_average_val.csv')\n",
    "# task.upload_artifact(name='train_data_preprocessed_for_LogReg', artifact_object='../../static/embeddings/multi_average_train.csv')\n",
    "# task.upload_artifact(name='val_data_preprocessed_for_LogReg', artifact_object='../../static/embeddings/multi_average_val.csv')\n",
    "\n",
    "#Binary\n",
    "logreg = LogisticRegression(C=2, penalty='l2', solver='saga')\n",
    "\n",
    "train_data = pd.read_csv('../../static/embeddings/bin_average_train.csv')\n",
    "X_train, y_train = train_data.iloc[:, :-1], train_data.label\n",
    "\n",
    "logreg.fit(X_train, y_train)\n",
    "\n",
    "val_data = pd.read_csv('../../static/embeddings/bin_average_val.csv')\n",
    "X_val, y_val = val_data.iloc[:, :-1], val_data.label\n",
    "\n",
    "y_pred = logreg.predict(X_val)\n",
    "\n",
    "#log.report_scalar(\"f1-score\", \"TestBinLogReg\", value=bin_metrics.f1_score(y_true=y_val, y_pred=y_pred))\n",
    "\n",
    "print(\n",
    "    bin_metrics.f1_score(y_true=y_val, y_pred=y_pred),\n",
    ")\n",
    "\n",
    "#Multiclass\n",
    "train_data = pd.read_csv('../../static/embeddings/multi_average_train.csv')\n",
    "X_train, y_train = train_data.iloc[:, :-1], train_data.label\n",
    "\n",
    "val_data = pd.read_csv('../../static/embeddings/multi_average_val.csv')\n",
    "X_val, y_val = val_data.iloc[:, :-1], val_data.label\n",
    "\n",
    "strategies = [\"one-vs-all\", \"all-vs-all\"]\n",
    "\n",
    "for strategy in strategies:\n",
    "    multi_clf = MulticlassClassifier(LogisticRegression, strategy)\n",
    "    multi_clf.fit(X_train, y_train, target_name='label')\n",
    "    y_pred = multi_clf.predict(X_val)\n",
    "    #log.report_scalar(\"f1-score\", \"TestMultiLogReg strategy:\" + strategy, value=bin_metrics.f1_score(y_true=y_val, y_pred=y_pred))\n",
    "    print(\n",
    "        multi_metrics.f1_score(y_true=y_val, y_pred=y_pred)\n",
    "    )"
   ]
  },
  {
   "cell_type": "code",
   "execution_count": 10,
   "id": "cdfda508",
   "metadata": {
    "ExecuteTime": {
     "start_time": "2023-04-13T20:57:12.028093Z",
     "end_time": "2023-04-13T21:02:38.128958Z"
    }
   },
   "outputs": [
    {
     "name": "stderr",
     "output_type": "stream",
     "text": [
      "/home/vlad/anaconda3/lib/python3.9/site-packages/nbformat/__init__.py:92: MissingIDFieldWarning:\n",
      "\n",
      "Code cell is missing an id field, this will become a hard error in future nbformat versions. You may want to use `normalize()` on your notebooks before validations (available since nbformat 5.1.4). Previous versions of nbformat are fixing this issue transparently, and will stop doing so in the future.\n",
      "\n"
     ]
    }
   ],
   "source": [
    "# task.close()"
   ]
  },
  {
   "cell_type": "code",
   "execution_count": 10,
   "outputs": [],
   "source": [],
   "metadata": {
    "collapsed": false,
    "ExecuteTime": {
     "start_time": "2023-04-13T21:02:38.128738Z",
     "end_time": "2023-04-13T21:02:38.129889Z"
    }
   }
  }
 ],
 "metadata": {
  "kernelspec": {
   "display_name": "Python 3 (ipykernel)",
   "language": "python",
   "name": "python3"
  },
  "language_info": {
   "codemirror_mode": {
    "name": "ipython",
    "version": 3
   },
   "file_extension": ".py",
   "mimetype": "text/x-python",
   "name": "python",
   "nbconvert_exporter": "python",
   "pygments_lexer": "ipython3",
   "version": "3.9.13"
  }
 },
 "nbformat": 4,
 "nbformat_minor": 5
}
