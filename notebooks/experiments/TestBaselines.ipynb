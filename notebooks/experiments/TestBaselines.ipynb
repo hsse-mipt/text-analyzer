{
 "cells": [
  {
   "cell_type": "code",
   "execution_count": 1,
   "id": "e019d72b",
   "metadata": {
    "ExecuteTime": {
     "end_time": "2023-04-01T14:52:33.062201Z",
     "start_time": "2023-04-01T14:52:32.192817Z"
    }
   },
   "outputs": [],
   "source": [
    "import pandas as pd\n",
    "import numpy as np\n",
    "import matplotlib.pyplot as plt\n",
    "from sklearn import metrics as sk_metrics\n",
    "import sys"
   ]
  },
  {
   "cell_type": "code",
   "execution_count": 2,
   "id": "0c3041a0",
   "metadata": {},
   "outputs": [],
   "source": [
    "sys.path.append('../..')\n",
    "import src.metrics.binary_classification as bin_metrics"
   ]
  },
  {
   "cell_type": "code",
   "execution_count": 3,
   "id": "60db92af",
   "metadata": {
    "ExecuteTime": {
     "end_time": "2023-04-01T14:52:34.268851Z",
     "start_time": "2023-04-01T14:52:34.262427Z"
    }
   },
   "outputs": [],
   "source": [
    "path = '../../static/datasets/modified/'\n",
    "folders = {'bin' : 'bin_classification/', 'multi' : 'multi_classification/'}\n",
    "\n",
    "train = 'bayes_train.csv'\n",
    "test = 'bayes_test.csv'"
   ]
  },
  {
   "cell_type": "code",
   "execution_count": 10,
   "id": "ad7afa78",
   "metadata": {},
   "outputs": [
    {
     "data": {
      "text/html": [
       "<div>\n",
       "<style scoped>\n",
       "    .dataframe tbody tr th:only-of-type {\n",
       "        vertical-align: middle;\n",
       "    }\n",
       "\n",
       "    .dataframe tbody tr th {\n",
       "        vertical-align: top;\n",
       "    }\n",
       "\n",
       "    .dataframe thead th {\n",
       "        text-align: right;\n",
       "    }\n",
       "</style>\n",
       "<table border=\"1\" class=\"dataframe\">\n",
       "  <thead>\n",
       "    <tr style=\"text-align: right;\">\n",
       "      <th></th>\n",
       "      <th>version https://git-lfs.github.com/spec/v1</th>\n",
       "    </tr>\n",
       "  </thead>\n",
       "  <tbody>\n",
       "    <tr>\n",
       "      <th>0</th>\n",
       "      <td>oid sha256:4b044712609866bc97957a6b4c97edcd3b7...</td>\n",
       "    </tr>\n",
       "    <tr>\n",
       "      <th>1</th>\n",
       "      <td>size 21491832</td>\n",
       "    </tr>\n",
       "  </tbody>\n",
       "</table>\n",
       "</div>"
      ],
      "text/plain": [
       "          version https://git-lfs.github.com/spec/v1\n",
       "0  oid sha256:4b044712609866bc97957a6b4c97edcd3b7...\n",
       "1                                      size 21491832"
      ]
     },
     "execution_count": 10,
     "metadata": {},
     "output_type": "execute_result"
    }
   ],
   "source": [
    "X_train = pd.read_csv(path + folders['bin'] + train)\n",
    "y_train = pd.read_csv(path + folders['bin'] + test)\n",
    "X_train"
   ]
  },
  {
   "cell_type": "code",
   "execution_count": 5,
   "id": "60cd6078",
   "metadata": {
    "ExecuteTime": {
     "end_time": "2023-04-01T14:50:00.932284Z",
     "start_time": "2023-04-01T14:50:00.930666Z"
    }
   },
   "outputs": [],
   "source": [
    "from src.models.baselines import NaiveBayesClassifier as NB_clf\n",
    "from src.models.baselines import DummyClassifier as Dummy_clf"
   ]
  },
  {
   "cell_type": "code",
   "execution_count": 6,
   "id": "5e0c0422",
   "metadata": {},
   "outputs": [],
   "source": [
    "import numpy as np\n",
    "import pandas as pd\n",
    "import scipy\n",
    "from math import log, exp, sqrt, pi\n",
    "from random import choices\n",
    "from abc import ABC, abstractmethod\n",
    "from tqdm import tqdm\n",
    "\n",
    "class NaiveBayesClassifier:\n",
    "    class Distribution:\n",
    "        def __init__(self, feature_column, mode: str):\n",
    "            self.mode = mode\n",
    "            if mode == 'gaussian_kde':\n",
    "                self.distribution = scipy.stats.gaussian_kde(feature_column)\n",
    "            if mode == 'gaussian':\n",
    "                self.mean = feature_column.mean()\n",
    "                self.deviation = np.std(feature_column)\n",
    "            if mode == 'cat_features':\n",
    "                unique, counts = np.unique(feature_column, return_counts=True)\n",
    "                self.distribution = dict(zip(unique, counts / feature_column.size)) \n",
    "        \n",
    "        def get_proba(self, value: float) -> float:\n",
    "            if self.mode == 'gaussian':\n",
    "                return self.get_prob_from_gauss(self, value, self.mean, self.deviation)\n",
    "            if self.mode == 'gaussian_kde':\n",
    "                return self.distribution.pdf(value)\n",
    "            return self.distribution[value]\n",
    "        \n",
    "        @staticmethod\n",
    "        def get_prob_from_gauss(self, value: float, mean: float, deviation: float) -> float:\n",
    "            if deviation == 0:\n",
    "                return 1\n",
    "            return exp(-((value - mean) ** 2) / (2 * deviation ** 2)) / sqrt(2 * pi * deviation ** 2)\n",
    "    \n",
    "    def __init__(self, mode = 'gaussian_kde'): #guassian_kde, guassian, cat_feautures\n",
    "        self.mode = mode\n",
    "    \n",
    "    \n",
    "    def fit(self, train_feature_matrix, train_labels):\n",
    "        self.unique_labels = np.unique(train_labels)\n",
    "        self.class_probability = {} # здесь будем хранить долю каждого класса в выборке\n",
    "        self.distributions = {} # key: label, value: []\n",
    "                                # [i] - плотность распределения i-й фичи в X при условии, что класс = label, т.е. плотность распределения P(x_i | label))\n",
    "        for label in self.unique_labels:\n",
    "            current_label_feature_matrix = train_feature_matrix[np.array(train_labels == label)] # выбираем те строки, для которых класс = label\n",
    "            self.class_probability[label] = current_label_feature_matrix.size / train_feature_matrix.size\n",
    "            self.distributions[label] = []\n",
    "            for feature_ind in range(train_feature_matrix.shape[1]):\n",
    "                feature_column = current_label_feature_matrix.iloc[:, feature_ind] # выбираем фичу с номером feature_ind\n",
    "                distribution = self.Distribution(feature_column, self.mode)  # считаем плотность распределения P(x_feature_ind | label) с помощью gaussian_kde\n",
    "                self.distributions[label].append(distribution)\n",
    "    \n",
    "    def predict(self, test_feature_matrix):\n",
    "        y_pred = [] # наши предсказания\n",
    "        for i, features in test_feature_matrix.iterrows():\n",
    "            max_likelihood = -float('inf')\n",
    "            for label in self.unique_labels: # перебираем возможные варианты ответа, выбираем - максимально правдоподобный\n",
    "                likelihood = log(self.class_probability[label]) # здесь - сумма логарифмов вероятностей для label\n",
    "                for feature_ind in range(test_feature_matrix.shape[1]):\n",
    "                    likelihood += log(self.distributions[label][feature_ind].get_proba(float(features[feature_ind])))\n",
    "                if likelihood > max_likelihood:\n",
    "                    max_likelihood = likelihood\n",
    "                    predict = label\n",
    "            y_pred.append(predict)\n",
    "        return y_pred"
   ]
  },
  {
   "cell_type": "code",
   "execution_count": 7,
   "id": "7c8e4539",
   "metadata": {},
   "outputs": [],
   "source": [
    "nb_clf = NaiveBayesClassifier(mode='cat_features')\n",
    "#dummy_clf = Dummy_clf()"
   ]
  },
  {
   "cell_type": "code",
   "execution_count": 8,
   "id": "a542d4fc",
   "metadata": {},
   "outputs": [],
   "source": [
    "\n",
    "nb_clf.fit(X_train, y_train)\n",
    "#dummy_clf.fit(X_train, y_train)"
   ]
  },
  {
   "cell_type": "code",
   "execution_count": 9,
   "id": "80f3e5e7",
   "metadata": {},
   "outputs": [
    {
     "ename": "ValueError",
     "evalue": "could not convert string to float: 'oid sha256:4b044712609866bc97957a6b4c97edcd3b70c5371c14bbbfd57aaf2f41003cdf'",
     "output_type": "error",
     "traceback": [
      "\u001b[0;31m---------------------------------------------------------------------------\u001b[0m",
      "\u001b[0;31mValueError\u001b[0m                                Traceback (most recent call last)",
      "\u001b[0;32m/tmp/ipykernel_23800/2398954921.py\u001b[0m in \u001b[0;36m<module>\u001b[0;34m\u001b[0m\n\u001b[0;32m----> 1\u001b[0;31m \u001b[0my_pred_nb\u001b[0m \u001b[0;34m=\u001b[0m \u001b[0mnb_clf\u001b[0m\u001b[0;34m.\u001b[0m\u001b[0mpredict\u001b[0m\u001b[0;34m(\u001b[0m\u001b[0mX_train\u001b[0m\u001b[0;34m)\u001b[0m\u001b[0;34m\u001b[0m\u001b[0;34m\u001b[0m\u001b[0m\n\u001b[0m\u001b[1;32m      2\u001b[0m \u001b[0;31m#y_pred_dummy = dummy_clf.predict(X_train)\u001b[0m\u001b[0;34m\u001b[0m\u001b[0;34m\u001b[0m\u001b[0m\n",
      "\u001b[0;32m/tmp/ipykernel_23800/1123044287.py\u001b[0m in \u001b[0;36mpredict\u001b[0;34m(self, test_feature_matrix)\u001b[0m\n\u001b[1;32m     58\u001b[0m                 \u001b[0mlikelihood\u001b[0m \u001b[0;34m=\u001b[0m \u001b[0mlog\u001b[0m\u001b[0;34m(\u001b[0m\u001b[0mself\u001b[0m\u001b[0;34m.\u001b[0m\u001b[0mclass_probability\u001b[0m\u001b[0;34m[\u001b[0m\u001b[0mlabel\u001b[0m\u001b[0;34m]\u001b[0m\u001b[0;34m)\u001b[0m \u001b[0;31m# здесь - сумма логарифмов вероятностей для label\u001b[0m\u001b[0;34m\u001b[0m\u001b[0;34m\u001b[0m\u001b[0m\n\u001b[1;32m     59\u001b[0m                 \u001b[0;32mfor\u001b[0m \u001b[0mfeature_ind\u001b[0m \u001b[0;32min\u001b[0m \u001b[0mrange\u001b[0m\u001b[0;34m(\u001b[0m\u001b[0mtest_feature_matrix\u001b[0m\u001b[0;34m.\u001b[0m\u001b[0mshape\u001b[0m\u001b[0;34m[\u001b[0m\u001b[0;36m1\u001b[0m\u001b[0;34m]\u001b[0m\u001b[0;34m)\u001b[0m\u001b[0;34m:\u001b[0m\u001b[0;34m\u001b[0m\u001b[0;34m\u001b[0m\u001b[0m\n\u001b[0;32m---> 60\u001b[0;31m                     \u001b[0mlikelihood\u001b[0m \u001b[0;34m+=\u001b[0m \u001b[0mlog\u001b[0m\u001b[0;34m(\u001b[0m\u001b[0mself\u001b[0m\u001b[0;34m.\u001b[0m\u001b[0mdistributions\u001b[0m\u001b[0;34m[\u001b[0m\u001b[0mlabel\u001b[0m\u001b[0;34m]\u001b[0m\u001b[0;34m[\u001b[0m\u001b[0mfeature_ind\u001b[0m\u001b[0;34m]\u001b[0m\u001b[0;34m.\u001b[0m\u001b[0mget_proba\u001b[0m\u001b[0;34m(\u001b[0m\u001b[0mfloat\u001b[0m\u001b[0;34m(\u001b[0m\u001b[0mfeatures\u001b[0m\u001b[0;34m[\u001b[0m\u001b[0mfeature_ind\u001b[0m\u001b[0;34m]\u001b[0m\u001b[0;34m)\u001b[0m\u001b[0;34m)\u001b[0m\u001b[0;34m)\u001b[0m\u001b[0;34m\u001b[0m\u001b[0;34m\u001b[0m\u001b[0m\n\u001b[0m\u001b[1;32m     61\u001b[0m                 \u001b[0;32mif\u001b[0m \u001b[0mlikelihood\u001b[0m \u001b[0;34m>\u001b[0m \u001b[0mmax_likelihood\u001b[0m\u001b[0;34m:\u001b[0m\u001b[0;34m\u001b[0m\u001b[0;34m\u001b[0m\u001b[0m\n\u001b[1;32m     62\u001b[0m                     \u001b[0mmax_likelihood\u001b[0m \u001b[0;34m=\u001b[0m \u001b[0mlikelihood\u001b[0m\u001b[0;34m\u001b[0m\u001b[0;34m\u001b[0m\u001b[0m\n",
      "\u001b[0;31mValueError\u001b[0m: could not convert string to float: 'oid sha256:4b044712609866bc97957a6b4c97edcd3b70c5371c14bbbfd57aaf2f41003cdf'"
     ]
    }
   ],
   "source": [
    "y_pred_nb = nb_clf.predict(X_train)\n",
    "#y_pred_dummy = dummy_clf.predict(X_train)"
   ]
  },
  {
   "cell_type": "code",
   "execution_count": 138,
   "id": "034d357f",
   "metadata": {},
   "outputs": [],
   "source": [
    "y_pred_nb = list(map(int, y_pred_nb))\n",
    "#y_pred_dummy = list(map(int, y_pred_dummy))"
   ]
  },
  {
   "cell_type": "code",
   "execution_count": 139,
   "id": "3565afe8",
   "metadata": {},
   "outputs": [
    {
     "data": {
      "text/plain": [
       "0.5405260332796564"
      ]
     },
     "execution_count": 139,
     "metadata": {},
     "output_type": "execute_result"
    }
   ],
   "source": [
    "sk_metrics.accuracy_score(y_true=y_train, y_pred=y_pred_nb)\n",
    "#bin_metrics.accuracy_score(y_true=y_train, y_pred=y_pred_dummy)"
   ]
  },
  {
   "cell_type": "code",
   "execution_count": null,
   "id": "cdfda508",
   "metadata": {},
   "outputs": [],
   "source": [
    "# %env CLEARML_WEB_HOST=https://app.clear.ml\n",
    "# %env CLEARML_API_HOST=https://api.clear.ml\n",
    "# %env CLEARML_FILES_HOST=https://files.clear.ml\n",
    "# %env CLEARML_API_ACCESS_KEY=VT1X7EH5UU1REKI7T44X\n",
    "# %env CLEARML_API_SECRET_KEY=NHZDqveny2UDyuTvhVADxwUOAgp2mVv3wyipHnKkCc42hiaJog"
   ]
  },
  {
   "cell_type": "code",
   "execution_count": null,
   "id": "fa2207f0",
   "metadata": {},
   "outputs": [],
   "source": [
    "# from clearml import Task, Logger"
   ]
  },
  {
   "cell_type": "code",
   "execution_count": null,
   "id": "e355eea1",
   "metadata": {},
   "outputs": [],
   "source": [
    "# task = Task.init(\n",
    "#     project_name='tonality analysis',\n",
    "#     task_name='TestBaselines',\n",
    "#     tags=['NaiveBayesClassifier', 'DummyClassifier'])"
   ]
  },
  {
   "cell_type": "code",
   "execution_count": null,
   "id": "c9d525cb",
   "metadata": {},
   "outputs": [],
   "source": [
    "# task.upload_artifact(name='train_data_preprocessed_for_NB', artifact_object='../../../static/datasets/modified/bin_classification/bayes_train.csv')\n",
    "# task.upload_artifact(name='test_data_preprocessed_for_NB', artifact_object='../../../static/datasets/modified/bin_classification/bayes_test.csv')"
   ]
  },
  {
   "cell_type": "code",
   "execution_count": null,
   "id": "1baea125",
   "metadata": {},
   "outputs": [],
   "source": [
    "# task.close()"
   ]
  },
  {
   "cell_type": "code",
   "execution_count": 3,
   "id": "12cf7d82",
   "metadata": {
    "ExecuteTime": {
     "end_time": "2023-04-01T14:52:45.752221Z",
     "start_time": "2023-04-01T14:52:45.745430Z"
    }
   },
   "outputs": [],
   "source": [
    "from text_analyzer.src.models.baselines import MulticlassClassifier\n",
    "from text_analyzer.src.metrics import multiclass_classification as multi_metrics"
   ]
  },
  {
   "cell_type": "code",
   "execution_count": 5,
   "id": "23e6af06",
   "metadata": {
    "ExecuteTime": {
     "end_time": "2023-04-01T14:50:08.493740Z",
     "start_time": "2023-04-01T14:50:08.447787Z"
    }
   },
   "outputs": [],
   "source": [
    "data = pd.read_csv(path + folders['multi'] + 'train_data.csv')\n",
    "data.dropna(inplace=True)"
   ]
  },
  {
   "cell_type": "code",
   "execution_count": 4,
   "id": "bb05480e",
   "metadata": {
    "ExecuteTime": {
     "end_time": "2023-04-01T14:53:08.641847Z",
     "start_time": "2023-04-01T14:53:02.638580Z"
    }
   },
   "outputs": [],
   "source": [
    "# X_train = data.iloc[:, :-1]\n",
    "# y_train = data['label'].astype(int)\n",
    "X_train = pd.read_csv(path + folders['multi'] + train)\n",
    "y_train = pd.read_csv(path + folders['multi'] + test)"
   ]
  },
  {
   "cell_type": "code",
   "execution_count": 5,
   "id": "de2b72d9",
   "metadata": {
    "ExecuteTime": {
     "end_time": "2023-04-01T14:53:12.837642Z",
     "start_time": "2023-04-01T14:53:12.831575Z"
    }
   },
   "outputs": [],
   "source": [
    "#from sklearn.naive_bayes import BernoulliNB\n",
    "#from sklearn.dummy import DummyClassifier"
   ]
  },
  {
   "cell_type": "code",
   "execution_count": 6,
   "id": "0cda89b3",
   "metadata": {
    "ExecuteTime": {
     "end_time": "2023-04-01T14:53:26.036421Z",
     "start_time": "2023-04-01T14:53:16.937338Z"
    }
   },
   "outputs": [
    {
     "name": "stdout",
     "output_type": "stream",
     "text": [
      "0.7434428700633102 0.42216983521360846 0.6706397937883785\n",
      "0.7362074163400664 0.38396145025244266 0.7689475778385205\n"
     ]
    }
   ],
   "source": [
    "strategies = [\"one-vs-all\", \"all-vs-all\"]\n",
    "for strategy in strategies:\n",
    "    multi_clf = MulticlassClassifier(BernoulliNB, strategy)\n",
    "    multi_clf.fit(X_train, y_train, target_name='label')\n",
    "    y_pred = multi_clf.predict(X_train)\n",
    "    print(sk_metrics.accuracy_score(y_true=y_train, y_pred=y_pred), sk_metrics.recall_score(y_true=y_train, y_pred=y_pred, average='macro'), sk_metrics.precision_score(y_true=y_train, y_pred=y_pred, average='macro'))"
   ]
  },
  {
   "cell_type": "code",
   "execution_count": null,
   "id": "71d78c38",
   "metadata": {},
   "outputs": [],
   "source": []
  }
 ],
 "metadata": {
  "kernelspec": {
   "display_name": "Python 3 (ipykernel)",
   "language": "python",
   "name": "python3"
  },
  "language_info": {
   "codemirror_mode": {
    "name": "ipython",
    "version": 3
   },
   "file_extension": ".py",
   "mimetype": "text/x-python",
   "name": "python",
   "nbconvert_exporter": "python",
   "pygments_lexer": "ipython3",
   "version": "3.9.13"
  }
 },
 "nbformat": 4,
 "nbformat_minor": 5
}
