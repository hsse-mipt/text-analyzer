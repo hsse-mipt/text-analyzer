{
 "cells": [
  {
   "cell_type": "code",
   "execution_count": 9,
   "id": "e019d72b",
   "metadata": {
    "ExecuteTime": {
     "start_time": "2023-04-10T23:12:59.345603Z",
     "end_time": "2023-04-10T23:12:59.391511Z"
    }
   },
   "outputs": [],
   "source": [
    "import pandas as pd\n",
    "import numpy as np\n",
    "import matplotlib.pyplot as plt\n",
    "\n",
    "import sys\n",
    "sys.path.append('../..')\n",
    "\n",
    "from src.metrics import binary_classification as bin_metrics\n",
    "from src.metrics import multiclass_classification as multi_metrics\n",
    "from src.models.baselines import MulticlassClassifier"
   ]
  },
  {
   "cell_type": "code",
   "execution_count": null,
   "outputs": [],
   "source": [
    "# %env CLEARML_WEB_HOST=https://app.clear.ml\n",
    "# %env CLEARML_API_HOST=https://api.clear.ml\n",
    "# %env CLEARML_FILES_HOST=https://files.clear.ml\n",
    "# %env CLEARML_API_ACCESS_KEY=VT1X7EH5UU1REKI7T44X\n",
    "# %env CLEARML_API_SECRET_KEY=NHZDqveny2UDyuTvhVADxwUOAgp2mVv3wyipHnKkCc42hiaJog"
   ],
   "metadata": {
    "collapsed": false
   }
  },
  {
   "cell_type": "code",
   "execution_count": null,
   "outputs": [],
   "source": [
    "# from clearml import Task, Logger"
   ],
   "metadata": {
    "collapsed": false
   }
  },
  {
   "cell_type": "code",
   "execution_count": null,
   "outputs": [],
   "source": [
    "# task = Task.init(\n",
    "#     project_name='tonality analysis',\n",
    "#     task_name='TestBaselines',\n",
    "#     tags=['NaiveBayesClassifier', 'DummyClassifier', 'LogisticRegression'])"
   ],
   "metadata": {
    "collapsed": false
   }
  },
  {
   "cell_type": "code",
   "execution_count": 2,
   "id": "60db92af",
   "metadata": {
    "ExecuteTime": {
     "start_time": "2023-04-10T23:04:03.563981Z",
     "end_time": "2023-04-10T23:04:03.570655Z"
    }
   },
   "outputs": [],
   "source": [
    "path = '../../static/datasets/modified/'\n",
    "folders = {'bin' : 'bin_classification/', 'multi' : 'multi_classification/'}"
   ]
  },
  {
   "cell_type": "code",
   "execution_count": 3,
   "outputs": [
    {
     "name": "stdout",
     "output_type": "stream",
     "text": [
      "0.50125 0.47513812154696133 0.45144356955380577\n",
      "0.6939660222612771 0.5507395940832474 0.5507395940832474\n"
     ]
    }
   ],
   "source": [
    "#Dummy Classifier\n",
    "from text_analyzer.src.models.baselines import DummyClassifier as Dummy_clf\n",
    "# task.upload_artifact(name='train_data_preprocessed_for_Dummy', artifact_object='../../../static/datasets/modified/bin_classification/train_data.csv')\n",
    "# task.upload_artifact(name='val_data_preprocessed_for_Dummy', artifact_object='../../../static/datasets/modified/bin_classification/validation__test.csv')\n",
    "\n",
    "dummy = Dummy_clf()\n",
    "train_data = pd.read_csv(path + folders['bin'] + 'train_data.csv')\n",
    "X_train, y_train = train_data.iloc[:, :-1], train_data.label\n",
    "dummy.fit(X_train, y_train)\n",
    "\n",
    "val_data = pd.read_csv(path + folders['bin'] + 'validation_data.csv')\n",
    "X_val, y_val = val_data.iloc[:, :-1], val_data.label\n",
    "\n",
    "y_pred = dummy.predict(X_val)\n",
    "print(\n",
    "    bin_metrics.accuracy_score(y_true=y_val, y_pred=y_pred),\n",
    "    bin_metrics.recall_score(y_true=y_val, y_pred=y_pred),\n",
    "    bin_metrics.precision_score(y_true=y_val, y_pred=y_pred),\n",
    ")\n",
    "\n",
    "\n",
    "dummy = Dummy_clf()\n",
    "train_data = pd.read_csv(path + folders['multi'] + 'train_data.csv')\n",
    "X_train, y_train = train_data.iloc[:, :-1], train_data.label\n",
    "dummy.fit(X_train, y_train)\n",
    "\n",
    "val_data = pd.read_csv(path + folders['multi'] + 'validation_data.csv')\n",
    "X_val, y_val = val_data.iloc[:, :-1], val_data.label\n",
    "\n",
    "y_pred = dummy.predict(X_val)\n",
    "print(\n",
    "    multi_metrics.accuracy_score(y_true=y_val, y_pred=y_pred),\n",
    "    multi_metrics.recall_score(y_true=y_val, y_pred=y_pred),\n",
    "    multi_metrics.precision_score(y_true=y_val, y_pred=y_pred)\n",
    ")"
   ],
   "metadata": {
    "collapsed": false,
    "ExecuteTime": {
     "start_time": "2023-04-10T22:09:57.382861Z",
     "end_time": "2023-04-10T22:09:57.447299Z"
    }
   }
  },
  {
   "cell_type": "code",
   "execution_count": 10,
   "outputs": [
    {
     "name": "stderr",
     "output_type": "stream",
     "text": [
      "0it [00:00, ?it/s]\n"
     ]
    },
    {
     "ename": "KeyError",
     "evalue": "1.0",
     "output_type": "error",
     "traceback": [
      "\u001B[0;31m---------------------------------------------------------------------------\u001B[0m",
      "\u001B[0;31mKeyError\u001B[0m                                  Traceback (most recent call last)",
      "\u001B[0;32m/tmp/ipykernel_19924/4031317843.py\u001B[0m in \u001B[0;36m<module>\u001B[0;34m\u001B[0m\n\u001B[1;32m      8\u001B[0m \u001B[0mX_val\u001B[0m\u001B[0;34m,\u001B[0m \u001B[0my_val\u001B[0m \u001B[0;34m=\u001B[0m \u001B[0mX_train\u001B[0m\u001B[0;34m,\u001B[0m \u001B[0my_train\u001B[0m\u001B[0;34m\u001B[0m\u001B[0;34m\u001B[0m\u001B[0m\n\u001B[1;32m      9\u001B[0m \u001B[0;34m\u001B[0m\u001B[0m\n\u001B[0;32m---> 10\u001B[0;31m \u001B[0my_pred\u001B[0m \u001B[0;34m=\u001B[0m \u001B[0mnb\u001B[0m\u001B[0;34m.\u001B[0m\u001B[0mpredict\u001B[0m\u001B[0;34m(\u001B[0m\u001B[0mX_val\u001B[0m\u001B[0;34m)\u001B[0m\u001B[0;34m\u001B[0m\u001B[0;34m\u001B[0m\u001B[0m\n\u001B[0m\u001B[1;32m     11\u001B[0m print(\n\u001B[1;32m     12\u001B[0m     \u001B[0mbin_metrics\u001B[0m\u001B[0;34m.\u001B[0m\u001B[0maccuracy_score\u001B[0m\u001B[0;34m(\u001B[0m\u001B[0my_true\u001B[0m\u001B[0;34m=\u001B[0m\u001B[0my_val\u001B[0m\u001B[0;34m,\u001B[0m \u001B[0my_pred\u001B[0m\u001B[0;34m=\u001B[0m\u001B[0my_pred\u001B[0m\u001B[0;34m)\u001B[0m\u001B[0;34m,\u001B[0m\u001B[0;34m\u001B[0m\u001B[0;34m\u001B[0m\u001B[0m\n",
      "\u001B[0;32m~/MachineLearning/text_analyzer/src/models/baselines/__init__.py\u001B[0m in \u001B[0;36mpredict\u001B[0;34m(self, test_feature_matrix)\u001B[0m\n\u001B[1;32m     92\u001B[0m                 \u001B[0mlikelihood\u001B[0m \u001B[0;34m=\u001B[0m \u001B[0mlog\u001B[0m\u001B[0;34m(\u001B[0m\u001B[0mself\u001B[0m\u001B[0;34m.\u001B[0m\u001B[0mclass_probability\u001B[0m\u001B[0;34m[\u001B[0m\u001B[0mlabel\u001B[0m\u001B[0;34m]\u001B[0m\u001B[0;34m)\u001B[0m  \u001B[0;31m# здесь - сумма логарифмов вероятностей для label\u001B[0m\u001B[0;34m\u001B[0m\u001B[0;34m\u001B[0m\u001B[0m\n\u001B[1;32m     93\u001B[0m                 \u001B[0mprobabilities\u001B[0m \u001B[0;34m=\u001B[0m \u001B[0;34m[\u001B[0m\u001B[0mself\u001B[0m\u001B[0;34m.\u001B[0m\u001B[0mclass_probability\u001B[0m\u001B[0;34m[\u001B[0m\u001B[0mlabel\u001B[0m\u001B[0;34m]\u001B[0m\u001B[0;34m]\u001B[0m\u001B[0;34m\u001B[0m\u001B[0;34m\u001B[0m\u001B[0m\n\u001B[0;32m---> 94\u001B[0;31m                 \u001B[0;32mfor\u001B[0m \u001B[0mfeature_ind\u001B[0m \u001B[0;32min\u001B[0m \u001B[0mrange\u001B[0m\u001B[0;34m(\u001B[0m\u001B[0mtest_feature_matrix\u001B[0m\u001B[0;34m.\u001B[0m\u001B[0mshape\u001B[0m\u001B[0;34m[\u001B[0m\u001B[0;36m1\u001B[0m\u001B[0;34m]\u001B[0m\u001B[0;34m)\u001B[0m\u001B[0;34m:\u001B[0m\u001B[0;34m\u001B[0m\u001B[0;34m\u001B[0m\u001B[0m\n\u001B[0m\u001B[1;32m     95\u001B[0m                     likelihood += log(self.distributions[label][feature_ind].get_proba(\n\u001B[1;32m     96\u001B[0m                         features[feature_ind]))\n",
      "\u001B[0;32m~/MachineLearning/text_analyzer/src/models/baselines/__init__.py\u001B[0m in \u001B[0;36mget_proba\u001B[0;34m(self, value)\u001B[0m\n\u001B[1;32m     46\u001B[0m             \u001B[0;32mif\u001B[0m \u001B[0mself\u001B[0m\u001B[0;34m.\u001B[0m\u001B[0mmode\u001B[0m \u001B[0;34m==\u001B[0m \u001B[0;34m'gaussian_kde'\u001B[0m\u001B[0;34m:\u001B[0m\u001B[0;34m\u001B[0m\u001B[0;34m\u001B[0m\u001B[0m\n\u001B[1;32m     47\u001B[0m                 \u001B[0;32mreturn\u001B[0m \u001B[0mself\u001B[0m\u001B[0;34m.\u001B[0m\u001B[0mdistribution\u001B[0m\u001B[0;34m.\u001B[0m\u001B[0mpdf\u001B[0m\u001B[0;34m(\u001B[0m\u001B[0mvalue\u001B[0m\u001B[0;34m)\u001B[0m\u001B[0;34m\u001B[0m\u001B[0;34m\u001B[0m\u001B[0m\n\u001B[0;32m---> 48\u001B[0;31m             \u001B[0mprint\u001B[0m\u001B[0;34m(\u001B[0m\u001B[0mvalue\u001B[0m\u001B[0;34m)\u001B[0m\u001B[0;34m\u001B[0m\u001B[0;34m\u001B[0m\u001B[0m\n\u001B[0m\u001B[1;32m     49\u001B[0m             \u001B[0;32mreturn\u001B[0m \u001B[0mself\u001B[0m\u001B[0;34m.\u001B[0m\u001B[0mdistribution\u001B[0m\u001B[0;34m[\u001B[0m\u001B[0mvalue\u001B[0m\u001B[0;34m]\u001B[0m\u001B[0;34m\u001B[0m\u001B[0;34m\u001B[0m\u001B[0m\n\u001B[1;32m     50\u001B[0m \u001B[0;34m\u001B[0m\u001B[0m\n",
      "\u001B[0;31mKeyError\u001B[0m: 1.0"
     ]
    }
   ],
   "source": [
    "#Naive Bayes\n",
    "from text_analyzer.src.models.baselines import NaiveBayesClassifier as NB\n",
    "# task.upload_artifact(name='train_data_preprocessed_for_NB', artifact_object='../../../static/datasets/modified/bin_classification/bayes_train.csv')\n",
    "# task.upload_artifact(name='train_data_preprocessed_for_NB', artifact_object='../../../static/datasets/modified/bin_classification/bayes_test.csv')\n",
    "# task.upload_artifact(name='train_data_preprocessed_for_NB', artifact_object='../../../static/datasets/modified/multi_classification/bayes_train.csv')\n",
    "# task.upload_artifact(name='train_data_preprocessed_for_NB', artifact_object='../../../static/datasets/modified/multi_classification/bayes_test.csv')\n",
    "\n",
    "nb = NB(mode='cat_features')\n",
    "X_train, y_train = pd.read_csv(path + folders['bin'] + 'bayes_train.csv'), pd.read_csv(path + folders['bin'] + 'bayes_test.csv')\n",
    "nb.fit(X_train, y_train)\n",
    "\n",
    "X_val, y_val = X_train, y_train\n",
    "\n",
    "y_pred = nb.predict(X_val)\n",
    "print(\n",
    "    bin_metrics.accuracy_score(y_true=y_val, y_pred=y_pred),\n",
    "    bin_metrics.recall_score(y_true=y_val, y_pred=y_pred),\n",
    "    bin_metrics.precision_score(y_true=y_val, y_pred=y_pred),\n",
    ")\n",
    "\n",
    "nb = NB(mode='cat_features')\n",
    "X_train, y_train = pd.read_csv(path + folders['multi'] + 'bayes_train.csv'), pd.read_csv(path + folders['multi'] + 'bayes_test.csv')\n",
    "nb.fit(X_train, y_train)\n",
    "\n",
    "X_val, y_val = X_train, y_train\n",
    "\n",
    "y_pred = nb.predict(X_val)\n",
    "print(\n",
    "    multi_metrics.accuracy_score(y_true=y_val, y_pred=y_pred),\n",
    "    multi_metrics.recall_score(y_true=y_val, y_pred=y_pred),\n",
    "    multi_metrics.precision_score(y_true=y_val, y_pred=y_pred),\n",
    ")\n",
    "\n"
   ],
   "metadata": {
    "collapsed": false,
    "ExecuteTime": {
     "start_time": "2023-04-10T21:58:08.472121Z",
     "end_time": "2023-04-10T21:58:09.410353Z"
    }
   }
  },
  {
   "cell_type": "code",
   "execution_count": 3,
   "outputs": [
    {
     "name": "stdout",
     "output_type": "stream",
     "text": [
      "0.49999999999999895\n"
     ]
    },
    {
     "ename": "ValueError",
     "evalue": "y should be a 1d array, got an array of shape (800, 2) instead.",
     "output_type": "error",
     "traceback": [
      "\u001B[0;31m---------------------------------------------------------------------------\u001B[0m",
      "\u001B[0;31mValueError\u001B[0m                                Traceback (most recent call last)",
      "\u001B[0;32m/tmp/ipykernel_19924/4104888587.py\u001B[0m in \u001B[0;36m<module>\u001B[0;34m\u001B[0m\n\u001B[1;32m     13\u001B[0m \u001B[0my_proba\u001B[0m \u001B[0;34m=\u001B[0m \u001B[0mlogreg\u001B[0m\u001B[0;34m.\u001B[0m\u001B[0mpredict_proba\u001B[0m\u001B[0;34m(\u001B[0m\u001B[0mX_val\u001B[0m\u001B[0;34m)\u001B[0m\u001B[0;34m\u001B[0m\u001B[0;34m\u001B[0m\u001B[0m\n\u001B[1;32m     14\u001B[0m \u001B[0mprint\u001B[0m\u001B[0;34m(\u001B[0m\u001B[0mbin_metrics\u001B[0m\u001B[0;34m.\u001B[0m\u001B[0mroc_auc_score\u001B[0m\u001B[0;34m(\u001B[0m\u001B[0my_true\u001B[0m\u001B[0;34m=\u001B[0m\u001B[0my_val\u001B[0m\u001B[0;34m,\u001B[0m \u001B[0my_proba\u001B[0m\u001B[0;34m=\u001B[0m\u001B[0my_proba\u001B[0m\u001B[0;34m)\u001B[0m\u001B[0;34m)\u001B[0m\u001B[0;34m\u001B[0m\u001B[0;34m\u001B[0m\u001B[0m\n\u001B[0;32m---> 15\u001B[0;31m \u001B[0mprint\u001B[0m\u001B[0;34m(\u001B[0m\u001B[0mmetrics\u001B[0m\u001B[0;34m.\u001B[0m\u001B[0mroc_auc_score\u001B[0m\u001B[0;34m(\u001B[0m\u001B[0my_true\u001B[0m\u001B[0;34m=\u001B[0m\u001B[0my_val\u001B[0m\u001B[0;34m,\u001B[0m \u001B[0my_score\u001B[0m\u001B[0;34m=\u001B[0m\u001B[0my_proba\u001B[0m\u001B[0;34m)\u001B[0m\u001B[0;34m)\u001B[0m\u001B[0;34m\u001B[0m\u001B[0;34m\u001B[0m\u001B[0m\n\u001B[0m\u001B[1;32m     16\u001B[0m \u001B[0my_pred\u001B[0m \u001B[0;34m=\u001B[0m \u001B[0mlogreg\u001B[0m\u001B[0;34m.\u001B[0m\u001B[0mpredict\u001B[0m\u001B[0;34m(\u001B[0m\u001B[0mX_val\u001B[0m\u001B[0;34m)\u001B[0m\u001B[0;34m\u001B[0m\u001B[0;34m\u001B[0m\u001B[0m\n\u001B[1;32m     17\u001B[0m print(\n",
      "\u001B[0;32m~/anaconda3/lib/python3.9/site-packages/sklearn/metrics/_ranking.py\u001B[0m in \u001B[0;36mroc_auc_score\u001B[0;34m(y_true, y_score, average, sample_weight, max_fpr, multi_class, labels)\u001B[0m\n\u001B[1;32m    565\u001B[0m         \u001B[0mlabels\u001B[0m \u001B[0;34m=\u001B[0m \u001B[0mnp\u001B[0m\u001B[0;34m.\u001B[0m\u001B[0munique\u001B[0m\u001B[0;34m(\u001B[0m\u001B[0my_true\u001B[0m\u001B[0;34m)\u001B[0m\u001B[0;34m\u001B[0m\u001B[0;34m\u001B[0m\u001B[0m\n\u001B[1;32m    566\u001B[0m         \u001B[0my_true\u001B[0m \u001B[0;34m=\u001B[0m \u001B[0mlabel_binarize\u001B[0m\u001B[0;34m(\u001B[0m\u001B[0my_true\u001B[0m\u001B[0;34m,\u001B[0m \u001B[0mclasses\u001B[0m\u001B[0;34m=\u001B[0m\u001B[0mlabels\u001B[0m\u001B[0;34m)\u001B[0m\u001B[0;34m[\u001B[0m\u001B[0;34m:\u001B[0m\u001B[0;34m,\u001B[0m \u001B[0;36m0\u001B[0m\u001B[0;34m]\u001B[0m\u001B[0;34m\u001B[0m\u001B[0;34m\u001B[0m\u001B[0m\n\u001B[0;32m--> 567\u001B[0;31m         return _average_binary_score(\n\u001B[0m\u001B[1;32m    568\u001B[0m             \u001B[0mpartial\u001B[0m\u001B[0;34m(\u001B[0m\u001B[0m_binary_roc_auc_score\u001B[0m\u001B[0;34m,\u001B[0m \u001B[0mmax_fpr\u001B[0m\u001B[0;34m=\u001B[0m\u001B[0mmax_fpr\u001B[0m\u001B[0;34m)\u001B[0m\u001B[0;34m,\u001B[0m\u001B[0;34m\u001B[0m\u001B[0;34m\u001B[0m\u001B[0m\n\u001B[1;32m    569\u001B[0m             \u001B[0my_true\u001B[0m\u001B[0;34m,\u001B[0m\u001B[0;34m\u001B[0m\u001B[0;34m\u001B[0m\u001B[0m\n",
      "\u001B[0;32m~/anaconda3/lib/python3.9/site-packages/sklearn/metrics/_base.py\u001B[0m in \u001B[0;36m_average_binary_score\u001B[0;34m(binary_metric, y_true, y_score, average, sample_weight)\u001B[0m\n\u001B[1;32m     73\u001B[0m \u001B[0;34m\u001B[0m\u001B[0m\n\u001B[1;32m     74\u001B[0m     \u001B[0;32mif\u001B[0m \u001B[0my_type\u001B[0m \u001B[0;34m==\u001B[0m \u001B[0;34m\"binary\"\u001B[0m\u001B[0;34m:\u001B[0m\u001B[0;34m\u001B[0m\u001B[0;34m\u001B[0m\u001B[0m\n\u001B[0;32m---> 75\u001B[0;31m         \u001B[0;32mreturn\u001B[0m \u001B[0mbinary_metric\u001B[0m\u001B[0;34m(\u001B[0m\u001B[0my_true\u001B[0m\u001B[0;34m,\u001B[0m \u001B[0my_score\u001B[0m\u001B[0;34m,\u001B[0m \u001B[0msample_weight\u001B[0m\u001B[0;34m=\u001B[0m\u001B[0msample_weight\u001B[0m\u001B[0;34m)\u001B[0m\u001B[0;34m\u001B[0m\u001B[0;34m\u001B[0m\u001B[0m\n\u001B[0m\u001B[1;32m     76\u001B[0m \u001B[0;34m\u001B[0m\u001B[0m\n\u001B[1;32m     77\u001B[0m     \u001B[0mcheck_consistent_length\u001B[0m\u001B[0;34m(\u001B[0m\u001B[0my_true\u001B[0m\u001B[0;34m,\u001B[0m \u001B[0my_score\u001B[0m\u001B[0;34m,\u001B[0m \u001B[0msample_weight\u001B[0m\u001B[0;34m)\u001B[0m\u001B[0;34m\u001B[0m\u001B[0;34m\u001B[0m\u001B[0m\n",
      "\u001B[0;32m~/anaconda3/lib/python3.9/site-packages/sklearn/metrics/_ranking.py\u001B[0m in \u001B[0;36m_binary_roc_auc_score\u001B[0;34m(y_true, y_score, sample_weight, max_fpr)\u001B[0m\n\u001B[1;32m    340\u001B[0m         )\n\u001B[1;32m    341\u001B[0m \u001B[0;34m\u001B[0m\u001B[0m\n\u001B[0;32m--> 342\u001B[0;31m     \u001B[0mfpr\u001B[0m\u001B[0;34m,\u001B[0m \u001B[0mtpr\u001B[0m\u001B[0;34m,\u001B[0m \u001B[0m_\u001B[0m \u001B[0;34m=\u001B[0m \u001B[0mroc_curve\u001B[0m\u001B[0;34m(\u001B[0m\u001B[0my_true\u001B[0m\u001B[0;34m,\u001B[0m \u001B[0my_score\u001B[0m\u001B[0;34m,\u001B[0m \u001B[0msample_weight\u001B[0m\u001B[0;34m=\u001B[0m\u001B[0msample_weight\u001B[0m\u001B[0;34m)\u001B[0m\u001B[0;34m\u001B[0m\u001B[0;34m\u001B[0m\u001B[0m\n\u001B[0m\u001B[1;32m    343\u001B[0m     \u001B[0;32mif\u001B[0m \u001B[0mmax_fpr\u001B[0m \u001B[0;32mis\u001B[0m \u001B[0;32mNone\u001B[0m \u001B[0;32mor\u001B[0m \u001B[0mmax_fpr\u001B[0m \u001B[0;34m==\u001B[0m \u001B[0;36m1\u001B[0m\u001B[0;34m:\u001B[0m\u001B[0;34m\u001B[0m\u001B[0;34m\u001B[0m\u001B[0m\n\u001B[1;32m    344\u001B[0m         \u001B[0;32mreturn\u001B[0m \u001B[0mauc\u001B[0m\u001B[0;34m(\u001B[0m\u001B[0mfpr\u001B[0m\u001B[0;34m,\u001B[0m \u001B[0mtpr\u001B[0m\u001B[0;34m)\u001B[0m\u001B[0;34m\u001B[0m\u001B[0;34m\u001B[0m\u001B[0m\n",
      "\u001B[0;32m~/anaconda3/lib/python3.9/site-packages/sklearn/metrics/_ranking.py\u001B[0m in \u001B[0;36mroc_curve\u001B[0;34m(y_true, y_score, pos_label, sample_weight, drop_intermediate)\u001B[0m\n\u001B[1;32m    960\u001B[0m \u001B[0;34m\u001B[0m\u001B[0m\n\u001B[1;32m    961\u001B[0m     \"\"\"\n\u001B[0;32m--> 962\u001B[0;31m     fps, tps, thresholds = _binary_clf_curve(\n\u001B[0m\u001B[1;32m    963\u001B[0m         \u001B[0my_true\u001B[0m\u001B[0;34m,\u001B[0m \u001B[0my_score\u001B[0m\u001B[0;34m,\u001B[0m \u001B[0mpos_label\u001B[0m\u001B[0;34m=\u001B[0m\u001B[0mpos_label\u001B[0m\u001B[0;34m,\u001B[0m \u001B[0msample_weight\u001B[0m\u001B[0;34m=\u001B[0m\u001B[0msample_weight\u001B[0m\u001B[0;34m\u001B[0m\u001B[0;34m\u001B[0m\u001B[0m\n\u001B[1;32m    964\u001B[0m     )\n",
      "\u001B[0;32m~/anaconda3/lib/python3.9/site-packages/sklearn/metrics/_ranking.py\u001B[0m in \u001B[0;36m_binary_clf_curve\u001B[0;34m(y_true, y_score, pos_label, sample_weight)\u001B[0m\n\u001B[1;32m    733\u001B[0m     \u001B[0mcheck_consistent_length\u001B[0m\u001B[0;34m(\u001B[0m\u001B[0my_true\u001B[0m\u001B[0;34m,\u001B[0m \u001B[0my_score\u001B[0m\u001B[0;34m,\u001B[0m \u001B[0msample_weight\u001B[0m\u001B[0;34m)\u001B[0m\u001B[0;34m\u001B[0m\u001B[0;34m\u001B[0m\u001B[0m\n\u001B[1;32m    734\u001B[0m     \u001B[0my_true\u001B[0m \u001B[0;34m=\u001B[0m \u001B[0mcolumn_or_1d\u001B[0m\u001B[0;34m(\u001B[0m\u001B[0my_true\u001B[0m\u001B[0;34m)\u001B[0m\u001B[0;34m\u001B[0m\u001B[0;34m\u001B[0m\u001B[0m\n\u001B[0;32m--> 735\u001B[0;31m     \u001B[0my_score\u001B[0m \u001B[0;34m=\u001B[0m \u001B[0mcolumn_or_1d\u001B[0m\u001B[0;34m(\u001B[0m\u001B[0my_score\u001B[0m\u001B[0;34m)\u001B[0m\u001B[0;34m\u001B[0m\u001B[0;34m\u001B[0m\u001B[0m\n\u001B[0m\u001B[1;32m    736\u001B[0m     \u001B[0massert_all_finite\u001B[0m\u001B[0;34m(\u001B[0m\u001B[0my_true\u001B[0m\u001B[0;34m)\u001B[0m\u001B[0;34m\u001B[0m\u001B[0;34m\u001B[0m\u001B[0m\n\u001B[1;32m    737\u001B[0m     \u001B[0massert_all_finite\u001B[0m\u001B[0;34m(\u001B[0m\u001B[0my_score\u001B[0m\u001B[0;34m)\u001B[0m\u001B[0;34m\u001B[0m\u001B[0;34m\u001B[0m\u001B[0m\n",
      "\u001B[0;32m~/anaconda3/lib/python3.9/site-packages/sklearn/utils/validation.py\u001B[0m in \u001B[0;36mcolumn_or_1d\u001B[0;34m(y, warn)\u001B[0m\n\u001B[1;32m   1036\u001B[0m         \u001B[0;32mreturn\u001B[0m \u001B[0mnp\u001B[0m\u001B[0;34m.\u001B[0m\u001B[0mravel\u001B[0m\u001B[0;34m(\u001B[0m\u001B[0my\u001B[0m\u001B[0;34m)\u001B[0m\u001B[0;34m\u001B[0m\u001B[0;34m\u001B[0m\u001B[0m\n\u001B[1;32m   1037\u001B[0m \u001B[0;34m\u001B[0m\u001B[0m\n\u001B[0;32m-> 1038\u001B[0;31m     raise ValueError(\n\u001B[0m\u001B[1;32m   1039\u001B[0m         \u001B[0;34m\"y should be a 1d array, got an array of shape {} instead.\"\u001B[0m\u001B[0;34m.\u001B[0m\u001B[0mformat\u001B[0m\u001B[0;34m(\u001B[0m\u001B[0mshape\u001B[0m\u001B[0;34m)\u001B[0m\u001B[0;34m\u001B[0m\u001B[0;34m\u001B[0m\u001B[0m\n\u001B[1;32m   1040\u001B[0m     )\n",
      "\u001B[0;31mValueError\u001B[0m: y should be a 1d array, got an array of shape (800, 2) instead."
     ]
    }
   ],
   "source": [
    "from sklearn.linear_model import LogisticRegression\n",
    "from sklearn import metrics\n",
    "# task.upload_artifact(name='bin_train_data_preprocessed_for_LogReg', artifact_object='../../../static/embeddings/bin_average_train.csv')\n",
    "# task.upload_artifact(name='bin_val_data_preprocessed_for_LogReg', artifact_object='../../../static/embeddings/bin_average_val.csv')\n",
    "# task.upload_artifact(name='multi_train_data_preprocessed_for_LogReg', artifact_object='../../../static/embeddings/multi_average_train.csv')\n",
    "# task.upload_artifact(name='multi_val_data_preprocessed_for_LogReg', artifact_object='../../../static/embeddings/multi_average_val.csv')\n",
    "\n",
    "#Binary\n",
    "logreg = LogisticRegression(C=2, penalty='l2', solver='saga')\n",
    "train_data = pd.read_csv('../../static/embeddings/bin_average_train.csv')\n",
    "X_train, y_train = train_data.iloc[:, :-1], train_data.label\n",
    "logreg.fit(X_train, y_train)\n",
    "\n",
    "val_data = pd.read_csv('../../static/embeddings/bin_average_val.csv')\n",
    "X_val, y_val = val_data.iloc[:, :-1], val_data.label\n",
    "\n",
    "y_proba = logreg.predict_proba(X_val)\n",
    "print(bin_metrics.roc_auc_score(y_true=y_val, y_proba=y_proba))\n",
    "print(metrics.roc_auc_score(y_true=y_val, y_score=y_proba))\n",
    "y_pred = logreg.predict(X_val)\n",
    "print(\n",
    "    multi_metrics.accuracy_score(y_true=y_val, y_pred=y_pred),\n",
    "    multi_metrics.recall_score(y_true=y_val, y_pred=y_pred),\n",
    "    multi_metrics.precision_score(y_true=y_val, y_pred=y_pred),\n",
    ")\n",
    "\n",
    "#Multiclass\n",
    "train_data = pd.read_csv('../../static/embeddings/multi_average_train.csv')\n",
    "X_train, y_train = train_data.iloc[:, :-1], train_data.label\n",
    "\n",
    "val_data = pd.read_csv('../../static/embeddings/multi_average_val.csv')\n",
    "X_val, y_val = val_data.iloc[:, :-1], val_data.label\n",
    "\n",
    "strategies = [\"one-vs-all\", \"all-vs-all\"]\n",
    "for strategy in strategies:\n",
    "    multi_clf = MulticlassClassifier(LogisticRegression, strategy)\n",
    "    multi_clf.fit(X_train, y_train, target_name='label')\n",
    "    y_pred = multi_clf.predict(X_val)\n",
    "    print(\n",
    "        multi_metrics.accuracy_score(y_true=y_val, y_pred=y_pred),\n",
    "        multi_metrics.recall_score(y_true=y_val, y_pred=y_pred),\n",
    "        multi_metrics.precision_score(y_true=y_val, y_pred=y_pred),\n",
    "    )"
   ],
   "metadata": {
    "collapsed": false,
    "ExecuteTime": {
     "start_time": "2023-04-10T23:01:26.029199Z",
     "end_time": "2023-04-10T23:01:42.883311Z"
    }
   }
  },
  {
   "cell_type": "code",
   "execution_count": null,
   "outputs": [],
   "source": [],
   "metadata": {
    "collapsed": false
   }
  },
  {
   "cell_type": "code",
   "execution_count": null,
   "id": "cdfda508",
   "metadata": {},
   "outputs": [],
   "source": [
    "# task.close()"
   ]
  }
 ],
 "metadata": {
  "kernelspec": {
   "display_name": "Python 3 (ipykernel)",
   "language": "python",
   "name": "python3"
  },
  "language_info": {
   "codemirror_mode": {
    "name": "ipython",
    "version": 3
   },
   "file_extension": ".py",
   "mimetype": "text/x-python",
   "name": "python",
   "nbconvert_exporter": "python",
   "pygments_lexer": "ipython3",
   "version": "3.9.13"
  }
 },
 "nbformat": 4,
 "nbformat_minor": 5
}
