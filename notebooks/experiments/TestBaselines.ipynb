{
 "cells": [
  {
   "cell_type": "code",
   "execution_count": 1,
   "id": "fc8f351a",
   "metadata": {
    "ExecuteTime": {
     "start_time": "2023-04-12T14:10:07.435511Z",
     "end_time": "2023-04-12T14:10:07.435893Z"
    }
   },
   "outputs": [],
   "source": [
    "import sys\n",
    "sys.path.append('../..')"
   ]
  },
  {
   "cell_type": "code",
   "execution_count": 2,
   "id": "e019d72b",
   "metadata": {
    "ExecuteTime": {
     "start_time": "2023-04-12T14:10:07.435570Z",
     "end_time": "2023-04-12T14:10:09.132286Z"
    }
   },
   "outputs": [],
   "source": [
    "import pandas as pd\n",
    "import numpy as np\n",
    "import matplotlib.pyplot as plt\n",
    "\n",
    "from src.metrics import binary_classification as bin_metrics\n",
    "from src.metrics import multiclass_classification as multi_metrics\n",
    "from src.models.baselines import MulticlassClassifier"
   ]
  },
  {
   "cell_type": "code",
   "execution_count": 3,
   "id": "1517f6a6",
   "metadata": {
    "collapsed": false,
    "ExecuteTime": {
     "start_time": "2023-04-12T14:10:09.175526Z",
     "end_time": "2023-04-12T14:10:09.175744Z"
    }
   },
   "outputs": [],
   "source": [
    "# %env CLEARML_WEB_HOST=https://app.clear.ml\n",
    "# %env CLEARML_API_HOST=https://api.clear.ml\n",
    "# %env CLEARML_FILES_HOST=https://files.clear.ml\n",
    "# %env CLEARML_API_ACCESS_KEY=VT1X7EH5UU1REKI7T44X\n",
    "# %env CLEARML_API_SECRET_KEY=NHZDqveny2UDyuTvhVADxwUOAgp2mVv3wyipHnKkCc42hiaJog"
   ]
  },
  {
   "cell_type": "code",
   "execution_count": 4,
   "id": "15b6c75e",
   "metadata": {
    "collapsed": false,
    "ExecuteTime": {
     "start_time": "2023-04-12T14:10:09.175594Z",
     "end_time": "2023-04-12T14:10:09.175936Z"
    }
   },
   "outputs": [],
   "source": [
    "# from clearml import Task, Logger"
   ]
  },
  {
   "cell_type": "code",
   "execution_count": 5,
   "id": "1d409dd3",
   "metadata": {
    "collapsed": false,
    "ExecuteTime": {
     "start_time": "2023-04-12T14:10:09.175628Z",
     "end_time": "2023-04-12T14:10:09.176002Z"
    }
   },
   "outputs": [],
   "source": [
    "# task = Task.init(\n",
    "#     project_name='tonality analysis',\n",
    "#     task_name='TestBaselines',\n",
    "#     tags=['NaiveBayesClassifier', 'DummyClassifier', 'LogisticRegression'])"
   ]
  },
  {
   "cell_type": "code",
   "execution_count": 6,
   "id": "60db92af",
   "metadata": {
    "ExecuteTime": {
     "start_time": "2023-04-12T14:10:09.175655Z",
     "end_time": "2023-04-12T14:10:09.176082Z"
    }
   },
   "outputs": [],
   "source": [
    "path = '../../static/datasets/modified/'\n",
    "folders = {'bin' : 'bin_classification/', 'multi' : 'multi_classification/'}"
   ]
  },
  {
   "cell_type": "code",
   "execution_count": 7,
   "id": "",
   "metadata": {
    "ExecuteTime": {
     "start_time": "2023-04-12T14:10:09.175684Z",
     "end_time": "2023-04-12T14:10:09.228670Z"
    }
   },
   "outputs": [
    {
     "name": "stdout",
     "output_type": "stream",
     "text": [
      "0.49 0.44751381215469616 0.43783783783783786\n",
      "0.6967779730521383 0.5553264604810997 0.5553264604810997\n"
     ]
    }
   ],
   "source": [
    "#Dummy Classifier\n",
    "from src.models.baselines import DummyClassifier as Dummy_clf\n",
    "# task.upload_artifact(name='train_data_preprocessed_for_Dummy', artifact_object='../../../static/datasets/modified/bin_classification/train_data.csv')\n",
    "# task.upload_artifact(name='val_data_preprocessed_for_Dummy', artifact_object='../../../static/datasets/modified/bin_classification/validation__test.csv')\n",
    "\n",
    "dummy = Dummy_clf()\n",
    "train_data = pd.read_csv(path + folders['bin'] + 'train_data.csv')\n",
    "X_train, y_train = train_data.iloc[:, :-1], train_data.label\n",
    "dummy.fit(X_train, y_train)\n",
    "\n",
    "val_data = pd.read_csv(path + folders['bin'] + 'validation_data.csv')\n",
    "X_val, y_val = val_data.iloc[:, :-1], val_data.label\n",
    "\n",
    "y_pred = dummy.predict(X_val)\n",
    "print(\n",
    "    bin_metrics.accuracy_score(y_true=y_val, y_pred=y_pred),\n",
    "    bin_metrics.recall_score(y_true=y_val, y_pred=y_pred),\n",
    "    bin_metrics.precision_score(y_true=y_val, y_pred=y_pred),\n",
    ")\n",
    "\n",
    "\n",
    "dummy = Dummy_clf()\n",
    "train_data = pd.read_csv(path + folders['multi'] + 'train_data.csv')\n",
    "X_train, y_train = train_data.iloc[:, :-1], train_data.label\n",
    "dummy.fit(X_train, y_train)\n",
    "\n",
    "val_data = pd.read_csv(path + folders['multi'] + 'validation_data.csv')\n",
    "X_val, y_val = val_data.iloc[:, :-1], val_data.label\n",
    "\n",
    "y_pred = dummy.predict(X_val)\n",
    "print(\n",
    "    multi_metrics.accuracy_score(y_true=y_val, y_pred=y_pred),\n",
    "    multi_metrics.recall_score(y_true=y_val, y_pred=y_pred),\n",
    "    multi_metrics.precision_score(y_true=y_val, y_pred=y_pred)\n",
    ")"
   ]
  },
  {
   "cell_type": "code",
   "execution_count": null,
   "id": "1cd4554b",
   "metadata": {
    "ExecuteTime": {
     "start_time": "2023-04-12T14:10:09.234924Z",
     "end_time": "2023-04-12T14:19:51.605732Z"
    }
   },
   "outputs": [],
   "source": [
    "#Naive Bayes\n",
    "from src.models.baselines import NaiveBayesClassifier as NB\n",
    "from sklearn import metrics\n",
    "\n",
    "nb = NB(mode='cat_features')\n",
    "\n",
    "train_data = pd.read_csv(path + folders['bin'] + 'bayes_train.csv')\n",
    "X_train, y_train = train_data.iloc[:, :-1], train_data.label\n",
    "\n",
    "nb.fit(X_train, y_train)\n",
    "\n",
    "val_data = pd.read_csv(path + folders['bin'] + 'bayes_val.csv')\n",
    "X_val, y_val = val_data.iloc[:, :-1], val_data.label.values.tolist()\n",
    "\n",
    "y_pred = nb.predict(X_val)\n",
    "print(\n",
    "    multi_metrics.accuracy_score(y_true=y_val, y_pred=y_pred),\n",
    "    multi_metrics.recall_score(y_true=y_val, y_pred=y_pred, average='macro'),\n",
    "    multi_metrics.precision_score(y_true=y_val, y_pred=y_pred, average='macro'),\n",
    ")\n",
    "\n",
    "nb = NB(mode='cat_features')\n",
    "\n",
    "train_data = pd.read_csv(path + folders['multi'] + 'bayes_train.csv')\n",
    "X_train, y_train = train_data.iloc[:, :-1], train_data.label\n",
    "\n",
    "nb.fit(X_train, y_train)\n",
    "\n",
    "val_data = pd.read_csv(path + folders['multi'] + 'bayes_val.csv')\n",
    "X_val, y_val = val_data.iloc[:, :-1], val_data.label.values.tolist()\n",
    "\n",
    "X_val, y_val = X_train, y_train.values.tolist()\n",
    "\n",
    "y_pred = nb.predict(X_val)\n",
    "print(\n",
    "    multi_metrics.accuracy_score(y_true=y_val, y_pred=y_pred),\n",
    "    multi_metrics.recall_score(y_true=y_val, y_pred=y_pred, average='macro'),\n",
    "    multi_metrics.precision_score(y_true=y_val, y_pred=y_pred, average='macro'),\n",
    ")\n"
   ]
  },
  {
   "cell_type": "code",
   "execution_count": 9,
   "id": "f7d19805",
   "metadata": {
    "ExecuteTime": {
     "start_time": "2023-04-12T14:19:51.605506Z",
     "end_time": "2023-04-12T14:19:53.142286Z"
    }
   },
   "outputs": [
    {
     "name": "stdout",
     "output_type": "stream",
     "text": [
      "0.74875 0.6988950276243094 0.7333333333333333\n",
      "0.7923842999414177 0.6927877947295423 0.6927877947295423\n",
      "0.7994141769185706 0.7060439560439561 0.7060439560439561\n"
     ]
    }
   ],
   "source": [
    "from sklearn.linear_model import LogisticRegression\n",
    "\n",
    "#Binary\n",
    "logreg = LogisticRegression(C=2, penalty='l2', solver='saga')\n",
    "train_data = pd.read_csv('../../static/embeddings/bin_average_train.csv')\n",
    "X_train, y_train = train_data.iloc[:, :-1], train_data.label\n",
    "logreg.fit(X_train, y_train)\n",
    "\n",
    "val_data = pd.read_csv('../../static/embeddings/bin_average_val.csv')\n",
    "X_val, y_val = val_data.iloc[:, :-1], val_data.label\n",
    "\n",
    "y_proba = logreg.predict_proba(X_val)\n",
    "y_pred = logreg.predict(X_val)\n",
    "print(\n",
    "    bin_metrics.accuracy_score(y_true=y_val, y_pred=y_pred),\n",
    "    bin_metrics.recall_score(y_true=y_val, y_pred=y_pred),\n",
    "    bin_metrics.precision_score(y_true=y_val, y_pred=y_pred),\n",
    ")\n",
    "\n",
    "#Multiclass\n",
    "train_data = pd.read_csv('../../static/embeddings/multi_average_train.csv')\n",
    "X_train, y_train = train_data.iloc[:, :-1], train_data.label\n",
    "\n",
    "val_data = pd.read_csv('../../static/embeddings/multi_average_val.csv')\n",
    "X_val, y_val = val_data.iloc[:, :-1], val_data.label\n",
    "\n",
    "strategies = [\"one-vs-all\", \"all-vs-all\"]\n",
    "for strategy in strategies:\n",
    "    multi_clf = MulticlassClassifier(LogisticRegression, strategy)\n",
    "    multi_clf.fit(X_train, y_train, target_name='label')\n",
    "    y_pred = multi_clf.predict(X_val)\n",
    "    print(\n",
    "        multi_metrics.accuracy_score(y_true=y_val, y_pred=y_pred),\n",
    "        multi_metrics.recall_score(y_true=y_val, y_pred=y_pred),\n",
    "        multi_metrics.precision_score(y_true=y_val, y_pred=y_pred)\n",
    "    )"
   ]
  },
  {
   "cell_type": "code",
   "execution_count": null,
   "id": "cdfda508",
   "metadata": {},
   "outputs": [],
   "source": [
    "# task.close()"
   ]
  },
  {
   "cell_type": "code",
   "execution_count": null,
   "outputs": [],
   "source": [],
   "metadata": {
    "collapsed": false
   }
  }
 ],
 "metadata": {
  "kernelspec": {
   "display_name": "Python 3 (ipykernel)",
   "language": "python",
   "name": "python3"
  },
  "language_info": {
   "codemirror_mode": {
    "name": "ipython",
    "version": 3
   },
   "file_extension": ".py",
   "mimetype": "text/x-python",
   "name": "python",
   "nbconvert_exporter": "python",
   "pygments_lexer": "ipython3",
   "version": "3.9.13"
  }
 },
 "nbformat": 4,
 "nbformat_minor": 5
}
