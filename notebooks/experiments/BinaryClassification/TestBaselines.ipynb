{
 "cells": [
  {
   "cell_type": "code",
   "execution_count": 1,
   "id": "e019d72b",
   "metadata": {},
   "outputs": [],
   "source": [
    "import pandas as pd\n",
    "import numpy as np\n",
    "import matplotlib.pyplot as plt\n",
    "#import text_analyzer.src.metrics.binary_classification as metrics\n",
    "from sklearn import metrics as sk_metrics\n",
    "import sys\n",
    "sys.path.append('..')"
   ]
  },
  {
   "cell_type": "code",
   "execution_count": 2,
   "outputs": [],
   "source": [
    "path = '../../../static/datasets/modified/'\n",
    "folders = {'bin' : 'bin_classification/', 'multi' : 'multi_classification/'}\n",
    "\n",
    "train = 'bayes_train.csv'\n",
    "test = 'bayes_test.csv'"
   ],
   "metadata": {
    "collapsed": false
   }
  },
  {
   "cell_type": "code",
   "execution_count": 3,
   "id": "ad7afa78",
   "metadata": {},
   "outputs": [],
   "source": [
    "X_train = pd.read_csv(path + folders['bin'] + train)\n",
    "y_train = pd.read_csv(path + folders['bin'] + test)"
   ]
  },
  {
   "cell_type": "code",
   "execution_count": 4,
   "id": "60cd6078",
   "metadata": {},
   "outputs": [],
   "source": [
    "from text_analyzer.src.models.baselines import NaiveBayesClassifier as NB_clf\n",
    "from text_analyzer.src.models.baselines import DummyClassifier as Dummy_clf"
   ]
  },
  {
   "cell_type": "code",
   "execution_count": 5,
   "outputs": [],
   "source": [
    "nb_clf = NB_clf()\n",
    "dummy_clf = Dummy_clf()"
   ],
   "metadata": {
    "collapsed": false
   }
  },
  {
   "cell_type": "code",
   "execution_count": 6,
   "outputs": [],
   "source": [
    "nb_clf.fit(X_train, y_train)\n",
    "dummy_clf.fit(X_train, y_train)"
   ],
   "metadata": {
    "collapsed": false
   }
  },
  {
   "cell_type": "code",
   "execution_count": null,
   "outputs": [],
   "source": [
    "y_pred_nb = nb_clf.predict(X_train)\n",
    "y_pred_dummy = dummy_clf.predict(X_train)\n",
    "list(map(int, y_pred_nb))\n",
    "list(map(int, y_pred_dummy))"
   ],
   "metadata": {
    "collapsed": false
   }
  },
  {
   "cell_type": "code",
   "execution_count": null,
   "outputs": [],
   "source": [
    "sk_metrics.accuracy_score(y_true=y_train, y_pred=y_pred_nb)\n",
    "sk_metrics.accuracy_score(y_true=y_train, y_pred=y_pred_dummy)"
   ],
   "metadata": {
    "collapsed": false
   }
  },
  {
   "cell_type": "code",
   "execution_count": null,
   "outputs": [],
   "source": [
    "# %env CLEARML_WEB_HOST=https://app.clear.ml\n",
    "# %env CLEARML_API_HOST=https://api.clear.ml\n",
    "# %env CLEARML_FILES_HOST=https://files.clear.ml\n",
    "# %env CLEARML_API_ACCESS_KEY=VT1X7EH5UU1REKI7T44X\n",
    "# %env CLEARML_API_SECRET_KEY=NHZDqveny2UDyuTvhVADxwUOAgp2mVv3wyipHnKkCc42hiaJog"
   ],
   "metadata": {
    "collapsed": false
   }
  },
  {
   "cell_type": "code",
   "execution_count": null,
   "outputs": [],
   "source": [
    "# from clearml import Task, Logger"
   ],
   "metadata": {
    "collapsed": false
   }
  },
  {
   "cell_type": "code",
   "execution_count": null,
   "outputs": [],
   "source": [
    "# task = Task.init(\n",
    "#     project_name='tonality analysis',\n",
    "#     task_name='TestBaselines',\n",
    "#     tags=['NaiveBayesClassifier', 'DummyClassifier'])"
   ],
   "metadata": {
    "collapsed": false
   }
  },
  {
   "cell_type": "code",
   "execution_count": null,
   "outputs": [],
   "source": [
    "# task.upload_artifact(name='train_data_preprocessed_for_NB', artifact_object='../../../static/datasets/modified/bin_classification/bayes_train.csv')\n",
    "# task.upload_artifact(name='test_data_preprocessed_for_NB', artifact_object='../../../static/datasets/modified/bin_classification/bayes_test.csv')"
   ],
   "metadata": {
    "collapsed": false
   }
  },
  {
   "cell_type": "code",
   "execution_count": null,
   "outputs": [],
   "source": [
    "# task.close()"
   ],
   "metadata": {
    "collapsed": false
   }
  },
  {
   "cell_type": "code",
   "execution_count": 5,
   "outputs": [],
   "source": [
    "from text_analyzer.src.models.baselines import MulticlassClassifier"
   ],
   "metadata": {
    "collapsed": false
   }
  },
  {
   "cell_type": "code",
   "execution_count": 10,
   "outputs": [],
   "source": [
    "data = pd.read_csv(path + folders['multi'] + 'train_data.csv')\n",
    "data.dropna(inplace=True)"
   ],
   "metadata": {
    "collapsed": false
   }
  },
  {
   "cell_type": "code",
   "execution_count": 11,
   "outputs": [],
   "source": [
    "X_train = data.iloc[:, :-1]\n",
    "y_train = data.iloc[:, -1:]"
   ],
   "metadata": {
    "collapsed": false
   }
  },
  {
   "cell_type": "code",
   "execution_count": 8,
   "outputs": [
    {
     "name": "stdout",
     "output_type": "stream",
     "text": [
      "0.09782936388302683\n"
     ]
    },
    {
     "name": "stderr",
     "output_type": "stream",
     "text": [
      "/home/vlad/MachineLearning/text_analyzer/src/models/baselines/__init__.py:144: FutureWarning: Automatic reindexing on DataFrame vs Series comparisons is deprecated and will raise ValueError in a future version. Do `left, right = left.align(right, axis=1, copy=False)` before e.g. `left == right`\n",
      "  pred = proba.apply(lambda x: self.sub_samples[k][0] if x < threshold else self.sub_samples[k][1])\n"
     ]
    },
    {
     "ename": "ValueError",
     "evalue": "The truth value of a DataFrame is ambiguous. Use a.empty, a.bool(), a.item(), a.any() or a.all().",
     "output_type": "error",
     "traceback": [
      "\u001B[0;31m---------------------------------------------------------------------------\u001B[0m",
      "\u001B[0;31mValueError\u001B[0m                                Traceback (most recent call last)",
      "\u001B[0;32m/tmp/ipykernel_22359/3031126128.py\u001B[0m in \u001B[0;36m<module>\u001B[0;34m\u001B[0m\n\u001B[1;32m      3\u001B[0m     \u001B[0mmulti_clf\u001B[0m \u001B[0;34m=\u001B[0m \u001B[0mMulticlassClassifier\u001B[0m\u001B[0;34m(\u001B[0m\u001B[0mDummy_clf\u001B[0m\u001B[0;34m,\u001B[0m \u001B[0mstrategy\u001B[0m\u001B[0;34m)\u001B[0m\u001B[0;34m\u001B[0m\u001B[0;34m\u001B[0m\u001B[0m\n\u001B[1;32m      4\u001B[0m     \u001B[0mmulti_clf\u001B[0m\u001B[0;34m.\u001B[0m\u001B[0mfit\u001B[0m\u001B[0;34m(\u001B[0m\u001B[0mX_train\u001B[0m\u001B[0;34m,\u001B[0m \u001B[0my_train\u001B[0m\u001B[0;34m)\u001B[0m\u001B[0;34m\u001B[0m\u001B[0;34m\u001B[0m\u001B[0m\n\u001B[0;32m----> 5\u001B[0;31m     \u001B[0my_pred\u001B[0m \u001B[0;34m=\u001B[0m \u001B[0mmulti_clf\u001B[0m\u001B[0;34m.\u001B[0m\u001B[0mpredict\u001B[0m\u001B[0;34m(\u001B[0m\u001B[0mX_train\u001B[0m\u001B[0;34m,\u001B[0m \u001B[0my_train\u001B[0m\u001B[0;34m)\u001B[0m\u001B[0;34m\u001B[0m\u001B[0;34m\u001B[0m\u001B[0m\n\u001B[0m\u001B[1;32m      6\u001B[0m     \u001B[0mprint\u001B[0m\u001B[0;34m(\u001B[0m\u001B[0msk_metrics\u001B[0m\u001B[0;34m.\u001B[0m\u001B[0maccuracy_score\u001B[0m\u001B[0;34m(\u001B[0m\u001B[0my_train\u001B[0m\u001B[0;34m,\u001B[0m \u001B[0my_pred\u001B[0m\u001B[0;34m)\u001B[0m\u001B[0;34m)\u001B[0m\u001B[0;34m\u001B[0m\u001B[0;34m\u001B[0m\u001B[0m\n",
      "\u001B[0;32m~/MachineLearning/text_analyzer/src/models/baselines/__init__.py\u001B[0m in \u001B[0;36mpredict\u001B[0;34m(self, X, threshold)\u001B[0m\n\u001B[1;32m    142\u001B[0m             \u001B[0;32mfor\u001B[0m \u001B[0mk\u001B[0m \u001B[0;32min\u001B[0m \u001B[0mrange\u001B[0m\u001B[0;34m(\u001B[0m\u001B[0mlen\u001B[0m\u001B[0;34m(\u001B[0m\u001B[0mself\u001B[0m\u001B[0;34m.\u001B[0m\u001B[0mclassifiers\u001B[0m\u001B[0;34m)\u001B[0m\u001B[0;34m)\u001B[0m\u001B[0;34m:\u001B[0m\u001B[0;34m\u001B[0m\u001B[0;34m\u001B[0m\u001B[0m\n\u001B[1;32m    143\u001B[0m                 \u001B[0mproba\u001B[0m \u001B[0;34m=\u001B[0m \u001B[0mpd\u001B[0m\u001B[0;34m.\u001B[0m\u001B[0mDataFrame\u001B[0m\u001B[0;34m(\u001B[0m\u001B[0mself\u001B[0m\u001B[0;34m.\u001B[0m\u001B[0mclassifiers\u001B[0m\u001B[0;34m[\u001B[0m\u001B[0mk\u001B[0m\u001B[0;34m]\u001B[0m\u001B[0;34m.\u001B[0m\u001B[0mpredict\u001B[0m\u001B[0;34m(\u001B[0m\u001B[0mX\u001B[0m\u001B[0;34m)\u001B[0m\u001B[0;34m)\u001B[0m\u001B[0;34m\u001B[0m\u001B[0;34m\u001B[0m\u001B[0m\n\u001B[0;32m--> 144\u001B[0;31m                 \u001B[0mpred\u001B[0m \u001B[0;34m=\u001B[0m \u001B[0mproba\u001B[0m\u001B[0;34m.\u001B[0m\u001B[0mapply\u001B[0m\u001B[0;34m(\u001B[0m\u001B[0;32mlambda\u001B[0m \u001B[0mx\u001B[0m\u001B[0;34m:\u001B[0m \u001B[0mself\u001B[0m\u001B[0;34m.\u001B[0m\u001B[0msub_samples\u001B[0m\u001B[0;34m[\u001B[0m\u001B[0mk\u001B[0m\u001B[0;34m]\u001B[0m\u001B[0;34m[\u001B[0m\u001B[0;36m0\u001B[0m\u001B[0;34m]\u001B[0m \u001B[0;32mif\u001B[0m \u001B[0mx\u001B[0m \u001B[0;34m<\u001B[0m \u001B[0mthreshold\u001B[0m \u001B[0;32melse\u001B[0m \u001B[0mself\u001B[0m\u001B[0;34m.\u001B[0m\u001B[0msub_samples\u001B[0m\u001B[0;34m[\u001B[0m\u001B[0mk\u001B[0m\u001B[0;34m]\u001B[0m\u001B[0;34m[\u001B[0m\u001B[0;36m1\u001B[0m\u001B[0;34m]\u001B[0m\u001B[0;34m)\u001B[0m\u001B[0;34m\u001B[0m\u001B[0;34m\u001B[0m\u001B[0m\n\u001B[0m\u001B[1;32m    145\u001B[0m                 \u001B[0mpredictions\u001B[0m \u001B[0;34m=\u001B[0m \u001B[0mpd\u001B[0m\u001B[0;34m.\u001B[0m\u001B[0mconcat\u001B[0m\u001B[0;34m(\u001B[0m\u001B[0;34m[\u001B[0m\u001B[0mpredictions\u001B[0m\u001B[0;34m,\u001B[0m \u001B[0mpd\u001B[0m\u001B[0;34m.\u001B[0m\u001B[0mDataFrame\u001B[0m\u001B[0;34m(\u001B[0m\u001B[0mpred\u001B[0m\u001B[0;34m)\u001B[0m\u001B[0;34m]\u001B[0m\u001B[0;34m,\u001B[0m \u001B[0maxis\u001B[0m\u001B[0;34m=\u001B[0m\u001B[0;36m1\u001B[0m\u001B[0;34m)\u001B[0m\u001B[0;34m\u001B[0m\u001B[0;34m\u001B[0m\u001B[0m\n\u001B[1;32m    146\u001B[0m \u001B[0;34m\u001B[0m\u001B[0m\n",
      "\u001B[0;32m~/anaconda3/lib/python3.9/site-packages/pandas/core/frame.py\u001B[0m in \u001B[0;36mapply\u001B[0;34m(self, func, axis, raw, result_type, args, **kwargs)\u001B[0m\n\u001B[1;32m   8846\u001B[0m             \u001B[0mkwargs\u001B[0m\u001B[0;34m=\u001B[0m\u001B[0mkwargs\u001B[0m\u001B[0;34m,\u001B[0m\u001B[0;34m\u001B[0m\u001B[0;34m\u001B[0m\u001B[0m\n\u001B[1;32m   8847\u001B[0m         )\n\u001B[0;32m-> 8848\u001B[0;31m         \u001B[0;32mreturn\u001B[0m \u001B[0mop\u001B[0m\u001B[0;34m.\u001B[0m\u001B[0mapply\u001B[0m\u001B[0;34m(\u001B[0m\u001B[0;34m)\u001B[0m\u001B[0;34m.\u001B[0m\u001B[0m__finalize__\u001B[0m\u001B[0;34m(\u001B[0m\u001B[0mself\u001B[0m\u001B[0;34m,\u001B[0m \u001B[0mmethod\u001B[0m\u001B[0;34m=\u001B[0m\u001B[0;34m\"apply\"\u001B[0m\u001B[0;34m)\u001B[0m\u001B[0;34m\u001B[0m\u001B[0;34m\u001B[0m\u001B[0m\n\u001B[0m\u001B[1;32m   8849\u001B[0m \u001B[0;34m\u001B[0m\u001B[0m\n\u001B[1;32m   8850\u001B[0m     def applymap(\n",
      "\u001B[0;32m~/anaconda3/lib/python3.9/site-packages/pandas/core/apply.py\u001B[0m in \u001B[0;36mapply\u001B[0;34m(self)\u001B[0m\n\u001B[1;32m    731\u001B[0m             \u001B[0;32mreturn\u001B[0m \u001B[0mself\u001B[0m\u001B[0;34m.\u001B[0m\u001B[0mapply_raw\u001B[0m\u001B[0;34m(\u001B[0m\u001B[0;34m)\u001B[0m\u001B[0;34m\u001B[0m\u001B[0;34m\u001B[0m\u001B[0m\n\u001B[1;32m    732\u001B[0m \u001B[0;34m\u001B[0m\u001B[0m\n\u001B[0;32m--> 733\u001B[0;31m         \u001B[0;32mreturn\u001B[0m \u001B[0mself\u001B[0m\u001B[0;34m.\u001B[0m\u001B[0mapply_standard\u001B[0m\u001B[0;34m(\u001B[0m\u001B[0;34m)\u001B[0m\u001B[0;34m\u001B[0m\u001B[0;34m\u001B[0m\u001B[0m\n\u001B[0m\u001B[1;32m    734\u001B[0m \u001B[0;34m\u001B[0m\u001B[0m\n\u001B[1;32m    735\u001B[0m     \u001B[0;32mdef\u001B[0m \u001B[0magg\u001B[0m\u001B[0;34m(\u001B[0m\u001B[0mself\u001B[0m\u001B[0;34m)\u001B[0m\u001B[0;34m:\u001B[0m\u001B[0;34m\u001B[0m\u001B[0;34m\u001B[0m\u001B[0m\n",
      "\u001B[0;32m~/anaconda3/lib/python3.9/site-packages/pandas/core/apply.py\u001B[0m in \u001B[0;36mapply_standard\u001B[0;34m(self)\u001B[0m\n\u001B[1;32m    855\u001B[0m \u001B[0;34m\u001B[0m\u001B[0m\n\u001B[1;32m    856\u001B[0m     \u001B[0;32mdef\u001B[0m \u001B[0mapply_standard\u001B[0m\u001B[0;34m(\u001B[0m\u001B[0mself\u001B[0m\u001B[0;34m)\u001B[0m\u001B[0;34m:\u001B[0m\u001B[0;34m\u001B[0m\u001B[0;34m\u001B[0m\u001B[0m\n\u001B[0;32m--> 857\u001B[0;31m         \u001B[0mresults\u001B[0m\u001B[0;34m,\u001B[0m \u001B[0mres_index\u001B[0m \u001B[0;34m=\u001B[0m \u001B[0mself\u001B[0m\u001B[0;34m.\u001B[0m\u001B[0mapply_series_generator\u001B[0m\u001B[0;34m(\u001B[0m\u001B[0;34m)\u001B[0m\u001B[0;34m\u001B[0m\u001B[0;34m\u001B[0m\u001B[0m\n\u001B[0m\u001B[1;32m    858\u001B[0m \u001B[0;34m\u001B[0m\u001B[0m\n\u001B[1;32m    859\u001B[0m         \u001B[0;31m# wrap results\u001B[0m\u001B[0;34m\u001B[0m\u001B[0;34m\u001B[0m\u001B[0m\n",
      "\u001B[0;32m~/anaconda3/lib/python3.9/site-packages/pandas/core/apply.py\u001B[0m in \u001B[0;36mapply_series_generator\u001B[0;34m(self)\u001B[0m\n\u001B[1;32m    871\u001B[0m             \u001B[0;32mfor\u001B[0m \u001B[0mi\u001B[0m\u001B[0;34m,\u001B[0m \u001B[0mv\u001B[0m \u001B[0;32min\u001B[0m \u001B[0menumerate\u001B[0m\u001B[0;34m(\u001B[0m\u001B[0mseries_gen\u001B[0m\u001B[0;34m)\u001B[0m\u001B[0;34m:\u001B[0m\u001B[0;34m\u001B[0m\u001B[0;34m\u001B[0m\u001B[0m\n\u001B[1;32m    872\u001B[0m                 \u001B[0;31m# ignore SettingWithCopy here in case the user mutates\u001B[0m\u001B[0;34m\u001B[0m\u001B[0;34m\u001B[0m\u001B[0m\n\u001B[0;32m--> 873\u001B[0;31m                 \u001B[0mresults\u001B[0m\u001B[0;34m[\u001B[0m\u001B[0mi\u001B[0m\u001B[0;34m]\u001B[0m \u001B[0;34m=\u001B[0m \u001B[0mself\u001B[0m\u001B[0;34m.\u001B[0m\u001B[0mf\u001B[0m\u001B[0;34m(\u001B[0m\u001B[0mv\u001B[0m\u001B[0;34m)\u001B[0m\u001B[0;34m\u001B[0m\u001B[0;34m\u001B[0m\u001B[0m\n\u001B[0m\u001B[1;32m    874\u001B[0m                 \u001B[0;32mif\u001B[0m \u001B[0misinstance\u001B[0m\u001B[0;34m(\u001B[0m\u001B[0mresults\u001B[0m\u001B[0;34m[\u001B[0m\u001B[0mi\u001B[0m\u001B[0;34m]\u001B[0m\u001B[0;34m,\u001B[0m \u001B[0mABCSeries\u001B[0m\u001B[0;34m)\u001B[0m\u001B[0;34m:\u001B[0m\u001B[0;34m\u001B[0m\u001B[0;34m\u001B[0m\u001B[0m\n\u001B[1;32m    875\u001B[0m                     \u001B[0;31m# If we have a view on v, we need to make a copy because\u001B[0m\u001B[0;34m\u001B[0m\u001B[0;34m\u001B[0m\u001B[0m\n",
      "\u001B[0;32m~/MachineLearning/text_analyzer/src/models/baselines/__init__.py\u001B[0m in \u001B[0;36m<lambda>\u001B[0;34m(x)\u001B[0m\n\u001B[1;32m    142\u001B[0m             \u001B[0;32mfor\u001B[0m \u001B[0mk\u001B[0m \u001B[0;32min\u001B[0m \u001B[0mrange\u001B[0m\u001B[0;34m(\u001B[0m\u001B[0mlen\u001B[0m\u001B[0;34m(\u001B[0m\u001B[0mself\u001B[0m\u001B[0;34m.\u001B[0m\u001B[0mclassifiers\u001B[0m\u001B[0;34m)\u001B[0m\u001B[0;34m)\u001B[0m\u001B[0;34m:\u001B[0m\u001B[0;34m\u001B[0m\u001B[0;34m\u001B[0m\u001B[0m\n\u001B[1;32m    143\u001B[0m                 \u001B[0mproba\u001B[0m \u001B[0;34m=\u001B[0m \u001B[0mpd\u001B[0m\u001B[0;34m.\u001B[0m\u001B[0mDataFrame\u001B[0m\u001B[0;34m(\u001B[0m\u001B[0mself\u001B[0m\u001B[0;34m.\u001B[0m\u001B[0mclassifiers\u001B[0m\u001B[0;34m[\u001B[0m\u001B[0mk\u001B[0m\u001B[0;34m]\u001B[0m\u001B[0;34m.\u001B[0m\u001B[0mpredict\u001B[0m\u001B[0;34m(\u001B[0m\u001B[0mX\u001B[0m\u001B[0;34m)\u001B[0m\u001B[0;34m)\u001B[0m\u001B[0;34m\u001B[0m\u001B[0;34m\u001B[0m\u001B[0m\n\u001B[0;32m--> 144\u001B[0;31m                 \u001B[0mpred\u001B[0m \u001B[0;34m=\u001B[0m \u001B[0mproba\u001B[0m\u001B[0;34m.\u001B[0m\u001B[0mapply\u001B[0m\u001B[0;34m(\u001B[0m\u001B[0;32mlambda\u001B[0m \u001B[0mx\u001B[0m\u001B[0;34m:\u001B[0m \u001B[0mself\u001B[0m\u001B[0;34m.\u001B[0m\u001B[0msub_samples\u001B[0m\u001B[0;34m[\u001B[0m\u001B[0mk\u001B[0m\u001B[0;34m]\u001B[0m\u001B[0;34m[\u001B[0m\u001B[0;36m0\u001B[0m\u001B[0;34m]\u001B[0m \u001B[0;32mif\u001B[0m \u001B[0mx\u001B[0m \u001B[0;34m<\u001B[0m \u001B[0mthreshold\u001B[0m \u001B[0;32melse\u001B[0m \u001B[0mself\u001B[0m\u001B[0;34m.\u001B[0m\u001B[0msub_samples\u001B[0m\u001B[0;34m[\u001B[0m\u001B[0mk\u001B[0m\u001B[0;34m]\u001B[0m\u001B[0;34m[\u001B[0m\u001B[0;36m1\u001B[0m\u001B[0;34m]\u001B[0m\u001B[0;34m)\u001B[0m\u001B[0;34m\u001B[0m\u001B[0;34m\u001B[0m\u001B[0m\n\u001B[0m\u001B[1;32m    145\u001B[0m                 \u001B[0mpredictions\u001B[0m \u001B[0;34m=\u001B[0m \u001B[0mpd\u001B[0m\u001B[0;34m.\u001B[0m\u001B[0mconcat\u001B[0m\u001B[0;34m(\u001B[0m\u001B[0;34m[\u001B[0m\u001B[0mpredictions\u001B[0m\u001B[0;34m,\u001B[0m \u001B[0mpd\u001B[0m\u001B[0;34m.\u001B[0m\u001B[0mDataFrame\u001B[0m\u001B[0;34m(\u001B[0m\u001B[0mpred\u001B[0m\u001B[0;34m)\u001B[0m\u001B[0;34m]\u001B[0m\u001B[0;34m,\u001B[0m \u001B[0maxis\u001B[0m\u001B[0;34m=\u001B[0m\u001B[0;36m1\u001B[0m\u001B[0;34m)\u001B[0m\u001B[0;34m\u001B[0m\u001B[0;34m\u001B[0m\u001B[0m\n\u001B[1;32m    146\u001B[0m \u001B[0;34m\u001B[0m\u001B[0m\n",
      "\u001B[0;32m~/anaconda3/lib/python3.9/site-packages/pandas/core/generic.py\u001B[0m in \u001B[0;36m__nonzero__\u001B[0;34m(self)\u001B[0m\n\u001B[1;32m   1525\u001B[0m     \u001B[0;34m@\u001B[0m\u001B[0mfinal\u001B[0m\u001B[0;34m\u001B[0m\u001B[0;34m\u001B[0m\u001B[0m\n\u001B[1;32m   1526\u001B[0m     \u001B[0;32mdef\u001B[0m \u001B[0m__nonzero__\u001B[0m\u001B[0;34m(\u001B[0m\u001B[0mself\u001B[0m\u001B[0;34m)\u001B[0m\u001B[0;34m:\u001B[0m\u001B[0;34m\u001B[0m\u001B[0;34m\u001B[0m\u001B[0m\n\u001B[0;32m-> 1527\u001B[0;31m         raise ValueError(\n\u001B[0m\u001B[1;32m   1528\u001B[0m             \u001B[0;34mf\"The truth value of a {type(self).__name__} is ambiguous. \"\u001B[0m\u001B[0;34m\u001B[0m\u001B[0;34m\u001B[0m\u001B[0m\n\u001B[1;32m   1529\u001B[0m             \u001B[0;34m\"Use a.empty, a.bool(), a.item(), a.any() or a.all().\"\u001B[0m\u001B[0;34m\u001B[0m\u001B[0;34m\u001B[0m\u001B[0m\n",
      "\u001B[0;31mValueError\u001B[0m: The truth value of a DataFrame is ambiguous. Use a.empty, a.bool(), a.item(), a.any() or a.all()."
     ]
    }
   ],
   "source": [
    "strategies = [\"one-vs-all\", \"all-vs-all\"]\n",
    "for strategy in strategies:\n",
    "    multi_clf = MulticlassClassifier(Dummy_clf, strategy)\n",
    "    multi_clf.fit(X_train, y_train)\n",
    "    y_pred = multi_clf.predict(X_train, y_train)\n",
    "    print(sk_metrics.accuracy_score(y_train, y_pred))"
   ],
   "metadata": {
    "collapsed": false
   }
  },
  {
   "cell_type": "code",
   "execution_count": 9,
   "outputs": [
    {
     "data": {
      "text/plain": "      label\n0       0.0\n1       0.0\n2       0.0\n3       0.0\n4      -1.0\n...     ...\n6632    0.0\n6633   -1.0\n6634    0.0\n6635    0.0\n6636    0.0\n\n[6634 rows x 1 columns]",
      "text/html": "<div>\n<style scoped>\n    .dataframe tbody tr th:only-of-type {\n        vertical-align: middle;\n    }\n\n    .dataframe tbody tr th {\n        vertical-align: top;\n    }\n\n    .dataframe thead th {\n        text-align: right;\n    }\n</style>\n<table border=\"1\" class=\"dataframe\">\n  <thead>\n    <tr style=\"text-align: right;\">\n      <th></th>\n      <th>label</th>\n    </tr>\n  </thead>\n  <tbody>\n    <tr>\n      <th>0</th>\n      <td>0.0</td>\n    </tr>\n    <tr>\n      <th>1</th>\n      <td>0.0</td>\n    </tr>\n    <tr>\n      <th>2</th>\n      <td>0.0</td>\n    </tr>\n    <tr>\n      <th>3</th>\n      <td>0.0</td>\n    </tr>\n    <tr>\n      <th>4</th>\n      <td>-1.0</td>\n    </tr>\n    <tr>\n      <th>...</th>\n      <td>...</td>\n    </tr>\n    <tr>\n      <th>6632</th>\n      <td>0.0</td>\n    </tr>\n    <tr>\n      <th>6633</th>\n      <td>-1.0</td>\n    </tr>\n    <tr>\n      <th>6634</th>\n      <td>0.0</td>\n    </tr>\n    <tr>\n      <th>6635</th>\n      <td>0.0</td>\n    </tr>\n    <tr>\n      <th>6636</th>\n      <td>0.0</td>\n    </tr>\n  </tbody>\n</table>\n<p>6634 rows × 1 columns</p>\n</div>"
     },
     "execution_count": 9,
     "metadata": {},
     "output_type": "execute_result"
    }
   ],
   "source": [
    "y_train"
   ],
   "metadata": {
    "collapsed": false
   }
  },
  {
   "cell_type": "code",
   "execution_count": 10,
   "outputs": [
    {
     "data": {
      "text/plain": "[None,\n 1,\n 2,\n None,\n 1,\n None,\n None,\n 0,\n None,\n 0,\n None,\n None,\n None,\n None,\n None,\n 0,\n 2,\n None,\n None,\n 0,\n None,\n None,\n None,\n None,\n None,\n None,\n None,\n 1,\n None,\n None,\n None,\n None,\n 1,\n None,\n 2,\n 1,\n 0,\n 1,\n None,\n None,\n None,\n None,\n None,\n 1,\n None,\n 1,\n None,\n 0,\n None,\n 1,\n 0,\n None,\n 0,\n None,\n None,\n 1,\n None,\n None,\n None,\n None,\n None,\n 2,\n None,\n None,\n None,\n None,\n 0,\n 2,\n None,\n None,\n None,\n None,\n None,\n None,\n 2,\n None,\n 1,\n None,\n 0,\n 0,\n None,\n 2,\n 0,\n None,\n None,\n None,\n 0,\n None,\n 0,\n 2,\n 0,\n 1,\n None,\n 2,\n 2,\n None,\n None,\n 0,\n None,\n None,\n 1,\n None,\n None,\n None,\n None,\n 0,\n None,\n 1,\n 2,\n None,\n None,\n None,\n None,\n None,\n None,\n 1,\n 1,\n None,\n None,\n None,\n None,\n None,\n 2,\n None,\n None,\n 2,\n None,\n None,\n 1,\n None,\n None,\n 1,\n None,\n None,\n None,\n 1,\n None,\n 1,\n None,\n None,\n None,\n 2,\n None,\n 2,\n 1,\n 0,\n None,\n None,\n 1,\n 0,\n None,\n 0,\n None,\n 1,\n None,\n None,\n 2,\n None,\n None,\n 1,\n None,\n 1,\n None,\n 0,\n 1,\n None,\n 2,\n None,\n None,\n 2,\n None,\n None,\n None,\n None,\n 1,\n None,\n 0,\n 1,\n 1,\n None,\n None,\n 1,\n None,\n None,\n None,\n 0,\n None,\n None,\n 1,\n 1,\n None,\n 0,\n None,\n 1,\n None,\n 1,\n None,\n 2,\n 1,\n None,\n None,\n None,\n None,\n 2,\n None,\n 2,\n None,\n None,\n None,\n None,\n None,\n None,\n 0,\n None,\n 1,\n None,\n None,\n None,\n None,\n None,\n 0,\n None,\n None,\n None,\n 0,\n None,\n 0,\n 1,\n None,\n None,\n None,\n None,\n 1,\n None,\n 2,\n 0,\n None,\n 2,\n 0,\n 2,\n None,\n 2,\n None,\n 1,\n None,\n 2,\n None,\n None,\n 2,\n 1,\n 2,\n None,\n None,\n 1,\n None,\n None,\n 0,\n None,\n 1,\n None,\n None,\n None,\n None,\n None,\n None,\n None,\n 0,\n None,\n None,\n None,\n 1,\n None,\n None,\n 0,\n None,\n None,\n None,\n None,\n 1,\n None,\n None,\n None,\n None,\n 1,\n None,\n 1,\n None,\n None,\n 1,\n None,\n 0,\n None,\n 2,\n None,\n 0,\n None,\n None,\n 2,\n None,\n 0,\n None,\n 1,\n 1,\n None,\n 1,\n None,\n None,\n None,\n 0,\n None,\n None,\n 0,\n None,\n None,\n 2,\n None,\n None,\n None,\n None,\n None,\n None,\n None,\n None,\n None,\n None,\n 1,\n None,\n None,\n 2,\n None,\n None,\n 0,\n None,\n 0,\n None,\n None,\n None,\n None,\n None,\n 2,\n None,\n 0,\n None,\n None,\n None,\n None,\n None,\n 0,\n None,\n None,\n None,\n None,\n None,\n None,\n 1,\n None,\n 2,\n None,\n None,\n None,\n None,\n None,\n 0,\n None,\n 0,\n None,\n None,\n None,\n None,\n None,\n None,\n 0,\n None,\n None,\n None,\n None,\n None,\n None,\n None,\n None,\n None,\n None,\n None,\n 2,\n 2,\n None,\n 0,\n None,\n None,\n 1,\n 0,\n None,\n 1,\n 1,\n None,\n None,\n None,\n 2,\n 2,\n None,\n 0,\n None,\n None,\n None,\n None,\n None,\n None,\n None,\n None,\n 0,\n 1,\n None,\n 2,\n None,\n None,\n None,\n 2,\n None,\n None,\n 0,\n 1,\n None,\n None,\n None,\n 1,\n None,\n None,\n None,\n None,\n 0,\n None,\n None,\n 2,\n None,\n None,\n None,\n 1,\n 2,\n 0,\n 2,\n None,\n None,\n None,\n None,\n None,\n None,\n None,\n None,\n 1,\n None,\n None,\n None,\n None,\n None,\n 2,\n None,\n None,\n 0,\n 2,\n None,\n None,\n 2,\n None,\n None,\n None,\n None,\n 2,\n 1,\n None,\n None,\n None,\n 1,\n None,\n None,\n None,\n None,\n None,\n None,\n None,\n 2,\n 0,\n 0,\n None,\n None,\n None,\n None,\n None,\n None,\n None,\n 0,\n 0,\n None,\n 1,\n 2,\n 2,\n None,\n None,\n 0,\n 2,\n None,\n None,\n 2,\n None,\n None,\n None,\n 0,\n None,\n None,\n 1,\n None,\n None,\n 0,\n 1,\n None,\n 2,\n 0,\n 1,\n None,\n None,\n None,\n 1,\n None,\n None,\n 2,\n None,\n 1,\n None,\n None,\n None,\n None,\n None,\n None,\n None,\n 0,\n None,\n None,\n 1,\n 2,\n None,\n 1,\n 1,\n None,\n None,\n None,\n 1,\n None,\n None,\n None,\n 2,\n None,\n None,\n 2,\n None,\n None,\n None,\n 2,\n None,\n None,\n None,\n 1,\n 1,\n None,\n None,\n None,\n None,\n 1,\n None,\n None,\n 1,\n 0,\n None,\n None,\n None,\n None,\n None,\n 2,\n 0,\n 1,\n None,\n 0,\n None,\n None,\n None,\n None,\n None,\n None,\n None,\n 0,\n None,\n None,\n None,\n None,\n None,\n None,\n None,\n None,\n 1,\n 2,\n 0,\n None,\n None,\n 2,\n 2,\n 0,\n None,\n None,\n None,\n None,\n None,\n None,\n None,\n None,\n None,\n None,\n None,\n None,\n 2,\n None,\n None,\n None,\n None,\n None,\n None,\n None,\n None,\n None,\n None,\n None,\n None,\n 1,\n None,\n None,\n None,\n 1,\n None,\n None,\n None,\n 2,\n None,\n None,\n 1,\n None,\n 1,\n None,\n 1,\n None,\n None,\n None,\n None,\n None,\n 0,\n None,\n None,\n None,\n 2,\n None,\n None,\n 0,\n None,\n None,\n None,\n None,\n 2,\n None,\n None,\n None,\n 2,\n 2,\n None,\n None,\n None,\n 0,\n 1,\n None,\n None,\n None,\n None,\n None,\n 0,\n None,\n 0,\n None,\n 1,\n None,\n 0,\n None,\n None,\n 1,\n None,\n 2,\n None,\n None,\n None,\n None,\n 1,\n None,\n None,\n None,\n None,\n 0,\n 2,\n 2,\n 0,\n None,\n 1,\n 1,\n None,\n None,\n None,\n None,\n 1,\n 2,\n None,\n None,\n None,\n 0,\n 1,\n None,\n None,\n None,\n 0,\n None,\n None,\n None,\n None,\n None,\n None,\n 1,\n None,\n 1,\n None,\n 1,\n None,\n 0,\n None,\n None,\n None,\n 1,\n None,\n 2,\n 2,\n None,\n None,\n None,\n 1,\n 1,\n None,\n None,\n None,\n 1,\n None,\n 0,\n 0,\n None,\n 2,\n None,\n 2,\n None,\n None,\n None,\n 1,\n 2,\n 2,\n None,\n None,\n 0,\n None,\n None,\n None,\n 1,\n None,\n 0,\n 1,\n None,\n 1,\n None,\n 1,\n None,\n 2,\n None,\n None,\n None,\n None,\n None,\n None,\n 2,\n 0,\n None,\n 0,\n None,\n 0,\n None,\n None,\n 0,\n 0,\n None,\n 0,\n None,\n None,\n None,\n None,\n None,\n None,\n None,\n None,\n None,\n 2,\n None,\n 2,\n None,\n None,\n None,\n None,\n 2,\n None,\n None,\n None,\n None,\n None,\n None,\n None,\n 0,\n None,\n None,\n 1,\n None,\n 0,\n None,\n None,\n None,\n 0,\n None,\n 2,\n None,\n None,\n None,\n 1,\n None,\n None,\n None,\n None,\n None,\n 2,\n None,\n 0,\n None,\n None,\n None,\n 0,\n 2,\n None,\n None,\n 0,\n 1,\n 0,\n 1,\n None,\n None,\n None,\n None,\n 1,\n None,\n 1,\n 2,\n None,\n 0,\n 1,\n None,\n None,\n None,\n None,\n 0,\n None,\n None,\n 2,\n None,\n None,\n None,\n None,\n None,\n 1,\n 1,\n None,\n 1,\n None,\n 1,\n None,\n 2,\n None,\n 2,\n None,\n None,\n None,\n None,\n None,\n 0,\n 0,\n None,\n None,\n None,\n None,\n None,\n 1,\n 2,\n 2,\n 2,\n 1,\n None,\n 2,\n None,\n None,\n None,\n None,\n None,\n None,\n None,\n 1,\n None,\n None,\n 0,\n None,\n None,\n None,\n None,\n 1,\n None,\n 1,\n 1,\n 0,\n 2,\n 2,\n 2,\n None,\n None,\n 0,\n 1,\n None,\n None,\n None,\n 1,\n None,\n None,\n None,\n None,\n None,\n 2,\n 2,\n None,\n 2,\n None,\n None,\n None,\n None,\n 0,\n None,\n 1,\n 0,\n None,\n None,\n None,\n None,\n None,\n None,\n 0,\n None,\n None,\n 1,\n 2,\n 2,\n None,\n None,\n None,\n None,\n 2,\n None,\n 0,\n None,\n 2,\n None,\n 1,\n 0,\n None,\n None,\n None,\n None,\n None,\n None,\n 2,\n None,\n None,\n 2,\n None,\n None,\n None,\n None,\n None,\n 1,\n 2,\n None,\n None,\n ...]"
     },
     "execution_count": 10,
     "metadata": {},
     "output_type": "execute_result"
    }
   ],
   "source": [
    "y_pred"
   ],
   "metadata": {
    "collapsed": false
   }
  },
  {
   "cell_type": "code",
   "execution_count": null,
   "outputs": [],
   "source": [],
   "metadata": {
    "collapsed": false
   }
  }
 ],
 "metadata": {
  "kernelspec": {
   "display_name": "Python 3 (ipykernel)",
   "language": "python",
   "name": "python3"
  },
  "language_info": {
   "codemirror_mode": {
    "name": "ipython",
    "version": 3
   },
   "file_extension": ".py",
   "mimetype": "text/x-python",
   "name": "python",
   "nbconvert_exporter": "python",
   "pygments_lexer": "ipython3",
   "version": "3.9.13"
  }
 },
 "nbformat": 4,
 "nbformat_minor": 5
}
