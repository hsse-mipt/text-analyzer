{
 "cells": [
  {
   "cell_type": "code",
   "execution_count": 1,
   "id": "e019d72b",
   "metadata": {},
   "outputs": [],
   "source": [
    "import pandas as pd\n",
    "import numpy as np\n",
    "import matplotlib.pyplot as plt\n",
    "#import text_analyzer.src.metrics.binary_classification as metrics\n",
    "from sklearn import metrics as sk_metrics\n",
    "import sys\n",
    "sys.path.append('..')"
   ]
  },
  {
   "cell_type": "code",
   "execution_count": 2,
   "outputs": [],
   "source": [
    "path = '../../../static/datasets/modified/'\n",
    "folders = {'bin' : 'bin_classification/', 'multi' : 'multi_classification/'}\n",
    "\n",
    "train = 'bayes_train.csv'\n",
    "test = 'bayes_test.csv'"
   ],
   "metadata": {
    "collapsed": false
   }
  },
  {
   "cell_type": "code",
   "execution_count": 3,
   "id": "ad7afa78",
   "metadata": {},
   "outputs": [],
   "source": [
    "X_train = pd.read_csv(path + folders['bin'] + train)\n",
    "y_train = pd.read_csv(path + folders['bin'] + test)"
   ]
  },
  {
   "cell_type": "code",
   "execution_count": 4,
   "id": "60cd6078",
   "metadata": {},
   "outputs": [],
   "source": [
    "from text_analyzer.src.models.baselines import NaiveBayesClassifier as NB_clf\n",
    "from text_analyzer.src.models.baselines import DummyClassifier as Dummy_clf"
   ]
  },
  {
   "cell_type": "code",
   "execution_count": 5,
   "outputs": [],
   "source": [
    "nb_clf = NB_clf()\n",
    "dummy_clf = Dummy_clf()"
   ],
   "metadata": {
    "collapsed": false
   }
  },
  {
   "cell_type": "code",
   "execution_count": 6,
   "outputs": [],
   "source": [
    "nb_clf.fit(X_train, y_train)\n",
    "dummy_clf.fit(X_train, y_train)"
   ],
   "metadata": {
    "collapsed": false
   }
  },
  {
   "cell_type": "code",
   "execution_count": null,
   "outputs": [],
   "source": [
    "y_pred_nb = nb_clf.predict(X_train)\n",
    "y_pred_dummy = dummy_clf.predict(X_train)\n",
    "list(map(int, y_pred_nb))\n",
    "list(map(int, y_pred_dummy))"
   ],
   "metadata": {
    "collapsed": false
   }
  },
  {
   "cell_type": "code",
   "execution_count": null,
   "outputs": [],
   "source": [
    "sk_metrics.accuracy_score(y_true=y_train, y_pred=y_pred_nb)\n",
    "sk_metrics.accuracy_score(y_true=y_train, y_pred=y_pred_dummy)"
   ],
   "metadata": {
    "collapsed": false
   }
  },
  {
   "cell_type": "code",
   "execution_count": null,
   "outputs": [],
   "source": [
    "# %env CLEARML_WEB_HOST=https://app.clear.ml\n",
    "# %env CLEARML_API_HOST=https://api.clear.ml\n",
    "# %env CLEARML_FILES_HOST=https://files.clear.ml\n",
    "# %env CLEARML_API_ACCESS_KEY=VT1X7EH5UU1REKI7T44X\n",
    "# %env CLEARML_API_SECRET_KEY=NHZDqveny2UDyuTvhVADxwUOAgp2mVv3wyipHnKkCc42hiaJog"
   ],
   "metadata": {
    "collapsed": false
   }
  },
  {
   "cell_type": "code",
   "execution_count": null,
   "outputs": [],
   "source": [
    "# from clearml import Task, Logger"
   ],
   "metadata": {
    "collapsed": false
   }
  },
  {
   "cell_type": "code",
   "execution_count": null,
   "outputs": [],
   "source": [
    "# task = Task.init(\n",
    "#     project_name='tonality analysis',\n",
    "#     task_name='TestBaselines',\n",
    "#     tags=['NaiveBayesClassifier', 'DummyClassifier'])"
   ],
   "metadata": {
    "collapsed": false
   }
  },
  {
   "cell_type": "code",
   "execution_count": null,
   "outputs": [],
   "source": [
    "# task.upload_artifact(name='train_data_preprocessed_for_NB', artifact_object='../../../static/datasets/modified/bin_classification/bayes_train.csv')\n",
    "# task.upload_artifact(name='test_data_preprocessed_for_NB', artifact_object='../../../static/datasets/modified/bin_classification/bayes_test.csv')"
   ],
   "metadata": {
    "collapsed": false
   }
  },
  {
   "cell_type": "code",
   "execution_count": null,
   "outputs": [],
   "source": [
    "# task.close()"
   ],
   "metadata": {
    "collapsed": false
   }
  },
  {
   "cell_type": "code",
   "execution_count": 5,
   "outputs": [],
   "source": [
    "from text_analyzer.src.models.baselines import MulticlassClassifier"
   ],
   "metadata": {
    "collapsed": false
   }
  },
  {
   "cell_type": "code",
   "execution_count": 6,
   "outputs": [],
   "source": [
    "data = pd.read_csv(path + folders['multi'] + 'train_data.csv')\n",
    "data.dropna(inplace=True)"
   ],
   "metadata": {
    "collapsed": false
   }
  },
  {
   "cell_type": "code",
   "execution_count": 7,
   "outputs": [],
   "source": [
    "X_train = data.iloc[:, :-1]\n",
    "y_train = data.iloc[:, -1:]"
   ],
   "metadata": {
    "collapsed": false
   }
  },
  {
   "cell_type": "code",
   "execution_count": 8,
   "outputs": [
    {
     "name": "stdout",
     "output_type": "stream",
     "text": [
      "0.10069339764847754\n"
     ]
    },
    {
     "ename": "KeyboardInterrupt",
     "evalue": "",
     "output_type": "error",
     "traceback": [
      "\u001B[0;31m---------------------------------------------------------------------------\u001B[0m",
      "\u001B[0;31mKeyboardInterrupt\u001B[0m                         Traceback (most recent call last)",
      "\u001B[0;32m/tmp/ipykernel_19470/3031126128.py\u001B[0m in \u001B[0;36m<module>\u001B[0;34m\u001B[0m\n\u001B[1;32m      1\u001B[0m \u001B[0mstrategies\u001B[0m \u001B[0;34m=\u001B[0m \u001B[0;34m[\u001B[0m\u001B[0;34m\"one-vs-all\"\u001B[0m\u001B[0;34m,\u001B[0m \u001B[0;34m\"all-vs-all\"\u001B[0m\u001B[0;34m]\u001B[0m\u001B[0;34m\u001B[0m\u001B[0;34m\u001B[0m\u001B[0m\n\u001B[1;32m      2\u001B[0m \u001B[0;32mfor\u001B[0m \u001B[0mstrategy\u001B[0m \u001B[0;32min\u001B[0m \u001B[0mstrategies\u001B[0m\u001B[0;34m:\u001B[0m\u001B[0;34m\u001B[0m\u001B[0;34m\u001B[0m\u001B[0m\n\u001B[0;32m----> 3\u001B[0;31m     \u001B[0mmulti_clf\u001B[0m \u001B[0;34m=\u001B[0m \u001B[0mMulticlassClassifier\u001B[0m\u001B[0;34m(\u001B[0m\u001B[0mDummy_clf\u001B[0m\u001B[0;34m,\u001B[0m \u001B[0mstrategy\u001B[0m\u001B[0;34m)\u001B[0m\u001B[0;34m\u001B[0m\u001B[0;34m\u001B[0m\u001B[0m\n\u001B[0m\u001B[1;32m      4\u001B[0m     \u001B[0mmulti_clf\u001B[0m\u001B[0;34m.\u001B[0m\u001B[0mfit\u001B[0m\u001B[0;34m(\u001B[0m\u001B[0mX_train\u001B[0m\u001B[0;34m,\u001B[0m \u001B[0my_train\u001B[0m\u001B[0;34m)\u001B[0m\u001B[0;34m\u001B[0m\u001B[0;34m\u001B[0m\u001B[0m\n\u001B[1;32m      5\u001B[0m     \u001B[0my_pred\u001B[0m \u001B[0;34m=\u001B[0m \u001B[0mmulti_clf\u001B[0m\u001B[0;34m.\u001B[0m\u001B[0mpredict\u001B[0m\u001B[0;34m(\u001B[0m\u001B[0mX_train\u001B[0m\u001B[0;34m,\u001B[0m \u001B[0my_train\u001B[0m\u001B[0;34m)\u001B[0m\u001B[0;34m\u001B[0m\u001B[0;34m\u001B[0m\u001B[0m\n",
      "\u001B[0;32m/tmp/ipykernel_19470/3031126128.py\u001B[0m in \u001B[0;36m<module>\u001B[0;34m\u001B[0m\n\u001B[1;32m      1\u001B[0m \u001B[0mstrategies\u001B[0m \u001B[0;34m=\u001B[0m \u001B[0;34m[\u001B[0m\u001B[0;34m\"one-vs-all\"\u001B[0m\u001B[0;34m,\u001B[0m \u001B[0;34m\"all-vs-all\"\u001B[0m\u001B[0;34m]\u001B[0m\u001B[0;34m\u001B[0m\u001B[0;34m\u001B[0m\u001B[0m\n\u001B[1;32m      2\u001B[0m \u001B[0;32mfor\u001B[0m \u001B[0mstrategy\u001B[0m \u001B[0;32min\u001B[0m \u001B[0mstrategies\u001B[0m\u001B[0;34m:\u001B[0m\u001B[0;34m\u001B[0m\u001B[0;34m\u001B[0m\u001B[0m\n\u001B[0;32m----> 3\u001B[0;31m     \u001B[0mmulti_clf\u001B[0m \u001B[0;34m=\u001B[0m \u001B[0mMulticlassClassifier\u001B[0m\u001B[0;34m(\u001B[0m\u001B[0mDummy_clf\u001B[0m\u001B[0;34m,\u001B[0m \u001B[0mstrategy\u001B[0m\u001B[0;34m)\u001B[0m\u001B[0;34m\u001B[0m\u001B[0;34m\u001B[0m\u001B[0m\n\u001B[0m\u001B[1;32m      4\u001B[0m     \u001B[0mmulti_clf\u001B[0m\u001B[0;34m.\u001B[0m\u001B[0mfit\u001B[0m\u001B[0;34m(\u001B[0m\u001B[0mX_train\u001B[0m\u001B[0;34m,\u001B[0m \u001B[0my_train\u001B[0m\u001B[0;34m)\u001B[0m\u001B[0;34m\u001B[0m\u001B[0;34m\u001B[0m\u001B[0m\n\u001B[1;32m      5\u001B[0m     \u001B[0my_pred\u001B[0m \u001B[0;34m=\u001B[0m \u001B[0mmulti_clf\u001B[0m\u001B[0;34m.\u001B[0m\u001B[0mpredict\u001B[0m\u001B[0;34m(\u001B[0m\u001B[0mX_train\u001B[0m\u001B[0;34m,\u001B[0m \u001B[0my_train\u001B[0m\u001B[0;34m)\u001B[0m\u001B[0;34m\u001B[0m\u001B[0;34m\u001B[0m\u001B[0m\n",
      "\u001B[0;32m~/.local/share/JetBrains/Toolbox/apps/DataSpell/ch-0/223.8617.58/plugins/python-ce/helpers/pydev/_pydevd_bundle/pydevd_frame.py\u001B[0m in \u001B[0;36mtrace_dispatch\u001B[0;34m(self, frame, event, arg)\u001B[0m\n\u001B[1;32m    882\u001B[0m                     \u001B[0;32mif\u001B[0m \u001B[0mis_line\u001B[0m\u001B[0;34m:\u001B[0m\u001B[0;34m\u001B[0m\u001B[0;34m\u001B[0m\u001B[0m\n\u001B[1;32m    883\u001B[0m                         \u001B[0mself\u001B[0m\u001B[0;34m.\u001B[0m\u001B[0mset_suspend\u001B[0m\u001B[0;34m(\u001B[0m\u001B[0mthread\u001B[0m\u001B[0;34m,\u001B[0m \u001B[0mstep_cmd\u001B[0m\u001B[0;34m)\u001B[0m\u001B[0;34m\u001B[0m\u001B[0;34m\u001B[0m\u001B[0m\n\u001B[0;32m--> 884\u001B[0;31m                         \u001B[0mself\u001B[0m\u001B[0;34m.\u001B[0m\u001B[0mdo_wait_suspend\u001B[0m\u001B[0;34m(\u001B[0m\u001B[0mthread\u001B[0m\u001B[0;34m,\u001B[0m \u001B[0mframe\u001B[0m\u001B[0;34m,\u001B[0m \u001B[0mevent\u001B[0m\u001B[0;34m,\u001B[0m \u001B[0marg\u001B[0m\u001B[0;34m)\u001B[0m\u001B[0;34m\u001B[0m\u001B[0;34m\u001B[0m\u001B[0m\n\u001B[0m\u001B[1;32m    885\u001B[0m                     \u001B[0;32melse\u001B[0m\u001B[0;34m:\u001B[0m  \u001B[0;31m# return event\u001B[0m\u001B[0;34m\u001B[0m\u001B[0;34m\u001B[0m\u001B[0m\n\u001B[1;32m    886\u001B[0m                         \u001B[0mback\u001B[0m \u001B[0;34m=\u001B[0m \u001B[0mframe\u001B[0m\u001B[0;34m.\u001B[0m\u001B[0mf_back\u001B[0m\u001B[0;34m\u001B[0m\u001B[0;34m\u001B[0m\u001B[0m\n",
      "\u001B[0;32m~/.local/share/JetBrains/Toolbox/apps/DataSpell/ch-0/223.8617.58/plugins/python-ce/helpers/pydev/_pydevd_bundle/pydevd_frame.py\u001B[0m in \u001B[0;36mdo_wait_suspend\u001B[0;34m(self, *args, **kwargs)\u001B[0m\n\u001B[1;32m    142\u001B[0m \u001B[0;34m\u001B[0m\u001B[0m\n\u001B[1;32m    143\u001B[0m     \u001B[0;32mdef\u001B[0m \u001B[0mdo_wait_suspend\u001B[0m\u001B[0;34m(\u001B[0m\u001B[0mself\u001B[0m\u001B[0;34m,\u001B[0m \u001B[0;34m*\u001B[0m\u001B[0margs\u001B[0m\u001B[0;34m,\u001B[0m \u001B[0;34m**\u001B[0m\u001B[0mkwargs\u001B[0m\u001B[0;34m)\u001B[0m\u001B[0;34m:\u001B[0m\u001B[0;34m\u001B[0m\u001B[0;34m\u001B[0m\u001B[0m\n\u001B[0;32m--> 144\u001B[0;31m         \u001B[0mself\u001B[0m\u001B[0;34m.\u001B[0m\u001B[0m_args\u001B[0m\u001B[0;34m[\u001B[0m\u001B[0;36m0\u001B[0m\u001B[0;34m]\u001B[0m\u001B[0;34m.\u001B[0m\u001B[0mdo_wait_suspend\u001B[0m\u001B[0;34m(\u001B[0m\u001B[0;34m*\u001B[0m\u001B[0margs\u001B[0m\u001B[0;34m,\u001B[0m \u001B[0;34m**\u001B[0m\u001B[0mkwargs\u001B[0m\u001B[0;34m)\u001B[0m\u001B[0;34m\u001B[0m\u001B[0;34m\u001B[0m\u001B[0m\n\u001B[0m\u001B[1;32m    145\u001B[0m \u001B[0;34m\u001B[0m\u001B[0m\n\u001B[1;32m    146\u001B[0m     \u001B[0;31m# IFDEF CYTHON\u001B[0m\u001B[0;34m\u001B[0m\u001B[0;34m\u001B[0m\u001B[0m\n",
      "\u001B[0;32m~/.local/share/JetBrains/Toolbox/apps/DataSpell/ch-0/223.8617.58/plugins/python-ce/helpers/pydev/pydevd.py\u001B[0m in \u001B[0;36mdo_wait_suspend\u001B[0;34m(self, thread, frame, event, arg, send_suspend_message, is_unhandled_exception)\u001B[0m\n\u001B[1;32m   1158\u001B[0m \u001B[0;34m\u001B[0m\u001B[0m\n\u001B[1;32m   1159\u001B[0m         \u001B[0;32mwith\u001B[0m \u001B[0mself\u001B[0m\u001B[0;34m.\u001B[0m\u001B[0m_threads_suspended_single_notification\u001B[0m\u001B[0;34m.\u001B[0m\u001B[0mnotify_thread_suspended\u001B[0m\u001B[0;34m(\u001B[0m\u001B[0mthread_id\u001B[0m\u001B[0;34m,\u001B[0m \u001B[0mstop_reason\u001B[0m\u001B[0;34m)\u001B[0m\u001B[0;34m:\u001B[0m\u001B[0;34m\u001B[0m\u001B[0;34m\u001B[0m\u001B[0m\n\u001B[0;32m-> 1160\u001B[0;31m             \u001B[0mself\u001B[0m\u001B[0;34m.\u001B[0m\u001B[0m_do_wait_suspend\u001B[0m\u001B[0;34m(\u001B[0m\u001B[0mthread\u001B[0m\u001B[0;34m,\u001B[0m \u001B[0mframe\u001B[0m\u001B[0;34m,\u001B[0m \u001B[0mevent\u001B[0m\u001B[0;34m,\u001B[0m \u001B[0marg\u001B[0m\u001B[0;34m,\u001B[0m \u001B[0msuspend_type\u001B[0m\u001B[0;34m,\u001B[0m \u001B[0mfrom_this_thread\u001B[0m\u001B[0;34m)\u001B[0m\u001B[0;34m\u001B[0m\u001B[0;34m\u001B[0m\u001B[0m\n\u001B[0m\u001B[1;32m   1161\u001B[0m \u001B[0;34m\u001B[0m\u001B[0m\n\u001B[1;32m   1162\u001B[0m     \u001B[0;32mdef\u001B[0m \u001B[0m_do_wait_suspend\u001B[0m\u001B[0;34m(\u001B[0m\u001B[0mself\u001B[0m\u001B[0;34m,\u001B[0m \u001B[0mthread\u001B[0m\u001B[0;34m,\u001B[0m \u001B[0mframe\u001B[0m\u001B[0;34m,\u001B[0m \u001B[0mevent\u001B[0m\u001B[0;34m,\u001B[0m \u001B[0marg\u001B[0m\u001B[0;34m,\u001B[0m \u001B[0msuspend_type\u001B[0m\u001B[0;34m,\u001B[0m \u001B[0mfrom_this_thread\u001B[0m\u001B[0;34m)\u001B[0m\u001B[0;34m:\u001B[0m\u001B[0;34m\u001B[0m\u001B[0;34m\u001B[0m\u001B[0m\n",
      "\u001B[0;32m~/.local/share/JetBrains/Toolbox/apps/DataSpell/ch-0/223.8617.58/plugins/python-ce/helpers/pydev/pydevd.py\u001B[0m in \u001B[0;36m_do_wait_suspend\u001B[0;34m(self, thread, frame, event, arg, suspend_type, from_this_thread)\u001B[0m\n\u001B[1;32m   1173\u001B[0m \u001B[0;34m\u001B[0m\u001B[0m\n\u001B[1;32m   1174\u001B[0m                 \u001B[0mself\u001B[0m\u001B[0;34m.\u001B[0m\u001B[0mprocess_internal_commands\u001B[0m\u001B[0;34m(\u001B[0m\u001B[0;34m)\u001B[0m\u001B[0;34m\u001B[0m\u001B[0;34m\u001B[0m\u001B[0m\n\u001B[0;32m-> 1175\u001B[0;31m                 \u001B[0mtime\u001B[0m\u001B[0;34m.\u001B[0m\u001B[0msleep\u001B[0m\u001B[0;34m(\u001B[0m\u001B[0;36m0.01\u001B[0m\u001B[0;34m)\u001B[0m\u001B[0;34m\u001B[0m\u001B[0;34m\u001B[0m\u001B[0m\n\u001B[0m\u001B[1;32m   1176\u001B[0m \u001B[0;34m\u001B[0m\u001B[0m\n\u001B[1;32m   1177\u001B[0m         \u001B[0mself\u001B[0m\u001B[0;34m.\u001B[0m\u001B[0mcancel_async_evaluation\u001B[0m\u001B[0;34m(\u001B[0m\u001B[0mget_current_thread_id\u001B[0m\u001B[0;34m(\u001B[0m\u001B[0mthread\u001B[0m\u001B[0;34m)\u001B[0m\u001B[0;34m,\u001B[0m \u001B[0mstr\u001B[0m\u001B[0;34m(\u001B[0m\u001B[0mid\u001B[0m\u001B[0;34m(\u001B[0m\u001B[0mframe\u001B[0m\u001B[0;34m)\u001B[0m\u001B[0;34m)\u001B[0m\u001B[0;34m)\u001B[0m\u001B[0;34m\u001B[0m\u001B[0;34m\u001B[0m\u001B[0m\n",
      "\u001B[0;31mKeyboardInterrupt\u001B[0m: "
     ]
    }
   ],
   "source": [
    "strategies = [\"one-vs-all\", \"all-vs-all\"]\n",
    "for strategy in strategies:\n",
    "    multi_clf = MulticlassClassifier(Dummy_clf, strategy)\n",
    "    multi_clf.fit(X_train, y_train)\n",
    "    y_pred = multi_clf.predict(X_train, y_train)\n",
    "    print(sk_metrics.accuracy_score(y_train, y_pred))"
   ],
   "metadata": {
    "collapsed": false
   }
  },
  {
   "cell_type": "code",
   "execution_count": 9,
   "outputs": [
    {
     "data": {
      "text/plain": "      label\n0       0.0\n1       0.0\n2       0.0\n3       0.0\n4      -1.0\n...     ...\n6632    0.0\n6633   -1.0\n6634    0.0\n6635    0.0\n6636    0.0\n\n[6634 rows x 1 columns]",
      "text/html": "<div>\n<style scoped>\n    .dataframe tbody tr th:only-of-type {\n        vertical-align: middle;\n    }\n\n    .dataframe tbody tr th {\n        vertical-align: top;\n    }\n\n    .dataframe thead th {\n        text-align: right;\n    }\n</style>\n<table border=\"1\" class=\"dataframe\">\n  <thead>\n    <tr style=\"text-align: right;\">\n      <th></th>\n      <th>label</th>\n    </tr>\n  </thead>\n  <tbody>\n    <tr>\n      <th>0</th>\n      <td>0.0</td>\n    </tr>\n    <tr>\n      <th>1</th>\n      <td>0.0</td>\n    </tr>\n    <tr>\n      <th>2</th>\n      <td>0.0</td>\n    </tr>\n    <tr>\n      <th>3</th>\n      <td>0.0</td>\n    </tr>\n    <tr>\n      <th>4</th>\n      <td>-1.0</td>\n    </tr>\n    <tr>\n      <th>...</th>\n      <td>...</td>\n    </tr>\n    <tr>\n      <th>6632</th>\n      <td>0.0</td>\n    </tr>\n    <tr>\n      <th>6633</th>\n      <td>-1.0</td>\n    </tr>\n    <tr>\n      <th>6634</th>\n      <td>0.0</td>\n    </tr>\n    <tr>\n      <th>6635</th>\n      <td>0.0</td>\n    </tr>\n    <tr>\n      <th>6636</th>\n      <td>0.0</td>\n    </tr>\n  </tbody>\n</table>\n<p>6634 rows × 1 columns</p>\n</div>"
     },
     "execution_count": 9,
     "metadata": {},
     "output_type": "execute_result"
    }
   ],
   "source": [
    "y_train"
   ],
   "metadata": {
    "collapsed": false
   }
  },
  {
   "cell_type": "code",
   "execution_count": 10,
   "outputs": [
    {
     "data": {
      "text/plain": "[None,\n 1,\n 2,\n None,\n 1,\n None,\n None,\n 0,\n None,\n 0,\n None,\n None,\n None,\n None,\n None,\n 0,\n 2,\n None,\n None,\n 0,\n None,\n None,\n None,\n None,\n None,\n None,\n None,\n 1,\n None,\n None,\n None,\n None,\n 1,\n None,\n 2,\n 1,\n 0,\n 1,\n None,\n None,\n None,\n None,\n None,\n 1,\n None,\n 1,\n None,\n 0,\n None,\n 1,\n 0,\n None,\n 0,\n None,\n None,\n 1,\n None,\n None,\n None,\n None,\n None,\n 2,\n None,\n None,\n None,\n None,\n 0,\n 2,\n None,\n None,\n None,\n None,\n None,\n None,\n 2,\n None,\n 1,\n None,\n 0,\n 0,\n None,\n 2,\n 0,\n None,\n None,\n None,\n 0,\n None,\n 0,\n 2,\n 0,\n 1,\n None,\n 2,\n 2,\n None,\n None,\n 0,\n None,\n None,\n 1,\n None,\n None,\n None,\n None,\n 0,\n None,\n 1,\n 2,\n None,\n None,\n None,\n None,\n None,\n None,\n 1,\n 1,\n None,\n None,\n None,\n None,\n None,\n 2,\n None,\n None,\n 2,\n None,\n None,\n 1,\n None,\n None,\n 1,\n None,\n None,\n None,\n 1,\n None,\n 1,\n None,\n None,\n None,\n 2,\n None,\n 2,\n 1,\n 0,\n None,\n None,\n 1,\n 0,\n None,\n 0,\n None,\n 1,\n None,\n None,\n 2,\n None,\n None,\n 1,\n None,\n 1,\n None,\n 0,\n 1,\n None,\n 2,\n None,\n None,\n 2,\n None,\n None,\n None,\n None,\n 1,\n None,\n 0,\n 1,\n 1,\n None,\n None,\n 1,\n None,\n None,\n None,\n 0,\n None,\n None,\n 1,\n 1,\n None,\n 0,\n None,\n 1,\n None,\n 1,\n None,\n 2,\n 1,\n None,\n None,\n None,\n None,\n 2,\n None,\n 2,\n None,\n None,\n None,\n None,\n None,\n None,\n 0,\n None,\n 1,\n None,\n None,\n None,\n None,\n None,\n 0,\n None,\n None,\n None,\n 0,\n None,\n 0,\n 1,\n None,\n None,\n None,\n None,\n 1,\n None,\n 2,\n 0,\n None,\n 2,\n 0,\n 2,\n None,\n 2,\n None,\n 1,\n None,\n 2,\n None,\n None,\n 2,\n 1,\n 2,\n None,\n None,\n 1,\n None,\n None,\n 0,\n None,\n 1,\n None,\n None,\n None,\n None,\n None,\n None,\n None,\n 0,\n None,\n None,\n None,\n 1,\n None,\n None,\n 0,\n None,\n None,\n None,\n None,\n 1,\n None,\n None,\n None,\n None,\n 1,\n None,\n 1,\n None,\n None,\n 1,\n None,\n 0,\n None,\n 2,\n None,\n 0,\n None,\n None,\n 2,\n None,\n 0,\n None,\n 1,\n 1,\n None,\n 1,\n None,\n None,\n None,\n 0,\n None,\n None,\n 0,\n None,\n None,\n 2,\n None,\n None,\n None,\n None,\n None,\n None,\n None,\n None,\n None,\n None,\n 1,\n None,\n None,\n 2,\n None,\n None,\n 0,\n None,\n 0,\n None,\n None,\n None,\n None,\n None,\n 2,\n None,\n 0,\n None,\n None,\n None,\n None,\n None,\n 0,\n None,\n None,\n None,\n None,\n None,\n None,\n 1,\n None,\n 2,\n None,\n None,\n None,\n None,\n None,\n 0,\n None,\n 0,\n None,\n None,\n None,\n None,\n None,\n None,\n 0,\n None,\n None,\n None,\n None,\n None,\n None,\n None,\n None,\n None,\n None,\n None,\n 2,\n 2,\n None,\n 0,\n None,\n None,\n 1,\n 0,\n None,\n 1,\n 1,\n None,\n None,\n None,\n 2,\n 2,\n None,\n 0,\n None,\n None,\n None,\n None,\n None,\n None,\n None,\n None,\n 0,\n 1,\n None,\n 2,\n None,\n None,\n None,\n 2,\n None,\n None,\n 0,\n 1,\n None,\n None,\n None,\n 1,\n None,\n None,\n None,\n None,\n 0,\n None,\n None,\n 2,\n None,\n None,\n None,\n 1,\n 2,\n 0,\n 2,\n None,\n None,\n None,\n None,\n None,\n None,\n None,\n None,\n 1,\n None,\n None,\n None,\n None,\n None,\n 2,\n None,\n None,\n 0,\n 2,\n None,\n None,\n 2,\n None,\n None,\n None,\n None,\n 2,\n 1,\n None,\n None,\n None,\n 1,\n None,\n None,\n None,\n None,\n None,\n None,\n None,\n 2,\n 0,\n 0,\n None,\n None,\n None,\n None,\n None,\n None,\n None,\n 0,\n 0,\n None,\n 1,\n 2,\n 2,\n None,\n None,\n 0,\n 2,\n None,\n None,\n 2,\n None,\n None,\n None,\n 0,\n None,\n None,\n 1,\n None,\n None,\n 0,\n 1,\n None,\n 2,\n 0,\n 1,\n None,\n None,\n None,\n 1,\n None,\n None,\n 2,\n None,\n 1,\n None,\n None,\n None,\n None,\n None,\n None,\n None,\n 0,\n None,\n None,\n 1,\n 2,\n None,\n 1,\n 1,\n None,\n None,\n None,\n 1,\n None,\n None,\n None,\n 2,\n None,\n None,\n 2,\n None,\n None,\n None,\n 2,\n None,\n None,\n None,\n 1,\n 1,\n None,\n None,\n None,\n None,\n 1,\n None,\n None,\n 1,\n 0,\n None,\n None,\n None,\n None,\n None,\n 2,\n 0,\n 1,\n None,\n 0,\n None,\n None,\n None,\n None,\n None,\n None,\n None,\n 0,\n None,\n None,\n None,\n None,\n None,\n None,\n None,\n None,\n 1,\n 2,\n 0,\n None,\n None,\n 2,\n 2,\n 0,\n None,\n None,\n None,\n None,\n None,\n None,\n None,\n None,\n None,\n None,\n None,\n None,\n 2,\n None,\n None,\n None,\n None,\n None,\n None,\n None,\n None,\n None,\n None,\n None,\n None,\n 1,\n None,\n None,\n None,\n 1,\n None,\n None,\n None,\n 2,\n None,\n None,\n 1,\n None,\n 1,\n None,\n 1,\n None,\n None,\n None,\n None,\n None,\n 0,\n None,\n None,\n None,\n 2,\n None,\n None,\n 0,\n None,\n None,\n None,\n None,\n 2,\n None,\n None,\n None,\n 2,\n 2,\n None,\n None,\n None,\n 0,\n 1,\n None,\n None,\n None,\n None,\n None,\n 0,\n None,\n 0,\n None,\n 1,\n None,\n 0,\n None,\n None,\n 1,\n None,\n 2,\n None,\n None,\n None,\n None,\n 1,\n None,\n None,\n None,\n None,\n 0,\n 2,\n 2,\n 0,\n None,\n 1,\n 1,\n None,\n None,\n None,\n None,\n 1,\n 2,\n None,\n None,\n None,\n 0,\n 1,\n None,\n None,\n None,\n 0,\n None,\n None,\n None,\n None,\n None,\n None,\n 1,\n None,\n 1,\n None,\n 1,\n None,\n 0,\n None,\n None,\n None,\n 1,\n None,\n 2,\n 2,\n None,\n None,\n None,\n 1,\n 1,\n None,\n None,\n None,\n 1,\n None,\n 0,\n 0,\n None,\n 2,\n None,\n 2,\n None,\n None,\n None,\n 1,\n 2,\n 2,\n None,\n None,\n 0,\n None,\n None,\n None,\n 1,\n None,\n 0,\n 1,\n None,\n 1,\n None,\n 1,\n None,\n 2,\n None,\n None,\n None,\n None,\n None,\n None,\n 2,\n 0,\n None,\n 0,\n None,\n 0,\n None,\n None,\n 0,\n 0,\n None,\n 0,\n None,\n None,\n None,\n None,\n None,\n None,\n None,\n None,\n None,\n 2,\n None,\n 2,\n None,\n None,\n None,\n None,\n 2,\n None,\n None,\n None,\n None,\n None,\n None,\n None,\n 0,\n None,\n None,\n 1,\n None,\n 0,\n None,\n None,\n None,\n 0,\n None,\n 2,\n None,\n None,\n None,\n 1,\n None,\n None,\n None,\n None,\n None,\n 2,\n None,\n 0,\n None,\n None,\n None,\n 0,\n 2,\n None,\n None,\n 0,\n 1,\n 0,\n 1,\n None,\n None,\n None,\n None,\n 1,\n None,\n 1,\n 2,\n None,\n 0,\n 1,\n None,\n None,\n None,\n None,\n 0,\n None,\n None,\n 2,\n None,\n None,\n None,\n None,\n None,\n 1,\n 1,\n None,\n 1,\n None,\n 1,\n None,\n 2,\n None,\n 2,\n None,\n None,\n None,\n None,\n None,\n 0,\n 0,\n None,\n None,\n None,\n None,\n None,\n 1,\n 2,\n 2,\n 2,\n 1,\n None,\n 2,\n None,\n None,\n None,\n None,\n None,\n None,\n None,\n 1,\n None,\n None,\n 0,\n None,\n None,\n None,\n None,\n 1,\n None,\n 1,\n 1,\n 0,\n 2,\n 2,\n 2,\n None,\n None,\n 0,\n 1,\n None,\n None,\n None,\n 1,\n None,\n None,\n None,\n None,\n None,\n 2,\n 2,\n None,\n 2,\n None,\n None,\n None,\n None,\n 0,\n None,\n 1,\n 0,\n None,\n None,\n None,\n None,\n None,\n None,\n 0,\n None,\n None,\n 1,\n 2,\n 2,\n None,\n None,\n None,\n None,\n 2,\n None,\n 0,\n None,\n 2,\n None,\n 1,\n 0,\n None,\n None,\n None,\n None,\n None,\n None,\n 2,\n None,\n None,\n 2,\n None,\n None,\n None,\n None,\n None,\n 1,\n 2,\n None,\n None,\n ...]"
     },
     "execution_count": 10,
     "metadata": {},
     "output_type": "execute_result"
    }
   ],
   "source": [
    "y_pred"
   ],
   "metadata": {
    "collapsed": false
   }
  },
  {
   "cell_type": "code",
   "execution_count": null,
   "outputs": [],
   "source": [],
   "metadata": {
    "collapsed": false
   }
  }
 ],
 "metadata": {
  "kernelspec": {
   "display_name": "Python 3 (ipykernel)",
   "language": "python",
   "name": "python3"
  },
  "language_info": {
   "codemirror_mode": {
    "name": "ipython",
    "version": 3
   },
   "file_extension": ".py",
   "mimetype": "text/x-python",
   "name": "python",
   "nbconvert_exporter": "python",
   "pygments_lexer": "ipython3",
   "version": "3.9.13"
  }
 },
 "nbformat": 4,
 "nbformat_minor": 5
}
