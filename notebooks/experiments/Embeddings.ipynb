{
 "cells": [
  {
   "cell_type": "code",
   "execution_count": 1,
   "id": "2ff7d6b4",
   "metadata": {
    "scrolled": false
   },
   "outputs": [
    {
     "name": "stdout",
     "output_type": "stream",
     "text": [
      "Requirement already satisfied: navec in /Users/vladimir/anaconda3/lib/python3.10/site-packages (0.10.0)\r\n",
      "Requirement already satisfied: numpy in /Users/vladimir/anaconda3/lib/python3.10/site-packages (from navec) (1.23.5)\r\n"
     ]
    }
   ],
   "source": [
    "!pip install navec"
   ]
  },
  {
   "cell_type": "code",
   "execution_count": 2,
   "id": "6219ace9",
   "metadata": {},
   "outputs": [],
   "source": [
    "from navec import Navec\n",
    "import numpy as np\n",
    "\n",
    "path = 'navec_hudlit_v1_12B_500K_300d_100q.tar'\n",
    "navec = Navec.load(path)"
   ]
  },
  {
   "cell_type": "code",
   "execution_count": 3,
   "id": "499853fe",
   "metadata": {},
   "outputs": [],
   "source": [
    "def SentenceMaximum(sentence_):\n",
    "    max_embedding_ = np.array([-1.0 for i in range(300)])\n",
    "    for i in range(len(sentence_)):\n",
    "        for j in range(300):\n",
    "            max_embedding_[j] = max(max_embedding_[j], navec[sentence_[i]][j])\n",
    "    return max_embedding_"
   ]
  },
  {
   "cell_type": "code",
   "execution_count": 4,
   "id": "11d67d1a",
   "metadata": {},
   "outputs": [],
   "source": [
    "def SentenceAverage(sentence_):\n",
    "    average_embedding_ = np.array([0.0 for i in range(300)])\n",
    "    for i in range(len(sentence_)):\n",
    "        average_embedding_ += navec[sentence_[i]]\n",
    "    average_embedding_ /= len(sentence_)\n",
    "    return average_embedding_"
   ]
  }
 ],
 "metadata": {
  "kernelspec": {
   "display_name": "Python 3 (ipykernel)",
   "language": "python",
   "name": "python3"
  },
  "language_info": {
   "codemirror_mode": {
    "name": "ipython",
    "version": 3
   },
   "file_extension": ".py",
   "mimetype": "text/x-python",
   "name": "python",
   "nbconvert_exporter": "python",
   "pygments_lexer": "ipython3",
   "version": "3.10.9"
  }
 },
 "nbformat": 4,
 "nbformat_minor": 5
}
