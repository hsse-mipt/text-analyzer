{
 "cells": [
  {
   "cell_type": "code",
   "execution_count": null,
   "metadata": {
    "collapsed": true
   },
   "outputs": [],
   "source": [
    "import sys\n",
    "sys.path.append('../..')"
   ]
  },
  {
   "cell_type": "code",
   "execution_count": null,
   "outputs": [],
   "source": [
    "import pandas as pd\n",
    "import numpy as np\n",
    "import matplotlib.pyplot as plt\n",
    "\n",
    "from src.metrics import binary_classification as bin_metrics\n",
    "from src.metrics import multiclass_classification as multi_metrics\n",
    "from src.models.baselines import MulticlassClassifier"
   ],
   "metadata": {
    "collapsed": false
   }
  },
  {
   "cell_type": "code",
   "execution_count": null,
   "outputs": [],
   "source": [
    "# %env CLEARML_WEB_HOST=https://app.clear.ml\n",
    "# %env CLEARML_API_HOST=https://api.clear.ml\n",
    "# %env CLEARML_FILES_HOST=https://files.clear.ml\n",
    "# %env CLEARML_API_ACCESS_KEY=VT1X7EH5UU1REKI7T44X\n",
    "# %env CLEARML_API_SECRET_KEY=NHZDqveny2UDyuTvhVADxwUOAgp2mVv3wyipHnKkCc42hiaJog"
   ],
   "metadata": {
    "collapsed": false
   }
  },
  {
   "cell_type": "code",
   "execution_count": null,
   "outputs": [],
   "source": [
    "# from clearml import Task, Logger"
   ],
   "metadata": {
    "collapsed": false
   }
  },
  {
   "cell_type": "code",
   "execution_count": null,
   "outputs": [],
   "source": [
    "# task = Task.init(\n",
    "#     project_name='tonality analysis',\n",
    "#     task_name='TestBaselines',\n",
    "#     tags=['NaiveBayesClassifier', 'DummyClassifier', 'LogisticRegression'])\n",
    "# log = Logger.current_logger()"
   ],
   "metadata": {
    "collapsed": false
   }
  },
  {
   "cell_type": "code",
   "execution_count": null,
   "outputs": [],
   "source": [
    "path = '../../static/datasets/modified/'\n",
    "folders = {'bin' : 'bin_classification/', 'multi' : 'multi_classification/'}"
   ],
   "metadata": {
    "collapsed": false
   }
  },
  {
   "cell_type": "code",
   "execution_count": null,
   "outputs": [],
   "source": [
    "#Dummy Classifier\n",
    "from src.models.baselines import DummyClassifier as Dummy_clf\n",
    "\n",
    "dummy = Dummy_clf()\n",
    "\n",
    "train_data = pd.read_csv(path + folders['bin'] + 'train_data.csv')\n",
    "# task.upload_artifact(name='train_data_for_Dummy', artifact_object='../../../static/datasets/modified/bin_classification/train_data.csv')\n",
    "# task.upload_artifact(name='val_data_for_Dummy', artifact_object='../../../static/datasets/modified/bin_classification/validation_data.csv')\n",
    "# task.upload_artifact(name='train_data_for_Dummy', artifact_object='../../../static/datasets/modified/multi_classification/train_data.csv')\n",
    "# task.upload_artifact(name='val_data_for_Dummy', artifact_object='../../../static/datasets/modified/multi_classification/validation_data.csv')\n",
    "X_train, y_train = train_data.iloc[:, :-1], train_data.label\n",
    "\n",
    "dummy.fit(X_train, y_train)\n",
    "\n",
    "val_data = pd.read_csv(path + folders['bin'] + 'validation_data.csv')\n",
    "X_val, y_val = val_data.iloc[:, :-1], val_data.label\n",
    "\n",
    "y_pred = dummy.predict(X_val)\n",
    "\n",
    "#log.report_scalar(\"f1-score\", \"TestBinDummy\", value=bin_metrics.f1_score(y_true=y_val, y_pred=y_pred))\n",
    "\n",
    "print(bin_metrics.f1_score(y_true=y_val, y_pred=y_pred))\n",
    "\n",
    "\n",
    "dummy = Dummy_clf()\n",
    "\n",
    "train_data = pd.read_csv(path + folders['multi'] + 'train_data.csv')\n",
    "X_train, y_train = train_data.iloc[:, :-1], train_data.label\n",
    "\n",
    "dummy.fit(X_train, y_train)\n",
    "\n",
    "val_data = pd.read_csv(path + folders['multi'] + 'validation_data.csv')\n",
    "X_val, y_val = val_data.iloc[:, :-1], val_data.label\n",
    "\n",
    "y_pred = dummy.predict(X_val)\n",
    "\n",
    "#log.report_scalar(\"f1-score\", \"TestMultiDummy\", value=bin_metrics.f1_score(y_true=y_val, y_pred=y_pred))\n",
    "\n",
    "print(multi_metrics.f1_score(y_true=y_val, y_pred=y_pred, average='macro'))"
   ],
   "metadata": {
    "collapsed": false
   }
  },
  {
   "cell_type": "code",
   "execution_count": null,
   "outputs": [],
   "source": [
    "#Naive Bayes\n",
    "from src.models.baselines import NaiveBayesClassifier as NB\n",
    "\n",
    "# task.upload_artifact(name='train_data_preprocessed_for_NB', artifact_object='../../../static/datasets/modified/bin_classification/bayes_train.csv')\n",
    "# task.upload_artifact(name='val_data_preprocessed_for_NB', artifact_object='../../../static/datasets/modified/bin_classification/bayes_val.csv')\n",
    "# task.upload_artifact(name='train_data_preprocessed_for_NB', artifact_object='../../../static/datasets/modified/multi_classification/bayes_train.csv')\n",
    "# task.upload_artifact(name='val_data_preprocessed_for_NB', artifact_object='../../../static/datasets/modified/multi_classification/bayes_val.csv')\n",
    "\n",
    "nb = NB(mode='cat_features')\n",
    "\n",
    "train_data = pd.read_csv(path + folders['bin'] + 'bayes_train.csv')\n",
    "X_train, y_train = train_data.iloc[:, :-1], train_data.label\n",
    "\n",
    "nb.fit(X_train, y_train)\n",
    "\n",
    "val_data = pd.read_csv(path + folders['bin'] + 'bayes_val.csv')\n",
    "X_val, y_val = val_data.iloc[:, :-1], val_data.label.values.tolist()\n",
    "\n",
    "y_pred = nb.predict(X_val)\n",
    "\n",
    "#log.report_scalar(\"f1-score\", \"TestBinNB\", value=bin_metrics.f1_score(y_true=y_val, y_pred=y_pred))\n",
    "\n",
    "print(bin_metrics.f1_score(y_true=y_val, y_pred=y_pred))\n",
    "\n",
    "nb = NB(mode='cat_features')\n",
    "\n",
    "train_data = pd.read_csv(path + folders['multi'] + 'bayes_train.csv')\n",
    "X_train, y_train = train_data.iloc[:, :-1], train_data.label\n",
    "\n",
    "nb.fit(X_train, y_train)\n",
    "\n",
    "val_data = pd.read_csv(path + folders['multi'] + 'bayes_val.csv')\n",
    "X_val, y_val = val_data.iloc[:, :-1], val_data.label.values.tolist()\n",
    "\n",
    "X_val, y_val = X_train, y_train.values.tolist()\n",
    "\n",
    "y_pred = nb.predict(X_val)\n",
    "\n",
    "#log.report_scalar(\"f1-score\", \"TestMultiNB\", value=bin_metrics.f1_score(y_true=y_val, y_pred=y_pred))\n",
    "\n",
    "print(multi_metrics.f1_score(y_true=y_val, y_pred=y_pred, average='macro'))"
   ],
   "metadata": {
    "collapsed": false
   }
  },
  {
   "cell_type": "code",
   "execution_count": null,
   "outputs": [],
   "source": [
    "from sklearn.linear_model import LogisticRegression\n",
    "\n",
    "# task.upload_artifact(name='train_data_preprocessed_for_LogReg', artifact_object='../../static/embeddings/bin_average_train.csv')\n",
    "# task.upload_artifact(name='val_data_preprocessed_for_LogReg', artifact_object='../../static/embeddings/bin_average_val.csv')\n",
    "# task.upload_artifact(name='train_data_preprocessed_for_LogReg', artifact_object='../../static/embeddings/multi_average_train.csv')\n",
    "# task.upload_artifact(name='val_data_preprocessed_for_LogReg', artifact_object='../../static/embeddings/multi_average_val.csv')\n",
    "\n",
    "#Binary\n",
    "logreg = LogisticRegression(C=2, penalty='l2', solver='saga')\n",
    "\n",
    "train_data = pd.read_csv('../../static/embeddings/bin_average_train.csv')\n",
    "X_train, y_train = train_data.iloc[:, :-1], train_data.label\n",
    "\n",
    "logreg.fit(X_train, y_train)\n",
    "\n",
    "val_data = pd.read_csv('../../static/embeddings/bin_average_val.csv')\n",
    "X_val, y_val = val_data.iloc[:, :-1], val_data.label\n",
    "\n",
    "y_pred = logreg.predict(X_val)\n",
    "\n",
    "#log.report_scalar(\"f1-score\", \"TestBinLogReg\", value=bin_metrics.f1_score(y_true=y_val, y_pred=y_pred))\n",
    "\n",
    "print(bin_metrics.f1_score(y_true=y_val, y_pred=y_pred))\n",
    "\n",
    "#Multiclass\n",
    "train_data = pd.read_csv('../../static/embeddings/multi_average_train.csv')\n",
    "X_train, y_train = train_data.iloc[:, :-1], train_data.label\n",
    "\n",
    "val_data = pd.read_csv('../../static/embeddings/multi_average_val.csv')\n",
    "X_val, y_val = val_data.iloc[:, :-1], val_data.label\n",
    "\n",
    "strategies = [\"one-vs-all\", \"all-vs-all\"]\n",
    "\n",
    "for strategy in strategies:\n",
    "    multi_clf = MulticlassClassifier(LogisticRegression, strategy)\n",
    "    multi_clf.fit(X_train, y_train, target_name='label')\n",
    "    y_pred = multi_clf.predict(X_val)\n",
    "    #log.report_scalar(\"f1-score\", \"TestMultiLogReg strategy:\" + strategy, value=bin_metrics.f1_score(y_true=y_val, y_pred=y_pred, average='macro'))\n",
    "    print(multi_metrics.f1_score(y_true=y_val, y_pred=y_pred, average='macro'))"
   ],
   "metadata": {
    "collapsed": false
   }
  },
  {
   "cell_type": "code",
   "execution_count": null,
   "outputs": [],
   "source": [
    "# task.close()"
   ],
   "metadata": {
    "collapsed": false
   }
  }
 ],
 "metadata": {
  "kernelspec": {
   "display_name": "Python 3",
   "language": "python",
   "name": "python3"
  },
  "language_info": {
   "codemirror_mode": {
    "name": "ipython",
    "version": 2
   },
   "file_extension": ".py",
   "mimetype": "text/x-python",
   "name": "python",
   "nbconvert_exporter": "python",
   "pygments_lexer": "ipython2",
   "version": "2.7.6"
  }
 },
 "nbformat": 4,
 "nbformat_minor": 0
}
