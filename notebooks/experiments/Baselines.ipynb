{
 "cells": [
  {
   "cell_type": "code",
   "execution_count": 1,
   "metadata": {
    "collapsed": true,
    "ExecuteTime": {
     "start_time": "2023-04-16T13:50:10.340944Z",
     "end_time": "2023-04-16T13:50:10.341248Z"
    }
   },
   "outputs": [],
   "source": [
    "import sys\n",
    "sys.path.append('../..')"
   ]
  },
  {
   "cell_type": "code",
   "execution_count": 2,
   "outputs": [],
   "source": [
    "import pandas as pd\n",
    "import numpy as np\n",
    "import matplotlib.pyplot as plt\n",
    "\n",
    "from src.metrics import binary_classification as bin_metrics\n",
    "from src.metrics import multiclass_classification as multi_metrics\n",
    "from src.models.baselines import MulticlassClassifier"
   ],
   "metadata": {
    "collapsed": false,
    "ExecuteTime": {
     "start_time": "2023-04-16T13:50:10.341091Z",
     "end_time": "2023-04-16T13:50:11.843808Z"
    }
   }
  },
  {
   "cell_type": "code",
   "execution_count": 3,
   "outputs": [
    {
     "name": "stdout",
     "output_type": "stream",
     "text": [
      "env: CLEARML_WEB_HOST=https://app.clear.ml\n",
      "env: CLEARML_API_HOST=https://api.clear.ml\n",
      "env: CLEARML_FILES_HOST=https://files.clear.ml\n",
      "env: CLEARML_API_ACCESS_KEY=VT1X7EH5UU1REKI7T44X\n",
      "env: CLEARML_API_SECRET_KEY=NHZDqveny2UDyuTvhVADxwUOAgp2mVv3wyipHnKkCc42hiaJog\n"
     ]
    }
   ],
   "source": [
    "%env CLEARML_WEB_HOST=https://app.clear.ml\n",
    "%env CLEARML_API_HOST=https://api.clear.ml\n",
    "%env CLEARML_FILES_HOST=https://files.clear.ml\n",
    "%env CLEARML_API_ACCESS_KEY=VT1X7EH5UU1REKI7T44X\n",
    "%env CLEARML_API_SECRET_KEY=NHZDqveny2UDyuTvhVADxwUOAgp2mVv3wyipHnKkCc42hiaJog"
   ],
   "metadata": {
    "collapsed": false,
    "ExecuteTime": {
     "start_time": "2023-04-16T13:50:11.846483Z",
     "end_time": "2023-04-16T13:50:11.848813Z"
    }
   }
  },
  {
   "cell_type": "code",
   "execution_count": 4,
   "outputs": [],
   "source": [
    "from clearml import Task, Logger"
   ],
   "metadata": {
    "collapsed": false,
    "ExecuteTime": {
     "start_time": "2023-04-16T13:50:11.850393Z",
     "end_time": "2023-04-16T13:50:12.129384Z"
    }
   }
  },
  {
   "cell_type": "code",
   "execution_count": 5,
   "outputs": [
    {
     "name": "stdout",
     "output_type": "stream",
     "text": [
      "ClearML Task: created new task id=867515a95ca34cb9b477aaf1436759f7\n",
      "2023-04-16 13:50:16,935 - clearml.Task - INFO - Storing jupyter notebook directly as code\n",
      "ClearML results page: https://app.clear.ml/projects/d279cf59a7ed4fcab0d4f486835b6ad6/experiments/867515a95ca34cb9b477aaf1436759f7/output/log\n"
     ]
    }
   ],
   "source": [
    "task = Task.init(\n",
    "    project_name='tonality analysis',\n",
    "    task_name='TestBaselines',\n",
    "    tags=['NaiveBayesClassifier', 'DummyClassifier', 'LogisticRegression'])\n",
    "log = Logger.current_logger()"
   ],
   "metadata": {
    "collapsed": false,
    "ExecuteTime": {
     "start_time": "2023-04-16T13:50:12.132339Z",
     "end_time": "2023-04-16T13:50:21.310489Z"
    }
   }
  },
  {
   "cell_type": "code",
   "execution_count": 6,
   "outputs": [],
   "source": [
    "path = '../../static/datasets/modified/'\n",
    "folders = {'bin' : 'bin_classification/', 'multi' : 'multi_classification/'}"
   ],
   "metadata": {
    "collapsed": false,
    "ExecuteTime": {
     "start_time": "2023-04-16T13:50:21.312190Z",
     "end_time": "2023-04-16T13:50:21.316999Z"
    }
   }
  },
  {
   "cell_type": "code",
   "execution_count": 7,
   "outputs": [],
   "source": [
    "#Dummy Classifier\n",
    "from src.models.baselines import DummyClassifier as Dummy_clf\n",
    "\n",
    "dummy = Dummy_clf()\n",
    "\n",
    "task.upload_artifact(name='bin_train_data_for_Dummy', artifact_object='../../../static/datasets/modified/bin_classification/train_data.csv')\n",
    "train_data = pd.read_csv(path + folders['bin'] + 'train_data.csv')\n",
    "X_train, y_train = train_data.iloc[:, :-1], train_data.label\n",
    "\n",
    "dummy.fit(X_train, y_train)\n",
    "\n",
    "task.upload_artifact(name='bin_val_data_for_Dummy', artifact_object='../../../static/datasets/modified/bin_classification/validation_data.csv')\n",
    "val_data = pd.read_csv(path + folders['bin'] + 'validation_data.csv')\n",
    "X_val, y_val = val_data.iloc[:, :-1], val_data.label\n",
    "\n",
    "y_pred = dummy.predict(X_val)\n",
    "log.report_scalar(\"f1-score\", \"TestBinDummy\", iteration=0, value=bin_metrics.f1_score(y_true=y_val, y_pred=y_pred))\n",
    "\n",
    "#Multiclass\n",
    "dummy = Dummy_clf()\n",
    "\n",
    "task.upload_artifact(name='multi_train_data_for_Dummy', artifact_object='../../../static/datasets/modified/multi_classification/train_data.csv')\n",
    "train_data = pd.read_csv(path + folders['multi'] + 'train_data.csv')\n",
    "X_train, y_train = train_data.iloc[:, :-1], train_data.label\n",
    "\n",
    "dummy.fit(X_train, y_train)\n",
    "\n",
    "task.upload_artifact(name='multi_val_data_for_Dummy', artifact_object='../../../static/datasets/modified/multi_classification/validation_data.csv')\n",
    "val_data = pd.read_csv(path + folders['multi'] + 'validation_data.csv')\n",
    "X_val, y_val = val_data.iloc[:, :-1], val_data.label\n",
    "\n",
    "y_pred = dummy.predict(X_val)\n",
    "log.report_scalar(\"f1-score\", \"TestMultiDummy\", iteration=3, value=multi_metrics.f1_score(y_true=y_val, y_pred=y_pred, average='macro'))"
   ],
   "metadata": {
    "collapsed": false,
    "ExecuteTime": {
     "start_time": "2023-04-16T13:50:21.322885Z",
     "end_time": "2023-04-16T13:50:29.482668Z"
    }
   }
  },
  {
   "cell_type": "code",
   "execution_count": 8,
   "outputs": [
    {
     "name": "stderr",
     "output_type": "stream",
     "text": [
      "800it [00:25, 30.94it/s]\n",
      "2845it [03:47, 12.52it/s]\n"
     ]
    }
   ],
   "source": [
    "#Naive Bayes\n",
    "from src.models.baselines import NaiveBayesClassifier as NB\n",
    "\n",
    "\n",
    "nb = NB(mode='cat_features')\n",
    "\n",
    "task.upload_artifact(name='bin_train_data_for_NB', artifact_object='../../../static/datasets/modified/bin_classification/bayes_train.csv')\n",
    "train_data = pd.read_csv(path + folders['bin'] + 'bayes_train.csv')\n",
    "X_train, y_train = train_data.iloc[:, :-1], train_data.label\n",
    "\n",
    "nb.fit(X_train, y_train)\n",
    "\n",
    "task.upload_artifact(name='bin_val_data_for_NB', artifact_object='../../../static/datasets/modified/bin_classification/bayes_val.csv')\n",
    "val_data = pd.read_csv(path + folders['bin'] + 'bayes_val.csv')\n",
    "X_val, y_val = val_data.iloc[:, :-1], val_data.label.values.tolist()\n",
    "\n",
    "y_pred = nb.predict(X_val)\n",
    "log.report_scalar(\"f1-score\", \"TestBinNB\", iteration=1, value=bin_metrics.f1_score(y_true=y_val, y_pred=y_pred))\n",
    "\n",
    "#Multiclass\n",
    "nb = NB(mode='cat_features')\n",
    "\n",
    "task.upload_artifact(name='multi_train_data_for_NB', artifact_object='../../../static/datasets/modified/multi_classification/bayes_train.csv')\n",
    "train_data = pd.read_csv(path + folders['multi'] + 'bayes_train.csv')\n",
    "X_train, y_train = train_data.iloc[:, :-1], train_data.label\n",
    "\n",
    "nb.fit(X_train, y_train)\n",
    "\n",
    "task.upload_artifact(name='multi_val_data_for_NB', artifact_object='../../../static/datasets/modified/multi_classification/bayes_val.csv')\n",
    "val_data = pd.read_csv(path + folders['multi'] + 'bayes_val.csv')\n",
    "X_val, y_val = val_data.iloc[:, :-1], val_data.label.values.tolist()\n",
    "\n",
    "y_pred = nb.predict(X_val)\n",
    "log.report_scalar(\"f1-score\", \"TestMultiNB\", iteration=4, value=multi_metrics.f1_score(y_true=y_val, y_pred=y_pred, average='macro'))"
   ],
   "metadata": {
    "collapsed": false,
    "ExecuteTime": {
     "start_time": "2023-04-16T13:50:29.487019Z",
     "end_time": "2023-04-16T13:55:00.014885Z"
    }
   }
  },
  {
   "cell_type": "code",
   "execution_count": 9,
   "outputs": [],
   "source": [
    "from sklearn.linear_model import LogisticRegression\n",
    "\n",
    "#Binary\n",
    "logreg = LogisticRegression(C=2, penalty='l2', solver='saga')\n",
    "\n",
    "task.upload_artifact(name='bin_train_data_for_LogReg', artifact_object='../../static/embeddings/bin_average_train.csv')\n",
    "train_data = pd.read_csv('../../static/embeddings/bin_average_train.csv')\n",
    "X_train, y_train = train_data.iloc[:, :-1], train_data.label\n",
    "\n",
    "logreg.fit(X_train, y_train)\n",
    "\n",
    "task.upload_artifact(name='bin_val_data_for_LogReg', artifact_object='../../static/embeddings/bin_average_val.csv')\n",
    "val_data = pd.read_csv('../../static/embeddings/bin_average_val.csv')\n",
    "X_val, y_val = val_data.iloc[:, :-1], val_data.label\n",
    "\n",
    "y_pred = logreg.predict(X_val)\n",
    "log.report_scalar(\"f1-score\", \"TestBinLogReg\", iteration=2, value=bin_metrics.f1_score(y_true=y_val, y_pred=y_pred))\n",
    "\n",
    "\n",
    "#Multiclass\n",
    "task.upload_artifact(name='multi_train_data_for_LogReg', artifact_object='../../static/embeddings/multi_average_train.csv')\n",
    "train_data = pd.read_csv('../../static/embeddings/multi_average_train.csv')\n",
    "X_train, y_train = train_data.iloc[:, :-1], train_data.label\n",
    "\n",
    "task.upload_artifact(name='val_data_preprocessed_for_LogReg', artifact_object='../../static/embeddings/multi_average_val.csv')\n",
    "val_data = pd.read_csv('../../static/embeddings/multi_average_val.csv')\n",
    "X_val, y_val = val_data.iloc[:, :-1], val_data.label\n",
    "\n",
    "strategies = [\"one-vs-all\", \"all-vs-all\"]\n",
    "for strategy in strategies:\n",
    "    multi_clf = MulticlassClassifier(LogisticRegression, strategy)\n",
    "    multi_clf.fit(X_train, y_train, target_name='label')\n",
    "    y_pred = multi_clf.predict(X_val)\n",
    "    log.report_scalar(\"f1-score\", \"TestMultiLogReg strategy:\" + strategy, iteration=5, value=multi_metrics.f1_score(y_true=y_val, y_pred=y_pred, average='macro'))"
   ],
   "metadata": {
    "collapsed": false,
    "ExecuteTime": {
     "start_time": "2023-04-16T13:55:00.014475Z",
     "end_time": "2023-04-16T13:55:07.858988Z"
    }
   }
  },
  {
   "cell_type": "code",
   "execution_count": 10,
   "outputs": [],
   "source": [
    "task.close()"
   ],
   "metadata": {
    "collapsed": false,
    "ExecuteTime": {
     "start_time": "2023-04-16T13:55:07.859952Z",
     "end_time": "2023-04-16T13:56:05.302920Z"
    }
   }
  }
 ],
 "metadata": {
  "kernelspec": {
   "display_name": "Python 3",
   "language": "python",
   "name": "python3"
  },
  "language_info": {
   "codemirror_mode": {
    "name": "ipython",
    "version": 2
   },
   "file_extension": ".py",
   "mimetype": "text/x-python",
   "name": "python",
   "nbconvert_exporter": "python",
   "pygments_lexer": "ipython2",
   "version": "2.7.6"
  }
 },
 "nbformat": 4,
 "nbformat_minor": 0
}
