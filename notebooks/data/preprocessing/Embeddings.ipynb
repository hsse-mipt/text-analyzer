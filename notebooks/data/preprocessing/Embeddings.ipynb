{
 "cells": [
  {
   "cell_type": "code",
   "execution_count": 1,
   "id": "6219ace9",
   "metadata": {
    "ExecuteTime": {
     "end_time": "2023-04-09T20:56:22.219896Z",
     "start_time": "2023-04-09T20:56:21.472958Z"
    }
   },
   "outputs": [],
   "source": [
    "from navec import Navec\n",
    "import numpy as np\n",
    "import pandas as pd\n",
    "\n",
    "path = '../../../static/embeddings/navec_hudlit_v1_12B_500K_300d_100q.tar'\n",
    "navec = Navec.load(path)"
   ]
  },
  {
   "cell_type": "code",
   "execution_count": 2,
   "id": "499853fe",
   "metadata": {
    "ExecuteTime": {
     "end_time": "2023-04-09T20:56:22.222996Z",
     "start_time": "2023-04-09T20:56:22.221748Z"
    }
   },
   "outputs": [],
   "source": [
    "def SentenceMaximum(sentence_):\n",
    "    sentence_ = sentence_.split(\" \")\n",
    "    max_embedding_ = np.array([-1.0 for _ in range(300)])\n",
    "    for i in range(len(sentence_)):\n",
    "        if sentence_[i] in navec:\n",
    "            t1 = max_embedding_ > navec[sentence_[i]]\n",
    "            t2 = max_embedding_ < navec[sentence_[i]]\n",
    "            max_embedding_ = max_embedding_ * t1 + navec[sentence_[i]] * t2\n",
    "    return max_embedding_"
   ]
  },
  {
   "cell_type": "code",
   "execution_count": 3,
   "id": "11d67d1a",
   "metadata": {
    "ExecuteTime": {
     "end_time": "2023-04-09T20:56:22.231562Z",
     "start_time": "2023-04-09T20:56:22.225095Z"
    }
   },
   "outputs": [],
   "source": [
    "def SentenceAverage(sentence_):\n",
    "    sentence_ = sentence_.split(\" \")\n",
    "    average_embedding_ = np.array([0.0 for _ in range(300)])\n",
    "    for i in range(len(sentence_)):\n",
    "        if sentence_[i] in navec:\n",
    "            average_embedding_ += navec[sentence_[i]]\n",
    "    average_embedding_ /= len(sentence_)\n",
    "    return average_embedding_"
   ]
  },
  {
   "cell_type": "code",
   "execution_count": 4,
   "id": "60034448",
   "metadata": {
    "ExecuteTime": {
     "end_time": "2023-04-09T20:56:24.824035Z",
     "start_time": "2023-04-09T20:56:22.233466Z"
    }
   },
   "outputs": [],
   "source": [
    "train_data = pd.read_csv('../../../static/datasets/original/validation_data_labeled.csv', sep='\\t')\n",
    "sentences = train_data.sentence\n",
    "\n",
    "embeddings = pd.DataFrame({i : [] for i in range(300)})\n",
    "\n",
    "for i in range(len(sentences)):\n",
    "    embedding_sen = SentenceAverage(sentences[i])\n",
    "    embeddings.loc[len(embeddings.index)] = embedding_sen"
   ]
  },
  {
   "cell_type": "code",
   "execution_count": 5,
   "id": "9dddd85b",
   "metadata": {
    "ExecuteTime": {
     "end_time": "2023-04-09T20:56:24.829027Z",
     "start_time": "2023-04-09T20:56:24.827668Z"
    }
   },
   "outputs": [],
   "source": [
    "train_data.drop(columns=['sentence', 'entity', 'entity_tag', 'entity_pos_start_rel', 'entity_pos_end_rel'], inplace=True)\n",
    "train_data = pd.concat([embeddings, train_data], axis=1)\n",
    "# train_data = train_data[train_data.label != 0]\n",
    "# train_data.label = train_data.label.replace(-1, 0)"
   ]
  },
  {
   "cell_type": "code",
   "execution_count": 6,
   "id": "a16d4169",
   "metadata": {
    "ExecuteTime": {
     "end_time": "2023-04-09T20:56:25.517636Z",
     "start_time": "2023-04-09T20:56:24.830502Z"
    }
   },
   "outputs": [],
   "source": [
    "train_data.to_csv('../../../static/embeddings/multi_average_val.csv', index=False)"
   ]
  }
 ],
 "metadata": {
  "kernelspec": {
   "display_name": "Python 3 (ipykernel)",
   "language": "python",
   "name": "python3"
  },
  "language_info": {
   "codemirror_mode": {
    "name": "ipython",
    "version": 3
   },
   "file_extension": ".py",
   "mimetype": "text/x-python",
   "name": "python",
   "nbconvert_exporter": "python",
   "pygments_lexer": "ipython3",
   "version": "3.10.9"
  }
 },
 "nbformat": 4,
 "nbformat_minor": 5
}
