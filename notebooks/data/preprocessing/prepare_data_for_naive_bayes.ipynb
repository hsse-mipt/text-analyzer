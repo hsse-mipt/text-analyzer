{
 "cells": [
  {
   "cell_type": "code",
   "execution_count": 11,
   "metadata": {
    "ExecuteTime": {
     "start_time": "2023-04-12T14:08:12.060644Z",
     "end_time": "2023-04-12T14:08:12.066881Z"
    }
   },
   "outputs": [],
   "source": [
    "import pandas as pd\n",
    "import numpy as np\n",
    "import matplotlib.pyplot as plt"
   ]
  },
  {
   "cell_type": "code",
   "execution_count": 12,
   "outputs": [],
   "source": [
    "word_cols = []"
   ],
   "metadata": {
    "collapsed": false,
    "ExecuteTime": {
     "start_time": "2023-04-12T14:08:12.274784Z",
     "end_time": "2023-04-12T14:08:12.319217Z"
    }
   }
  },
  {
   "cell_type": "code",
   "execution_count": 13,
   "metadata": {
    "ExecuteTime": {
     "start_time": "2023-04-12T14:08:12.474767Z",
     "end_time": "2023-04-12T14:08:12.562253Z"
    }
   },
   "outputs": [],
   "source": [
    "from nltk.corpus import stopwords\n",
    "from string import punctuation\n",
    "import pymorphy2\n",
    "import re\n",
    "\n",
    "from tqdm import tqdm\n",
    "\n",
    "\n",
    "class WordEncoder:\n",
    "    ru_stopwords = set(stopwords.words(\"russian\"))\n",
    "    morph = pymorphy2.MorphAnalyzer()\n",
    "\n",
    "    @staticmethod\n",
    "    def is_trash_word(normal_form, parse_word):\n",
    "        return normal_form in WordEncoder.ru_stopwords or WordEncoder.is_name(parse_word) or any(x.isdigit() for x in normal_form)\n",
    "    \n",
    "    @staticmethod\n",
    "    def fit_transform(sentences: list):\n",
    "        one_hot_words_columns = set()\n",
    "        for sentence in tqdm(sentences):\n",
    "            sentence = WordEncoder.preprocess_sentence(sentence)\n",
    "            for word in sentence:\n",
    "                parse_word = WordEncoder.morph.parse(word)\n",
    "                normal_form = parse_word[0].normal_form\n",
    "                if not (WordEncoder.is_trash_word(normal_form, parse_word)):\n",
    "                    one_hot_words_columns.add(normal_form)\n",
    "        one_hot_words_columns = list(one_hot_words_columns)\n",
    "        global word_cols\n",
    "        word_cols = one_hot_words_columns\n",
    "        data = [[0] * len(one_hot_words_columns) for _ in range(len(sentences))]\n",
    "        for i in tqdm(range(len(data))):\n",
    "            sentence = WordEncoder.preprocess_sentence(sentences[i])\n",
    "            for j in range(len(data[i])):\n",
    "                data[i][j] = 1 if one_hot_words_columns[j] in sentence else 0\n",
    "        return pd.DataFrame(data, columns=one_hot_words_columns)\n",
    "    \n",
    "    @staticmethod\n",
    "    def remove_symbols_from_text(text: str, symbols: str) -> str:\n",
    "        return \"\".join([ch for ch in text if ch not in symbols])\n",
    "    \n",
    "    @staticmethod\n",
    "    def preprocess_sentence(sentence: str) -> list[str]:\n",
    "        threshold = 0.5\n",
    "        sentence = sentence.lower()\n",
    "        spec_chars = punctuation + '\\n\\t…—«»'\n",
    "        sentence = WordEncoder.remove_symbols_from_text(sentence, spec_chars)\n",
    "        words = sentence.split()\n",
    "        words = list(filter(lambda word: not re.match(r'[a-z]+', word), words)) # remove english words\n",
    "        return words\n",
    "    \n",
    "    @staticmethod\n",
    "    def is_name(parse_word, threshold_prob = 0.5) -> bool:\n",
    "        for p in parse_word:\n",
    "            if 'Name' in p.tag and p.score >= threshold_prob:\n",
    "                return True\n",
    "        return False"
   ]
  },
  {
   "cell_type": "code",
   "execution_count": 14,
   "metadata": {
    "ExecuteTime": {
     "start_time": "2023-04-12T14:08:12.686799Z",
     "end_time": "2023-04-12T14:08:22.336352Z"
    }
   },
   "outputs": [
    {
     "name": "stderr",
     "output_type": "stream",
     "text": [
      "100%|██████████| 1862/1862 [00:06<00:00, 299.59it/s]\n",
      "100%|██████████| 1862/1862 [00:01<00:00, 997.70it/s] \n"
     ]
    }
   ],
   "source": [
    "encoder = WordEncoder()\n",
    "\n",
    "def get_encoded_df_label(file_path: str):\n",
    "    data = pd.read_csv(file_path)\n",
    "    data.dropna(inplace=True)\n",
    "    sentences = data['sentence'].values.tolist()\n",
    "    return encoder.fit_transform(sentences), data['label']\n",
    "    \n",
    "\n",
    "X_train, y_train = get_encoded_df_label('../../../static/datasets/modified/bin_classification/train_data.csv')"
   ]
  },
  {
   "cell_type": "code",
   "execution_count": 15,
   "outputs": [],
   "source": [
    "df = pd.concat([X_train, y_train], axis=1)\n",
    "df.to_csv('../../../static/datasets/modified/bin_classification/bayes_train.csv', index=False)"
   ],
   "metadata": {
    "collapsed": false,
    "ExecuteTime": {
     "start_time": "2023-04-12T14:08:22.342359Z",
     "end_time": "2023-04-12T14:08:23.565291Z"
    }
   }
  },
  {
   "cell_type": "code",
   "execution_count": 16,
   "metadata": {
    "ExecuteTime": {
     "start_time": "2023-04-12T14:08:23.569429Z",
     "end_time": "2023-04-12T14:08:25.009690Z"
    }
   },
   "outputs": [
    {
     "name": "stderr",
     "output_type": "stream",
     "text": [
      "100%|██████████| 800/800 [00:00<00:00, 929.85it/s]\n"
     ]
    }
   ],
   "source": [
    "def transform_data(file_path: str):\n",
    "    df = pd.read_csv(file_path)\n",
    "    df.dropna(inplace=True)\n",
    "    sentences = df['sentence'].values.tolist()\n",
    "\n",
    "    global word_cols\n",
    "    data = [[None] * len(word_cols) for _ in range(len(sentences))]\n",
    "    for i in tqdm(range(len(data))):\n",
    "        sentence = WordEncoder.preprocess_sentence(sentences[i])\n",
    "        for j in range(len(data[i])):\n",
    "            data[i][j] = 1 if word_cols[j] in sentence else 0\n",
    "    return pd.DataFrame(data, columns=word_cols), df['label']\n",
    "\n",
    "\n",
    "X_val, y_val = transform_data('../../../static/datasets/modified/bin_classification/validation_data.csv')\n",
    "df = pd.concat([X_val, y_val], axis=1)"
   ]
  },
  {
   "cell_type": "code",
   "execution_count": 17,
   "outputs": [],
   "source": [
    "df.to_csv('../../../static/datasets/modified/bin_classification/bayes_val.csv', index=False)"
   ],
   "metadata": {
    "collapsed": false,
    "ExecuteTime": {
     "start_time": "2023-04-12T14:08:25.011282Z",
     "end_time": "2023-04-12T14:08:25.510307Z"
    }
   }
  },
  {
   "cell_type": "code",
   "execution_count": null,
   "outputs": [],
   "source": [],
   "metadata": {
    "collapsed": false
   }
  }
 ],
 "metadata": {
  "kernelspec": {
   "display_name": "Python 3 (ipykernel)",
   "language": "python",
   "name": "python3"
  },
  "language_info": {
   "codemirror_mode": {
    "name": "ipython",
    "version": 3
   },
   "file_extension": ".py",
   "mimetype": "text/x-python",
   "name": "python",
   "nbconvert_exporter": "python",
   "pygments_lexer": "ipython3",
   "version": "3.9.13"
  }
 },
 "nbformat": 4,
 "nbformat_minor": 1
}
