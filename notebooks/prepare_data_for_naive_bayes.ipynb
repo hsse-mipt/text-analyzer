{
 "cells": [
  {
   "cell_type": "code",
   "execution_count": 1,
   "metadata": {
    "collapsed": true
   },
   "outputs": [],
   "source": [
    "import pandas as pd\n",
    "import numpy as np\n",
    "import matplotlib.pyplot as plt\n",
    "from tqdm import tqdm"
   ]
  },
  {
   "cell_type": "code",
   "execution_count": 2,
   "outputs": [],
   "source": [
    "origin = '../static/datasets/original/'\n",
    "file = 'train_data.csv'"
   ],
   "metadata": {
    "collapsed": false
   }
  },
  {
   "cell_type": "code",
   "execution_count": 3,
   "outputs": [
    {
     "data": {
      "text/plain": "                                            sentence                   entity  \\\n0  Джеймс «Бадди» Макгирт (James (Buddy) McGirt, ...               спортсмена   \n1  «За всю нашу долгую карьеру нам довелось играт...               музыкантов   \n2  Ранее, 7 декабря, толпа болельщиков перекрыла ...          Егоре Свиридове   \n3  В субботу, 21 июля 2018 года, на арене СК «Оли...               россиянина   \n4  Представитель талибов Забиулла Муджахид в твит...  американских захватчика   \n\n    entity_tag  entity_pos_start_rel  entity_pos_end_rel  label  \n0   PROFESSION                    86                  96      0  \n1   PROFESSION                   258                 268      0  \n2       PERSON                   175                 190      0  \n3  NATIONALITY                   122                 132      0  \n4   PROFESSION                   109                 132     -1  ",
      "text/html": "<div>\n<style scoped>\n    .dataframe tbody tr th:only-of-type {\n        vertical-align: middle;\n    }\n\n    .dataframe tbody tr th {\n        vertical-align: top;\n    }\n\n    .dataframe thead th {\n        text-align: right;\n    }\n</style>\n<table border=\"1\" class=\"dataframe\">\n  <thead>\n    <tr style=\"text-align: right;\">\n      <th></th>\n      <th>sentence</th>\n      <th>entity</th>\n      <th>entity_tag</th>\n      <th>entity_pos_start_rel</th>\n      <th>entity_pos_end_rel</th>\n      <th>label</th>\n    </tr>\n  </thead>\n  <tbody>\n    <tr>\n      <th>0</th>\n      <td>Джеймс «Бадди» Макгирт (James (Buddy) McGirt, ...</td>\n      <td>спортсмена</td>\n      <td>PROFESSION</td>\n      <td>86</td>\n      <td>96</td>\n      <td>0</td>\n    </tr>\n    <tr>\n      <th>1</th>\n      <td>«За всю нашу долгую карьеру нам довелось играт...</td>\n      <td>музыкантов</td>\n      <td>PROFESSION</td>\n      <td>258</td>\n      <td>268</td>\n      <td>0</td>\n    </tr>\n    <tr>\n      <th>2</th>\n      <td>Ранее, 7 декабря, толпа болельщиков перекрыла ...</td>\n      <td>Егоре Свиридове</td>\n      <td>PERSON</td>\n      <td>175</td>\n      <td>190</td>\n      <td>0</td>\n    </tr>\n    <tr>\n      <th>3</th>\n      <td>В субботу, 21 июля 2018 года, на арене СК «Оли...</td>\n      <td>россиянина</td>\n      <td>NATIONALITY</td>\n      <td>122</td>\n      <td>132</td>\n      <td>0</td>\n    </tr>\n    <tr>\n      <th>4</th>\n      <td>Представитель талибов Забиулла Муджахид в твит...</td>\n      <td>американских захватчика</td>\n      <td>PROFESSION</td>\n      <td>109</td>\n      <td>132</td>\n      <td>-1</td>\n    </tr>\n  </tbody>\n</table>\n</div>"
     },
     "execution_count": 3,
     "metadata": {},
     "output_type": "execute_result"
    }
   ],
   "source": [
    "train_data = pd.read_csv(origin + file, sep='\\t')\n",
    "train_data.head()"
   ],
   "metadata": {
    "collapsed": false
   }
  },
  {
   "cell_type": "code",
   "execution_count": 4,
   "outputs": [
    {
     "data": {
      "text/plain": "                                            sentence  label\n0  Джеймс «Бадди» Макгирт (James (Buddy) McGirt, ...      0\n1  «За всю нашу долгую карьеру нам довелось играт...      0\n2  Ранее, 7 декабря, толпа болельщиков перекрыла ...      0\n3  В субботу, 21 июля 2018 года, на арене СК «Оли...      0\n4  Представитель талибов Забиулла Муджахид в твит...     -1",
      "text/html": "<div>\n<style scoped>\n    .dataframe tbody tr th:only-of-type {\n        vertical-align: middle;\n    }\n\n    .dataframe tbody tr th {\n        vertical-align: top;\n    }\n\n    .dataframe thead th {\n        text-align: right;\n    }\n</style>\n<table border=\"1\" class=\"dataframe\">\n  <thead>\n    <tr style=\"text-align: right;\">\n      <th></th>\n      <th>sentence</th>\n      <th>label</th>\n    </tr>\n  </thead>\n  <tbody>\n    <tr>\n      <th>0</th>\n      <td>Джеймс «Бадди» Макгирт (James (Buddy) McGirt, ...</td>\n      <td>0</td>\n    </tr>\n    <tr>\n      <th>1</th>\n      <td>«За всю нашу долгую карьеру нам довелось играт...</td>\n      <td>0</td>\n    </tr>\n    <tr>\n      <th>2</th>\n      <td>Ранее, 7 декабря, толпа болельщиков перекрыла ...</td>\n      <td>0</td>\n    </tr>\n    <tr>\n      <th>3</th>\n      <td>В субботу, 21 июля 2018 года, на арене СК «Оли...</td>\n      <td>0</td>\n    </tr>\n    <tr>\n      <th>4</th>\n      <td>Представитель талибов Забиулла Муджахид в твит...</td>\n      <td>-1</td>\n    </tr>\n  </tbody>\n</table>\n</div>"
     },
     "execution_count": 4,
     "metadata": {},
     "output_type": "execute_result"
    }
   ],
   "source": [
    "columns = ['sentence', 'label']\n",
    "train_data = train_data[columns]\n",
    "train_data.head()"
   ],
   "metadata": {
    "collapsed": false
   }
  },
  {
   "cell_type": "code",
   "execution_count": 5,
   "outputs": [],
   "source": [
    "sentences = train_data.sentence.tolist()"
   ],
   "metadata": {
    "collapsed": false
   }
  },
  {
   "cell_type": "code",
   "execution_count": 6,
   "outputs": [],
   "source": [
    "from nltk.corpus import stopwords\n",
    "ru_stopwords = set(stopwords.words(\"russian\"))"
   ],
   "metadata": {
    "collapsed": false
   }
  },
  {
   "cell_type": "code",
   "execution_count": 7,
   "outputs": [],
   "source": [
    "import string\n",
    "spec_chars = string.punctuation + '\\n\\xa0«»\\t—…'\n",
    "\n",
    "def remove_symbols_from_text(text, symbols):\n",
    "    return \"\".join([ch for ch in text if ch not in symbols])"
   ],
   "metadata": {
    "collapsed": false
   }
  },
  {
   "cell_type": "code",
   "execution_count": 8,
   "outputs": [],
   "source": [
    "from nltk.stem import SnowballStemmer\n",
    "import pymorphy2\n",
    "\n",
    "morph = pymorphy2.MorphAnalyzer()"
   ],
   "metadata": {
    "collapsed": false
   }
  },
  {
   "cell_type": "code",
   "execution_count": 9,
   "outputs": [],
   "source": [
    "one_hot_words_columns = set()"
   ],
   "metadata": {
    "collapsed": false
   }
  },
  {
   "cell_type": "code",
   "execution_count": 10,
   "outputs": [],
   "source": [
    "def preprocess_sentence(sentence):\n",
    "    sentence = sentence.lower()\n",
    "    spec_chars = string.punctuation + '\\n\\t…—«»'\n",
    "    sentence = remove_symbols_from_text(sentence, spec_chars)\n",
    "    return sentence.split()"
   ],
   "metadata": {
    "collapsed": false
   }
  },
  {
   "cell_type": "code",
   "execution_count": 11,
   "outputs": [
    {
     "name": "stderr",
     "output_type": "stream",
     "text": [
      "100%|██████████| 6637/6637 [00:19<00:00, 332.18it/s]\n"
     ]
    }
   ],
   "source": [
    "for sentence in tqdm(sentences):\n",
    "    sentence = preprocess_sentence(sentence)\n",
    "    for word in sentence:\n",
    "        word = morph.parse(word)[0].normal_form\n",
    "        if not (word in ru_stopwords or word.isnumeric()):\n",
    "            one_hot_words_columns.add(word)"
   ],
   "metadata": {
    "collapsed": false
   }
  },
  {
   "cell_type": "code",
   "execution_count": 12,
   "outputs": [],
   "source": [
    "one_hot_words_columns = list(one_hot_words_columns)"
   ],
   "metadata": {
    "collapsed": false
   }
  },
  {
   "cell_type": "code",
   "execution_count": 13,
   "outputs": [],
   "source": [
    "data = [[0] * len(one_hot_words_columns)] * train_data.shape[0]"
   ],
   "metadata": {
    "collapsed": false
   }
  },
  {
   "cell_type": "code",
   "execution_count": 14,
   "outputs": [
    {
     "name": "stderr",
     "output_type": "stream",
     "text": [
      "100%|██████████| 6637/6637 [00:17<00:00, 375.08it/s]\n"
     ]
    }
   ],
   "source": [
    "for i in tqdm(range(len(data))):\n",
    "    sentence = preprocess_sentence(sentences[i])\n",
    "    for j in range(len(data[i])):\n",
    "        data[i][j] = 1 if one_hot_words_columns[j] in sentence else 0"
   ],
   "metadata": {
    "collapsed": false
   }
  },
  {
   "cell_type": "code",
   "execution_count": 15,
   "outputs": [
    {
     "data": {
      "text/plain": "   пешеход  лунгин  stones  кара  нквд  укреплять  санчёс  европарламент  \\\n0        0       0       0     0     0          0       0              0   \n1        0       0       0     0     0          0       0              0   \n2        0       0       0     0     0          0       0              0   \n3        0       0       0     0     0          0       0              0   \n4        0       0       0     0     0          0       0              0   \n\n   микалиан  хичкок  ...  сумана  амато  патаркацишвили  уильям  \\\n0         0       0  ...       0      0               0       0   \n1         0       0  ...       0      0               0       0   \n2         0       0  ...       0      0               0       0   \n3         0       0  ...       0      0               0       0   \n4         0       0  ...       0      0               0       0   \n\n   ракетыноситель  казнь  симмондс  калин  ссора  догонять  \n0               0      0         0      0      0         0  \n1               0      0         0      0      0         0  \n2               0      0         0      0      0         0  \n3               0      0         0      0      0         0  \n4               0      0         0      0      0         0  \n\n[5 rows x 10891 columns]",
      "text/html": "<div>\n<style scoped>\n    .dataframe tbody tr th:only-of-type {\n        vertical-align: middle;\n    }\n\n    .dataframe tbody tr th {\n        vertical-align: top;\n    }\n\n    .dataframe thead th {\n        text-align: right;\n    }\n</style>\n<table border=\"1\" class=\"dataframe\">\n  <thead>\n    <tr style=\"text-align: right;\">\n      <th></th>\n      <th>пешеход</th>\n      <th>лунгин</th>\n      <th>stones</th>\n      <th>кара</th>\n      <th>нквд</th>\n      <th>укреплять</th>\n      <th>санчёс</th>\n      <th>европарламент</th>\n      <th>микалиан</th>\n      <th>хичкок</th>\n      <th>...</th>\n      <th>сумана</th>\n      <th>амато</th>\n      <th>патаркацишвили</th>\n      <th>уильям</th>\n      <th>ракетыноситель</th>\n      <th>казнь</th>\n      <th>симмондс</th>\n      <th>калин</th>\n      <th>ссора</th>\n      <th>догонять</th>\n    </tr>\n  </thead>\n  <tbody>\n    <tr>\n      <th>0</th>\n      <td>0</td>\n      <td>0</td>\n      <td>0</td>\n      <td>0</td>\n      <td>0</td>\n      <td>0</td>\n      <td>0</td>\n      <td>0</td>\n      <td>0</td>\n      <td>0</td>\n      <td>...</td>\n      <td>0</td>\n      <td>0</td>\n      <td>0</td>\n      <td>0</td>\n      <td>0</td>\n      <td>0</td>\n      <td>0</td>\n      <td>0</td>\n      <td>0</td>\n      <td>0</td>\n    </tr>\n    <tr>\n      <th>1</th>\n      <td>0</td>\n      <td>0</td>\n      <td>0</td>\n      <td>0</td>\n      <td>0</td>\n      <td>0</td>\n      <td>0</td>\n      <td>0</td>\n      <td>0</td>\n      <td>0</td>\n      <td>...</td>\n      <td>0</td>\n      <td>0</td>\n      <td>0</td>\n      <td>0</td>\n      <td>0</td>\n      <td>0</td>\n      <td>0</td>\n      <td>0</td>\n      <td>0</td>\n      <td>0</td>\n    </tr>\n    <tr>\n      <th>2</th>\n      <td>0</td>\n      <td>0</td>\n      <td>0</td>\n      <td>0</td>\n      <td>0</td>\n      <td>0</td>\n      <td>0</td>\n      <td>0</td>\n      <td>0</td>\n      <td>0</td>\n      <td>...</td>\n      <td>0</td>\n      <td>0</td>\n      <td>0</td>\n      <td>0</td>\n      <td>0</td>\n      <td>0</td>\n      <td>0</td>\n      <td>0</td>\n      <td>0</td>\n      <td>0</td>\n    </tr>\n    <tr>\n      <th>3</th>\n      <td>0</td>\n      <td>0</td>\n      <td>0</td>\n      <td>0</td>\n      <td>0</td>\n      <td>0</td>\n      <td>0</td>\n      <td>0</td>\n      <td>0</td>\n      <td>0</td>\n      <td>...</td>\n      <td>0</td>\n      <td>0</td>\n      <td>0</td>\n      <td>0</td>\n      <td>0</td>\n      <td>0</td>\n      <td>0</td>\n      <td>0</td>\n      <td>0</td>\n      <td>0</td>\n    </tr>\n    <tr>\n      <th>4</th>\n      <td>0</td>\n      <td>0</td>\n      <td>0</td>\n      <td>0</td>\n      <td>0</td>\n      <td>0</td>\n      <td>0</td>\n      <td>0</td>\n      <td>0</td>\n      <td>0</td>\n      <td>...</td>\n      <td>0</td>\n      <td>0</td>\n      <td>0</td>\n      <td>0</td>\n      <td>0</td>\n      <td>0</td>\n      <td>0</td>\n      <td>0</td>\n      <td>0</td>\n      <td>0</td>\n    </tr>\n  </tbody>\n</table>\n<p>5 rows × 10891 columns</p>\n</div>"
     },
     "execution_count": 15,
     "metadata": {},
     "output_type": "execute_result"
    }
   ],
   "source": [
    "df = pd.DataFrame(data, columns=one_hot_words_columns)\n",
    "df.head()"
   ],
   "metadata": {
    "collapsed": false
   }
  }
 ],
 "metadata": {
  "kernelspec": {
   "display_name": "Python 3",
   "language": "python",
   "name": "python3"
  },
  "language_info": {
   "codemirror_mode": {
    "name": "ipython",
    "version": 2
   },
   "file_extension": ".py",
   "mimetype": "text/x-python",
   "name": "python",
   "nbconvert_exporter": "python",
   "pygments_lexer": "ipython2",
   "version": "2.7.6"
  }
 },
 "nbformat": 4,
 "nbformat_minor": 0
}
