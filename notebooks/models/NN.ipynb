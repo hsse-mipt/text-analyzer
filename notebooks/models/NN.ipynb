{
  "cells": [
    {
      "cell_type": "code",
      "execution_count": 351,
      "metadata": {
        "ExecuteTime": {
          "end_time": "2023-05-16T14:31:12.210577Z",
          "start_time": "2023-05-16T14:31:09.029683Z"
        },
        "id": "OwCftEY-_eya"
      },
      "outputs": [],
      "source": [
        "import pandas as pd\n",
        "import numpy as np\n",
        "\n",
        "from matplotlib import pyplot as plt\n",
        "\n",
        "from sklearn.model_selection import train_test_split\n",
        "\n",
        "import torch\n",
        "import torch.nn as nn\n",
        "import torch.optim as optim\n",
        "from torch.optim import lr_scheduler\n",
        "from torch.nn import functional as F\n",
        "\n",
        "from torch.utils.data import TensorDataset, DataLoader\n",
        "\n",
        "from tqdm.auto import trange"
      ]
    },
    {
      "cell_type": "code",
      "execution_count": 352,
      "metadata": {
        "ExecuteTime": {
          "end_time": "2023-05-16T14:31:12.779471Z",
          "start_time": "2023-05-16T14:31:12.204236Z"
        },
        "colab": {
          "base_uri": "https://localhost:8080/"
        },
        "id": "bDDWrjK6_eyd",
        "outputId": "deb32f33-2ffb-4883-ae0e-404223c4eb75"
      },
      "outputs": [
        {
          "output_type": "stream",
          "name": "stdout",
          "text": [
            "Looking in indexes: https://pypi.org/simple, https://us-python.pkg.dev/colab-wheels/public/simple/\n",
            "Requirement already satisfied: navec in /usr/local/lib/python3.10/dist-packages (0.10.0)\n",
            "Requirement already satisfied: numpy in /usr/local/lib/python3.10/dist-packages (from navec) (1.22.4)\n"
          ]
        }
      ],
      "source": [
        "!pip install navec\n",
        "from navec import Navec\n",
        "\n",
        "path = 'navec_hudlit_v1_12B_500K_300d_100q.tar'\n",
        "navec = Navec.load(path)"
      ]
    },
    {
      "cell_type": "code",
      "execution_count": 353,
      "metadata": {
        "ExecuteTime": {
          "end_time": "2023-05-16T14:31:12.933161Z",
          "start_time": "2023-05-16T14:31:12.867228Z"
        },
        "id": "1a89Gfca_eye"
      },
      "outputs": [],
      "source": [
        "train_data = pd.read_csv('validation_data_labeled.csv', sep='\\t')\n",
        "sentences = train_data.sentence\n",
        "emb = np.zeros((len(sentences), 100))\n",
        "'''\n",
        "for i in range(len(sentences)):\n",
        "    sentence = sentences[i].split(\" \")\n",
        "    for j in range(len(sentence)):\n",
        "        if sentence[j] in navec:\n",
        "            emb[i][j] = navec[sentence[j]]\n",
        "'''\n",
        "a = [0]\n",
        "for i in range(len(sentences)):\n",
        "    sentence = sentences[i].split(\" \")\n",
        "    for j in range(len(sentence)):\n",
        "        a.append(sentence[j])\n",
        "        emb[i][j] = len(a) - 1"
      ]
    },
    {
      "cell_type": "code",
      "execution_count": 354,
      "metadata": {
        "ExecuteTime": {
          "end_time": "2023-05-16T14:31:12.939088Z",
          "start_time": "2023-05-16T14:31:12.937075Z"
        },
        "id": "Rz77-dYO_eye"
      },
      "outputs": [],
      "source": [
        "X = emb\n",
        "y = pd.DataFrame(train_data['label'])\n",
        "y.replace(1, 2, inplace=True)\n",
        "y.replace(0, 1, inplace=True)\n",
        "y.replace(-1, 0, inplace=True)\n",
        "y = np.array(y)"
      ]
    },
    {
      "cell_type": "code",
      "source": [
        "y"
      ],
      "metadata": {
        "colab": {
          "base_uri": "https://localhost:8080/"
        },
        "id": "XBFxSsK0kSrt",
        "outputId": "b8df6c01-608e-4d87-ad37-48fc451f9d8e"
      },
      "execution_count": 355,
      "outputs": [
        {
          "output_type": "execute_result",
          "data": {
            "text/plain": [
              "array([[1],\n",
              "       [1],\n",
              "       [1],\n",
              "       ...,\n",
              "       [0],\n",
              "       [1],\n",
              "       [1]])"
            ]
          },
          "metadata": {},
          "execution_count": 355
        }
      ]
    },
    {
      "cell_type": "code",
      "execution_count": 356,
      "metadata": {
        "ExecuteTime": {
          "end_time": "2023-05-16T14:31:12.948250Z",
          "start_time": "2023-05-16T14:31:12.943693Z"
        },
        "colab": {
          "base_uri": "https://localhost:8080/"
        },
        "id": "brYiPJ2t_eye",
        "outputId": "1d3dd85a-bb3a-4a2a-8ef9-4fd94bcb1279"
      },
      "outputs": [
        {
          "output_type": "execute_result",
          "data": {
            "text/plain": [
              "(2845, 100)"
            ]
          },
          "metadata": {},
          "execution_count": 356
        }
      ],
      "source": [
        "X.shape"
      ]
    },
    {
      "cell_type": "code",
      "execution_count": 357,
      "metadata": {
        "scrolled": true,
        "ExecuteTime": {
          "end_time": "2023-05-16T14:31:12.953566Z",
          "start_time": "2023-05-16T14:31:12.948807Z"
        },
        "colab": {
          "base_uri": "https://localhost:8080/"
        },
        "id": "_kYM9kDy_eyf",
        "outputId": "0de5d31b-f628-4400-e2c1-a1cb9f7c87c2"
      },
      "outputs": [
        {
          "output_type": "execute_result",
          "data": {
            "text/plain": [
              "(2845, 1)"
            ]
          },
          "metadata": {},
          "execution_count": 357
        }
      ],
      "source": [
        "y.shape"
      ]
    },
    {
      "cell_type": "code",
      "execution_count": 358,
      "metadata": {
        "ExecuteTime": {
          "end_time": "2023-05-16T14:31:13.448851Z",
          "start_time": "2023-05-16T14:31:12.953226Z"
        },
        "id": "FNlGIAvR_eyf"
      },
      "outputs": [],
      "source": [
        "X_train, X_val, y_train, y_val = train_test_split(X, y, random_state=42)"
      ]
    },
    {
      "cell_type": "code",
      "execution_count": 359,
      "metadata": {
        "ExecuteTime": {
          "end_time": "2023-05-16T14:31:13.452892Z",
          "start_time": "2023-05-16T14:31:13.447314Z"
        },
        "colab": {
          "base_uri": "https://localhost:8080/"
        },
        "id": "0zL8-Rqp_eyf",
        "outputId": "9842d32d-c39f-48b8-b522-f19b52f422bb"
      },
      "outputs": [
        {
          "output_type": "execute_result",
          "data": {
            "text/plain": [
              "array([[28074., 28075., 28076., ...,     0.,     0.,     0.],\n",
              "       [36072., 36073., 36074., ...,     0.,     0.,     0.],\n",
              "       [ 3341.,  3342.,  3343., ...,     0.,     0.,     0.],\n",
              "       ...,\n",
              "       [22826., 22827., 22828., ...,     0.,     0.,     0.],\n",
              "       [26162., 26163., 26164., ...,     0.,     0.,     0.],\n",
              "       [17518., 17519., 17520., ...,     0.,     0.,     0.]])"
            ]
          },
          "metadata": {},
          "execution_count": 359
        }
      ],
      "source": [
        "X_train"
      ]
    },
    {
      "cell_type": "code",
      "execution_count": 360,
      "outputs": [
        {
          "output_type": "execute_result",
          "data": {
            "text/plain": [
              "array([[ 8481.,  8482.,  8483., ...,     0.,     0.,     0.],\n",
              "       [45223., 45224., 45225., ...,     0.,     0.,     0.],\n",
              "       [23190., 23191., 23192., ...,     0.,     0.,     0.],\n",
              "       ...,\n",
              "       [31963., 31964., 31965., ...,     0.,     0.,     0.],\n",
              "       [ 8905.,  8906.,  8907., ...,     0.,     0.,     0.],\n",
              "       [40331., 40332., 40333., ...,     0.,     0.,     0.]])"
            ]
          },
          "metadata": {},
          "execution_count": 360
        }
      ],
      "source": [
        "X_val"
      ],
      "metadata": {
        "ExecuteTime": {
          "end_time": "2023-05-16T14:31:13.458399Z",
          "start_time": "2023-05-16T14:31:13.453729Z"
        },
        "colab": {
          "base_uri": "https://localhost:8080/"
        },
        "id": "xqgMtFut_eyg",
        "outputId": "e803b943-6086-462e-e317-2f76bec8464b"
      }
    },
    {
      "cell_type": "code",
      "source": [
        "y_train"
      ],
      "metadata": {
        "colab": {
          "base_uri": "https://localhost:8080/"
        },
        "id": "w9jaYOpXkXa0",
        "outputId": "8659bca6-5387-4573-e5f6-ddbaa93f97b3"
      },
      "execution_count": 361,
      "outputs": [
        {
          "output_type": "execute_result",
          "data": {
            "text/plain": [
              "array([[1],\n",
              "       [1],\n",
              "       [1],\n",
              "       ...,\n",
              "       [1],\n",
              "       [1],\n",
              "       [1]])"
            ]
          },
          "metadata": {},
          "execution_count": 361
        }
      ]
    },
    {
      "cell_type": "code",
      "source": [
        "y_val"
      ],
      "metadata": {
        "colab": {
          "base_uri": "https://localhost:8080/"
        },
        "id": "tZyxboYBkZQO",
        "outputId": "e44c6ad4-65e3-411f-e536-bad9a71ef8b1"
      },
      "execution_count": 362,
      "outputs": [
        {
          "output_type": "execute_result",
          "data": {
            "text/plain": [
              "array([[2],\n",
              "       [2],\n",
              "       [1],\n",
              "       [0],\n",
              "       [2],\n",
              "       [1],\n",
              "       [1],\n",
              "       [2],\n",
              "       [1],\n",
              "       [1],\n",
              "       [0],\n",
              "       [2],\n",
              "       [0],\n",
              "       [0],\n",
              "       [1],\n",
              "       [1],\n",
              "       [1],\n",
              "       [1],\n",
              "       [2],\n",
              "       [1],\n",
              "       [2],\n",
              "       [1],\n",
              "       [1],\n",
              "       [1],\n",
              "       [1],\n",
              "       [1],\n",
              "       [0],\n",
              "       [1],\n",
              "       [2],\n",
              "       [1],\n",
              "       [1],\n",
              "       [1],\n",
              "       [1],\n",
              "       [1],\n",
              "       [1],\n",
              "       [1],\n",
              "       [2],\n",
              "       [1],\n",
              "       [0],\n",
              "       [0],\n",
              "       [1],\n",
              "       [0],\n",
              "       [1],\n",
              "       [1],\n",
              "       [1],\n",
              "       [2],\n",
              "       [1],\n",
              "       [1],\n",
              "       [1],\n",
              "       [1],\n",
              "       [1],\n",
              "       [1],\n",
              "       [0],\n",
              "       [1],\n",
              "       [1],\n",
              "       [0],\n",
              "       [1],\n",
              "       [0],\n",
              "       [1],\n",
              "       [0],\n",
              "       [1],\n",
              "       [1],\n",
              "       [0],\n",
              "       [1],\n",
              "       [1],\n",
              "       [1],\n",
              "       [1],\n",
              "       [1],\n",
              "       [2],\n",
              "       [1],\n",
              "       [1],\n",
              "       [1],\n",
              "       [1],\n",
              "       [1],\n",
              "       [1],\n",
              "       [0],\n",
              "       [1],\n",
              "       [1],\n",
              "       [1],\n",
              "       [1],\n",
              "       [0],\n",
              "       [1],\n",
              "       [0],\n",
              "       [0],\n",
              "       [1],\n",
              "       [1],\n",
              "       [1],\n",
              "       [1],\n",
              "       [1],\n",
              "       [1],\n",
              "       [0],\n",
              "       [0],\n",
              "       [1],\n",
              "       [1],\n",
              "       [1],\n",
              "       [1],\n",
              "       [0],\n",
              "       [1],\n",
              "       [1],\n",
              "       [1],\n",
              "       [1],\n",
              "       [0],\n",
              "       [1],\n",
              "       [1],\n",
              "       [2],\n",
              "       [1],\n",
              "       [1],\n",
              "       [2],\n",
              "       [1],\n",
              "       [0],\n",
              "       [1],\n",
              "       [2],\n",
              "       [0],\n",
              "       [1],\n",
              "       [1],\n",
              "       [1],\n",
              "       [1],\n",
              "       [1],\n",
              "       [1],\n",
              "       [1],\n",
              "       [2],\n",
              "       [1],\n",
              "       [1],\n",
              "       [0],\n",
              "       [1],\n",
              "       [2],\n",
              "       [1],\n",
              "       [1],\n",
              "       [2],\n",
              "       [1],\n",
              "       [0],\n",
              "       [1],\n",
              "       [1],\n",
              "       [1],\n",
              "       [1],\n",
              "       [1],\n",
              "       [1],\n",
              "       [1],\n",
              "       [1],\n",
              "       [1],\n",
              "       [1],\n",
              "       [1],\n",
              "       [1],\n",
              "       [1],\n",
              "       [1],\n",
              "       [1],\n",
              "       [1],\n",
              "       [1],\n",
              "       [0],\n",
              "       [1],\n",
              "       [1],\n",
              "       [2],\n",
              "       [1],\n",
              "       [0],\n",
              "       [2],\n",
              "       [1],\n",
              "       [1],\n",
              "       [1],\n",
              "       [2],\n",
              "       [0],\n",
              "       [1],\n",
              "       [1],\n",
              "       [1],\n",
              "       [1],\n",
              "       [1],\n",
              "       [1],\n",
              "       [1],\n",
              "       [1],\n",
              "       [1],\n",
              "       [2],\n",
              "       [1],\n",
              "       [1],\n",
              "       [1],\n",
              "       [1],\n",
              "       [1],\n",
              "       [1],\n",
              "       [1],\n",
              "       [1],\n",
              "       [1],\n",
              "       [1],\n",
              "       [0],\n",
              "       [1],\n",
              "       [2],\n",
              "       [1],\n",
              "       [2],\n",
              "       [2],\n",
              "       [2],\n",
              "       [1],\n",
              "       [0],\n",
              "       [1],\n",
              "       [0],\n",
              "       [1],\n",
              "       [2],\n",
              "       [1],\n",
              "       [1],\n",
              "       [1],\n",
              "       [1],\n",
              "       [1],\n",
              "       [1],\n",
              "       [1],\n",
              "       [0],\n",
              "       [0],\n",
              "       [0],\n",
              "       [1],\n",
              "       [1],\n",
              "       [1],\n",
              "       [2],\n",
              "       [0],\n",
              "       [0],\n",
              "       [1],\n",
              "       [2],\n",
              "       [1],\n",
              "       [1],\n",
              "       [1],\n",
              "       [1],\n",
              "       [0],\n",
              "       [1],\n",
              "       [1],\n",
              "       [1],\n",
              "       [1],\n",
              "       [1],\n",
              "       [1],\n",
              "       [1],\n",
              "       [1],\n",
              "       [1],\n",
              "       [1],\n",
              "       [1],\n",
              "       [1],\n",
              "       [2],\n",
              "       [1],\n",
              "       [1],\n",
              "       [1],\n",
              "       [0],\n",
              "       [1],\n",
              "       [0],\n",
              "       [1],\n",
              "       [1],\n",
              "       [1],\n",
              "       [1],\n",
              "       [0],\n",
              "       [1],\n",
              "       [1],\n",
              "       [1],\n",
              "       [1],\n",
              "       [1],\n",
              "       [1],\n",
              "       [1],\n",
              "       [1],\n",
              "       [2],\n",
              "       [0],\n",
              "       [1],\n",
              "       [2],\n",
              "       [0],\n",
              "       [2],\n",
              "       [1],\n",
              "       [0],\n",
              "       [2],\n",
              "       [1],\n",
              "       [1],\n",
              "       [2],\n",
              "       [1],\n",
              "       [1],\n",
              "       [0],\n",
              "       [1],\n",
              "       [0],\n",
              "       [1],\n",
              "       [1],\n",
              "       [1],\n",
              "       [2],\n",
              "       [1],\n",
              "       [1],\n",
              "       [1],\n",
              "       [1],\n",
              "       [2],\n",
              "       [1],\n",
              "       [2],\n",
              "       [0],\n",
              "       [1],\n",
              "       [1],\n",
              "       [1],\n",
              "       [1],\n",
              "       [1],\n",
              "       [0],\n",
              "       [1],\n",
              "       [0],\n",
              "       [2],\n",
              "       [1],\n",
              "       [0],\n",
              "       [1],\n",
              "       [1],\n",
              "       [1],\n",
              "       [1],\n",
              "       [1],\n",
              "       [1],\n",
              "       [0],\n",
              "       [1],\n",
              "       [1],\n",
              "       [2],\n",
              "       [2],\n",
              "       [0],\n",
              "       [1],\n",
              "       [1],\n",
              "       [1],\n",
              "       [1],\n",
              "       [1],\n",
              "       [1],\n",
              "       [0],\n",
              "       [1],\n",
              "       [1],\n",
              "       [1],\n",
              "       [0],\n",
              "       [2],\n",
              "       [1],\n",
              "       [1],\n",
              "       [0],\n",
              "       [1],\n",
              "       [0],\n",
              "       [2],\n",
              "       [2],\n",
              "       [1],\n",
              "       [1],\n",
              "       [1],\n",
              "       [2],\n",
              "       [0],\n",
              "       [0],\n",
              "       [1],\n",
              "       [1],\n",
              "       [0],\n",
              "       [1],\n",
              "       [1],\n",
              "       [1],\n",
              "       [1],\n",
              "       [1],\n",
              "       [2],\n",
              "       [1],\n",
              "       [1],\n",
              "       [1],\n",
              "       [1],\n",
              "       [1],\n",
              "       [1],\n",
              "       [2],\n",
              "       [1],\n",
              "       [1],\n",
              "       [0],\n",
              "       [1],\n",
              "       [1],\n",
              "       [1],\n",
              "       [1],\n",
              "       [1],\n",
              "       [1],\n",
              "       [0],\n",
              "       [1],\n",
              "       [1],\n",
              "       [1],\n",
              "       [1],\n",
              "       [1],\n",
              "       [1],\n",
              "       [1],\n",
              "       [1],\n",
              "       [1],\n",
              "       [1],\n",
              "       [1],\n",
              "       [1],\n",
              "       [0],\n",
              "       [2],\n",
              "       [1],\n",
              "       [0],\n",
              "       [1],\n",
              "       [1],\n",
              "       [2],\n",
              "       [1],\n",
              "       [1],\n",
              "       [2],\n",
              "       [2],\n",
              "       [1],\n",
              "       [1],\n",
              "       [1],\n",
              "       [1],\n",
              "       [1],\n",
              "       [0],\n",
              "       [2],\n",
              "       [1],\n",
              "       [1],\n",
              "       [1],\n",
              "       [1],\n",
              "       [1],\n",
              "       [1],\n",
              "       [1],\n",
              "       [1],\n",
              "       [1],\n",
              "       [1],\n",
              "       [1],\n",
              "       [1],\n",
              "       [1],\n",
              "       [2],\n",
              "       [1],\n",
              "       [1],\n",
              "       [1],\n",
              "       [1],\n",
              "       [2],\n",
              "       [1],\n",
              "       [1],\n",
              "       [0],\n",
              "       [1],\n",
              "       [0],\n",
              "       [1],\n",
              "       [1],\n",
              "       [1],\n",
              "       [1],\n",
              "       [1],\n",
              "       [1],\n",
              "       [2],\n",
              "       [1],\n",
              "       [0],\n",
              "       [0],\n",
              "       [2],\n",
              "       [1],\n",
              "       [1],\n",
              "       [1],\n",
              "       [2],\n",
              "       [1],\n",
              "       [2],\n",
              "       [1],\n",
              "       [1],\n",
              "       [1],\n",
              "       [1],\n",
              "       [1],\n",
              "       [1],\n",
              "       [1],\n",
              "       [1],\n",
              "       [0],\n",
              "       [0],\n",
              "       [1],\n",
              "       [1],\n",
              "       [1],\n",
              "       [1],\n",
              "       [1],\n",
              "       [1],\n",
              "       [1],\n",
              "       [0],\n",
              "       [1],\n",
              "       [1],\n",
              "       [2],\n",
              "       [1],\n",
              "       [1],\n",
              "       [1],\n",
              "       [0],\n",
              "       [1],\n",
              "       [1],\n",
              "       [0],\n",
              "       [1],\n",
              "       [1],\n",
              "       [1],\n",
              "       [1],\n",
              "       [0],\n",
              "       [1],\n",
              "       [1],\n",
              "       [1],\n",
              "       [0],\n",
              "       [1],\n",
              "       [1],\n",
              "       [1],\n",
              "       [2],\n",
              "       [1],\n",
              "       [1],\n",
              "       [2],\n",
              "       [2],\n",
              "       [1],\n",
              "       [1],\n",
              "       [2],\n",
              "       [1],\n",
              "       [1],\n",
              "       [1],\n",
              "       [0],\n",
              "       [1],\n",
              "       [1],\n",
              "       [0],\n",
              "       [1],\n",
              "       [1],\n",
              "       [1],\n",
              "       [1],\n",
              "       [1],\n",
              "       [1],\n",
              "       [1],\n",
              "       [0],\n",
              "       [2],\n",
              "       [2],\n",
              "       [1],\n",
              "       [1],\n",
              "       [1],\n",
              "       [1],\n",
              "       [2],\n",
              "       [1],\n",
              "       [0],\n",
              "       [1],\n",
              "       [0],\n",
              "       [0],\n",
              "       [2],\n",
              "       [0],\n",
              "       [1],\n",
              "       [0],\n",
              "       [2],\n",
              "       [1],\n",
              "       [1],\n",
              "       [1],\n",
              "       [0],\n",
              "       [0],\n",
              "       [1],\n",
              "       [0],\n",
              "       [1],\n",
              "       [1],\n",
              "       [0],\n",
              "       [1],\n",
              "       [1],\n",
              "       [1],\n",
              "       [2],\n",
              "       [0],\n",
              "       [1],\n",
              "       [1],\n",
              "       [1],\n",
              "       [0],\n",
              "       [1],\n",
              "       [1],\n",
              "       [1],\n",
              "       [1],\n",
              "       [1],\n",
              "       [2],\n",
              "       [1],\n",
              "       [1],\n",
              "       [1],\n",
              "       [0],\n",
              "       [1],\n",
              "       [1],\n",
              "       [1],\n",
              "       [1],\n",
              "       [1],\n",
              "       [1],\n",
              "       [1],\n",
              "       [0],\n",
              "       [1],\n",
              "       [1],\n",
              "       [1],\n",
              "       [1],\n",
              "       [1],\n",
              "       [1],\n",
              "       [1],\n",
              "       [1],\n",
              "       [1],\n",
              "       [1],\n",
              "       [1],\n",
              "       [1],\n",
              "       [1],\n",
              "       [1],\n",
              "       [2],\n",
              "       [1],\n",
              "       [0],\n",
              "       [1],\n",
              "       [1],\n",
              "       [1],\n",
              "       [1],\n",
              "       [1],\n",
              "       [1],\n",
              "       [1],\n",
              "       [1],\n",
              "       [2],\n",
              "       [2],\n",
              "       [1],\n",
              "       [0],\n",
              "       [1],\n",
              "       [0],\n",
              "       [0],\n",
              "       [2],\n",
              "       [2],\n",
              "       [2],\n",
              "       [1],\n",
              "       [1],\n",
              "       [0],\n",
              "       [1],\n",
              "       [1],\n",
              "       [1],\n",
              "       [0],\n",
              "       [2],\n",
              "       [1],\n",
              "       [1],\n",
              "       [1],\n",
              "       [0],\n",
              "       [1],\n",
              "       [1],\n",
              "       [1],\n",
              "       [1],\n",
              "       [1],\n",
              "       [0],\n",
              "       [1],\n",
              "       [2],\n",
              "       [1],\n",
              "       [0],\n",
              "       [1],\n",
              "       [1],\n",
              "       [1],\n",
              "       [1],\n",
              "       [1],\n",
              "       [1],\n",
              "       [1],\n",
              "       [1],\n",
              "       [1],\n",
              "       [0],\n",
              "       [0],\n",
              "       [1],\n",
              "       [0],\n",
              "       [1],\n",
              "       [2],\n",
              "       [1],\n",
              "       [1],\n",
              "       [1],\n",
              "       [1],\n",
              "       [1],\n",
              "       [1],\n",
              "       [0],\n",
              "       [1],\n",
              "       [2],\n",
              "       [1],\n",
              "       [1],\n",
              "       [1],\n",
              "       [1],\n",
              "       [0],\n",
              "       [1],\n",
              "       [1],\n",
              "       [1],\n",
              "       [1],\n",
              "       [0],\n",
              "       [0],\n",
              "       [1],\n",
              "       [1],\n",
              "       [0],\n",
              "       [1],\n",
              "       [1],\n",
              "       [1],\n",
              "       [1],\n",
              "       [1],\n",
              "       [1],\n",
              "       [1],\n",
              "       [1],\n",
              "       [2],\n",
              "       [0],\n",
              "       [1],\n",
              "       [1],\n",
              "       [1],\n",
              "       [1],\n",
              "       [0],\n",
              "       [1],\n",
              "       [0],\n",
              "       [2],\n",
              "       [1],\n",
              "       [1],\n",
              "       [1],\n",
              "       [1],\n",
              "       [1],\n",
              "       [0],\n",
              "       [1],\n",
              "       [0],\n",
              "       [0],\n",
              "       [1],\n",
              "       [2],\n",
              "       [1],\n",
              "       [2],\n",
              "       [1],\n",
              "       [1],\n",
              "       [1],\n",
              "       [2],\n",
              "       [1],\n",
              "       [1],\n",
              "       [0],\n",
              "       [0],\n",
              "       [1],\n",
              "       [1],\n",
              "       [1],\n",
              "       [0],\n",
              "       [1],\n",
              "       [1],\n",
              "       [1],\n",
              "       [1],\n",
              "       [0],\n",
              "       [1],\n",
              "       [1],\n",
              "       [1],\n",
              "       [1],\n",
              "       [1],\n",
              "       [0],\n",
              "       [1],\n",
              "       [1],\n",
              "       [1],\n",
              "       [0],\n",
              "       [1],\n",
              "       [2],\n",
              "       [0],\n",
              "       [2],\n",
              "       [2],\n",
              "       [1],\n",
              "       [0],\n",
              "       [1],\n",
              "       [1],\n",
              "       [1],\n",
              "       [1],\n",
              "       [1],\n",
              "       [2],\n",
              "       [1],\n",
              "       [1],\n",
              "       [0],\n",
              "       [0],\n",
              "       [1],\n",
              "       [0],\n",
              "       [1]])"
            ]
          },
          "metadata": {},
          "execution_count": 362
        }
      ]
    },
    {
      "cell_type": "code",
      "execution_count": 363,
      "metadata": {
        "ExecuteTime": {
          "end_time": "2023-05-16T14:31:28.052967Z",
          "start_time": "2023-05-16T14:31:13.458775Z"
        },
        "id": "_d6D9_Xr_eyg"
      },
      "outputs": [],
      "source": [
        "xt = np.zeros((len(X_train), 100, 300))\n",
        "for i in range(len(X_train)):\n",
        "    for j in range(len(X_train[i])):\n",
        "        if X_train[i][j] != 0:\n",
        "            if a[int(X_train[i][j])] in navec:\n",
        "                xt[i][j] = navec[a[int(X_train[i][j])]]\n",
        "X_train = xt"
      ]
    },
    {
      "cell_type": "code",
      "execution_count": 364,
      "metadata": {
        "ExecuteTime": {
          "end_time": "2023-05-16T14:31:32.965743Z",
          "start_time": "2023-05-16T14:31:28.054548Z"
        },
        "id": "7fAlas5r_eyg"
      },
      "outputs": [],
      "source": [
        "xt = np.zeros((len(X_val), 100, 300))\n",
        "for i in range(len(X_val)):\n",
        "    for j in range(len(X_val[i])):\n",
        "        if X_val[i][j] != 0:\n",
        "            if len(a) <= int(X_val[i][j]):\n",
        "                print(int(X_val[i][j]))\n",
        "            if a[int(X_val[i][j])] in navec:\n",
        "                xt[i][j] = navec[a[int(X_val[i][j])]]\n",
        "X_val = xt"
      ]
    },
    {
      "cell_type": "code",
      "execution_count": 365,
      "metadata": {
        "ExecuteTime": {
          "end_time": "2023-05-16T14:31:32.968714Z",
          "start_time": "2023-05-16T14:31:32.966292Z"
        },
        "id": "4tC5YvMI_eyg"
      },
      "outputs": [],
      "source": [
        "def df_to_tensor(df):\n",
        "    return torch.from_numpy(df.values).float()"
      ]
    },
    {
      "cell_type": "code",
      "execution_count": 366,
      "metadata": {
        "ExecuteTime": {
          "end_time": "2023-05-16T14:31:32.977016Z",
          "start_time": "2023-05-16T14:31:32.973187Z"
        },
        "id": "yIdO2ZRf_eyg"
      },
      "outputs": [],
      "source": [
        "X_train_t = torch.from_numpy(X_train)\n",
        "y_train_t = torch.from_numpy(y_train)\n",
        "X_val_t = torch.from_numpy(X_val)\n",
        "y_val_t = torch.from_numpy(y_val)\n",
        "X_train_t = torch.permute(X_train_t, (0, 2, 1))\n",
        "X_val_t = torch.permute(X_val_t, (0, 2, 1))"
      ]
    },
    {
      "cell_type": "code",
      "source": [
        "'''\n",
        "y_train_t = y_train_t.type(torch.DoubleTensor)\n",
        "y_val_t = y_val_t.type(torch.DoubleTensor)\n",
        "'''"
      ],
      "metadata": {
        "colab": {
          "base_uri": "https://localhost:8080/",
          "height": 52
        },
        "id": "IKbFNDL-PWMD",
        "outputId": "7d55bc57-52e3-43d2-be3e-5c3fb95b8cdf"
      },
      "execution_count": 367,
      "outputs": [
        {
          "output_type": "execute_result",
          "data": {
            "text/plain": [
              "'\\ny_train_t = y_train_t.type(torch.DoubleTensor)\\ny_val_t = y_val_t.type(torch.DoubleTensor)\\n'"
            ],
            "application/vnd.google.colaboratory.intrinsic+json": {
              "type": "string"
            }
          },
          "metadata": {},
          "execution_count": 367
        }
      ]
    },
    {
      "cell_type": "code",
      "source": [
        "y_train_t"
      ],
      "metadata": {
        "colab": {
          "base_uri": "https://localhost:8080/"
        },
        "id": "Wkv5xDWEPfPc",
        "outputId": "c99e562b-22d7-4fee-a907-9e5d32f3ee64"
      },
      "execution_count": 368,
      "outputs": [
        {
          "output_type": "execute_result",
          "data": {
            "text/plain": [
              "tensor([[1],\n",
              "        [1],\n",
              "        [1],\n",
              "        ...,\n",
              "        [1],\n",
              "        [1],\n",
              "        [1]])"
            ]
          },
          "metadata": {},
          "execution_count": 368
        }
      ]
    },
    {
      "cell_type": "code",
      "execution_count": 369,
      "outputs": [
        {
          "output_type": "execute_result",
          "data": {
            "text/plain": [
              "tensor([[[ 0.0000,  0.3146,  0.0482,  ...,  0.0000,  0.0000,  0.0000],\n",
              "         [ 0.0000, -0.1777, -0.2004,  ...,  0.0000,  0.0000,  0.0000],\n",
              "         [ 0.0000,  0.2426,  0.0586,  ...,  0.0000,  0.0000,  0.0000],\n",
              "         ...,\n",
              "         [ 0.0000, -0.2754,  0.2750,  ...,  0.0000,  0.0000,  0.0000],\n",
              "         [ 0.0000,  0.0252,  0.2647,  ...,  0.0000,  0.0000,  0.0000],\n",
              "         [ 0.0000,  0.3528,  0.4108,  ...,  0.0000,  0.0000,  0.0000]],\n",
              "\n",
              "        [[ 0.0000,  0.2733,  0.0574,  ...,  0.0000,  0.0000,  0.0000],\n",
              "         [ 0.0000, -0.0049, -0.6995,  ...,  0.0000,  0.0000,  0.0000],\n",
              "         [ 0.0000, -0.0492,  0.5508,  ...,  0.0000,  0.0000,  0.0000],\n",
              "         ...,\n",
              "         [ 0.0000, -0.5250, -0.4420,  ...,  0.0000,  0.0000,  0.0000],\n",
              "         [ 0.0000,  0.1350, -0.1768,  ...,  0.0000,  0.0000,  0.0000],\n",
              "         [ 0.0000,  0.2226,  0.5108,  ...,  0.0000,  0.0000,  0.0000]],\n",
              "\n",
              "        [[ 0.0000, -0.4161, -0.5378,  ...,  0.0000,  0.0000,  0.0000],\n",
              "         [ 0.0000, -0.8234, -0.6289,  ...,  0.0000,  0.0000,  0.0000],\n",
              "         [ 0.0000,  0.1041, -0.3964,  ...,  0.0000,  0.0000,  0.0000],\n",
              "         ...,\n",
              "         [ 0.0000, -0.3943, -0.3634,  ...,  0.0000,  0.0000,  0.0000],\n",
              "         [ 0.0000,  0.0598,  0.3589,  ...,  0.0000,  0.0000,  0.0000],\n",
              "         [ 0.0000,  0.0123,  0.4140,  ...,  0.0000,  0.0000,  0.0000]],\n",
              "\n",
              "        ...,\n",
              "\n",
              "        [[ 0.0000,  0.1771, -0.0230,  ...,  0.0000,  0.0000,  0.0000],\n",
              "         [ 0.0000,  0.7492, -0.3963,  ...,  0.0000,  0.0000,  0.0000],\n",
              "         [ 0.0000,  0.2288,  0.4142,  ...,  0.0000,  0.0000,  0.0000],\n",
              "         ...,\n",
              "         [ 0.0000, -0.5127, -0.3036,  ...,  0.0000,  0.0000,  0.0000],\n",
              "         [ 0.0000, -0.4429, -0.0216,  ...,  0.0000,  0.0000,  0.0000],\n",
              "         [ 0.0000, -0.1902, -0.1722,  ...,  0.0000,  0.0000,  0.0000]],\n",
              "\n",
              "        [[-0.0204, -0.1702,  0.0562,  ...,  0.0000,  0.0000,  0.0000],\n",
              "         [-0.4305,  0.6767, -0.4159,  ...,  0.0000,  0.0000,  0.0000],\n",
              "         [-0.3130,  0.2119, -0.0392,  ...,  0.0000,  0.0000,  0.0000],\n",
              "         ...,\n",
              "         [-0.3365, -0.2989, -0.0266,  ...,  0.0000,  0.0000,  0.0000],\n",
              "         [-0.1798, -0.6393, -0.1075,  ...,  0.0000,  0.0000,  0.0000],\n",
              "         [ 0.2134, -0.6367,  0.5631,  ...,  0.0000,  0.0000,  0.0000]],\n",
              "\n",
              "        [[ 0.0000,  0.0000,  0.0000,  ...,  0.0000,  0.0000,  0.0000],\n",
              "         [ 0.0000,  0.0000,  0.0000,  ...,  0.0000,  0.0000,  0.0000],\n",
              "         [ 0.0000,  0.0000,  0.0000,  ...,  0.0000,  0.0000,  0.0000],\n",
              "         ...,\n",
              "         [ 0.0000,  0.0000,  0.0000,  ...,  0.0000,  0.0000,  0.0000],\n",
              "         [ 0.0000,  0.0000,  0.0000,  ...,  0.0000,  0.0000,  0.0000],\n",
              "         [ 0.0000,  0.0000,  0.0000,  ...,  0.0000,  0.0000,  0.0000]]],\n",
              "       dtype=torch.float64)"
            ]
          },
          "metadata": {},
          "execution_count": 369
        }
      ],
      "source": [
        "X_val_t"
      ],
      "metadata": {
        "ExecuteTime": {
          "end_time": "2023-05-16T14:31:33.021174Z",
          "start_time": "2023-05-16T14:31:32.985658Z"
        },
        "colab": {
          "base_uri": "https://localhost:8080/"
        },
        "id": "ZIk7WAw1_eyh",
        "outputId": "2c0e6799-c4c0-4de0-cfac-715be5709e1e"
      }
    },
    {
      "cell_type": "code",
      "execution_count": 370,
      "outputs": [
        {
          "output_type": "execute_result",
          "data": {
            "text/plain": [
              "torch.int64"
            ]
          },
          "metadata": {},
          "execution_count": 370
        }
      ],
      "source": [
        "y_train_t.dtype"
      ],
      "metadata": {
        "ExecuteTime": {
          "end_time": "2023-05-16T14:31:33.025698Z",
          "start_time": "2023-05-16T14:31:33.021561Z"
        },
        "colab": {
          "base_uri": "https://localhost:8080/"
        },
        "id": "gxXSdj1z_eyh",
        "outputId": "35d8c40a-80af-4fbd-cef6-73c39b4af1cf"
      }
    },
    {
      "cell_type": "code",
      "source": [
        "y_val_t.dtype"
      ],
      "metadata": {
        "colab": {
          "base_uri": "https://localhost:8080/"
        },
        "id": "kouy98i_QdQ-",
        "outputId": "cd9145e5-e331-4cb4-efc1-b7f9ac7b2656"
      },
      "execution_count": 371,
      "outputs": [
        {
          "output_type": "execute_result",
          "data": {
            "text/plain": [
              "torch.int64"
            ]
          },
          "metadata": {},
          "execution_count": 371
        }
      ]
    },
    {
      "cell_type": "code",
      "source": [
        "X_val_t.dtype"
      ],
      "metadata": {
        "colab": {
          "base_uri": "https://localhost:8080/"
        },
        "id": "hWVA-n-0Qg07",
        "outputId": "b5c1b2e6-afab-462e-d536-fcedee7cd22b"
      },
      "execution_count": 372,
      "outputs": [
        {
          "output_type": "execute_result",
          "data": {
            "text/plain": [
              "torch.float64"
            ]
          },
          "metadata": {},
          "execution_count": 372
        }
      ]
    },
    {
      "cell_type": "code",
      "source": [
        "X_train_t.dtype"
      ],
      "metadata": {
        "colab": {
          "base_uri": "https://localhost:8080/"
        },
        "id": "nSkxArvGR8mH",
        "outputId": "92e5c096-9619-4a1d-c7e6-bc8bf4fe4688"
      },
      "execution_count": 373,
      "outputs": [
        {
          "output_type": "execute_result",
          "data": {
            "text/plain": [
              "torch.float64"
            ]
          },
          "metadata": {},
          "execution_count": 373
        }
      ]
    },
    {
      "cell_type": "code",
      "execution_count": 374,
      "metadata": {
        "ExecuteTime": {
          "end_time": "2023-05-16T14:31:33.030430Z",
          "start_time": "2023-05-16T14:31:33.026947Z"
        },
        "colab": {
          "base_uri": "https://localhost:8080/"
        },
        "id": "ChKpQk5H_eyh",
        "outputId": "afae1d10-4a43-4fca-a1e8-6f8967f1add0"
      },
      "outputs": [
        {
          "output_type": "stream",
          "name": "stdout",
          "text": [
            "torch.Size([2133, 300, 100])\n",
            "torch.Size([712, 300, 100])\n"
          ]
        }
      ],
      "source": [
        "print(X_train_t.shape)\n",
        "print(X_val_t.shape)"
      ]
    },
    {
      "cell_type": "code",
      "source": [],
      "metadata": {
        "id": "mG8KEa9PS8jW"
      },
      "execution_count": 374,
      "outputs": []
    },
    {
      "cell_type": "code",
      "execution_count": 375,
      "metadata": {
        "ExecuteTime": {
          "end_time": "2023-05-16T14:31:33.035437Z",
          "start_time": "2023-05-16T14:31:33.032508Z"
        },
        "id": "dyIL-irK_eyh"
      },
      "outputs": [],
      "source": [
        "train_dataset = TensorDataset(X_train_t, y_train_t)\n",
        "val_dataset = TensorDataset(X_val_t, y_val_t)\n",
        "train_dataloader = DataLoader(train_dataset, batch_size=8, shuffle=True)\n",
        "val_dataloader = DataLoader(val_dataset, batch_size=8, shuffle=True)\n"
      ]
    },
    {
      "cell_type": "code",
      "execution_count": 376,
      "metadata": {
        "ExecuteTime": {
          "end_time": "2023-05-16T14:31:33.101884Z",
          "start_time": "2023-05-16T14:31:33.041490Z"
        },
        "id": "TzR38WNd_eyi"
      },
      "outputs": [],
      "source": [
        "def fit(epochs, model_, loss_func, opt, train_dl, valid_dl, lr_sched=None):\n",
        "    model_ = model_.to(device)\n",
        "    train_losses = []\n",
        "    val_losses = []\n",
        "    valid_accuracies = []\n",
        "    pbar = trange(epochs, desc=\"Epoch:\")\n",
        "    for epoch in pbar:\n",
        "        model_.train()\n",
        "        loss_sum = 0\n",
        "\n",
        "        for xb, yb in train_dl:\n",
        "            xb, yb = xb.to(device), yb.to(device)\n",
        "            probs = model_(xb.float())\n",
        "            loss = loss_func(probs, yb)\n",
        "            loss_sum += loss.item()\n",
        "            loss.backward()\n",
        "\n",
        "            opt.step()\n",
        "            opt.zero_grad()\n",
        "\n",
        "        train_losses.append(loss_sum / len(train_dl))\n",
        "\n",
        "\n",
        "        model_.eval()\n",
        "        loss_sum = 0\n",
        "        correct = 0\n",
        "        num = 0\n",
        "\n",
        "        with torch.no_grad():\n",
        "            for xb, yb in valid_dl:\n",
        "                xb, yb = xb.to(device), yb.to(device)\n",
        "                probs = model_(xb.float())\n",
        "\n",
        "                loss = loss_func(probs, yb)\n",
        "                loss_sum += loss.item()\n",
        "\n",
        "                _, pred = torch.max(probs, axis=-1)\n",
        "                correct += (pred == yb).sum().item()\n",
        "                num += len(xb)\n",
        "\n",
        "\n",
        "        val_loss = loss_sum / len(valid_dl)\n",
        "        val_acc = correct / num\n",
        "        val_losses.append(val_loss)\n",
        "        valid_accuracies.append(val_acc)\n",
        "\n",
        "        pbar.set_description('Epoch: {} Loss: {:.4f} Acc: {:.4f}'.format(epoch, val_loss, val_acc))\n",
        "\n",
        "        #torch.save(model.state_dict(), PATH)   #сохранение весов модели на будущее\n",
        "\n",
        "        if lr_sched is not None:\n",
        "            lr_sched.step()\n",
        "\n",
        "    return train_losses, val_losses, valid_accuracies"
      ]
    },
    {
      "cell_type": "markdown",
      "metadata": {
        "id": "RjmUCJNK_eyi"
      },
      "source": [
        "Load Model:\n",
        "    model = TheModelClass(*args, **kwargs)\n",
        "    model.load_state_dict(torch.load(PATH))\n",
        "    model.eval()"
      ]
    },
    {
      "cell_type": "code",
      "execution_count": 377,
      "metadata": {
        "ExecuteTime": {
          "end_time": "2023-05-16T14:31:33.108811Z",
          "start_time": "2023-05-16T14:31:33.056441Z"
        },
        "id": "0UNNo10j_eyn"
      },
      "outputs": [],
      "source": [
        "class MultiLayerPerceptron(nn.Module):\n",
        "\n",
        "    def __init__(self):\n",
        "        super(MultiLayerPerceptron, self).__init__()\n",
        "        # Embedding size, Hyperparameter, Output\n",
        "        self.conv1 = nn.Conv1d(in_channels=300, out_channels=300, kernel_size=5) #96\n",
        "        self.pool = nn.MaxPool1d(kernel_size=2, stride=2) #48\n",
        "        self.conv2 = nn.Conv1d(in_channels=300, out_channels=300, kernel_size=5) #44\n",
        "        #22\n",
        "        self.conv3 = nn.Conv1d(in_channels=300, out_channels=300, kernel_size=5) #18\n",
        "        #9\n",
        "        self.conv4 = nn.Conv1d(in_channels=300, out_channels=300, kernel_size=2) #8\n",
        "        #4\n",
        "        self.conv5 = nn.Conv1d(in_channels=300, out_channels=300, kernel_size=3) #2\n",
        "        #1\n",
        "        self.fc1 = nn.Linear(1, 4096)\n",
        "        self.fc2 = nn.Linear(4096, 1)\n",
        "\n",
        "    def forward(self, x):\n",
        "        x = self.pool(F.leaky_relu(self.conv1(x)))\n",
        "        x = self.pool(F.leaky_relu(self.conv2(x)))\n",
        "        x = self.pool(F.leaky_relu(self.conv3(x)))\n",
        "        x = self.pool(F.leaky_relu(self.conv4(x)))\n",
        "        x = self.pool(F.leaky_relu(self.conv5(x)))\n",
        "        x = F.leaky_relu(self.fc1(x))\n",
        "        x = F.leaky_relu(self.fc2(x))\n",
        "        return x"
      ]
    },
    {
      "cell_type": "code",
      "execution_count": 378,
      "metadata": {
        "ExecuteTime": {
          "end_time": "2023-05-16T14:31:33.109119Z",
          "start_time": "2023-05-16T14:31:33.059956Z"
        },
        "id": "_17gpK6W_eyo"
      },
      "outputs": [],
      "source": [
        "device = torch.device('cuda') if torch.cuda.is_available() else torch.device('cpu')"
      ]
    },
    {
      "cell_type": "code",
      "execution_count": 379,
      "metadata": {
        "is_executing": true,
        "ExecuteTime": {
          "start_time": "2023-05-16T14:31:33.068464Z"
        },
        "colab": {
          "base_uri": "https://localhost:8080/",
          "height": 77,
          "referenced_widgets": [
            "17f4b3ac97404f4f821e7070d6fbc4dd",
            "4edf7b98ddcf43af908da88288a804a3",
            "57225a74843a44918494e50596d783d7",
            "f79840962aab4dafa6aad19a006a983a",
            "cf59095b4cfe4c328db9a7cb96d58a23",
            "f4cb1082b416447cb04dc1c925ba4cb1",
            "d458fe84efa74c688585900c4b3c0296",
            "1370cafa3046490d9660301899333ed7",
            "95b82927852149afb375f6d3f0fb0a9b",
            "7af004952ec84c03b24b26eb87f6ee5d",
            "5f43ae5d04b246bab9c49907a5849644"
          ]
        },
        "id": "_Zw7U4fu_eyo",
        "outputId": "3e45eb52-f9e0-4bb4-e42e-9c3925537c98"
      },
      "outputs": [
        {
          "output_type": "display_data",
          "data": {
            "text/plain": [
              "Epoch::   0%|          | 0/64 [00:00<?, ?it/s]"
            ],
            "application/vnd.jupyter.widget-view+json": {
              "version_major": 2,
              "version_minor": 0,
              "model_id": "17f4b3ac97404f4f821e7070d6fbc4dd"
            }
          },
          "metadata": {}
        }
      ],
      "source": [
        "model = MultiLayerPerceptron().to(device)\n",
        "criterion = nn.CrossEntropyLoss()\n",
        "optimizer = optim.Adam(model.parameters(), lr=0.01)\n",
        "scheduler = optim.lr_scheduler.ExponentialLR(optimizer=optimizer, gamma=0.9)\n",
        "\n",
        "info = fit(64, model, criterion, optimizer, train_dataloader, val_dataloader, scheduler)"
      ]
    },
    {
      "cell_type": "code",
      "execution_count": 380,
      "metadata": {
        "is_executing": true,
        "colab": {
          "base_uri": "https://localhost:8080/",
          "height": 445
        },
        "id": "cbR0ti9G_eyo",
        "outputId": "c0d2afaf-56c0-4d7e-923f-a9861c193a67"
      },
      "outputs": [
        {
          "output_type": "display_data",
          "data": {
            "text/plain": [
              "<Figure size 1200x800 with 1 Axes>"
            ],
            "image/png": "[encoded data removed]"
          },
          "metadata": {}
        }
      ],
      "source": [
        "train_losses = info[0]\n",
        "plt.figure(figsize=(12, 8))\n",
        "plt.plot(range(len(train_losses)), train_losses)\n",
        "plt.xlabel(\"Iteration\")\n",
        "plt.ylabel(\"Loss\")\n",
        "plt.show()"
      ]
    },
    {
      "cell_type": "code",
      "execution_count": 382,
      "metadata": {
        "is_executing": true,
        "id": "_-ImPj12_eyo"
      },
      "outputs": [],
      "source": [
        "import sys\n",
        "sys.path.append('../..')\n",
        "\n",
        "from sklearn import metrics as multi_metrics"
      ]
    },
    {
      "cell_type": "code",
      "execution_count": 384,
      "metadata": {
        "is_executing": true,
        "id": "lRzQWXkI_eyo"
      },
      "outputs": [],
      "source": [
        "model.eval()\n",
        "xb, yb = next(iter(val_dataloader))\n",
        "probs = model(xb.float())\n",
        "_, pred = torch.max(probs, axis=-1)"
      ]
    },
    {
      "cell_type": "code",
      "execution_count": 385,
      "metadata": {
        "is_executing": true,
        "colab": {
          "base_uri": "https://localhost:8080/",
          "height": 392
        },
        "id": "RMDGXYl__eyp",
        "outputId": "6c18c6cf-f034-46ad-87a8-16dfa05d3eeb"
      },
      "outputs": [
        {
          "output_type": "error",
          "ename": "ValueError",
          "evalue": "ignored",
          "traceback": [
            "\u001b[0;31m---------------------------------------------------------------------------\u001b[0m",
            "\u001b[0;31mValueError\u001b[0m                                Traceback (most recent call last)",
            "\u001b[0;32m<ipython-input-385-3dadebedcf59>\u001b[0m in \u001b[0;36m<cell line: 1>\u001b[0;34m()\u001b[0m\n\u001b[0;32m----> 1\u001b[0;31m \u001b[0mmulti_metrics\u001b[0m\u001b[0;34m.\u001b[0m\u001b[0mf1_score\u001b[0m\u001b[0;34m(\u001b[0m\u001b[0my_true\u001b[0m\u001b[0;34m=\u001b[0m\u001b[0myb\u001b[0m\u001b[0;34m,\u001b[0m \u001b[0my_pred\u001b[0m\u001b[0;34m=\u001b[0m\u001b[0mpred\u001b[0m\u001b[0;34m,\u001b[0m \u001b[0maverage\u001b[0m\u001b[0;34m=\u001b[0m\u001b[0;34m'macro'\u001b[0m\u001b[0;34m)\u001b[0m\u001b[0;34m\u001b[0m\u001b[0;34m\u001b[0m\u001b[0m\n\u001b[0m",
            "\u001b[0;32m/usr/local/lib/python3.10/dist-packages/sklearn/metrics/_classification.py\u001b[0m in \u001b[0;36mf1_score\u001b[0;34m(y_true, y_pred, labels, pos_label, average, sample_weight, zero_division)\u001b[0m\n\u001b[1;32m   1144\u001b[0m     \u001b[0marray\u001b[0m\u001b[0;34m(\u001b[0m\u001b[0;34m[\u001b[0m\u001b[0;36m0.66666667\u001b[0m\u001b[0;34m,\u001b[0m \u001b[0;36m1.\u001b[0m        \u001b[0;34m,\u001b[0m \u001b[0;36m0.66666667\u001b[0m\u001b[0;34m]\u001b[0m\u001b[0;34m)\u001b[0m\u001b[0;34m\u001b[0m\u001b[0;34m\u001b[0m\u001b[0m\n\u001b[1;32m   1145\u001b[0m     \"\"\"\n\u001b[0;32m-> 1146\u001b[0;31m     return fbeta_score(\n\u001b[0m\u001b[1;32m   1147\u001b[0m         \u001b[0my_true\u001b[0m\u001b[0;34m,\u001b[0m\u001b[0;34m\u001b[0m\u001b[0;34m\u001b[0m\u001b[0m\n\u001b[1;32m   1148\u001b[0m         \u001b[0my_pred\u001b[0m\u001b[0;34m,\u001b[0m\u001b[0;34m\u001b[0m\u001b[0;34m\u001b[0m\u001b[0m\n",
            "\u001b[0;32m/usr/local/lib/python3.10/dist-packages/sklearn/metrics/_classification.py\u001b[0m in \u001b[0;36mfbeta_score\u001b[0;34m(y_true, y_pred, beta, labels, pos_label, average, sample_weight, zero_division)\u001b[0m\n\u001b[1;32m   1285\u001b[0m     \"\"\"\n\u001b[1;32m   1286\u001b[0m \u001b[0;34m\u001b[0m\u001b[0m\n\u001b[0;32m-> 1287\u001b[0;31m     _, _, f, _ = precision_recall_fscore_support(\n\u001b[0m\u001b[1;32m   1288\u001b[0m         \u001b[0my_true\u001b[0m\u001b[0;34m,\u001b[0m\u001b[0;34m\u001b[0m\u001b[0;34m\u001b[0m\u001b[0m\n\u001b[1;32m   1289\u001b[0m         \u001b[0my_pred\u001b[0m\u001b[0;34m,\u001b[0m\u001b[0;34m\u001b[0m\u001b[0;34m\u001b[0m\u001b[0m\n",
            "\u001b[0;32m/usr/local/lib/python3.10/dist-packages/sklearn/metrics/_classification.py\u001b[0m in \u001b[0;36mprecision_recall_fscore_support\u001b[0;34m(y_true, y_pred, beta, labels, pos_label, average, warn_for, sample_weight, zero_division)\u001b[0m\n\u001b[1;32m   1571\u001b[0m     \u001b[0;32mif\u001b[0m \u001b[0mbeta\u001b[0m \u001b[0;34m<\u001b[0m \u001b[0;36m0\u001b[0m\u001b[0;34m:\u001b[0m\u001b[0;34m\u001b[0m\u001b[0;34m\u001b[0m\u001b[0m\n\u001b[1;32m   1572\u001b[0m         \u001b[0;32mraise\u001b[0m \u001b[0mValueError\u001b[0m\u001b[0;34m(\u001b[0m\u001b[0;34m\"beta should be >=0 in the F-beta score\"\u001b[0m\u001b[0;34m)\u001b[0m\u001b[0;34m\u001b[0m\u001b[0;34m\u001b[0m\u001b[0m\n\u001b[0;32m-> 1573\u001b[0;31m     \u001b[0mlabels\u001b[0m \u001b[0;34m=\u001b[0m \u001b[0m_check_set_wise_labels\u001b[0m\u001b[0;34m(\u001b[0m\u001b[0my_true\u001b[0m\u001b[0;34m,\u001b[0m \u001b[0my_pred\u001b[0m\u001b[0;34m,\u001b[0m \u001b[0maverage\u001b[0m\u001b[0;34m,\u001b[0m \u001b[0mlabels\u001b[0m\u001b[0;34m,\u001b[0m \u001b[0mpos_label\u001b[0m\u001b[0;34m)\u001b[0m\u001b[0;34m\u001b[0m\u001b[0;34m\u001b[0m\u001b[0m\n\u001b[0m\u001b[1;32m   1574\u001b[0m \u001b[0;34m\u001b[0m\u001b[0m\n\u001b[1;32m   1575\u001b[0m     \u001b[0;31m# Calculate tp_sum, pred_sum, true_sum ###\u001b[0m\u001b[0;34m\u001b[0m\u001b[0;34m\u001b[0m\u001b[0m\n",
            "\u001b[0;32m/usr/local/lib/python3.10/dist-packages/sklearn/metrics/_classification.py\u001b[0m in \u001b[0;36m_check_set_wise_labels\u001b[0;34m(y_true, y_pred, average, labels, pos_label)\u001b[0m\n\u001b[1;32m   1372\u001b[0m         \u001b[0;32mraise\u001b[0m \u001b[0mValueError\u001b[0m\u001b[0;34m(\u001b[0m\u001b[0;34m\"average has to be one of \"\u001b[0m \u001b[0;34m+\u001b[0m \u001b[0mstr\u001b[0m\u001b[0;34m(\u001b[0m\u001b[0maverage_options\u001b[0m\u001b[0;34m)\u001b[0m\u001b[0;34m)\u001b[0m\u001b[0;34m\u001b[0m\u001b[0;34m\u001b[0m\u001b[0m\n\u001b[1;32m   1373\u001b[0m \u001b[0;34m\u001b[0m\u001b[0m\n\u001b[0;32m-> 1374\u001b[0;31m     \u001b[0my_type\u001b[0m\u001b[0;34m,\u001b[0m \u001b[0my_true\u001b[0m\u001b[0;34m,\u001b[0m \u001b[0my_pred\u001b[0m \u001b[0;34m=\u001b[0m \u001b[0m_check_targets\u001b[0m\u001b[0;34m(\u001b[0m\u001b[0my_true\u001b[0m\u001b[0;34m,\u001b[0m \u001b[0my_pred\u001b[0m\u001b[0;34m)\u001b[0m\u001b[0;34m\u001b[0m\u001b[0;34m\u001b[0m\u001b[0m\n\u001b[0m\u001b[1;32m   1375\u001b[0m     \u001b[0;31m# Convert to Python primitive type to avoid NumPy type / Python str\u001b[0m\u001b[0;34m\u001b[0m\u001b[0;34m\u001b[0m\u001b[0m\n\u001b[1;32m   1376\u001b[0m     \u001b[0;31m# comparison. See https://github.com/numpy/numpy/issues/6784\u001b[0m\u001b[0;34m\u001b[0m\u001b[0;34m\u001b[0m\u001b[0m\n",
            "\u001b[0;32m/usr/local/lib/python3.10/dist-packages/sklearn/metrics/_classification.py\u001b[0m in \u001b[0;36m_check_targets\u001b[0;34m(y_true, y_pred)\u001b[0m\n\u001b[1;32m     93\u001b[0m \u001b[0;34m\u001b[0m\u001b[0m\n\u001b[1;32m     94\u001b[0m     \u001b[0;32mif\u001b[0m \u001b[0mlen\u001b[0m\u001b[0;34m(\u001b[0m\u001b[0my_type\u001b[0m\u001b[0;34m)\u001b[0m \u001b[0;34m>\u001b[0m \u001b[0;36m1\u001b[0m\u001b[0;34m:\u001b[0m\u001b[0;34m\u001b[0m\u001b[0;34m\u001b[0m\u001b[0m\n\u001b[0;32m---> 95\u001b[0;31m         raise ValueError(\n\u001b[0m\u001b[1;32m     96\u001b[0m             \"Classification metrics can't handle a mix of {0} and {1} targets\".format(\n\u001b[1;32m     97\u001b[0m                 \u001b[0mtype_true\u001b[0m\u001b[0;34m,\u001b[0m \u001b[0mtype_pred\u001b[0m\u001b[0;34m\u001b[0m\u001b[0;34m\u001b[0m\u001b[0m\n",
            "\u001b[0;31mValueError\u001b[0m: Classification metrics can't handle a mix of binary and multilabel-indicator targets"
          ]
        }
      ],
      "source": [
        "multi_metrics.f1_score(y_true=yb, y_pred=pred, average='macro')"
      ]
    },
    {
      "cell_type": "code",
      "execution_count": 396,
      "metadata": {
        "is_executing": true,
        "colab": {
          "base_uri": "https://localhost:8080/"
        },
        "id": "ty1U9neK_eyp",
        "outputId": "d0cc8405-59e1-4808-a9d6-0be49bcecf36"
      },
      "outputs": [
        {
          "output_type": "execute_result",
          "data": {
            "text/plain": [
              "tensor([[[   60.4230],\n",
              "         [   65.3831],\n",
              "         [   56.0567],\n",
              "         ...,\n",
              "         [ -785.8742],\n",
              "         [ -532.0670],\n",
              "         [ -442.3941]],\n",
              "\n",
              "        [[   54.7043],\n",
              "         [   56.4982],\n",
              "         [   54.5911],\n",
              "         ...,\n",
              "         [ -945.2944],\n",
              "         [ -541.6350],\n",
              "         [ -509.9999]],\n",
              "\n",
              "        [[   54.7043],\n",
              "         [   56.4982],\n",
              "         [   54.5911],\n",
              "         ...,\n",
              "         [ -325.6674],\n",
              "         [ -227.9635],\n",
              "         [ -164.9787]],\n",
              "\n",
              "        ...,\n",
              "\n",
              "        [[   91.6780],\n",
              "         [   82.5374],\n",
              "         [   68.2778],\n",
              "         ...,\n",
              "         [-1629.0583],\n",
              "         [-1392.5046],\n",
              "         [-1075.9264]],\n",
              "\n",
              "        [[   61.3859],\n",
              "         [   68.2846],\n",
              "         [   56.1786],\n",
              "         ...,\n",
              "         [-1283.0623],\n",
              "         [ -895.9270],\n",
              "         [ -790.5251]],\n",
              "\n",
              "        [[   54.7043],\n",
              "         [   56.4982],\n",
              "         [   54.5911],\n",
              "         ...,\n",
              "         [ -638.0828],\n",
              "         [ -510.4298],\n",
              "         [ -399.4659]]], grad_fn=<LeakyReluBackward0>)"
            ]
          },
          "metadata": {},
          "execution_count": 396
        }
      ],
      "source": [
        "probs"
      ]
    },
    {
      "cell_type": "code",
      "execution_count": null,
      "metadata": {
        "is_executing": true,
        "id": "v1PcpQ8x_eyp"
      },
      "outputs": [],
      "source": []
    }
  ],
  "metadata": {
    "kernelspec": {
      "display_name": "Python 3 (ipykernel)",
      "language": "python",
      "name": "python3"
    },
    "language_info": {
      "codemirror_mode": {
        "name": "ipython",
        "version": 3
      },
      "file_extension": ".py",
      "mimetype": "text/x-python",
      "name": "python",
      "nbconvert_exporter": "python",
      "pygments_lexer": "ipython3",
      "version": "3.10.9"
    },
    "colab": {
      "provenance": [],
      "gpuType": "T4"
    },
    "gpuClass": "standard",
    "widgets": {
      "application/vnd.jupyter.widget-state+json": {
        "17f4b3ac97404f4f821e7070d6fbc4dd": {
          "model_module": "@jupyter-widgets/controls",
          "model_name": "HBoxModel",
          "model_module_version": "1.5.0",
          "state": {
            "_dom_classes": [],
            "_model_module": "@jupyter-widgets/controls",
            "_model_module_version": "1.5.0",
            "_model_name": "HBoxModel",
            "_view_count": null,
            "_view_module": "@jupyter-widgets/controls",
            "_view_module_version": "1.5.0",
            "_view_name": "HBoxView",
            "box_style": "",
            "children": [
              "IPY_MODEL_4edf7b98ddcf43af908da88288a804a3",
              "IPY_MODEL_57225a74843a44918494e50596d783d7",
              "IPY_MODEL_f79840962aab4dafa6aad19a006a983a"
            ],
            "layout": "IPY_MODEL_cf59095b4cfe4c328db9a7cb96d58a23"
          }
        },
        "4edf7b98ddcf43af908da88288a804a3": {
          "model_module": "@jupyter-widgets/controls",
          "model_name": "HTMLModel",
          "model_module_version": "1.5.0",
          "state": {
            "_dom_classes": [],
            "_model_module": "@jupyter-widgets/controls",
            "_model_module_version": "1.5.0",
            "_model_name": "HTMLModel",
            "_view_count": null,
            "_view_module": "@jupyter-widgets/controls",
            "_view_module_version": "1.5.0",
            "_view_name": "HTMLView",
            "description": "",
            "description_tooltip": null,
            "layout": "IPY_MODEL_f4cb1082b416447cb04dc1c925ba4cb1",
            "placeholder": "​",
            "style": "IPY_MODEL_d458fe84efa74c688585900c4b3c0296",
            "value": "Epoch: 63 Loss: 1.7036 Acc: 52.2472: 100%"
          }
        },
        "57225a74843a44918494e50596d783d7": {
          "model_module": "@jupyter-widgets/controls",
          "model_name": "FloatProgressModel",
          "model_module_version": "1.5.0",
          "state": {
            "_dom_classes": [],
            "_model_module": "@jupyter-widgets/controls",
            "_model_module_version": "1.5.0",
            "_model_name": "FloatProgressModel",
            "_view_count": null,
            "_view_module": "@jupyter-widgets/controls",
            "_view_module_version": "1.5.0",
            "_view_name": "ProgressView",
            "bar_style": "success",
            "description": "",
            "description_tooltip": null,
            "layout": "IPY_MODEL_1370cafa3046490d9660301899333ed7",
            "max": 64,
            "min": 0,
            "orientation": "horizontal",
            "style": "IPY_MODEL_95b82927852149afb375f6d3f0fb0a9b",
            "value": 64
          }
        },
        "f79840962aab4dafa6aad19a006a983a": {
          "model_module": "@jupyter-widgets/controls",
          "model_name": "HTMLModel",
          "model_module_version": "1.5.0",
          "state": {
            "_dom_classes": [],
            "_model_module": "@jupyter-widgets/controls",
            "_model_module_version": "1.5.0",
            "_model_name": "HTMLModel",
            "_view_count": null,
            "_view_module": "@jupyter-widgets/controls",
            "_view_module_version": "1.5.0",
            "_view_name": "HTMLView",
            "description": "",
            "description_tooltip": null,
            "layout": "IPY_MODEL_7af004952ec84c03b24b26eb87f6ee5d",
            "placeholder": "​",
            "style": "IPY_MODEL_5f43ae5d04b246bab9c49907a5849644",
            "value": " 64/64 [1:00:40&lt;00:00, 55.75s/it]"
          }
        },
        "cf59095b4cfe4c328db9a7cb96d58a23": {
          "model_module": "@jupyter-widgets/base",
          "model_name": "LayoutModel",
          "model_module_version": "1.2.0",
          "state": {
            "_model_module": "@jupyter-widgets/base",
            "_model_module_version": "1.2.0",
            "_model_name": "LayoutModel",
            "_view_count": null,
            "_view_module": "@jupyter-widgets/base",
            "_view_module_version": "1.2.0",
            "_view_name": "LayoutView",
            "align_content": null,
            "align_items": null,
            "align_self": null,
            "border": null,
            "bottom": null,
            "display": null,
            "flex": null,
            "flex_flow": null,
            "grid_area": null,
            "grid_auto_columns": null,
            "grid_auto_flow": null,
            "grid_auto_rows": null,
            "grid_column": null,
            "grid_gap": null,
            "grid_row": null,
            "grid_template_areas": null,
            "grid_template_columns": null,
            "grid_template_rows": null,
            "height": null,
            "justify_content": null,
            "justify_items": null,
            "left": null,
            "margin": null,
            "max_height": null,
            "max_width": null,
            "min_height": null,
            "min_width": null,
            "object_fit": null,
            "object_position": null,
            "order": null,
            "overflow": null,
            "overflow_x": null,
            "overflow_y": null,
            "padding": null,
            "right": null,
            "top": null,
            "visibility": null,
            "width": null
          }
        },
        "f4cb1082b416447cb04dc1c925ba4cb1": {
          "model_module": "@jupyter-widgets/base",
          "model_name": "LayoutModel",
          "model_module_version": "1.2.0",
          "state": {
            "_model_module": "@jupyter-widgets/base",
            "_model_module_version": "1.2.0",
            "_model_name": "LayoutModel",
            "_view_count": null,
            "_view_module": "@jupyter-widgets/base",
            "_view_module_version": "1.2.0",
            "_view_name": "LayoutView",
            "align_content": null,
            "align_items": null,
            "align_self": null,
            "border": null,
            "bottom": null,
            "display": null,
            "flex": null,
            "flex_flow": null,
            "grid_area": null,
            "grid_auto_columns": null,
            "grid_auto_flow": null,
            "grid_auto_rows": null,
            "grid_column": null,
            "grid_gap": null,
            "grid_row": null,
            "grid_template_areas": null,
            "grid_template_columns": null,
            "grid_template_rows": null,
            "height": null,
            "justify_content": null,
            "justify_items": null,
            "left": null,
            "margin": null,
            "max_height": null,
            "max_width": null,
            "min_height": null,
            "min_width": null,
            "object_fit": null,
            "object_position": null,
            "order": null,
            "overflow": null,
            "overflow_x": null,
            "overflow_y": null,
            "padding": null,
            "right": null,
            "top": null,
            "visibility": null,
            "width": null
          }
        },
        "d458fe84efa74c688585900c4b3c0296": {
          "model_module": "@jupyter-widgets/controls",
          "model_name": "DescriptionStyleModel",
          "model_module_version": "1.5.0",
          "state": {
            "_model_module": "@jupyter-widgets/controls",
            "_model_module_version": "1.5.0",
            "_model_name": "DescriptionStyleModel",
            "_view_count": null,
            "_view_module": "@jupyter-widgets/base",
            "_view_module_version": "1.2.0",
            "_view_name": "StyleView",
            "description_width": ""
          }
        },
        "1370cafa3046490d9660301899333ed7": {
          "model_module": "@jupyter-widgets/base",
          "model_name": "LayoutModel",
          "model_module_version": "1.2.0",
          "state": {
            "_model_module": "@jupyter-widgets/base",
            "_model_module_version": "1.2.0",
            "_model_name": "LayoutModel",
            "_view_count": null,
            "_view_module": "@jupyter-widgets/base",
            "_view_module_version": "1.2.0",
            "_view_name": "LayoutView",
            "align_content": null,
            "align_items": null,
            "align_self": null,
            "border": null,
            "bottom": null,
            "display": null,
            "flex": null,
            "flex_flow": null,
            "grid_area": null,
            "grid_auto_columns": null,
            "grid_auto_flow": null,
            "grid_auto_rows": null,
            "grid_column": null,
            "grid_gap": null,
            "grid_row": null,
            "grid_template_areas": null,
            "grid_template_columns": null,
            "grid_template_rows": null,
            "height": null,
            "justify_content": null,
            "justify_items": null,
            "left": null,
            "margin": null,
            "max_height": null,
            "max_width": null,
            "min_height": null,
            "min_width": null,
            "object_fit": null,
            "object_position": null,
            "order": null,
            "overflow": null,
            "overflow_x": null,
            "overflow_y": null,
            "padding": null,
            "right": null,
            "top": null,
            "visibility": null,
            "width": null
          }
        },
        "95b82927852149afb375f6d3f0fb0a9b": {
          "model_module": "@jupyter-widgets/controls",
          "model_name": "ProgressStyleModel",
          "model_module_version": "1.5.0",
          "state": {
            "_model_module": "@jupyter-widgets/controls",
            "_model_module_version": "1.5.0",
            "_model_name": "ProgressStyleModel",
            "_view_count": null,
            "_view_module": "@jupyter-widgets/base",
            "_view_module_version": "1.2.0",
            "_view_name": "StyleView",
            "bar_color": null,
            "description_width": ""
          }
        },
        "7af004952ec84c03b24b26eb87f6ee5d": {
          "model_module": "@jupyter-widgets/base",
          "model_name": "LayoutModel",
          "model_module_version": "1.2.0",
          "state": {
            "_model_module": "@jupyter-widgets/base",
            "_model_module_version": "1.2.0",
            "_model_name": "LayoutModel",
            "_view_count": null,
            "_view_module": "@jupyter-widgets/base",
            "_view_module_version": "1.2.0",
            "_view_name": "LayoutView",
            "align_content": null,
            "align_items": null,
            "align_self": null,
            "border": null,
            "bottom": null,
            "display": null,
            "flex": null,
            "flex_flow": null,
            "grid_area": null,
            "grid_auto_columns": null,
            "grid_auto_flow": null,
            "grid_auto_rows": null,
            "grid_column": null,
            "grid_gap": null,
            "grid_row": null,
            "grid_template_areas": null,
            "grid_template_columns": null,
            "grid_template_rows": null,
            "height": null,
            "justify_content": null,
            "justify_items": null,
            "left": null,
            "margin": null,
            "max_height": null,
            "max_width": null,
            "min_height": null,
            "min_width": null,
            "object_fit": null,
            "object_position": null,
            "order": null,
            "overflow": null,
            "overflow_x": null,
            "overflow_y": null,
            "padding": null,
            "right": null,
            "top": null,
            "visibility": null,
            "width": null
          }
        },
        "5f43ae5d04b246bab9c49907a5849644": {
          "model_module": "@jupyter-widgets/controls",
          "model_name": "DescriptionStyleModel",
          "model_module_version": "1.5.0",
          "state": {
            "_model_module": "@jupyter-widgets/controls",
            "_model_module_version": "1.5.0",
            "_model_name": "DescriptionStyleModel",
            "_view_count": null,
            "_view_module": "@jupyter-widgets/base",
            "_view_module_version": "1.2.0",
            "_view_name": "StyleView",
            "description_width": ""
          }
        }
      }
    }
  },
  "nbformat": 4,
  "nbformat_minor": 0
}