{
 "cells": [
  {
   "cell_type": "code",
   "execution_count": 1,
   "metadata": {
    "ExecuteTime": {
     "end_time": "2023-05-16T14:31:12.210577Z",
     "start_time": "2023-05-16T14:31:09.029683Z"
    }
   },
   "outputs": [],
   "source": [
    "import pandas as pd\n",
    "import numpy as np\n",
    "\n",
    "from matplotlib import pyplot as plt\n",
    "\n",
    "from sklearn.model_selection import train_test_split\n",
    "\n",
    "import torch\n",
    "import torch.nn as nn\n",
    "import torch.optim as optim\n",
    "from torch.optim import lr_scheduler\n",
    "from torch.nn import functional as F\n",
    "\n",
    "from torch.utils.data import TensorDataset, DataLoader\n",
    "\n",
    "from tqdm.auto import trange"
   ]
  },
  {
   "cell_type": "code",
   "execution_count": 2,
   "metadata": {
    "ExecuteTime": {
     "end_time": "2023-05-16T14:31:12.779471Z",
     "start_time": "2023-05-16T14:31:12.204236Z"
    }
   },
   "outputs": [],
   "source": [
    "from navec import Navec\n",
    "\n",
    "path = '../../static/embeddings/navec_hudlit_v1_12B_500K_300d_100q.tar'\n",
    "navec = Navec.load(path)"
   ]
  },
  {
   "cell_type": "code",
   "execution_count": 3,
   "metadata": {
    "ExecuteTime": {
     "end_time": "2023-05-16T14:31:12.933161Z",
     "start_time": "2023-05-16T14:31:12.867228Z"
    }
   },
   "outputs": [],
   "source": [
    "train_data = pd.read_csv('../../static/datasets/original/validation_data_labeled.csv', sep='\\t')\n",
    "sentences = train_data.sentence\n",
    "emb = np.zeros((len(sentences), 30000))\n",
    "'''\n",
    "for i in range(len(sentences)):\n",
    "    sentence = sentences[i].split(\" \")\n",
    "    for j in range(len(sentence)):\n",
    "        if sentence[j] in navec:\n",
    "            emb[i][j] = navec[sentence[j]]\n",
    "'''\n",
    "a = [0]\n",
    "for i in range(len(sentences)):\n",
    "    sentence = sentences[i].split(\" \")\n",
    "    for j in range(len(sentence)):\n",
    "        a.append(sentence[j])\n",
    "        emb[i][j] = len(a) - 1"
   ]
  },
  {
   "cell_type": "code",
   "execution_count": 4,
   "metadata": {
    "ExecuteTime": {
     "end_time": "2023-05-16T14:31:12.939088Z",
     "start_time": "2023-05-16T14:31:12.937075Z"
    }
   },
   "outputs": [],
   "source": [
    "X = emb\n",
    "y = pd.DataFrame(train_data['label'])\n",
    "y.replace(1, 2, inplace=True)\n",
    "y.replace(0, 1, inplace=True)\n",
    "y.replace(-1, 0, inplace=True)\n",
    "y = np.array(y)"
   ]
  },
  {
   "cell_type": "code",
   "execution_count": 5,
   "metadata": {
    "ExecuteTime": {
     "end_time": "2023-05-16T14:31:12.948250Z",
     "start_time": "2023-05-16T14:31:12.943693Z"
    }
   },
   "outputs": [
    {
     "data": {
      "text/plain": "(2845, 30000)"
     },
     "execution_count": 5,
     "metadata": {},
     "output_type": "execute_result"
    }
   ],
   "source": [
    "X.shape"
   ]
  },
  {
   "cell_type": "code",
   "execution_count": 6,
   "metadata": {
    "scrolled": true,
    "ExecuteTime": {
     "end_time": "2023-05-16T14:31:12.953566Z",
     "start_time": "2023-05-16T14:31:12.948807Z"
    }
   },
   "outputs": [
    {
     "data": {
      "text/plain": "(2845, 1)"
     },
     "execution_count": 6,
     "metadata": {},
     "output_type": "execute_result"
    }
   ],
   "source": [
    "y.shape"
   ]
  },
  {
   "cell_type": "code",
   "execution_count": 7,
   "metadata": {
    "ExecuteTime": {
     "end_time": "2023-05-16T14:31:13.448851Z",
     "start_time": "2023-05-16T14:31:12.953226Z"
    }
   },
   "outputs": [],
   "source": [
    "X_train, X_val, y_train, y_val = train_test_split(X, y, random_state=42)"
   ]
  },
  {
   "cell_type": "code",
   "execution_count": 8,
   "metadata": {
    "ExecuteTime": {
     "end_time": "2023-05-16T14:31:13.452892Z",
     "start_time": "2023-05-16T14:31:13.447314Z"
    }
   },
   "outputs": [
    {
     "data": {
      "text/plain": "array([[28074., 28075., 28076., ...,     0.,     0.,     0.],\n       [36072., 36073., 36074., ...,     0.,     0.,     0.],\n       [ 3341.,  3342.,  3343., ...,     0.,     0.,     0.],\n       ...,\n       [22826., 22827., 22828., ...,     0.,     0.,     0.],\n       [26162., 26163., 26164., ...,     0.,     0.,     0.],\n       [17518., 17519., 17520., ...,     0.,     0.,     0.]])"
     },
     "execution_count": 8,
     "metadata": {},
     "output_type": "execute_result"
    }
   ],
   "source": [
    "X_train"
   ]
  },
  {
   "cell_type": "code",
   "execution_count": 9,
   "outputs": [
    {
     "data": {
      "text/plain": "array([[ 8481.,  8482.,  8483., ...,     0.,     0.,     0.],\n       [45223., 45224., 45225., ...,     0.,     0.,     0.],\n       [23190., 23191., 23192., ...,     0.,     0.,     0.],\n       ...,\n       [31963., 31964., 31965., ...,     0.,     0.,     0.],\n       [ 8905.,  8906.,  8907., ...,     0.,     0.,     0.],\n       [40331., 40332., 40333., ...,     0.,     0.,     0.]])"
     },
     "execution_count": 9,
     "metadata": {},
     "output_type": "execute_result"
    }
   ],
   "source": [
    "X_val"
   ],
   "metadata": {
    "collapsed": false,
    "ExecuteTime": {
     "end_time": "2023-05-16T14:31:13.458399Z",
     "start_time": "2023-05-16T14:31:13.453729Z"
    }
   }
  },
  {
   "cell_type": "code",
   "execution_count": 10,
   "metadata": {
    "ExecuteTime": {
     "end_time": "2023-05-16T14:31:28.052967Z",
     "start_time": "2023-05-16T14:31:13.458775Z"
    }
   },
   "outputs": [],
   "source": [
    "xt = np.zeros((len(X_train), 30000, 300))\n",
    "for i in range(len(X_train)):\n",
    "    for j in range(len(X_train[i])):\n",
    "        if X_train[i][j] != 0:\n",
    "            if a[int(X_train[i][j])] in navec:\n",
    "                xt[i][j] = navec[a[int(X_train[i][j])]]\n",
    "X_train = xt"
   ]
  },
  {
   "cell_type": "code",
   "execution_count": 11,
   "metadata": {
    "ExecuteTime": {
     "end_time": "2023-05-16T14:31:32.965743Z",
     "start_time": "2023-05-16T14:31:28.054548Z"
    }
   },
   "outputs": [],
   "source": [
    "xt = np.zeros((len(X_val), 30000, 300))\n",
    "for i in range(len(X_val)):\n",
    "    for j in range(len(X_val[i])):\n",
    "        if X_val[i][j] != 0:\n",
    "            if len(a) <= int(X_val[i][j]):\n",
    "                print(int(X_val[i][j]))\n",
    "            if a[int(X_val[i][j])] in navec:\n",
    "                xt[i][j] = navec[a[int(X_val[i][j])]]\n",
    "X_val = xt"
   ]
  },
  {
   "cell_type": "code",
   "execution_count": 12,
   "metadata": {
    "ExecuteTime": {
     "end_time": "2023-05-16T14:31:32.968714Z",
     "start_time": "2023-05-16T14:31:32.966292Z"
    }
   },
   "outputs": [],
   "source": [
    "def df_to_tensor(df):\n",
    "    return torch.from_numpy(df.values).float()"
   ]
  },
  {
   "cell_type": "code",
   "execution_count": 13,
   "metadata": {
    "ExecuteTime": {
     "end_time": "2023-05-16T14:31:32.977016Z",
     "start_time": "2023-05-16T14:31:32.973187Z"
    }
   },
   "outputs": [],
   "source": [
    "X_train_t = torch.from_numpy(X_train)\n",
    "y_train_t = torch.from_numpy(y_train)\n",
    "X_val_t = torch.from_numpy(X_val)\n",
    "y_val_t = torch.from_numpy(y_val)\n",
    "X_train_t = torch.permute(X_train_t, (0, 2, 1))\n",
    "X_val_t = torch.permute(X_val_t, (0, 2, 1))"
   ]
  },
  {
   "cell_type": "code",
   "execution_count": 14,
   "outputs": [
    {
     "data": {
      "text/plain": "tensor([[[ 0.0000,  0.3146,  0.0482,  ...,  0.0000,  0.0000,  0.0000],\n         [ 0.0000, -0.1777, -0.2004,  ...,  0.0000,  0.0000,  0.0000],\n         [ 0.0000,  0.2426,  0.0586,  ...,  0.0000,  0.0000,  0.0000],\n         ...,\n         [ 0.0000, -0.2754,  0.2750,  ...,  0.0000,  0.0000,  0.0000],\n         [ 0.0000,  0.0252,  0.2647,  ...,  0.0000,  0.0000,  0.0000],\n         [ 0.0000,  0.3528,  0.4108,  ...,  0.0000,  0.0000,  0.0000]],\n\n        [[ 0.0000,  0.2733,  0.0574,  ...,  0.0000,  0.0000,  0.0000],\n         [ 0.0000, -0.0049, -0.6995,  ...,  0.0000,  0.0000,  0.0000],\n         [ 0.0000, -0.0492,  0.5508,  ...,  0.0000,  0.0000,  0.0000],\n         ...,\n         [ 0.0000, -0.5250, -0.4420,  ...,  0.0000,  0.0000,  0.0000],\n         [ 0.0000,  0.1350, -0.1768,  ...,  0.0000,  0.0000,  0.0000],\n         [ 0.0000,  0.2226,  0.5108,  ...,  0.0000,  0.0000,  0.0000]],\n\n        [[ 0.0000, -0.4161, -0.5378,  ...,  0.0000,  0.0000,  0.0000],\n         [ 0.0000, -0.8234, -0.6289,  ...,  0.0000,  0.0000,  0.0000],\n         [ 0.0000,  0.1041, -0.3964,  ...,  0.0000,  0.0000,  0.0000],\n         ...,\n         [ 0.0000, -0.3943, -0.3634,  ...,  0.0000,  0.0000,  0.0000],\n         [ 0.0000,  0.0598,  0.3589,  ...,  0.0000,  0.0000,  0.0000],\n         [ 0.0000,  0.0123,  0.4140,  ...,  0.0000,  0.0000,  0.0000]],\n\n        ...,\n\n        [[ 0.0000,  0.1771, -0.0230,  ...,  0.0000,  0.0000,  0.0000],\n         [ 0.0000,  0.7492, -0.3963,  ...,  0.0000,  0.0000,  0.0000],\n         [ 0.0000,  0.2288,  0.4142,  ...,  0.0000,  0.0000,  0.0000],\n         ...,\n         [ 0.0000, -0.5127, -0.3036,  ...,  0.0000,  0.0000,  0.0000],\n         [ 0.0000, -0.4429, -0.0216,  ...,  0.0000,  0.0000,  0.0000],\n         [ 0.0000, -0.1902, -0.1722,  ...,  0.0000,  0.0000,  0.0000]],\n\n        [[-0.0204, -0.1702,  0.0562,  ...,  0.0000,  0.0000,  0.0000],\n         [-0.4305,  0.6767, -0.4159,  ...,  0.0000,  0.0000,  0.0000],\n         [-0.3130,  0.2119, -0.0392,  ...,  0.0000,  0.0000,  0.0000],\n         ...,\n         [-0.3365, -0.2989, -0.0266,  ...,  0.0000,  0.0000,  0.0000],\n         [-0.1798, -0.6393, -0.1075,  ...,  0.0000,  0.0000,  0.0000],\n         [ 0.2134, -0.6367,  0.5631,  ...,  0.0000,  0.0000,  0.0000]],\n\n        [[ 0.0000,  0.0000,  0.0000,  ...,  0.0000,  0.0000,  0.0000],\n         [ 0.0000,  0.0000,  0.0000,  ...,  0.0000,  0.0000,  0.0000],\n         [ 0.0000,  0.0000,  0.0000,  ...,  0.0000,  0.0000,  0.0000],\n         ...,\n         [ 0.0000,  0.0000,  0.0000,  ...,  0.0000,  0.0000,  0.0000],\n         [ 0.0000,  0.0000,  0.0000,  ...,  0.0000,  0.0000,  0.0000],\n         [ 0.0000,  0.0000,  0.0000,  ...,  0.0000,  0.0000,  0.0000]]],\n       dtype=torch.float64)"
     },
     "execution_count": 14,
     "metadata": {},
     "output_type": "execute_result"
    }
   ],
   "source": [
    "X_val_t"
   ],
   "metadata": {
    "collapsed": false,
    "ExecuteTime": {
     "end_time": "2023-05-16T14:31:33.021174Z",
     "start_time": "2023-05-16T14:31:32.985658Z"
    }
   }
  },
  {
   "cell_type": "code",
   "execution_count": 15,
   "outputs": [
    {
     "data": {
      "text/plain": "tensor([[1],\n        [1],\n        [1],\n        ...,\n        [1],\n        [1],\n        [1]])"
     },
     "execution_count": 15,
     "metadata": {},
     "output_type": "execute_result"
    }
   ],
   "source": [
    "y_train_t"
   ],
   "metadata": {
    "collapsed": false,
    "ExecuteTime": {
     "end_time": "2023-05-16T14:31:33.025698Z",
     "start_time": "2023-05-16T14:31:33.021561Z"
    }
   }
  },
  {
   "cell_type": "code",
   "execution_count": 16,
   "metadata": {
    "ExecuteTime": {
     "end_time": "2023-05-16T14:31:33.030430Z",
     "start_time": "2023-05-16T14:31:33.026947Z"
    }
   },
   "outputs": [
    {
     "name": "stdout",
     "output_type": "stream",
     "text": [
      "torch.Size([2133, 300, 30000])\n",
      "torch.Size([712, 300, 30000])\n",
      "torch.Size([2133, 1])\n",
      "torch.Size([712, 1])\n"
     ]
    }
   ],
   "source": [
    "print(X_train_t.shape)\n",
    "print(X_val_t.shape)\n",
    "print(y_train_t.shape)\n",
    "print(y_val_t.shape)"
   ]
  },
  {
   "cell_type": "code",
   "execution_count": 17,
   "metadata": {
    "ExecuteTime": {
     "end_time": "2023-05-16T14:31:33.035437Z",
     "start_time": "2023-05-16T14:31:33.032508Z"
    }
   },
   "outputs": [],
   "source": [
    "train_dataset = TensorDataset(X_train_t, y_train_t)\n",
    "val_dataset = TensorDataset(X_val_t, y_val_t)\n",
    "train_dataloader = DataLoader(train_dataset, batch_size=32, shuffle=True)\n",
    "val_dataloader = DataLoader(val_dataset, batch_size=32, shuffle=True)\n"
   ]
  },
  {
   "cell_type": "code",
   "execution_count": 18,
   "metadata": {
    "ExecuteTime": {
     "end_time": "2023-05-16T14:31:33.101884Z",
     "start_time": "2023-05-16T14:31:33.041490Z"
    }
   },
   "outputs": [],
   "source": [
    "def fit(epochs, model_, loss_func, opt, train_dl, valid_dl, lr_sched=None):\n",
    "    print(1)\n",
    "    model_ = model_.to(device)\n",
    "    print(2)\n",
    "    train_losses = []\n",
    "    val_losses = []\n",
    "    print(3)\n",
    "    valid_accuracies = []\n",
    "    print(4)\n",
    "    pbar = trange(epochs, desc=\"Epoch:\")\n",
    "    print(5)\n",
    "    for epoch in pbar:\n",
    "        print(6)\n",
    "        model_.train()\n",
    "        print(7)\n",
    "        loss_sum = 0\n",
    "\n",
    "        for xb, yb in train_dl:\n",
    "            print(8)\n",
    "            xb, yb = xb.to(device), yb.to(device)\n",
    "            print(9)\n",
    "            probs = model_(xb)\n",
    "            print(10)\n",
    "            loss = loss_func(probs, yb)\n",
    "            loss_sum += loss.item()\n",
    "            loss.backward()\n",
    "\n",
    "            opt.step()\n",
    "            opt.zero_grad()\n",
    "\n",
    "        train_losses.append(loss_sum / len(train_dl))\n",
    "\n",
    "\n",
    "        model_.eval()\n",
    "        loss_sum = 0\n",
    "        correct = 0\n",
    "        num = 0\n",
    "\n",
    "        with torch.no_grad():\n",
    "            for xb, yb in valid_dl:\n",
    "                xb, yb = xb.to(device), yb.to(device)\n",
    "                probs = model_(xb)\n",
    "\n",
    "                loss = loss_func(probs, yb)\n",
    "                loss_sum += loss.item()\n",
    "\n",
    "                _, pred = torch.max(probs, axis=-1)\n",
    "                correct += (pred == yb).sum().item()\n",
    "                num += len(xb)\n",
    "\n",
    "\n",
    "        val_loss = loss_sum / len(valid_dl)\n",
    "        val_acc = correct / num\n",
    "        val_losses.append(val_loss)\n",
    "        valid_accuracies.append(val_acc)\n",
    "\n",
    "        pbar.set_description('Epoch: {} Loss: {:.4f} Acc: {:.4f}'.format(epoch, val_loss, val_acc))\n",
    "\n",
    "        #torch.save(model.state_dict(), PATH)   #сохранение весов модели на будущее\n",
    "\n",
    "        if lr_sched is not None:\n",
    "            lr_sched.step()\n",
    "\n",
    "    return train_losses, val_losses, valid_accuracies"
   ]
  },
  {
   "cell_type": "markdown",
   "metadata": {},
   "source": [
    "Load Model:\n",
    "    model = TheModelClass(*args, **kwargs)\n",
    "    model.load_state_dict(torch.load(PATH))\n",
    "    model.eval()"
   ]
  },
  {
   "cell_type": "code",
   "execution_count": 19,
   "metadata": {
    "ExecuteTime": {
     "end_time": "2023-05-16T14:31:33.108811Z",
     "start_time": "2023-05-16T14:31:33.056441Z"
    }
   },
   "outputs": [],
   "source": [
    "class MultiLayerPerceptron(nn.Module):\n",
    "\n",
    "    def __init__(self):\n",
    "        super(MultiLayerPerceptron, self).__init__()\n",
    "        # Embedding size, Hyperparameter, Output\n",
    "        self.conv1 = nn.Conv1d(in_channels=300, out_channels=300, kernel_size=5) #96\n",
    "        self.pool = nn.MaxPool1d(kernel_size=2, stride=2) #48\n",
    "        self.conv2 = nn.Conv1d(in_channels=300, out_channels=300, kernel_size=5) #44\n",
    "        #22\n",
    "        self.conv3 = nn.Conv1d(in_channels=300, out_channels=300, kernel_size=5) #18\n",
    "        #9\n",
    "        self.conv4 = nn.Conv1d(in_channels=300, out_channels=300, kernel_size=2) #8\n",
    "        #4\n",
    "        self.conv5 = nn.Conv1d(in_channels=300, out_channels=300, kernel_size=3) #2\n",
    "        #1\n",
    "        self.fc1 = nn.Linear(300, 4096)\n",
    "        self.fc2 = nn.Linear(4096, 3)\n",
    "\n",
    "    def forward(self, x):\n",
    "        print(x.shape)\n",
    "        x = self.conv1(x)\n",
    "        x = F.leaky_relu(x)\n",
    "        print(x.shape)\n",
    "        x = self.pool(x)\n",
    "        x = self.pool(F.leaky_relu(self.conv2(x)))\n",
    "        x = self.pool(F.leaky_relu(self.conv3(x)))\n",
    "        x = self.pool(F.leaky_relu(self.conv4(x)))\n",
    "        x = self.pool(F.leaky_relu(self.conv5(x)))\n",
    "        x = F.leaky_relu(self.fc1(x))\n",
    "        x = F.leaky_relu(self.fc2(x))\n",
    "        return x"
   ]
  },
  {
   "cell_type": "code",
   "execution_count": 20,
   "metadata": {
    "ExecuteTime": {
     "end_time": "2023-05-16T14:31:33.109119Z",
     "start_time": "2023-05-16T14:31:33.059956Z"
    }
   },
   "outputs": [],
   "source": [
    "device = torch.device('cuda') if torch.cuda.is_available() else torch.device('cpu')"
   ]
  },
  {
   "cell_type": "code",
   "execution_count": null,
   "metadata": {
    "is_executing": true,
    "ExecuteTime": {
     "start_time": "2023-05-16T14:31:33.068464Z"
    }
   },
   "outputs": [
    {
     "name": "stdout",
     "output_type": "stream",
     "text": [
      "1\n",
      "2\n",
      "3\n",
      "4\n"
     ]
    },
    {
     "data": {
      "text/plain": "Epoch::   0%|          | 0/64 [00:00<?, ?it/s]",
      "application/vnd.jupyter.widget-view+json": {
       "version_major": 2,
       "version_minor": 0,
       "model_id": "2cdebf2410d640798d0f182aac23a05f"
      }
     },
     "metadata": {},
     "output_type": "display_data"
    },
    {
     "name": "stdout",
     "output_type": "stream",
     "text": [
      "5\n",
      "6\n",
      "7\n",
      "8\n",
      "9\n",
      "torch.Size([32, 300, 30000])\n"
     ]
    },
    {
     "name": "stderr",
     "output_type": "stream",
     "text": [
      "[W NNPACK.cpp:51] Could not initialize NNPACK! Reason: Unsupported hardware.\n"
     ]
    }
   ],
   "source": [
    "model = MultiLayerPerceptron().to(device)\n",
    "criterion = nn.CrossEntropyLoss()\n",
    "optimizer = optim.Adam(model.parameters(), lr=0.01)\n",
    "scheduler = optim.lr_scheduler.ExponentialLR(optimizer=optimizer, gamma=0.9)\n",
    "\n",
    "info = fit(64, model, criterion, optimizer, train_dataloader, val_dataloader, scheduler)"
   ]
  },
  {
   "cell_type": "code",
   "execution_count": null,
   "metadata": {
    "is_executing": true
   },
   "outputs": [],
   "source": [
    "train_losses = info[0]\n",
    "plt.figure(figsize=(12, 8))\n",
    "plt.plot(range(len(train_losses)), train_losses)\n",
    "plt.xlabel(\"Iteration\")\n",
    "plt.ylabel(\"Loss\")\n",
    "plt.show()"
   ]
  },
  {
   "cell_type": "code",
   "execution_count": null,
   "metadata": {
    "is_executing": true
   },
   "outputs": [],
   "source": [
    "import sys\n",
    "sys.path.append('../..')\n",
    "\n",
    "from src.metrics import multiclass_classification as multi_metrics"
   ]
  },
  {
   "cell_type": "code",
   "execution_count": null,
   "metadata": {
    "is_executing": true
   },
   "outputs": [],
   "source": [
    "model.eval()\n",
    "xb, yb = next(iter(val_dataloader))\n",
    "probs = model(xb)\n",
    "_, pred = torch.max(probs, axis=-1)"
   ]
  },
  {
   "cell_type": "code",
   "execution_count": null,
   "metadata": {
    "is_executing": true
   },
   "outputs": [],
   "source": [
    "multi_metrics.f1_score(y_true=yb, y_pred=pred, average='macro')"
   ]
  },
  {
   "cell_type": "code",
   "execution_count": null,
   "metadata": {
    "is_executing": true
   },
   "outputs": [],
   "source": []
  },
  {
   "cell_type": "code",
   "execution_count": null,
   "metadata": {
    "is_executing": true
   },
   "outputs": [],
   "source": []
  }
 ],
 "metadata": {
  "kernelspec": {
   "display_name": "Python 3 (ipykernel)",
   "language": "python",
   "name": "python3"
  },
  "language_info": {
   "codemirror_mode": {
    "name": "ipython",
    "version": 3
   },
   "file_extension": ".py",
   "mimetype": "text/x-python",
   "name": "python",
   "nbconvert_exporter": "python",
   "pygments_lexer": "ipython3",
   "version": "3.10.9"
  }
 },
 "nbformat": 4,
 "nbformat_minor": 1
}
