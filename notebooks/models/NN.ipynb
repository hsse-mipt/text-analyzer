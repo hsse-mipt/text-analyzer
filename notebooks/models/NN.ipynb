{
 "cells": [
  {
   "cell_type": "code",
   "execution_count": 3,
   "metadata": {
    "ExecuteTime": {
     "end_time": "2023-04-16T12:51:18.635768Z",
     "start_time": "2023-04-16T12:51:17.157582Z"
    }
   },
   "outputs": [],
   "source": [
    "import pandas as pd\n",
    "import numpy as np\n",
    "\n",
    "from matplotlib import pyplot as plt\n",
    "\n",
    "from sklearn.model_selection import train_test_split\n",
    "\n",
    "import torch\n",
    "import torch.nn as nn\n",
    "import torch.optim as optim\n",
    "from torch.optim import lr_scheduler\n",
    "from torch.nn import functional as F\n",
    "\n",
    "from torch.utils.data import TensorDataset, DataLoader\n",
    "\n",
    "from tqdm.auto import trange"
   ]
  },
  {
   "cell_type": "code",
   "execution_count": 4,
   "metadata": {},
   "outputs": [],
   "source": [
    "from navec import Navec\n",
    "\n",
    "path = '../../static/embeddings/navec_hudlit_v1_12B_500K_300d_100q.tar'\n",
    "navec = Navec.load(path)"
   ]
  },
  {
   "cell_type": "code",
   "execution_count": 5,
   "metadata": {
    "ExecuteTime": {
     "end_time": "2023-04-16T12:51:18.993089Z",
     "start_time": "2023-04-16T12:51:18.638678Z"
    }
   },
   "outputs": [],
   "source": [
    "train_data = pd.read_csv('../../static/datasets/original/validation_data_labeled.csv', sep='\\t')\n",
    "sentences = train_data.sentence\n",
    "emb = np.zeros((len(sentences), 30000))\n",
    "'''\n",
    "for i in range(len(sentences)):\n",
    "    sentence = sentences[i].split(\" \")\n",
    "    for j in range(len(sentence)):\n",
    "        if sentence[j] in navec:\n",
    "            emb[i][j] = navec[sentence[j]]\n",
    "'''\n",
    "a = [0]\n",
    "for i in range(len(sentences)):\n",
    "    sentence = sentences[i].split(\" \")\n",
    "    for j in range(len(sentence)):\n",
    "        a.append(sentence[j])\n",
    "        emb[i][j] = len(a)"
   ]
  },
  {
   "cell_type": "code",
   "execution_count": 6,
   "metadata": {},
   "outputs": [],
   "source": [
    "X = emb\n",
    "y = pd.DataFrame(train_data['label'])\n",
    "y.replace(1, 2, inplace=True)\n",
    "y.replace(0, 1, inplace=True)\n",
    "y.replace(-1, 0, inplace=True)\n",
    "y = np.array(y)"
   ]
  },
  {
   "cell_type": "code",
   "execution_count": 7,
   "metadata": {},
   "outputs": [
    {
     "data": {
      "text/plain": [
       "(2845, 30000)"
      ]
     },
     "execution_count": 7,
     "metadata": {},
     "output_type": "execute_result"
    }
   ],
   "source": [
    "X.shape"
   ]
  },
  {
   "cell_type": "code",
   "execution_count": 8,
   "metadata": {
    "scrolled": true
   },
   "outputs": [
    {
     "data": {
      "text/plain": [
       "(2845, 1)"
      ]
     },
     "execution_count": 8,
     "metadata": {},
     "output_type": "execute_result"
    }
   ],
   "source": [
    "y.shape"
   ]
  },
  {
   "cell_type": "code",
   "execution_count": 9,
   "metadata": {
    "ExecuteTime": {
     "end_time": "2023-04-16T12:51:19.008272Z",
     "start_time": "2023-04-16T12:51:19.002371Z"
    }
   },
   "outputs": [],
   "source": [
    "X_train, X_val, y_train, y_val = train_test_split(X, y, random_state=42)"
   ]
  },
  {
   "cell_type": "code",
   "execution_count": 10,
   "metadata": {},
   "outputs": [
    {
     "data": {
      "text/plain": [
       "array([[28075., 28076., 28077., ...,     0.,     0.,     0.],\n",
       "       [36073., 36074., 36075., ...,     0.,     0.,     0.],\n",
       "       [ 3342.,  3343.,  3344., ...,     0.,     0.,     0.],\n",
       "       ...,\n",
       "       [22827., 22828., 22829., ...,     0.,     0.,     0.],\n",
       "       [26163., 26164., 26165., ...,     0.,     0.,     0.],\n",
       "       [17519., 17520., 17521., ...,     0.,     0.,     0.]])"
      ]
     },
     "execution_count": 10,
     "metadata": {},
     "output_type": "execute_result"
    }
   ],
   "source": [
    "X_train"
   ]
  },
  {
   "cell_type": "code",
   "execution_count": 11,
   "metadata": {},
   "outputs": [],
   "source": [
    "xt = np.zeros((len(X_train), 30000, 300))\n",
    "for i in range(len(X_train)):\n",
    "    for j in range(len(X_train[i])):\n",
    "        if X_train[i][j] != 0:\n",
    "            if a[int(X_train[i][j])] in navec:\n",
    "                xt[i][j] = navec[a[int(X_train[i][j])]]\n",
    "X_train = xt"
   ]
  },
  {
   "cell_type": "code",
   "execution_count": 12,
   "metadata": {},
   "outputs": [],
   "source": [
    "yt = np.zeros((len(y_train), 30000, 300))\n",
    "for i in range(len(y_train)):\n",
    "    for j in range(len(y_train[i])):\n",
    "        if y_train[i][j] != 0:\n",
    "            if a[int(y_train[i][j])] in navec:\n",
    "                yt[i][j] = navec[a[int(y_train[i][j])]]\n",
    "y_train = yt"
   ]
  },
  {
   "cell_type": "code",
   "execution_count": 13,
   "metadata": {
    "ExecuteTime": {
     "end_time": "2023-04-16T12:51:19.011784Z",
     "start_time": "2023-04-16T12:51:19.009327Z"
    }
   },
   "outputs": [],
   "source": [
    "def df_to_tensor(df):\n",
    "    return torch.from_numpy(df.values).float()"
   ]
  },
  {
   "cell_type": "code",
   "execution_count": 14,
   "metadata": {
    "ExecuteTime": {
     "end_time": "2023-04-16T12:51:19.031733Z",
     "start_time": "2023-04-16T12:51:19.013818Z"
    }
   },
   "outputs": [],
   "source": [
    "X_train_t = torch.from_numpy(X_train)\n",
    "y_train_t = torch.from_numpy(y_train)\n",
    "X_val_t = torch.from_numpy(X_val)\n",
    "y_val_t = torch.from_numpy(y_val)\n"
   ]
  },
  {
   "cell_type": "code",
   "execution_count": 15,
   "metadata": {},
   "outputs": [
    {
     "data": {
      "text/plain": [
       "torch.Size([2133, 30000, 300])"
      ]
     },
     "execution_count": 15,
     "metadata": {},
     "output_type": "execute_result"
    }
   ],
   "source": [
    "X_train_t.shape"
   ]
  },
  {
   "cell_type": "code",
   "execution_count": 16,
   "metadata": {
    "ExecuteTime": {
     "end_time": "2023-04-16T12:51:19.031827Z",
     "start_time": "2023-04-16T12:51:19.022750Z"
    }
   },
   "outputs": [],
   "source": [
    "train_dataset = TensorDataset(X_train_t, y_train_t)\n",
    "val_dataset = TensorDataset(X_val_t, y_val_t)\n",
    "train_dataloader = DataLoader(train_dataset, batch_size=512, shuffle=True)\n",
    "val_dataloader = DataLoader(val_dataset, batch_size=512, shuffle=True)\n"
   ]
  },
  {
   "cell_type": "code",
   "execution_count": 17,
   "metadata": {
    "ExecuteTime": {
     "end_time": "2023-04-16T12:51:19.077109Z",
     "start_time": "2023-04-16T12:51:19.029707Z"
    }
   },
   "outputs": [],
   "source": [
    "def fit(epochs, model_, loss_func, opt, train_dl, valid_dl, lr_sched=None):\n",
    "    model_ = model_.to(device)\n",
    "\n",
    "    train_losses = []\n",
    "    val_losses = []\n",
    "\n",
    "    valid_accuracies = []\n",
    "\n",
    "    pbar = trange(epochs, desc=\"Epoch:\")\n",
    "    for epoch in pbar:\n",
    "\n",
    "        model_.train()\n",
    "        loss_sum = 0\n",
    "\n",
    "        for xb, yb in train_dl:\n",
    "            xb, yb = xb.to(device), yb.to(device)\n",
    "            probs = model_(xb)\n",
    "\n",
    "            loss = loss_func(probs, yb)\n",
    "            loss_sum += loss.item()\n",
    "            loss.backward()\n",
    "\n",
    "            opt.step()\n",
    "            opt.zero_grad()\n",
    "\n",
    "        train_losses.append(loss_sum / len(train_dl))\n",
    "\n",
    "\n",
    "        model_.eval()\n",
    "        loss_sum = 0\n",
    "        correct = 0\n",
    "        num = 0\n",
    "\n",
    "        with torch.no_grad():\n",
    "            for xb, yb in valid_dl:\n",
    "                xb, yb = xb.to(device), yb.to(device)\n",
    "                probs = model_(xb)\n",
    "\n",
    "                loss = loss_func(probs, yb)\n",
    "                loss_sum += loss.item()\n",
    "\n",
    "                _, pred = torch.max(probs, axis=-1)\n",
    "                correct += (pred == yb).sum().item()\n",
    "                num += len(xb)\n",
    "\n",
    "\n",
    "        val_loss = loss_sum / len(valid_dl)\n",
    "        val_acc = correct / num\n",
    "        val_losses.append(val_loss)\n",
    "        valid_accuracies.append(val_acc)\n",
    "\n",
    "        pbar.set_description('Epoch: {} Loss: {:.4f} Acc: {:.4f}'.format(epoch, val_loss, val_acc))\n",
    "\n",
    "        #torch.save(model.state_dict(), PATH)   #сохранение весов модели на будущее\n",
    "\n",
    "        if lr_sched is not None:\n",
    "            lr_sched.step()\n",
    "\n",
    "    return train_losses, val_losses, valid_accuracies"
   ]
  },
  {
   "cell_type": "markdown",
   "metadata": {},
   "source": [
    "Load Model:\n",
    "    model = TheModelClass(*args, **kwargs)\n",
    "    model.load_state_dict(torch.load(PATH))\n",
    "    model.eval()"
   ]
  },
  {
   "cell_type": "code",
   "execution_count": 18,
   "metadata": {
    "ExecuteTime": {
     "end_time": "2023-04-16T12:51:19.077398Z",
     "start_time": "2023-04-16T12:51:19.071094Z"
    }
   },
   "outputs": [],
   "source": [
    "class MultiLayerPerceptron(nn.Module):\n",
    "\n",
    "    def __init__(self):\n",
    "        super(MultiLayerPerceptron, self).__init__()\n",
    "        # Embedding size, Hyperparameter, Output\n",
    "        self.conv1 = nn.Conv1d(in_channels=1, out_channels=1, kernel_size=5) #96\n",
    "        self.pool = nn.MaxPool1d(kernel_size=2, stride=2) #48\n",
    "        self.conv2 = nn.Conv1d(in_channels=1, out_channels=1, kernel_size=5) #44\n",
    "        #22\n",
    "        self.conv3 = nn.Conv1d(in_channels=1, out_channels=1, kernel_size=5) #18\n",
    "        #9\n",
    "        self.conv4 = nn.Conv1d(in_channels=1, out_channels=1, kernel_size=2) #8\n",
    "        #4\n",
    "        self.conv5 = nn.Conv1d(in_channels=1, out_channels=1, kernel_size=3) #2\n",
    "        #1\n",
    "        self.fc1 = nn.Linear(300, 4096)\n",
    "        self.fc2 = nn.Linear(4096, 3)\n",
    "\n",
    "    def forward(self, x):\n",
    "        print(x.shape)\n",
    "        x = self.conv1(x)\n",
    "        x = F.leaky_relu(x)\n",
    "        print(x.shape)\n",
    "        x = self.pool(x)\n",
    "        x = self.pool(F.leaky_relu(self.conv2(x)))\n",
    "        x = self.pool(F.leaky_relu(self.conv3(x)))\n",
    "        x = self.pool(F.leaky_relu(self.conv4(x)))\n",
    "        x = self.pool(F.leaky_relu(self.conv5(x)))\n",
    "        x = F.leaky_relu(self.fc1(x))\n",
    "        x = F.leaky_relu(self.fc2(x))\n",
    "        return x"
   ]
  },
  {
   "cell_type": "code",
   "execution_count": 19,
   "metadata": {
    "ExecuteTime": {
     "end_time": "2023-04-16T12:51:19.077515Z",
     "start_time": "2023-04-16T12:51:19.071130Z"
    }
   },
   "outputs": [],
   "source": [
    "device = torch.device('cuda') if torch.cuda.is_available() else torch.device('cpu')"
   ]
  },
  {
   "cell_type": "code",
   "execution_count": null,
   "metadata": {
    "ExecuteTime": {
     "end_time": "2023-04-16T12:51:41.422614Z",
     "start_time": "2023-04-16T12:51:19.071156Z"
    }
   },
   "outputs": [
    {
     "data": {
      "application/vnd.jupyter.widget-view+json": {
       "model_id": "43ea9f9a43fa4f3ea7946776f389a4dd",
       "version_major": 2,
       "version_minor": 0
      },
      "text/plain": [
       "Epoch::   0%|          | 0/64 [00:00<?, ?it/s]"
      ]
     },
     "metadata": {},
     "output_type": "display_data"
    }
   ],
   "source": [
    "model = MultiLayerPerceptron().to(device)\n",
    "criterion = nn.CrossEntropyLoss()\n",
    "optimizer = optim.Adam(model.parameters(), lr=0.01)\n",
    "scheduler = optim.lr_scheduler.ExponentialLR(optimizer=optimizer, gamma=0.9)\n",
    "\n",
    "info = fit(64, model, criterion, optimizer, train_dataloader, val_dataloader, scheduler)"
   ]
  },
  {
   "cell_type": "code",
   "execution_count": null,
   "metadata": {
    "ExecuteTime": {
     "end_time": "2023-04-16T12:51:41.553686Z",
     "start_time": "2023-04-16T12:51:41.424682Z"
    }
   },
   "outputs": [],
   "source": [
    "train_losses = info[0]\n",
    "plt.figure(figsize=(12, 8))\n",
    "plt.plot(range(len(train_losses)), train_losses)\n",
    "plt.xlabel(\"Iteration\")\n",
    "plt.ylabel(\"Loss\")\n",
    "plt.show()"
   ]
  },
  {
   "cell_type": "code",
   "execution_count": null,
   "metadata": {
    "ExecuteTime": {
     "end_time": "2023-04-16T12:51:42.167754Z",
     "start_time": "2023-04-16T12:51:41.553870Z"
    }
   },
   "outputs": [],
   "source": [
    "import sys\n",
    "sys.path.append('../..')\n",
    "\n",
    "from src.metrics import multiclass_classification as multi_metrics"
   ]
  },
  {
   "cell_type": "code",
   "execution_count": null,
   "metadata": {
    "ExecuteTime": {
     "end_time": "2023-04-16T12:51:42.197145Z",
     "start_time": "2023-04-16T12:51:42.168998Z"
    }
   },
   "outputs": [],
   "source": [
    "model.eval()\n",
    "xb, yb = next(iter(val_dataloader))\n",
    "probs = model(xb)\n",
    "_, pred = torch.max(probs, axis=-1)"
   ]
  },
  {
   "cell_type": "code",
   "execution_count": null,
   "metadata": {
    "ExecuteTime": {
     "end_time": "2023-04-16T12:51:42.251270Z",
     "start_time": "2023-04-16T12:51:42.195835Z"
    }
   },
   "outputs": [],
   "source": [
    "multi_metrics.f1_score(y_true=yb, y_pred=pred, average='macro')"
   ]
  },
  {
   "cell_type": "code",
   "execution_count": null,
   "metadata": {
    "ExecuteTime": {
     "end_time": "2023-04-16T12:51:42.251346Z",
     "start_time": "2023-04-16T12:51:42.240983Z"
    }
   },
   "outputs": [],
   "source": []
  },
  {
   "cell_type": "code",
   "execution_count": null,
   "metadata": {},
   "outputs": [],
   "source": []
  }
 ],
 "metadata": {
  "kernelspec": {
   "display_name": "Python 3 (ipykernel)",
   "language": "python",
   "name": "python3"
  },
  "language_info": {
   "codemirror_mode": {
    "name": "ipython",
    "version": 3
   },
   "file_extension": ".py",
   "mimetype": "text/x-python",
   "name": "python",
   "nbconvert_exporter": "python",
   "pygments_lexer": "ipython3",
   "version": "3.10.9"
  }
 },
 "nbformat": 4,
 "nbformat_minor": 1
}
