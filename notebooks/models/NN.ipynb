{
 "cells": [
  {
   "cell_type": "code",
   "execution_count": 10,
   "metadata": {
    "ExecuteTime": {
     "end_time": "2023-05-16T14:31:12.210577Z",
     "start_time": "2023-05-16T14:31:09.029683Z"
    },
    "id": "OwCftEY-_eya"
   },
   "outputs": [],
   "source": [
    "import pandas as pd\n",
    "import numpy as np\n",
    "\n",
    "from matplotlib import pyplot as plt\n",
    "\n",
    "from sklearn.model_selection import train_test_split\n",
    "\n",
    "import torch\n",
    "import torch.nn as nn\n",
    "import torch.optim as optim\n",
    "from torch.optim import lr_scheduler\n",
    "from torch.nn import functional as F\n",
    "\n",
    "from torch.utils.data import TensorDataset, DataLoader\n",
    "\n",
    "from tqdm.auto import trange"
   ]
  },
  {
   "cell_type": "code",
   "execution_count": null,
   "metadata": {},
   "outputs": [],
   "source": [
    "!pip install navec\n",
    "from navec import Navec\n",
    "path = '../../static/embeddings/navec_hudlit_v1_12B_500K_300d_100q.tar'\n",
    "navec = Navec.load(path)"
   ]
  },
  {
   "cell_type": "code",
   "execution_count": 11,
   "metadata": {},
   "outputs": [],
   "source": [
    "train_data = pd.read_csv('../../static/datasets/original/train_data.csv', sep='\\t')"
   ]
  },
  {
   "cell_type": "code",
   "execution_count": null,
   "metadata": {},
   "outputs": [],
   "source": [
    "def to_emb (train_data, navec):\n",
    "\n",
    "    def sen_split(sent, elem_split):\n",
    "        for i in range(len(sent)):\n",
    "            a = ((sent[i]).split(elem_split))\n",
    "            if '' in a:\n",
    "                a.remove('')\n",
    "            if a:\n",
    "                sent[i] = a[0].lower()\n",
    "        return sent\n",
    "\n",
    "    sentences = train_data.sentence\n",
    "    emb = np.zeros((len(sentences), 100, 300))\n",
    "    for i in range(len(sentences)):\n",
    "        sentence = sentences[i].split()\n",
    "        sentence = sen_split(sentence, \",\")\n",
    "        sentence = sen_split(sentence, \":\")\n",
    "        sentence = sen_split(sentence, \";\")\n",
    "        sentence = sen_split(sentence, \".\")\n",
    "        sentence = sen_split(sentence, \"-\")\n",
    "        sentence = sen_split(sentence, \"?\")\n",
    "        sentence = sen_split(sentence, \"!\")\n",
    "        sentence = sen_split(sentence, \")\")\n",
    "        sentence = sen_split(sentence, \"(\")\n",
    "        sentence = sen_split(sentence, '\"')\n",
    "        sentence = sen_split(sentence, \"'\")\n",
    "        sentence = sen_split(sentence, \"«\")\n",
    "        sentence = sen_split(sentence, \"»\")\n",
    "        for j in range(len(sentence)):\n",
    "            if sentence[j] in navec:\n",
    "                emb[i][j] = navec[sentence[j]]\n",
    "    return emb"
   ]
  },
  {
   "cell_type": "code",
   "execution_count": 12,
   "metadata": {
    "ExecuteTime": {
     "end_time": "2023-05-16T14:31:12.939088Z",
     "start_time": "2023-05-16T14:31:12.937075Z"
    },
    "id": "Rz77-dYO_eye"
   },
   "outputs": [],
   "source": [
    "X = to_emb(train_data, navec)\n",
    "y = pd.DataFrame(train_data['label'])\n",
    "y.replace(1, 2, inplace=True)\n",
    "y.replace(0, 1, inplace=True)\n",
    "y.replace(-1, 0, inplace=True)\n",
    "y = np.array(y)"
   ]
  },
  {
   "cell_type": "code",
   "execution_count": 13,
   "metadata": {
    "ExecuteTime": {
     "end_time": "2023-05-16T14:31:13.448851Z",
     "start_time": "2023-05-16T14:31:12.953226Z"
    },
    "id": "FNlGIAvR_eyf"
   },
   "outputs": [],
   "source": [
    "X_train, X_val, y_train, y_val = train_test_split(X, y, random_state=42)"
   ]
  },
  {
   "cell_type": "code",
   "execution_count": 14,
   "metadata": {
    "ExecuteTime": {
     "end_time": "2023-05-16T14:31:33.035437Z",
     "start_time": "2023-05-16T14:31:33.032508Z"
    },
    "id": "dyIL-irK_eyh"
   },
   "outputs": [],
   "source": [
    "train_dataloader = DataLoader(TensorDataset(torch.permute(torch.from_numpy(X_train), (0, 2, 1)), torch.from_numpy(np.reshape(y_train, len(y_train)))), batch_size=128, shuffle=True)\n",
    "val_dataloader = DataLoader(TensorDataset(torch.permute(torch.from_numpy(X_val), (0, 2, 1)), torch.from_numpy(np.reshape(y_val, len(y_val)))), batch_size=128, shuffle=True)"
   ]
  },
  {
   "cell_type": "code",
   "execution_count": 15,
   "metadata": {},
   "outputs": [],
   "source": [
    "import gc   \n",
    "\n",
    "def free_cache(X_batch=None, y_batch=None):\n",
    "    if X_batch is not None:\n",
    "        del X_batch\n",
    "    if y_batch is not None:\n",
    "        del y_batch\n",
    "    torch.cuda.empty_cache()\n",
    "    gc.collect()"
   ]
  },
  {
   "cell_type": "code",
   "execution_count": 16,
   "metadata": {},
   "outputs": [],
   "source": [
    "from sklearn import metrics as multi_metrics\n",
    "\n",
    "def calc_f1(probs, y_true) -> float:\n",
    "    _, pred = torch.max(probs, axis=-1)\n",
    "    pred = pred.to('cpu')\n",
    "    y_true = y_true.to('cpu')\n",
    "    return multi_metrics.f1_score(y_true=y_true, y_pred=pred, average='macro')\n",
    "    \n",
    "\n",
    "def get_f1(model, X_batch, y_batch) -> float:\n",
    "    model.eval()\n",
    "    X_batch = X_batch.to(device)\n",
    "    probs = model(X_batch.float())\n",
    "    return calc_f1(probs, y_batch)"
   ]
  },
  {
   "cell_type": "code",
   "execution_count": 17,
   "metadata": {
    "ExecuteTime": {
     "end_time": "2023-05-16T14:31:33.101884Z",
     "start_time": "2023-05-16T14:31:33.041490Z"
    },
    "id": "TzR38WNd_eyi"
   },
   "outputs": [],
   "source": [
    "def fit(epochs, model_, loss_func, opt, train_dl, valid_dl, lr_sched=None):\n",
    "    model_ = model_.to(device)\n",
    "    train_losses = []\n",
    "    val_losses = []\n",
    "    valid_accuracies = []\n",
    "    pbar = trange(epochs, desc=\"Epoch:\")\n",
    "    for epoch in pbar:\n",
    "        model_.train()\n",
    "        loss_sum = 0\n",
    "\n",
    "        for xb, yb in train_dl:\n",
    "            xb, yb = xb.to(device), yb.to(device)\n",
    "            yb = yb.view(-1)\n",
    "            probs = model_(xb.float())\n",
    "            \n",
    "            loss = loss_func(probs, yb)\n",
    "            loss_sum += loss.item()\n",
    "            loss.backward()\n",
    "\n",
    "            opt.step()\n",
    "            opt.zero_grad()\n",
    "            free_cache(xb, yb)\n",
    "\n",
    "        train_losses.append(loss_sum / len(train_dl))\n",
    "\n",
    "\n",
    "        model_.eval()\n",
    "        loss_sum = 0\n",
    "        count_batches = 0\n",
    "        sum_f1 = 0\n",
    "\n",
    "        with torch.no_grad():\n",
    "            for xb, yb in valid_dl:\n",
    "                xb, yb = xb.to(device), yb.to(device)\n",
    "                yb = yb.view(-1)\n",
    "                probs = model_(xb.float())\n",
    "\n",
    "                loss = loss_func(probs, yb)\n",
    "                loss_sum += loss.item()\n",
    "                \n",
    "                sum_f1 += calc_f1(probs, yb)\n",
    "                free_cache(xb, yb)\n",
    "                count_batches += 1\n",
    "\n",
    "        \n",
    "        val_loss = loss_sum / len(valid_dl)\n",
    "        val_f1 = sum_f1 / count_batches\n",
    "        val_losses.append(val_loss)\n",
    "        valid_accuracies.append(val_f1)\n",
    "\n",
    "        pbar.set_description('Epoch: {} Loss: {:.4f} AverageF1: {:.4f}'.format(epoch, val_loss, val_f1))\n",
    "\n",
    "        #torch.save(model.state_dict(), PATH)   #сохранение весов модели на будущее\n",
    "\n",
    "        if lr_sched is not None:\n",
    "            lr_sched.step()\n",
    "\n",
    "    return train_losses, val_losses, valid_accuracies"
   ]
  },
  {
   "cell_type": "markdown",
   "metadata": {
    "id": "RjmUCJNK_eyi"
   },
   "source": [
    "Load Model:\n",
    "    model = TheModelClass(*args, **kwargs)\n",
    "    model.load_state_dict(torch.load(PATH))\n",
    "    model.eval()"
   ]
  },
  {
   "cell_type": "code",
   "execution_count": 59,
   "metadata": {
    "ExecuteTime": {
     "end_time": "2023-05-16T14:31:33.108811Z",
     "start_time": "2023-05-16T14:31:33.056441Z"
    },
    "id": "0UNNo10j_eyn"
   },
   "outputs": [],
   "source": [
    "class MultiLayerPerceptron(nn.Module):\n",
    "\n",
    "    def __init__(self):\n",
    "        super(MultiLayerPerceptron, self).__init__()\n",
    "        # Embedding size, Hyperparameter, Output\n",
    "        self.conv1 = nn.Conv1d(in_channels=300, out_channels=400, kernel_size=5) #96\n",
    "        self.pool = nn.MaxPool1d(kernel_size=2, stride=2) #48\n",
    "        self.conv2 = nn.Conv1d(in_channels=400, out_channels=500, kernel_size=5) #44\n",
    "        self.conv3 = nn.Conv1d(in_channels=500, out_channels=600, kernel_size=5)\n",
    "        self.fc1 = nn.Linear(600 * 9, 128)\n",
    "        self.fc2 = nn.Linear(128, 32)\n",
    "        self.fc3 = nn.Linear(32, 3)\n",
    "\n",
    "    def forward(self, x):\n",
    "        x = self.pool(F.leaky_relu(self.conv1(x)))\n",
    "        x = self.pool(F.leaky_relu(self.conv2(x)))\n",
    "        x = self.pool(F.leaky_relu(self.conv3(x)))\n",
    "        x = x.view(-1, 600 * 9)\n",
    "        x = F.leaky_relu(self.fc1(x))\n",
    "        x = F.leaky_relu(self.fc2(x))\n",
    "        return x"
   ]
  },
  {
   "cell_type": "code",
   "execution_count": 60,
   "metadata": {
    "ExecuteTime": {
     "end_time": "2023-05-16T14:31:33.109119Z",
     "start_time": "2023-05-16T14:31:33.059956Z"
    },
    "id": "_17gpK6W_eyo"
   },
   "outputs": [],
   "source": [
    "device = torch.device('cuda') if torch.cuda.is_available() else torch.device('cpu')"
   ]
  },
  {
   "cell_type": "code",
   "execution_count": 61,
   "metadata": {
    "ExecuteTime": {
     "start_time": "2023-05-16T14:31:33.068464Z"
    },
    "colab": {
     "base_uri": "https://localhost:8080/",
     "height": 77,
     "referenced_widgets": [
      "17f4b3ac97404f4f821e7070d6fbc4dd",
      "4edf7b98ddcf43af908da88288a804a3",
      "57225a74843a44918494e50596d783d7",
      "f79840962aab4dafa6aad19a006a983a",
      "cf59095b4cfe4c328db9a7cb96d58a23",
      "f4cb1082b416447cb04dc1c925ba4cb1",
      "d458fe84efa74c688585900c4b3c0296",
      "1370cafa3046490d9660301899333ed7",
      "95b82927852149afb375f6d3f0fb0a9b",
      "7af004952ec84c03b24b26eb87f6ee5d",
      "5f43ae5d04b246bab9c49907a5849644"
     ]
    },
    "id": "_Zw7U4fu_eyo",
    "is_executing": true,
    "outputId": "3e45eb52-f9e0-4bb4-e42e-9c3925537c98"
   },
   "outputs": [
    {
     "data": {
      "application/vnd.jupyter.widget-view+json": {
       "model_id": "ceb0beae46834b28846e86a252e32212",
       "version_major": 2,
       "version_minor": 0
      },
      "text/plain": [
       "Epoch::   0%|          | 0/10 [00:00<?, ?it/s]"
      ]
     },
     "metadata": {},
     "output_type": "display_data"
    }
   ],
   "source": [
    "model = MultiLayerPerceptron().to(device)\n",
    "criterion = nn.CrossEntropyLoss()\n",
    "optimizer = optim.Adam(model.parameters(), lr=0.001)\n",
    "scheduler = optim.lr_scheduler.ExponentialLR(optimizer=optimizer, gamma=0.9)\n",
    "\n",
    "info = fit(10, model, criterion, optimizer, train_dataloader, val_dataloader, scheduler)"
   ]
  },
  {
   "cell_type": "code",
   "execution_count": 62,
   "metadata": {
    "colab": {
     "base_uri": "https://localhost:8080/",
     "height": 445
    },
    "id": "cbR0ti9G_eyo",
    "is_executing": true,
    "outputId": "c0d2afaf-56c0-4d7e-923f-a9861c193a67"
   },
   "outputs": [
    {
     "data": {
      "image/png": "[encoded data removed]",
      "text/plain": [
       "<Figure size 1200x800 with 1 Axes>"
      ]
     },
     "metadata": {},
     "output_type": "display_data"
    }
   ],
   "source": [
    "train_losses = info[0]\n",
    "val_losses = info[1]\n",
    "plt.figure(figsize=(12, 8))\n",
    "plt.plot(range(len(train_losses)), train_losses, label='train loss')\n",
    "plt.plot(range(len(val_losses)), val_losses, label='val loss')\n",
    "plt.legend()\n",
    "plt.xlabel(\"Iteration\")\n",
    "plt.ylabel(\"Loss\")\n",
    "plt.show()"
   ]
  },
  {
   "cell_type": "code",
   "execution_count": 63,
   "metadata": {},
   "outputs": [
    {
     "data": {
      "image/png": "[encoded data removed]",
      "text/plain": [
       "<Figure size 1200x800 with 1 Axes>"
      ]
     },
     "metadata": {},
     "output_type": "display_data"
    }
   ],
   "source": [
    "train_f1 = info[2]\n",
    "plt.figure(figsize=(12, 8))\n",
    "plt.plot(range(len(train_f1)), train_f1)\n",
    "plt.xlabel(\"Iteration\")\n",
    "plt.ylabel(\"AverageF1\")\n",
    "plt.show()"
   ]
  },
  {
   "cell_type": "code",
   "execution_count": 64,
   "metadata": {
    "id": "_-ImPj12_eyo",
    "is_executing": true
   },
   "outputs": [],
   "source": [
    "import sys\n",
    "sys.path.append('../..')\n",
    "\n",
    "from sklearn import metrics as multi_metrics"
   ]
  },
  {
   "cell_type": "code",
   "execution_count": 65,
   "metadata": {
    "id": "lRzQWXkI_eyo",
    "is_executing": true
   },
   "outputs": [],
   "source": [
    "model.eval()\n",
    "xb, yb = next(iter(val_dataloader))\n",
    "probs = model(xb.float())\n",
    "_, pred = torch.max(probs, axis=-1)"
   ]
  },
  {
   "cell_type": "code",
   "execution_count": 66,
   "metadata": {
    "colab": {
     "base_uri": "https://localhost:8080/",
     "height": 392
    },
    "id": "RMDGXYl__eyp",
    "is_executing": true,
    "outputId": "6c18c6cf-f034-46ad-87a8-16dfa05d3eeb"
   },
   "outputs": [
    {
     "data": {
      "text/plain": [
       "0.471268954509178"
      ]
     },
     "execution_count": 66,
     "metadata": {},
     "output_type": "execute_result"
    }
   ],
   "source": [
    "multi_metrics.f1_score(y_true=yb, y_pred=pred, average='macro')"
   ]
  },
  {
   "cell_type": "code",
   "execution_count": null,
   "metadata": {
    "id": "v1PcpQ8x_eyp",
    "is_executing": true
   },
   "outputs": [],
   "source": []
  }
 ],
 "metadata": {
  "colab": {
   "gpuType": "T4",
   "provenance": []
  },
  "gpuClass": "standard",
  "kernelspec": {
   "display_name": "Python 3 (ipykernel)",
   "language": "python",
   "name": "python3"
  },
  "language_info": {
   "codemirror_mode": {
    "name": "ipython",
    "version": 3
   },
   "file_extension": ".py",
   "mimetype": "text/x-python",
   "name": "python",
   "nbconvert_exporter": "python",
   "pygments_lexer": "ipython3",
   "version": "3.10.9"
  },
  "widgets": {
   "application/vnd.jupyter.widget-state+json": {
    "1370cafa3046490d9660301899333ed7": {
     "model_module": "@jupyter-widgets/base",
     "model_module_version": "1.2.0",
     "model_name": "LayoutModel",
     "state": {
      "_model_module": "@jupyter-widgets/base",
      "_model_module_version": "1.2.0",
      "_model_name": "LayoutModel",
      "_view_count": null,
      "_view_module": "@jupyter-widgets/base",
      "_view_module_version": "1.2.0",
      "_view_name": "LayoutView",
      "align_content": null,
      "align_items": null,
      "align_self": null,
      "border": null,
      "bottom": null,
      "display": null,
      "flex": null,
      "flex_flow": null,
      "grid_area": null,
      "grid_auto_columns": null,
      "grid_auto_flow": null,
      "grid_auto_rows": null,
      "grid_column": null,
      "grid_gap": null,
      "grid_row": null,
      "grid_template_areas": null,
      "grid_template_columns": null,
      "grid_template_rows": null,
      "height": null,
      "justify_content": null,
      "justify_items": null,
      "left": null,
      "margin": null,
      "max_height": null,
      "max_width": null,
      "min_height": null,
      "min_width": null,
      "object_fit": null,
      "object_position": null,
      "order": null,
      "overflow": null,
      "overflow_x": null,
      "overflow_y": null,
      "padding": null,
      "right": null,
      "top": null,
      "visibility": null,
      "width": null
     }
    },
    "17f4b3ac97404f4f821e7070d6fbc4dd": {
     "model_module": "@jupyter-widgets/controls",
     "model_module_version": "1.5.0",
     "model_name": "HBoxModel",
     "state": {
      "_dom_classes": [],
      "_model_module": "@jupyter-widgets/controls",
      "_model_module_version": "1.5.0",
      "_model_name": "HBoxModel",
      "_view_count": null,
      "_view_module": "@jupyter-widgets/controls",
      "_view_module_version": "1.5.0",
      "_view_name": "HBoxView",
      "box_style": "",
      "children": [
       "IPY_MODEL_4edf7b98ddcf43af908da88288a804a3",
       "IPY_MODEL_57225a74843a44918494e50596d783d7",
       "IPY_MODEL_f79840962aab4dafa6aad19a006a983a"
      ],
      "layout": "IPY_MODEL_cf59095b4cfe4c328db9a7cb96d58a23"
     }
    },
    "4edf7b98ddcf43af908da88288a804a3": {
     "model_module": "@jupyter-widgets/controls",
     "model_module_version": "1.5.0",
     "model_name": "HTMLModel",
     "state": {
      "_dom_classes": [],
      "_model_module": "@jupyter-widgets/controls",
      "_model_module_version": "1.5.0",
      "_model_name": "HTMLModel",
      "_view_count": null,
      "_view_module": "@jupyter-widgets/controls",
      "_view_module_version": "1.5.0",
      "_view_name": "HTMLView",
      "description": "",
      "description_tooltip": null,
      "layout": "IPY_MODEL_f4cb1082b416447cb04dc1c925ba4cb1",
      "placeholder": "​",
      "style": "IPY_MODEL_d458fe84efa74c688585900c4b3c0296",
      "value": "Epoch: 63 Loss: 1.7036 Acc: 52.2472: 100%"
     }
    },
    "57225a74843a44918494e50596d783d7": {
     "model_module": "@jupyter-widgets/controls",
     "model_module_version": "1.5.0",
     "model_name": "FloatProgressModel",
     "state": {
      "_dom_classes": [],
      "_model_module": "@jupyter-widgets/controls",
      "_model_module_version": "1.5.0",
      "_model_name": "FloatProgressModel",
      "_view_count": null,
      "_view_module": "@jupyter-widgets/controls",
      "_view_module_version": "1.5.0",
      "_view_name": "ProgressView",
      "bar_style": "success",
      "description": "",
      "description_tooltip": null,
      "layout": "IPY_MODEL_1370cafa3046490d9660301899333ed7",
      "max": 64,
      "min": 0,
      "orientation": "horizontal",
      "style": "IPY_MODEL_95b82927852149afb375f6d3f0fb0a9b",
      "value": 64
     }
    },
    "5f43ae5d04b246bab9c49907a5849644": {
     "model_module": "@jupyter-widgets/controls",
     "model_module_version": "1.5.0",
     "model_name": "DescriptionStyleModel",
     "state": {
      "_model_module": "@jupyter-widgets/controls",
      "_model_module_version": "1.5.0",
      "_model_name": "DescriptionStyleModel",
      "_view_count": null,
      "_view_module": "@jupyter-widgets/base",
      "_view_module_version": "1.2.0",
      "_view_name": "StyleView",
      "description_width": ""
     }
    },
    "7af004952ec84c03b24b26eb87f6ee5d": {
     "model_module": "@jupyter-widgets/base",
     "model_module_version": "1.2.0",
     "model_name": "LayoutModel",
     "state": {
      "_model_module": "@jupyter-widgets/base",
      "_model_module_version": "1.2.0",
      "_model_name": "LayoutModel",
      "_view_count": null,
      "_view_module": "@jupyter-widgets/base",
      "_view_module_version": "1.2.0",
      "_view_name": "LayoutView",
      "align_content": null,
      "align_items": null,
      "align_self": null,
      "border": null,
      "bottom": null,
      "display": null,
      "flex": null,
      "flex_flow": null,
      "grid_area": null,
      "grid_auto_columns": null,
      "grid_auto_flow": null,
      "grid_auto_rows": null,
      "grid_column": null,
      "grid_gap": null,
      "grid_row": null,
      "grid_template_areas": null,
      "grid_template_columns": null,
      "grid_template_rows": null,
      "height": null,
      "justify_content": null,
      "justify_items": null,
      "left": null,
      "margin": null,
      "max_height": null,
      "max_width": null,
      "min_height": null,
      "min_width": null,
      "object_fit": null,
      "object_position": null,
      "order": null,
      "overflow": null,
      "overflow_x": null,
      "overflow_y": null,
      "padding": null,
      "right": null,
      "top": null,
      "visibility": null,
      "width": null
     }
    },
    "95b82927852149afb375f6d3f0fb0a9b": {
     "model_module": "@jupyter-widgets/controls",
     "model_module_version": "1.5.0",
     "model_name": "ProgressStyleModel",
     "state": {
      "_model_module": "@jupyter-widgets/controls",
      "_model_module_version": "1.5.0",
      "_model_name": "ProgressStyleModel",
      "_view_count": null,
      "_view_module": "@jupyter-widgets/base",
      "_view_module_version": "1.2.0",
      "_view_name": "StyleView",
      "bar_color": null,
      "description_width": ""
     }
    },
    "cf59095b4cfe4c328db9a7cb96d58a23": {
     "model_module": "@jupyter-widgets/base",
     "model_module_version": "1.2.0",
     "model_name": "LayoutModel",
     "state": {
      "_model_module": "@jupyter-widgets/base",
      "_model_module_version": "1.2.0",
      "_model_name": "LayoutModel",
      "_view_count": null,
      "_view_module": "@jupyter-widgets/base",
      "_view_module_version": "1.2.0",
      "_view_name": "LayoutView",
      "align_content": null,
      "align_items": null,
      "align_self": null,
      "border": null,
      "bottom": null,
      "display": null,
      "flex": null,
      "flex_flow": null,
      "grid_area": null,
      "grid_auto_columns": null,
      "grid_auto_flow": null,
      "grid_auto_rows": null,
      "grid_column": null,
      "grid_gap": null,
      "grid_row": null,
      "grid_template_areas": null,
      "grid_template_columns": null,
      "grid_template_rows": null,
      "height": null,
      "justify_content": null,
      "justify_items": null,
      "left": null,
      "margin": null,
      "max_height": null,
      "max_width": null,
      "min_height": null,
      "min_width": null,
      "object_fit": null,
      "object_position": null,
      "order": null,
      "overflow": null,
      "overflow_x": null,
      "overflow_y": null,
      "padding": null,
      "right": null,
      "top": null,
      "visibility": null,
      "width": null
     }
    },
    "d458fe84efa74c688585900c4b3c0296": {
     "model_module": "@jupyter-widgets/controls",
     "model_module_version": "1.5.0",
     "model_name": "DescriptionStyleModel",
     "state": {
      "_model_module": "@jupyter-widgets/controls",
      "_model_module_version": "1.5.0",
      "_model_name": "DescriptionStyleModel",
      "_view_count": null,
      "_view_module": "@jupyter-widgets/base",
      "_view_module_version": "1.2.0",
      "_view_name": "StyleView",
      "description_width": ""
     }
    },
    "f4cb1082b416447cb04dc1c925ba4cb1": {
     "model_module": "@jupyter-widgets/base",
     "model_module_version": "1.2.0",
     "model_name": "LayoutModel",
     "state": {
      "_model_module": "@jupyter-widgets/base",
      "_model_module_version": "1.2.0",
      "_model_name": "LayoutModel",
      "_view_count": null,
      "_view_module": "@jupyter-widgets/base",
      "_view_module_version": "1.2.0",
      "_view_name": "LayoutView",
      "align_content": null,
      "align_items": null,
      "align_self": null,
      "border": null,
      "bottom": null,
      "display": null,
      "flex": null,
      "flex_flow": null,
      "grid_area": null,
      "grid_auto_columns": null,
      "grid_auto_flow": null,
      "grid_auto_rows": null,
      "grid_column": null,
      "grid_gap": null,
      "grid_row": null,
      "grid_template_areas": null,
      "grid_template_columns": null,
      "grid_template_rows": null,
      "height": null,
      "justify_content": null,
      "justify_items": null,
      "left": null,
      "margin": null,
      "max_height": null,
      "max_width": null,
      "min_height": null,
      "min_width": null,
      "object_fit": null,
      "object_position": null,
      "order": null,
      "overflow": null,
      "overflow_x": null,
      "overflow_y": null,
      "padding": null,
      "right": null,
      "top": null,
      "visibility": null,
      "width": null
     }
    },
    "f79840962aab4dafa6aad19a006a983a": {
     "model_module": "@jupyter-widgets/controls",
     "model_module_version": "1.5.0",
     "model_name": "HTMLModel",
     "state": {
      "_dom_classes": [],
      "_model_module": "@jupyter-widgets/controls",
      "_model_module_version": "1.5.0",
      "_model_name": "HTMLModel",
      "_view_count": null,
      "_view_module": "@jupyter-widgets/controls",
      "_view_module_version": "1.5.0",
      "_view_name": "HTMLView",
      "description": "",
      "description_tooltip": null,
      "layout": "IPY_MODEL_7af004952ec84c03b24b26eb87f6ee5d",
      "placeholder": "​",
      "style": "IPY_MODEL_5f43ae5d04b246bab9c49907a5849644",
      "value": " 64/64 [1:00:40&lt;00:00, 55.75s/it]"
     }
    }
   }
  }
 },
 "nbformat": 4,
 "nbformat_minor": 1
}
