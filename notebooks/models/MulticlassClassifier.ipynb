{
 "cells": [
  {
   "cell_type": "code",
   "execution_count": 1,
   "metadata": {
    "collapsed": true
   },
   "outputs": [],
   "source": [
    "import numpy as np\n",
    "import pandas as pd\n",
    "from sklearn import datasets\n",
    "from sklearn.model_selection import train_test_split\n",
    "import scipy"
   ]
  },
  {
   "cell_type": "code",
   "execution_count": 2,
   "outputs": [],
   "source": [
    "from abc import ABC, abstractmethod"
   ],
   "metadata": {
    "collapsed": false
   }
  },
  {
   "cell_type": "code",
   "execution_count": 3,
   "outputs": [],
   "source": [
    "class BinaryClassifier(ABC):\n",
    "    @abstractmethod\n",
    "    def fit(self, X, y):\n",
    "        pass\n",
    "\n",
    "    @abstractmethod\n",
    "    def predict(self, X):\n",
    "        pass"
   ],
   "metadata": {
    "collapsed": false
   }
  },
  {
   "cell_type": "code",
   "execution_count": 4,
   "outputs": [],
   "source": [
    "def filter_data(key, data, target_name=None):\n",
    "    if target_name is None:\n",
    "        return data.iloc[-1].where(data.iloc[-1] == key, 1, 0, inplace=True)\n",
    "    else:\n",
    "        return data[target_name].where(data[target_name] == key, 1, 0, inplace=True)\n",
    "\n",
    "def take_subsample(classes, data, target_name=None):\n",
    "    if target_name is None:\n",
    "        data = data[data.iloc[-1] == classes[0] or data.iloc[-1] == classes[1]]\n",
    "        return data.where(data.iloc[-1] == classes[0], 0, 1)\n",
    "    else:\n",
    "        data = data[data[target_name] == classes[0] or data[target_name] == classes[1]]\n",
    "        return data.where(data[target_name] == classes[0], 0, 1)"
   ],
   "metadata": {
    "collapsed": false
   }
  },
  {
   "cell_type": "code",
   "execution_count": 5,
   "outputs": [],
   "source": [
    "class MulticlassClassifier:\n",
    "    strategies = [\"one-vs-all\", \"all-vs-all\"]\n",
    "\n",
    "    def __init__(self, binary_classifier=BinaryClassifier, mode=None):\n",
    "        self.bin_clf = binary_classifier\n",
    "        self.mode = mode\n",
    "        self.classifiers = [self.bin_clf]\n",
    "        self.classes = None\n",
    "        self.subsamples = None\n",
    "\n",
    "    def fit(self, X, y):\n",
    "        self.classes = np.unique(y)\n",
    "\n",
    "        if self.mode == self.strategies[0]:\n",
    "            self.classifiers *= len(self.classes)\n",
    "            for i in range(len(self.classes)):\n",
    "                data = filter_data(self.classes[i], X.copy())\n",
    "                X, y = data[:-1], data[-1]\n",
    "                self.classifiers[i].fit(X=X, y=y)\n",
    "\n",
    "        elif self.mode == self.strategies[1]:\n",
    "            num_of_classifiers = (len(self.classes) * (len(self.classes) + 1)) // 2\n",
    "            self.classifiers *= num_of_classifiers\n",
    "            self.subsamples = []\n",
    "            cur_cls = 0\n",
    "            for i in range(len(self.classes)):\n",
    "                for j in range(i + 1, len(self.classes)):\n",
    "                    self.subsamples.append((i, j))\n",
    "                    data = take_subsample((i, j), X.copy())\n",
    "                    X, y = data[:-1], data[-1]\n",
    "                    self.classifiers[cur_cls].fit(X=X, y=y)\n",
    "                    cur_cls += 1\n",
    "\n",
    "    def predict(self, X, threshold=0.5):\n",
    "        y_pred = [None] * len(X)\n",
    "\n",
    "        if self.mode == self.strategies[0]:\n",
    "            y_proba = pd.DataFrame({'proba': [None] * len(X)})\n",
    "\n",
    "            for cls in range(len(self.classifiers)):\n",
    "                proba = pd.DataFrame({'class': self.classifiers[cls].predict(X=X)})\n",
    "                y_proba = pd.concat([y_proba, proba], axis=1)\n",
    "\n",
    "            self._most_likely_class(y_proba, y_pred)\n",
    "\n",
    "        elif self.mode == self.strategies[1]:\n",
    "            predictions = pd.DataFrame({'pred': [None] * len(X)})\n",
    "\n",
    "            for k in range(len(self.classifiers)):\n",
    "                proba = self.classifiers[k].predict(X=X)\n",
    "                pred = pd.Series(np.where(proba < threshold, self.subsamples[k][0], self.subsamples[k][1]))\n",
    "                predictions = pd.concat([predictions, pred], axis=1)\n",
    "\n",
    "            self._voting_of_classifiers(predictions, y_pred)\n",
    "\n",
    "        return y_pred\n",
    "\n",
    "    def _voting_of_classifiers(self, predictions, y_pred):\n",
    "        for index, row in predictions.iterrows():\n",
    "            classes = [0] * len(self.classes)\n",
    "            lead_cls = 0\n",
    "            for i in range(1, len(row)):\n",
    "                classes[row[i]] += 1\n",
    "                if classes[row[i]] > classes[lead_cls]:\n",
    "                    lead_cls = row[i]\n",
    "            y_pred[index] = lead_cls\n",
    "\n",
    "    @staticmethod\n",
    "    def _most_likely_class(y_proba, y_pred):\n",
    "        for index, row in y_proba.iterrows():\n",
    "            max_p = 0\n",
    "            for cls in range(1, len(row)):\n",
    "                if row[cls] > max_p:\n",
    "                    max_p = row[cls]\n",
    "                    y_pred[index] = cls\n"
   ],
   "metadata": {
    "collapsed": false
   }
  },
  {
   "cell_type": "code",
   "execution_count": null,
   "outputs": [],
   "source": [],
   "metadata": {
    "collapsed": false
   }
  }
 ],
 "metadata": {
  "kernelspec": {
   "display_name": "Python 3",
   "language": "python",
   "name": "python3"
  },
  "language_info": {
   "codemirror_mode": {
    "name": "ipython",
    "version": 2
   },
   "file_extension": ".py",
   "mimetype": "text/x-python",
   "name": "python",
   "nbconvert_exporter": "python",
   "pygments_lexer": "ipython2",
   "version": "2.7.6"
  }
 },
 "nbformat": 4,
 "nbformat_minor": 0
}
