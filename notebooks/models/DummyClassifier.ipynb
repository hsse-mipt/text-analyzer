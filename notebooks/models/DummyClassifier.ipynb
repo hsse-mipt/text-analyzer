{
 "cells": [
  {
   "cell_type": "code",
   "execution_count": 1,
   "outputs": [],
   "source": [
    "from random import choices\n",
    "\n",
    "class DummyClassifier:\n",
    "    def __init__(self, classes, weights=None):\n",
    "        self.classes = classes\n",
    "        self.weights = weights\n",
    "\n",
    "    def predict(self, n_predictions=1):\n",
    "        return choices(self.classes, weights=self.weights, k=n_predictions)\n"
   ],
   "metadata": {
    "collapsed": false
   }
  }
 ],
 "metadata": {
  "kernelspec": {
   "display_name": "Python 3",
   "language": "python",
   "name": "python3"
  },
  "language_info": {
   "codemirror_mode": {
    "name": "ipython",
    "version": 2
   },
   "file_extension": ".py",
   "mimetype": "text/x-python",
   "name": "python",
   "nbconvert_exporter": "python",
   "pygments_lexer": "ipython2",
   "version": "2.7.6"
  }
 },
 "nbformat": 4,
 "nbformat_minor": 0
}
