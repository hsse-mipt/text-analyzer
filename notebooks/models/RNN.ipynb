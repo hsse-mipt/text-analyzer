{
  "cells": [
    {
      "cell_type": "code",
      "execution_count": 4,
      "id": "7079a6b0",
      "metadata": {
        "id": "7079a6b0"
      },
      "outputs": [],
      "source": [
        "import pandas as pd\n",
        "import numpy as np\n",
        "\n",
        "from matplotlib import pyplot as plt\n",
        "\n",
        "from sklearn.model_selection import train_test_split\n",
        "\n",
        "import torch\n",
        "import torch.nn as nn\n",
        "import torch.optim as optim\n",
        "from torch.optim import lr_scheduler\n",
        "from torch.nn import functional as F\n",
        "\n",
        "from torch.utils.data import TensorDataset, DataLoader\n",
        "\n",
        "from tqdm.auto import trange"
      ]
    },
    {
      "cell_type": "code",
      "source": [
        "!pwd"
      ],
      "metadata": {
        "colab": {
          "base_uri": "https://localhost:8080/"
        },
        "id": "DEDROXy6SHOw",
        "outputId": "49816d3a-38d6-44c7-8fed-383cb3c60876"
      },
      "id": "DEDROXy6SHOw",
      "execution_count": null,
      "outputs": [
        {
          "output_type": "stream",
          "name": "stdout",
          "text": [
            "/content\n"
          ]
        }
      ]
    },
    {
      "cell_type": "code",
      "execution_count": 6,
      "id": "8684bbdc",
      "metadata": {
        "colab": {
          "base_uri": "https://localhost:8080/"
        },
        "id": "8684bbdc",
        "outputId": "1f387cff-a73e-422d-f8a7-b37c9dfce185"
      },
      "outputs": [
        {
          "output_type": "stream",
          "name": "stdout",
          "text": [
            "Looking in indexes: https://pypi.org/simple, https://us-python.pkg.dev/colab-wheels/public/simple/\n",
            "Requirement already satisfied: navec in /usr/local/lib/python3.10/dist-packages (0.10.0)\n",
            "Requirement already satisfied: numpy in /usr/local/lib/python3.10/dist-packages (from navec) (1.22.4)\n"
          ]
        }
      ],
      "source": [
        "!pip install navec\n",
        "from navec import Navec\n",
        "#path = '../../static/embeddings/navec_hudlit_v1_12B_500K_300d_100q.tar'\n",
        "path = '/content/navec_hudlit_v1_12B_500K_300d_100q.tar'\n",
        "navec = Navec.load(path)"
      ]
    },
    {
      "cell_type": "code",
      "execution_count": 7,
      "id": "9502a4b0",
      "metadata": {
        "id": "9502a4b0"
      },
      "outputs": [],
      "source": [
        "#train_data = pd.read_csv('../../static/datasets/original/train_data.csv', sep='\\t')\n",
        "train_data = pd.read_csv('train_data.csv', sep='\\t')"
      ]
    },
    {
      "cell_type": "code",
      "execution_count": 8,
      "id": "08f3f4c9",
      "metadata": {
        "id": "08f3f4c9"
      },
      "outputs": [],
      "source": [
        "def to_emb (train_data, navec):\n",
        "\n",
        "    def sen_split(sent, elem_split):\n",
        "        for i in range(len(sent)):\n",
        "            a = ((sent[i]).split(elem_split))\n",
        "            if '' in a:\n",
        "                a.remove('')\n",
        "            if a:\n",
        "                sent[i] = a[0].lower()\n",
        "        return sent\n",
        "\n",
        "    sentences = train_data.sentence\n",
        "    emb = np.zeros((len(sentences), 100, 300))\n",
        "    for i in range(len(sentences)):\n",
        "        sentence = sentences[i].split()\n",
        "        sentence = sen_split(sentence, \",\")\n",
        "        sentence = sen_split(sentence, \":\")\n",
        "        sentence = sen_split(sentence, \";\")\n",
        "        sentence = sen_split(sentence, \".\")\n",
        "        sentence = sen_split(sentence, \"-\")\n",
        "        sentence = sen_split(sentence, \"?\")\n",
        "        sentence = sen_split(sentence, \"!\")\n",
        "        sentence = sen_split(sentence, \")\")\n",
        "        sentence = sen_split(sentence, \"(\")\n",
        "        sentence = sen_split(sentence, '\"')\n",
        "        sentence = sen_split(sentence, \"'\")\n",
        "        sentence = sen_split(sentence, \"«\")\n",
        "        sentence = sen_split(sentence, \"»\")\n",
        "        for j in range(len(sentence)):\n",
        "            if sentence[j] in navec:\n",
        "                emb[i][j] = navec[sentence[j]]\n",
        "    return emb"
      ]
    },
    {
      "cell_type": "code",
      "execution_count": 9,
      "id": "ecca5399",
      "metadata": {
        "id": "ecca5399"
      },
      "outputs": [],
      "source": [
        "X = to_emb(train_data, navec)\n",
        "y = pd.DataFrame(train_data['label'])\n",
        "y.replace(1, 2, inplace=True)\n",
        "y.replace(0, 1, inplace=True)\n",
        "y.replace(-1, 0, inplace=True)\n",
        "y = np.array(y)"
      ]
    },
    {
      "cell_type": "code",
      "execution_count": 10,
      "id": "373c8790",
      "metadata": {
        "id": "373c8790"
      },
      "outputs": [],
      "source": [
        "X_train, X_val, y_train, y_val = train_test_split(X, y, random_state=42)"
      ]
    },
    {
      "cell_type": "code",
      "execution_count": 11,
      "id": "fc180204",
      "metadata": {
        "id": "fc180204"
      },
      "outputs": [],
      "source": [
        "train_dataloader = DataLoader(TensorDataset(torch.permute(torch.from_numpy(X_train), (0, 2, 1)), torch.from_numpy(np.reshape(y_train, len(y_train)))), batch_size=512, shuffle=True)\n",
        "val_dataloader = DataLoader(TensorDataset(torch.permute(torch.from_numpy(X_val), (0, 2, 1)), torch.from_numpy(np.reshape(y_val, len(y_val)))), batch_size=512, shuffle=True)"
      ]
    },
    {
      "cell_type": "code",
      "execution_count": 12,
      "id": "0dcc8914",
      "metadata": {
        "id": "0dcc8914"
      },
      "outputs": [],
      "source": [
        "import gc   \n",
        "\n",
        "def free_cache(X_batch=None, y_batch=None):\n",
        "    if X_batch is not None:\n",
        "        del X_batch\n",
        "    if y_batch is not None:\n",
        "        del y_batch\n",
        "    torch.cuda.empty_cache()\n",
        "    gc.collect()"
      ]
    },
    {
      "cell_type": "code",
      "execution_count": 13,
      "id": "02583e94",
      "metadata": {
        "id": "02583e94"
      },
      "outputs": [],
      "source": [
        "from sklearn import metrics as multi_metrics\n",
        "\n",
        "def calc_f1(probs, y_true) -> float:\n",
        "    _, pred = torch.max(probs, axis=-1)\n",
        "    pred = pred.to('cpu')\n",
        "    y_true = y_true.to('cpu')\n",
        "    return multi_metrics.f1_score(y_true=y_true, y_pred=pred, average='macro')\n",
        "    \n",
        "\n",
        "def get_f1(model, X_batch, y_batch) -> float:\n",
        "    model.eval()\n",
        "    X_batch = X_batch.to(device)\n",
        "    probs = model(X_batch.float())\n",
        "    return calc_f1(probs, y_batch)"
      ]
    },
    {
      "cell_type": "code",
      "execution_count": 17,
      "id": "d4703a8f",
      "metadata": {
        "id": "d4703a8f"
      },
      "outputs": [],
      "source": [
        "device = torch.device('cuda') if torch.cuda.is_available() else torch.device('cpu')"
      ]
    },
    {
      "cell_type": "code",
      "execution_count": 59,
      "id": "099ddb75",
      "metadata": {
        "id": "099ddb75"
      },
      "outputs": [],
      "source": [
        "def fit(epochs, model_, loss_func, opt, train_dl, valid_dl, lr_sched=None):\n",
        "    model_ = model_.to(device)\n",
        "    train_losses = []\n",
        "    val_losses = []\n",
        "    val_scores = []\n",
        "    pbar = trange(epochs, desc=\"Epoch:\")\n",
        "    for epoch in pbar:\n",
        "        model_.train()\n",
        "        loss_sum = 0\n",
        "\n",
        "        for xb, yb in train_dl:\n",
        "            xb, yb = xb.to(device), yb.to(device)\n",
        "            yb = yb.view(-1)\n",
        "            probs = model_(xb.float())\n",
        "            \n",
        "            loss = loss_func(probs, yb)\n",
        "            loss_sum += loss.item()\n",
        "            loss.backward()\n",
        "\n",
        "            opt.step()\n",
        "            opt.zero_grad()\n",
        "            free_cache(xb, yb)\n",
        "\n",
        "        train_losses.append(loss_sum / len(train_dl))\n",
        "\n",
        "\n",
        "        model_.eval()\n",
        "        loss_sum = 0\n",
        "        count_batches = 0\n",
        "        sum_f1 = 0\n",
        "\n",
        "        with torch.no_grad():\n",
        "            for xb, yb in valid_dl:\n",
        "                xb, yb = xb.to(device), yb.to(device)\n",
        "                yb = yb.view(-1)\n",
        "                probs = model_(xb.float())\n",
        "\n",
        "                loss = loss_func(probs, yb)\n",
        "                loss_sum += loss.item()\n",
        "                \n",
        "                sum_f1 += calc_f1(probs, yb)\n",
        "                free_cache(xb, yb)\n",
        "                count_batches += 1\n",
        "\n",
        "        \n",
        "        val_loss = loss_sum / len(valid_dl)\n",
        "        val_f1 = sum_f1 / count_batches\n",
        "        val_losses.append(val_loss)\n",
        "        val_scores.append(val_f1)\n",
        "\n",
        "        pbar.set_description('Epoch: {} Loss: {:.4f} AverageF1: {:.4f}'.format(epoch, val_loss, val_f1))\n",
        "\n",
        "        #torch.save(model.state_dict(), PATH)   #сохранение весов модели на будущее\n",
        "\n",
        "        if lr_sched is not None:\n",
        "            lr_sched.step()\n",
        "\n",
        "    return train_losses, val_losses, val_scores\n",
        "\n",
        "\n",
        "def build_graphs(train_losses: list[float], val_losses: list[float], val_scores : list[float]) -> None:\n",
        "    fig, (ax1, ax2) = plt.subplots(2, 1, figsize=(9, 12))\n",
        "    ax1.plot(range(len(train_losses)), train_losses, label='train loss')\n",
        "    ax1.plot(range(len(val_losses)), val_losses, label='val loss')\n",
        "    ax1.legend()\n",
        "    ax1.set_xlabel(\"Iteration\")\n",
        "    ax1.set_ylabel(\"Loss\")\n",
        "    ax1.set_title(\"Loss graph\")\n",
        "\n",
        "    ax2.plot(range(len(val_scores)), val_scores)\n",
        "    ax2.set_xlabel(\"Iteration\")\n",
        "    ax2.set_ylabel(\"AverageF1\")\n",
        "    ax2.set_title(\"Score graph\")\n",
        "\n",
        "    fig.tight_layout()\n",
        "    plt.show();\n",
        "\n",
        "  \n",
        "def fit_and_build_graphs(*args):\n",
        "    build_graphs(*fit(*args))"
      ]
    },
    {
      "cell_type": "code",
      "execution_count": 60,
      "id": "932b37f8",
      "metadata": {
        "id": "932b37f8"
      },
      "outputs": [],
      "source": [
        "class MyRNN(nn.Module):\n",
        "    def __init__(self, input_size, hidden_size, num_layers, batch_first):\n",
        "        super(MyRNN, self).__init__()\n",
        "        self.rnn = nn.LSTM(input_size, hidden_size, num_layers, batch_first)\n",
        "        self.flatten = nn.Flatten()\n",
        "        self.classifier = nn.Sequential(\n",
        "            nn.Linear(hidden_size * 300, 1024),\n",
        "            nn.ReLU(),\n",
        "            nn.Linear(1024, 3)\n",
        "        )\n",
        "    \n",
        "    def forward(self, x):\n",
        "        out, h_n = self.rnn(x)\n",
        "        out = self.flatten(out)\n",
        "        return self.classifier(out)"
      ]
    },
    {
      "cell_type": "code",
      "execution_count": 61,
      "id": "ab17aeb2",
      "metadata": {
        "colab": {
          "base_uri": "https://localhost:8080/",
          "height": 1000,
          "referenced_widgets": [
            "bc3fa4006fdd42d4b948930fe08f98ad",
            "35bacb34fa9d45ca94978685429865f8",
            "89e6d337c8734242a95f3dc16d16326f",
            "a4b728c99d694a10bb97bb4ca48593ee",
            "c9924a77bdff46b89ed9904c4c1085e5",
            "1d5d888a58694010ba10a93338dab292",
            "97119e574b7a4503ae84560612d1c06b",
            "d47c76dd330c447e85cd84698eac8d06",
            "990513d2a73c413ebed9ec35c45d0325",
            "58b5adea2d5149579d77cecf3e58367a",
            "7ec34f0fcaf140cebd79e23bf9c771bf"
          ]
        },
        "id": "ab17aeb2",
        "outputId": "b35765bc-3a9a-45e4-c7b4-3de96e13b797"
      },
      "outputs": [
        {
          "output_type": "display_data",
          "data": {
            "text/plain": [
              "Epoch::   0%|          | 0/40 [00:00<?, ?it/s]"
            ],
            "application/vnd.jupyter.widget-view+json": {
              "version_major": 2,
              "version_minor": 0,
              "model_id": "bc3fa4006fdd42d4b948930fe08f98ad"
            }
          },
          "metadata": {}
        },
        {
          "output_type": "display_data",
          "data": {
            "text/plain": [
              "<Figure size 900x1200 with 2 Axes>"
            ],
            "image/png": "[encoded data removed]"
          },
          "metadata": {}
        }
      ],
      "source": [
        "INPUT_SIZE = 100\n",
        "BATCH_FIRST = True\n",
        "\n",
        "rnn = MyRNN(input_size=INPUT_SIZE, hidden_size=50, num_layers=1, batch_first=BATCH_FIRST)\n",
        "criterion = nn.CrossEntropyLoss()\n",
        "optimizer = optim.Adam(rnn.parameters(), lr=0.01)\n",
        "scheduler = optim.lr_scheduler.ExponentialLR(optimizer=optimizer, gamma=0.9)\n",
        "\n",
        "info = fit_and_build_graphs(40, rnn, criterion, optimizer, train_dataloader, val_dataloader)"
      ]
    },
    {
      "cell_type": "code",
      "execution_count": 62,
      "id": "3a4802a2",
      "metadata": {
        "id": "3a4802a2"
      },
      "outputs": [],
      "source": [
        "class MultiLayerPerceptron(nn.Module):\n",
        "\n",
        "    def __init__(self):\n",
        "        super(MultiLayerPerceptron, self).__init__()\n",
        "        # Embedding size, Hyperparameter, Output\n",
        "        self.fc1 = nn.Linear(300, 4096)\n",
        "        self.fc2 = nn.Linear(4096, 3)\n",
        "\n",
        "    def forward(self, x):\n",
        "        x = torch.mean(x, dim=2)\n",
        "        x = F.leaky_relu(self.fc1(x))\n",
        "        x = F.leaky_relu(self.fc2(x))\n",
        "        return x"
      ]
    },
    {
      "cell_type": "code",
      "execution_count": 67,
      "id": "5518d783",
      "metadata": {
        "colab": {
          "base_uri": "https://localhost:8080/",
          "height": 1000,
          "referenced_widgets": [
            "8b0c12771e2e4f99a5c6a39f09017a62",
            "95b6998085da4ac09db93f55216a852b",
            "90e38a00950a414e88e9545d7dc27b0d",
            "31f49e13ab9c4156974a1b4f59b21242",
            "55bdb70980ce4cb0aa888795120c3e2c",
            "fd72da2a95b44253bba953f916511133",
            "67914181df934e3fb70b6ffbc60d1b80",
            "17c01acf30754b9ba974548f65574296",
            "14308215016b482bbfd3eaae3329cc46",
            "d0d77f6c07024ced850c9d8f1986ac61",
            "5bf78c4e6d224f20b7462570bce0e6e6"
          ]
        },
        "id": "5518d783",
        "outputId": "ee8618cd-96e5-4328-8c28-80661ab20583"
      },
      "outputs": [
        {
          "output_type": "display_data",
          "data": {
            "text/plain": [
              "Epoch::   0%|          | 0/64 [00:00<?, ?it/s]"
            ],
            "application/vnd.jupyter.widget-view+json": {
              "version_major": 2,
              "version_minor": 0,
              "model_id": "8b0c12771e2e4f99a5c6a39f09017a62"
            }
          },
          "metadata": {}
        },
        {
          "output_type": "display_data",
          "data": {
            "text/plain": [
              "<Figure size 900x1200 with 2 Axes>"
            ],
            "image/png": "[encoded data removed]"
          },
          "metadata": {}
        }
      ],
      "source": [
        "model = MultiLayerPerceptron()\n",
        "criterion = nn.CrossEntropyLoss()\n",
        "optimizer = optim.Adam(model.parameters(), lr=0.01)\n",
        "scheduler = optim.lr_scheduler.ExponentialLR(optimizer=optimizer, gamma=0.9)\n",
        "\n",
        "fit_and_build_graphs(64, model, criterion, optimizer, train_dataloader, val_dataloader, scheduler)"
      ]
    },
    {
      "cell_type": "code",
      "source": [
        "val_data = pd.read_csv('validation_data_labeled.csv', sep='\\t')\n",
        "X = to_emb(val_data, navec)\n",
        "y = pd.DataFrame(val_data['label'])\n",
        "y.replace(1, 2, inplace=True)\n",
        "y.replace(0, 1, inplace=True)\n",
        "y.replace(-1, 0, inplace=True)\n",
        "y = np.array(y)\n",
        "X = torch.from_numpy(X).permute(0, 2, 1)\n",
        "y = torch.from_numpy(y)\n",
        "\n",
        "\n"
      ],
      "metadata": {
        "id": "Dum8fE0AWcJa"
      },
      "id": "Dum8fE0AWcJa",
      "execution_count": 68,
      "outputs": []
    },
    {
      "cell_type": "code",
      "execution_count": 69,
      "id": "3057bd48",
      "metadata": {
        "id": "3057bd48"
      },
      "outputs": [],
      "source": [
        "def validate(model : nn.Module) -> float:\n",
        "  return get_f1(model, X, y)"
      ]
    },
    {
      "cell_type": "code",
      "source": [
        "rnn_score = validate(rnn)\n",
        "multilayer_per_score = validate(model)\n",
        "print(rnn_score, multilayer_per_score)"
      ],
      "metadata": {
        "colab": {
          "base_uri": "https://localhost:8080/"
        },
        "id": "5Hf3OTWcZcgF",
        "outputId": "ffe23c76-4e28-4229-ef89-640f3c9d80eb"
      },
      "id": "5Hf3OTWcZcgF",
      "execution_count": 70,
      "outputs": [
        {
          "output_type": "stream",
          "name": "stdout",
          "text": [
            "0.4772856481230335 0.4770103898438112\n"
          ]
        }
      ]
    },
    {
      "cell_type": "code",
      "source": [],
      "metadata": {
        "id": "LODFaYEuZp16"
      },
      "id": "LODFaYEuZp16",
      "execution_count": null,
      "outputs": []
    }
  ],
  "metadata": {
    "kernelspec": {
      "display_name": "Python 3 (ipykernel)",
      "language": "python",
      "name": "python3"
    },
    "language_info": {
      "codemirror_mode": {
        "name": "ipython",
        "version": 3
      },
      "file_extension": ".py",
      "mimetype": "text/x-python",
      "name": "python",
      "nbconvert_exporter": "python",
      "pygments_lexer": "ipython3",
      "version": "3.9.16"
    },
    "colab": {
      "provenance": []
    },
    "widgets": {
      "application/vnd.jupyter.widget-state+json": {
        "bc3fa4006fdd42d4b948930fe08f98ad": {
          "model_module": "@jupyter-widgets/controls",
          "model_name": "HBoxModel",
          "model_module_version": "1.5.0",
          "state": {
            "_dom_classes": [],
            "_model_module": "@jupyter-widgets/controls",
            "_model_module_version": "1.5.0",
            "_model_name": "HBoxModel",
            "_view_count": null,
            "_view_module": "@jupyter-widgets/controls",
            "_view_module_version": "1.5.0",
            "_view_name": "HBoxView",
            "box_style": "",
            "children": [
              "IPY_MODEL_35bacb34fa9d45ca94978685429865f8",
              "IPY_MODEL_89e6d337c8734242a95f3dc16d16326f",
              "IPY_MODEL_a4b728c99d694a10bb97bb4ca48593ee"
            ],
            "layout": "IPY_MODEL_c9924a77bdff46b89ed9904c4c1085e5"
          }
        },
        "35bacb34fa9d45ca94978685429865f8": {
          "model_module": "@jupyter-widgets/controls",
          "model_name": "HTMLModel",
          "model_module_version": "1.5.0",
          "state": {
            "_dom_classes": [],
            "_model_module": "@jupyter-widgets/controls",
            "_model_module_version": "1.5.0",
            "_model_name": "HTMLModel",
            "_view_count": null,
            "_view_module": "@jupyter-widgets/controls",
            "_view_module_version": "1.5.0",
            "_view_name": "HTMLView",
            "description": "",
            "description_tooltip": null,
            "layout": "IPY_MODEL_1d5d888a58694010ba10a93338dab292",
            "placeholder": "​",
            "style": "IPY_MODEL_97119e574b7a4503ae84560612d1c06b",
            "value": "Epoch: 39 Loss: 1.3570 AverageF1: 0.4758: 100%"
          }
        },
        "89e6d337c8734242a95f3dc16d16326f": {
          "model_module": "@jupyter-widgets/controls",
          "model_name": "FloatProgressModel",
          "model_module_version": "1.5.0",
          "state": {
            "_dom_classes": [],
            "_model_module": "@jupyter-widgets/controls",
            "_model_module_version": "1.5.0",
            "_model_name": "FloatProgressModel",
            "_view_count": null,
            "_view_module": "@jupyter-widgets/controls",
            "_view_module_version": "1.5.0",
            "_view_name": "ProgressView",
            "bar_style": "success",
            "description": "",
            "description_tooltip": null,
            "layout": "IPY_MODEL_d47c76dd330c447e85cd84698eac8d06",
            "max": 40,
            "min": 0,
            "orientation": "horizontal",
            "style": "IPY_MODEL_990513d2a73c413ebed9ec35c45d0325",
            "value": 40
          }
        },
        "a4b728c99d694a10bb97bb4ca48593ee": {
          "model_module": "@jupyter-widgets/controls",
          "model_name": "HTMLModel",
          "model_module_version": "1.5.0",
          "state": {
            "_dom_classes": [],
            "_model_module": "@jupyter-widgets/controls",
            "_model_module_version": "1.5.0",
            "_model_name": "HTMLModel",
            "_view_count": null,
            "_view_module": "@jupyter-widgets/controls",
            "_view_module_version": "1.5.0",
            "_view_name": "HTMLView",
            "description": "",
            "description_tooltip": null,
            "layout": "IPY_MODEL_58b5adea2d5149579d77cecf3e58367a",
            "placeholder": "​",
            "style": "IPY_MODEL_7ec34f0fcaf140cebd79e23bf9c771bf",
            "value": " 40/40 [19:09&lt;00:00, 28.40s/it]"
          }
        },
        "c9924a77bdff46b89ed9904c4c1085e5": {
          "model_module": "@jupyter-widgets/base",
          "model_name": "LayoutModel",
          "model_module_version": "1.2.0",
          "state": {
            "_model_module": "@jupyter-widgets/base",
            "_model_module_version": "1.2.0",
            "_model_name": "LayoutModel",
            "_view_count": null,
            "_view_module": "@jupyter-widgets/base",
            "_view_module_version": "1.2.0",
            "_view_name": "LayoutView",
            "align_content": null,
            "align_items": null,
            "align_self": null,
            "border": null,
            "bottom": null,
            "display": null,
            "flex": null,
            "flex_flow": null,
            "grid_area": null,
            "grid_auto_columns": null,
            "grid_auto_flow": null,
            "grid_auto_rows": null,
            "grid_column": null,
            "grid_gap": null,
            "grid_row": null,
            "grid_template_areas": null,
            "grid_template_columns": null,
            "grid_template_rows": null,
            "height": null,
            "justify_content": null,
            "justify_items": null,
            "left": null,
            "margin": null,
            "max_height": null,
            "max_width": null,
            "min_height": null,
            "min_width": null,
            "object_fit": null,
            "object_position": null,
            "order": null,
            "overflow": null,
            "overflow_x": null,
            "overflow_y": null,
            "padding": null,
            "right": null,
            "top": null,
            "visibility": null,
            "width": null
          }
        },
        "1d5d888a58694010ba10a93338dab292": {
          "model_module": "@jupyter-widgets/base",
          "model_name": "LayoutModel",
          "model_module_version": "1.2.0",
          "state": {
            "_model_module": "@jupyter-widgets/base",
            "_model_module_version": "1.2.0",
            "_model_name": "LayoutModel",
            "_view_count": null,
            "_view_module": "@jupyter-widgets/base",
            "_view_module_version": "1.2.0",
            "_view_name": "LayoutView",
            "align_content": null,
            "align_items": null,
            "align_self": null,
            "border": null,
            "bottom": null,
            "display": null,
            "flex": null,
            "flex_flow": null,
            "grid_area": null,
            "grid_auto_columns": null,
            "grid_auto_flow": null,
            "grid_auto_rows": null,
            "grid_column": null,
            "grid_gap": null,
            "grid_row": null,
            "grid_template_areas": null,
            "grid_template_columns": null,
            "grid_template_rows": null,
            "height": null,
            "justify_content": null,
            "justify_items": null,
            "left": null,
            "margin": null,
            "max_height": null,
            "max_width": null,
            "min_height": null,
            "min_width": null,
            "object_fit": null,
            "object_position": null,
            "order": null,
            "overflow": null,
            "overflow_x": null,
            "overflow_y": null,
            "padding": null,
            "right": null,
            "top": null,
            "visibility": null,
            "width": null
          }
        },
        "97119e574b7a4503ae84560612d1c06b": {
          "model_module": "@jupyter-widgets/controls",
          "model_name": "DescriptionStyleModel",
          "model_module_version": "1.5.0",
          "state": {
            "_model_module": "@jupyter-widgets/controls",
            "_model_module_version": "1.5.0",
            "_model_name": "DescriptionStyleModel",
            "_view_count": null,
            "_view_module": "@jupyter-widgets/base",
            "_view_module_version": "1.2.0",
            "_view_name": "StyleView",
            "description_width": ""
          }
        },
        "d47c76dd330c447e85cd84698eac8d06": {
          "model_module": "@jupyter-widgets/base",
          "model_name": "LayoutModel",
          "model_module_version": "1.2.0",
          "state": {
            "_model_module": "@jupyter-widgets/base",
            "_model_module_version": "1.2.0",
            "_model_name": "LayoutModel",
            "_view_count": null,
            "_view_module": "@jupyter-widgets/base",
            "_view_module_version": "1.2.0",
            "_view_name": "LayoutView",
            "align_content": null,
            "align_items": null,
            "align_self": null,
            "border": null,
            "bottom": null,
            "display": null,
            "flex": null,
            "flex_flow": null,
            "grid_area": null,
            "grid_auto_columns": null,
            "grid_auto_flow": null,
            "grid_auto_rows": null,
            "grid_column": null,
            "grid_gap": null,
            "grid_row": null,
            "grid_template_areas": null,
            "grid_template_columns": null,
            "grid_template_rows": null,
            "height": null,
            "justify_content": null,
            "justify_items": null,
            "left": null,
            "margin": null,
            "max_height": null,
            "max_width": null,
            "min_height": null,
            "min_width": null,
            "object_fit": null,
            "object_position": null,
            "order": null,
            "overflow": null,
            "overflow_x": null,
            "overflow_y": null,
            "padding": null,
            "right": null,
            "top": null,
            "visibility": null,
            "width": null
          }
        },
        "990513d2a73c413ebed9ec35c45d0325": {
          "model_module": "@jupyter-widgets/controls",
          "model_name": "ProgressStyleModel",
          "model_module_version": "1.5.0",
          "state": {
            "_model_module": "@jupyter-widgets/controls",
            "_model_module_version": "1.5.0",
            "_model_name": "ProgressStyleModel",
            "_view_count": null,
            "_view_module": "@jupyter-widgets/base",
            "_view_module_version": "1.2.0",
            "_view_name": "StyleView",
            "bar_color": null,
            "description_width": ""
          }
        },
        "58b5adea2d5149579d77cecf3e58367a": {
          "model_module": "@jupyter-widgets/base",
          "model_name": "LayoutModel",
          "model_module_version": "1.2.0",
          "state": {
            "_model_module": "@jupyter-widgets/base",
            "_model_module_version": "1.2.0",
            "_model_name": "LayoutModel",
            "_view_count": null,
            "_view_module": "@jupyter-widgets/base",
            "_view_module_version": "1.2.0",
            "_view_name": "LayoutView",
            "align_content": null,
            "align_items": null,
            "align_self": null,
            "border": null,
            "bottom": null,
            "display": null,
            "flex": null,
            "flex_flow": null,
            "grid_area": null,
            "grid_auto_columns": null,
            "grid_auto_flow": null,
            "grid_auto_rows": null,
            "grid_column": null,
            "grid_gap": null,
            "grid_row": null,
            "grid_template_areas": null,
            "grid_template_columns": null,
            "grid_template_rows": null,
            "height": null,
            "justify_content": null,
            "justify_items": null,
            "left": null,
            "margin": null,
            "max_height": null,
            "max_width": null,
            "min_height": null,
            "min_width": null,
            "object_fit": null,
            "object_position": null,
            "order": null,
            "overflow": null,
            "overflow_x": null,
            "overflow_y": null,
            "padding": null,
            "right": null,
            "top": null,
            "visibility": null,
            "width": null
          }
        },
        "7ec34f0fcaf140cebd79e23bf9c771bf": {
          "model_module": "@jupyter-widgets/controls",
          "model_name": "DescriptionStyleModel",
          "model_module_version": "1.5.0",
          "state": {
            "_model_module": "@jupyter-widgets/controls",
            "_model_module_version": "1.5.0",
            "_model_name": "DescriptionStyleModel",
            "_view_count": null,
            "_view_module": "@jupyter-widgets/base",
            "_view_module_version": "1.2.0",
            "_view_name": "StyleView",
            "description_width": ""
          }
        },
        "8b0c12771e2e4f99a5c6a39f09017a62": {
          "model_module": "@jupyter-widgets/controls",
          "model_name": "HBoxModel",
          "model_module_version": "1.5.0",
          "state": {
            "_dom_classes": [],
            "_model_module": "@jupyter-widgets/controls",
            "_model_module_version": "1.5.0",
            "_model_name": "HBoxModel",
            "_view_count": null,
            "_view_module": "@jupyter-widgets/controls",
            "_view_module_version": "1.5.0",
            "_view_name": "HBoxView",
            "box_style": "",
            "children": [
              "IPY_MODEL_95b6998085da4ac09db93f55216a852b",
              "IPY_MODEL_90e38a00950a414e88e9545d7dc27b0d",
              "IPY_MODEL_31f49e13ab9c4156974a1b4f59b21242"
            ],
            "layout": "IPY_MODEL_55bdb70980ce4cb0aa888795120c3e2c"
          }
        },
        "95b6998085da4ac09db93f55216a852b": {
          "model_module": "@jupyter-widgets/controls",
          "model_name": "HTMLModel",
          "model_module_version": "1.5.0",
          "state": {
            "_dom_classes": [],
            "_model_module": "@jupyter-widgets/controls",
            "_model_module_version": "1.5.0",
            "_model_name": "HTMLModel",
            "_view_count": null,
            "_view_module": "@jupyter-widgets/controls",
            "_view_module_version": "1.5.0",
            "_view_name": "HTMLView",
            "description": "",
            "description_tooltip": null,
            "layout": "IPY_MODEL_fd72da2a95b44253bba953f916511133",
            "placeholder": "​",
            "style": "IPY_MODEL_67914181df934e3fb70b6ffbc60d1b80",
            "value": "Epoch: 63 Loss: 0.7570 AverageF1: 0.4781: 100%"
          }
        },
        "90e38a00950a414e88e9545d7dc27b0d": {
          "model_module": "@jupyter-widgets/controls",
          "model_name": "FloatProgressModel",
          "model_module_version": "1.5.0",
          "state": {
            "_dom_classes": [],
            "_model_module": "@jupyter-widgets/controls",
            "_model_module_version": "1.5.0",
            "_model_name": "FloatProgressModel",
            "_view_count": null,
            "_view_module": "@jupyter-widgets/controls",
            "_view_module_version": "1.5.0",
            "_view_name": "ProgressView",
            "bar_style": "success",
            "description": "",
            "description_tooltip": null,
            "layout": "IPY_MODEL_17c01acf30754b9ba974548f65574296",
            "max": 64,
            "min": 0,
            "orientation": "horizontal",
            "style": "IPY_MODEL_14308215016b482bbfd3eaae3329cc46",
            "value": 64
          }
        },
        "31f49e13ab9c4156974a1b4f59b21242": {
          "model_module": "@jupyter-widgets/controls",
          "model_name": "HTMLModel",
          "model_module_version": "1.5.0",
          "state": {
            "_dom_classes": [],
            "_model_module": "@jupyter-widgets/controls",
            "_model_module_version": "1.5.0",
            "_model_name": "HTMLModel",
            "_view_count": null,
            "_view_module": "@jupyter-widgets/controls",
            "_view_module_version": "1.5.0",
            "_view_name": "HTMLView",
            "description": "",
            "description_tooltip": null,
            "layout": "IPY_MODEL_d0d77f6c07024ced850c9d8f1986ac61",
            "placeholder": "​",
            "style": "IPY_MODEL_5bf78c4e6d224f20b7462570bce0e6e6",
            "value": " 64/64 [05:50&lt;00:00,  5.42s/it]"
          }
        },
        "55bdb70980ce4cb0aa888795120c3e2c": {
          "model_module": "@jupyter-widgets/base",
          "model_name": "LayoutModel",
          "model_module_version": "1.2.0",
          "state": {
            "_model_module": "@jupyter-widgets/base",
            "_model_module_version": "1.2.0",
            "_model_name": "LayoutModel",
            "_view_count": null,
            "_view_module": "@jupyter-widgets/base",
            "_view_module_version": "1.2.0",
            "_view_name": "LayoutView",
            "align_content": null,
            "align_items": null,
            "align_self": null,
            "border": null,
            "bottom": null,
            "display": null,
            "flex": null,
            "flex_flow": null,
            "grid_area": null,
            "grid_auto_columns": null,
            "grid_auto_flow": null,
            "grid_auto_rows": null,
            "grid_column": null,
            "grid_gap": null,
            "grid_row": null,
            "grid_template_areas": null,
            "grid_template_columns": null,
            "grid_template_rows": null,
            "height": null,
            "justify_content": null,
            "justify_items": null,
            "left": null,
            "margin": null,
            "max_height": null,
            "max_width": null,
            "min_height": null,
            "min_width": null,
            "object_fit": null,
            "object_position": null,
            "order": null,
            "overflow": null,
            "overflow_x": null,
            "overflow_y": null,
            "padding": null,
            "right": null,
            "top": null,
            "visibility": null,
            "width": null
          }
        },
        "fd72da2a95b44253bba953f916511133": {
          "model_module": "@jupyter-widgets/base",
          "model_name": "LayoutModel",
          "model_module_version": "1.2.0",
          "state": {
            "_model_module": "@jupyter-widgets/base",
            "_model_module_version": "1.2.0",
            "_model_name": "LayoutModel",
            "_view_count": null,
            "_view_module": "@jupyter-widgets/base",
            "_view_module_version": "1.2.0",
            "_view_name": "LayoutView",
            "align_content": null,
            "align_items": null,
            "align_self": null,
            "border": null,
            "bottom": null,
            "display": null,
            "flex": null,
            "flex_flow": null,
            "grid_area": null,
            "grid_auto_columns": null,
            "grid_auto_flow": null,
            "grid_auto_rows": null,
            "grid_column": null,
            "grid_gap": null,
            "grid_row": null,
            "grid_template_areas": null,
            "grid_template_columns": null,
            "grid_template_rows": null,
            "height": null,
            "justify_content": null,
            "justify_items": null,
            "left": null,
            "margin": null,
            "max_height": null,
            "max_width": null,
            "min_height": null,
            "min_width": null,
            "object_fit": null,
            "object_position": null,
            "order": null,
            "overflow": null,
            "overflow_x": null,
            "overflow_y": null,
            "padding": null,
            "right": null,
            "top": null,
            "visibility": null,
            "width": null
          }
        },
        "67914181df934e3fb70b6ffbc60d1b80": {
          "model_module": "@jupyter-widgets/controls",
          "model_name": "DescriptionStyleModel",
          "model_module_version": "1.5.0",
          "state": {
            "_model_module": "@jupyter-widgets/controls",
            "_model_module_version": "1.5.0",
            "_model_name": "DescriptionStyleModel",
            "_view_count": null,
            "_view_module": "@jupyter-widgets/base",
            "_view_module_version": "1.2.0",
            "_view_name": "StyleView",
            "description_width": ""
          }
        },
        "17c01acf30754b9ba974548f65574296": {
          "model_module": "@jupyter-widgets/base",
          "model_name": "LayoutModel",
          "model_module_version": "1.2.0",
          "state": {
            "_model_module": "@jupyter-widgets/base",
            "_model_module_version": "1.2.0",
            "_model_name": "LayoutModel",
            "_view_count": null,
            "_view_module": "@jupyter-widgets/base",
            "_view_module_version": "1.2.0",
            "_view_name": "LayoutView",
            "align_content": null,
            "align_items": null,
            "align_self": null,
            "border": null,
            "bottom": null,
            "display": null,
            "flex": null,
            "flex_flow": null,
            "grid_area": null,
            "grid_auto_columns": null,
            "grid_auto_flow": null,
            "grid_auto_rows": null,
            "grid_column": null,
            "grid_gap": null,
            "grid_row": null,
            "grid_template_areas": null,
            "grid_template_columns": null,
            "grid_template_rows": null,
            "height": null,
            "justify_content": null,
            "justify_items": null,
            "left": null,
            "margin": null,
            "max_height": null,
            "max_width": null,
            "min_height": null,
            "min_width": null,
            "object_fit": null,
            "object_position": null,
            "order": null,
            "overflow": null,
            "overflow_x": null,
            "overflow_y": null,
            "padding": null,
            "right": null,
            "top": null,
            "visibility": null,
            "width": null
          }
        },
        "14308215016b482bbfd3eaae3329cc46": {
          "model_module": "@jupyter-widgets/controls",
          "model_name": "ProgressStyleModel",
          "model_module_version": "1.5.0",
          "state": {
            "_model_module": "@jupyter-widgets/controls",
            "_model_module_version": "1.5.0",
            "_model_name": "ProgressStyleModel",
            "_view_count": null,
            "_view_module": "@jupyter-widgets/base",
            "_view_module_version": "1.2.0",
            "_view_name": "StyleView",
            "bar_color": null,
            "description_width": ""
          }
        },
        "d0d77f6c07024ced850c9d8f1986ac61": {
          "model_module": "@jupyter-widgets/base",
          "model_name": "LayoutModel",
          "model_module_version": "1.2.0",
          "state": {
            "_model_module": "@jupyter-widgets/base",
            "_model_module_version": "1.2.0",
            "_model_name": "LayoutModel",
            "_view_count": null,
            "_view_module": "@jupyter-widgets/base",
            "_view_module_version": "1.2.0",
            "_view_name": "LayoutView",
            "align_content": null,
            "align_items": null,
            "align_self": null,
            "border": null,
            "bottom": null,
            "display": null,
            "flex": null,
            "flex_flow": null,
            "grid_area": null,
            "grid_auto_columns": null,
            "grid_auto_flow": null,
            "grid_auto_rows": null,
            "grid_column": null,
            "grid_gap": null,
            "grid_row": null,
            "grid_template_areas": null,
            "grid_template_columns": null,
            "grid_template_rows": null,
            "height": null,
            "justify_content": null,
            "justify_items": null,
            "left": null,
            "margin": null,
            "max_height": null,
            "max_width": null,
            "min_height": null,
            "min_width": null,
            "object_fit": null,
            "object_position": null,
            "order": null,
            "overflow": null,
            "overflow_x": null,
            "overflow_y": null,
            "padding": null,
            "right": null,
            "top": null,
            "visibility": null,
            "width": null
          }
        },
        "5bf78c4e6d224f20b7462570bce0e6e6": {
          "model_module": "@jupyter-widgets/controls",
          "model_name": "DescriptionStyleModel",
          "model_module_version": "1.5.0",
          "state": {
            "_model_module": "@jupyter-widgets/controls",
            "_model_module_version": "1.5.0",
            "_model_name": "DescriptionStyleModel",
            "_view_count": null,
            "_view_module": "@jupyter-widgets/base",
            "_view_module_version": "1.2.0",
            "_view_name": "StyleView",
            "description_width": ""
          }
        }
      }
    }
  },
  "nbformat": 4,
  "nbformat_minor": 5
}