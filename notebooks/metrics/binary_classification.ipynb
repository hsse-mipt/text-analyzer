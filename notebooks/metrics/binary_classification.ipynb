{
 "cells": [
  {
   "cell_type": "code",
   "execution_count": 288,
   "metadata": {},
   "outputs": [],
   "source": [
    "import sklearn.metrics as metrics\n",
    "import matplotlib.pyplot as plt\n",
    "import numpy as np\n",
    "import random\n",
    "import math"
   ]
  },
  {
   "cell_type": "markdown",
   "metadata": {},
   "source": [
    "**Таблица сопряжённости** (матрица неточности) содержит сводные показатели качества работы классификатора.\n",
    "* **Строки** соответствуют **фактическим** классам тестового набора;\n",
    "* **Cтолбцы** соответствуют **предсказанным** классом.\n",
    "\n",
    "Таблица содержит четыре сводных показателя, каждый из которых отражает количество объектов в одной и четырех\n",
    "категорий:\n",
    "* **Истинно позитивный** (*True positive*, **TP**) -- объект\n",
    "класса `1` был верно помечен меткой `1`;\n",
    "* **Ложно позитивный** (*False positive*, **FP**) -- объект\n",
    "фактически принадлежит классу `0`, но помечен меткой `1`;\n",
    "* **Истинно отрицательный** (*True negative*, **TN**) -- классификатор\n",
    "верно определил, что объект класса `0` принадлежит классу `0`;\n",
    "* **Ложно отрицательный** (*False negative*, **FN**) -- классификатор\n",
    "пометил объект меткой `0`, однако на самом деле объект принадлежит классу `1`.\n",
    "\n",
    "\n",
    "|                    | Предсказано `0` | Предсказано `1` |\n",
    "|:-------------------|:----------------|:----------------|\n",
    "| **Фактически** `0` | TN              | FP              |\n",
    "| **Фактически** `1` | FN              | TP              |\n"
   ]
  },
  {
   "cell_type": "code",
   "execution_count": 289,
   "metadata": {
    "collapsed": false
   },
   "outputs": [],
   "source": [
    "class ConfusionMatrix:\n",
    "    def __init__(self, y_true=None, y_pred=None):\n",
    "        self._confusion_matrix = np.array([[0,0], [0,0]])\n",
    "        if not (y_true is None or y_pred is None):\n",
    "            self.upd(y_true, y_pred)\n",
    "\n",
    "    def upd(self, y_true, y_pred):\n",
    "        for value, prediction in zip(y_true, y_pred):\n",
    "            self._confusion_matrix[value][prediction] += 1\n",
    "\n",
    "    def get(self):\n",
    "        return self._confusion_matrix\n",
    "\n",
    "    def get_flatten(self):\n",
    "        return self._confusion_matrix.ravel()"
   ]
  },
  {
   "cell_type": "code",
   "execution_count": 290,
   "metadata": {},
   "outputs": [],
   "source": [
    "def f1_score(y_true, y_pred):\n",
    "    confusion_matrix = ConfusionMatrix(y_true, y_pred)\n",
    "    tn, fp, fn, tp = confusion_matrix.get_flatten()\n",
    "    return tp / (tp + (fp + fn) / 2)\n",
    "\n",
    "def accuracy_score(y_true, y_pred):\n",
    "    confusion_matrix = ConfusionMatrix(y_true, y_pred)\n",
    "    tn, fp, fn, tp = confusion_matrix.get_flatten()\n",
    "    return (tn + tp) / (tn + fp + fn + tp)\n",
    "\n",
    "def precision_score(y_true, y_pred):\n",
    "    confusion_matrix = ConfusionMatrix(y_true, y_pred)\n",
    "    tn, fp, fn, tp = confusion_matrix.get_flatten()\n",
    "    return tp / (tp + fp)\n",
    "\n",
    "def recall_score(y_true, y_pred):\n",
    "    confusion_matrix = ConfusionMatrix(y_true, y_pred)\n",
    "    tn, fp, fn, tp = confusion_matrix.get_flatten()\n",
    "    return tp / (fn + tp)"
   ]
  },
  {
   "cell_type": "code",
   "execution_count": 291,
   "metadata": {
    "collapsed": false
   },
   "outputs": [],
   "source": [
    "def roc_curve(y_true, y_proba, partitions=100):\n",
    "    tpr, fpr = [], []\n",
    "    thresholds = np.linspace(0, 1, partitions)\n",
    "\n",
    "    for threshold in thresholds:\n",
    "        y_pred = np.where(y_proba >= threshold, 1, 0)\n",
    "        tn, fp, fn, tp = ConfusionMatrix(y_true, y_pred).get_flatten()\n",
    "        fpr.append(fp / (fp + tn))\n",
    "        tpr.append(tp / (tp + fn))\n",
    "    return fpr, tpr, thresholds\n",
    "\n",
    "def auc(x, y):\n",
    "    s = 0\n",
    "    for i in range(1, len(x)):\n",
    "        s += 0.5 * (x[i] - x[i - 1]) * (y[i] + y[i - 1])\n",
    "    return s"
   ]
  }
 ],
 "metadata": {
  "kernelspec": {
   "display_name": "Python 3 (ipykernel)",
   "language": "python",
   "name": "python3"
  },
  "language_info": {
   "codemirror_mode": {
    "name": "ipython",
    "version": 2
   },
   "file_extension": ".py",
   "mimetype": "text/x-python",
   "name": "python",
   "nbconvert_exporter": "python",
   "pygments_lexer": "ipython2",
   "version": "3.7.1"
  }
 },
 "nbformat": 4,
 "nbformat_minor": 0
}
