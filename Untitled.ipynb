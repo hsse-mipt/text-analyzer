{
 "cells": [
  {
   "cell_type": "code",
   "execution_count": 9,
   "id": "5b329332",
   "metadata": {},
   "outputs": [],
   "source": [
    "import src\n",
    "import sys"
   ]
  },
  {
   "cell_type": "code",
   "execution_count": 10,
   "id": "e146ad27",
   "metadata": {},
   "outputs": [
    {
     "name": "stdout",
     "output_type": "stream",
     "text": [
      "['/home/ruslan/Desktop/Projects/Text tonality analizator/text_analyzer', '/home/ruslan/anaconda3/lib/python39.zip', '/home/ruslan/anaconda3/lib/python3.9', '/home/ruslan/anaconda3/lib/python3.9/lib-dynload', '', '/home/ruslan/anaconda3/lib/python3.9/site-packages', '/home/ruslan/anaconda3/lib/python3.9/site-packages/IPython/extensions', '/home/ruslan/.ipython']\n"
     ]
    }
   ],
   "source": [
    "print(sys.path)"
   ]
  },
  {
   "cell_type": "code",
   "execution_count": null,
   "id": "60bba239",
   "metadata": {},
   "outputs": [],
   "source": []
  }
 ],
 "metadata": {
  "kernelspec": {
   "display_name": "Python 3 (ipykernel)",
   "language": "python",
   "name": "python3"
  },
  "language_info": {
   "codemirror_mode": {
    "name": "ipython",
    "version": 3
   },
   "file_extension": ".py",
   "mimetype": "text/x-python",
   "name": "python",
   "nbconvert_exporter": "python",
   "pygments_lexer": "ipython3",
   "version": "3.9.13"
  }
 },
 "nbformat": 4,
 "nbformat_minor": 5
}
